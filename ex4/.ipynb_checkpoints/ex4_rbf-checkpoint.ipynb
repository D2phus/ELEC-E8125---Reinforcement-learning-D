{
 "cells": [
  {
   "cell_type": "markdown",
   "id": "53274fb5",
   "metadata": {},
   "source": [
    "\n",
    "<div class=\"alert alert-block alert-info\">\n",
    "   <h2 align=\"center\"> <center><b> Reinforcement Learning Assignment 4 - Function Approximators Part 1: Radial Basis Functions </b></center></h2>\n",
    "\n",
    "<br>\n",
    "<center><font size=\"3\">This notebook is a part of teaching material for ELEC-E8125</font></center>\n",
    "<center><font size=\"3\">Sep 4, 2023 - Nov 30, 2023</font></center>\n",
    "<center><font size=\"3\">Aalto University</font></center>\n",
    "</div>\n",
    "\n",
    "\n",
    "<a id='TOC'></a>\n",
    "\n",
    "<div class=\"alert alert-block alert-success\">\n",
    "    \n",
    "# Table of contents\n",
    "* <a href='#1.'> 1. Introduction </a>\n",
    "* <a href='#1.1'> 1.1 Task environments </a>\n",
    "* <a href='#1.2'> 1.2 Learning Objectives </a>\n",
    "* <a href='#1.3'> 1.3 Code Structure & Files </a>\n",
    "* <a href='#2.'> 2. Approximate with non-linear features</a>\n",
    "* <a href='#2.1'> 2.1 Radial Basis Functions</a>\n",
    "* <a href='#2.2'> 2.2 Sklearn RBF function</a>\n",
    "* <a href='#3.'> 3. Submitting </a>\n",
    "* <a href='#3.1'> 3.1 Feedback </a>\n",
    "\n",
    "<a href='#T1'><b>Student Task 1.</b> Implementing Q-learning using Function Approximation (20 points) </a>\\\n",
    "<a href='#Q1'><b>Student Question 1.1</b> Considering Linear Features (10 points) </a>\\\n",
    "<a href='#Q2'><b>Student Question 1.2</b> Experience Replay Buffer (10 points) </a>\\\n",
    "<a href='#Q3'><b>Student Question 1.3</b> Grid-based vs Function Approximators (10 points) </a>\\\n",
    "<a href='#T2'><b>Student Task 2.</b> Visualizing the Policy (10 points)</a>\n",
    "    \n",
    "**Total Points:** 60"
   ]
  },
  {
   "cell_type": "markdown",
   "id": "b83fbf4d",
   "metadata": {},
   "source": [
    "# 0. Notes for myself\n",
    "### Q-learning \n",
    "target value $Q(s, a) = R(s, a) + \\gamma * \\max[Q(s', a')]$\n",
    "### Sklearn function\n",
    "`FeatureUnion`: pipeline, concatenates results of multiple transformer objects.\n",
    "\n",
    "`SGDRegressor.partial_fit`: perform one epoch of stochastic gradient descent on given samples. (like fine-tuning)"
   ]
  },
  {
   "cell_type": "markdown",
   "id": "c30395ea",
   "metadata": {},
   "source": [
    "# 1. Introduction <a id='1.'></a>\n",
    "\n",
    "In many real world scenarios, the dimensionality of the state space may be too high to compute and store the Q-values for each possible state and action in a Q-table. Instead, the state value and action value functions can be learned by using a function approximator, such as a radial basis functions (RBFs). In this exercise, you will start with handcrafted features and then move to radial basis functions in the **Cartpole** environment.\n",
    "\n",
    "\n",
    "<figure style=\"text-align: center\">\n",
    "<img src=\"imgs/cartpole.png\" width=\"300px\">\n",
    "<figcaption style=\"text-align: center\"> Figure 1: The Cartpole environment. </figcaption>\n",
    "</figure>\n",
    "\n",
    "Useful Sources:\n",
    "\n",
    "- Sutton, Richard S., and Andrew G. Barto. \"Reinforcement Learning: An Introduction (in progress).\" London, England (2017). http://incompleteideas.net/book/RLbook2018.pdf\n",
    "\n",
    "## 1.1 Task environments <a id='1.1'></a>\n",
    "\n",
    "In this part, we will specifically use RBF-based Q-learning to solve cartpole task. In this environment, a pole is attached by an un-actuated joint to a cart, which moves along a frictionless track. The pendulum is placed upright on the cart and the goal is to balance the pole by applying forces in the left and right direction on the cart. \n",
    "\n",
    "You can find the detailed description of the task through this link: https://gymnasium.farama.org/environments/classic_control/cart_pole/\n",
    "\n",
    "\n",
    "## 1.2 Learning Objectives: <a id='1.2'></a>\n",
    "- Understand why and how function approximators can be used for Q-learning\n",
    "- Develop intuition behind function approximators: radial basis functions\n",
    "\n",
    "## 1.3 Code Structure & Files <a id='1.3'></a>\n",
    "\n",
    "```ex4_rbf.ipynb``` is the file needed to be modified for this part of the assignment. \n",
    "\n",
    "<span style=\"color:red\"> **# IMPORTANT: DO NOT FORGET ANOTHER TASK IN ```ex4_dqn.ipynb```** </span>\n",
    "\n",
    "```\n",
    "├───cfg                            # Config files for environments\n",
    "├───imgs                           # Images used in notebook\n",
    "├───results\n",
    "│   └───CartPole-v1\n",
    "│   │   ├───logging                \n",
    "│   │   │    └───logging.pkl        # Contains logged data\n",
    "│   │   ├───model              \n",
    "│   │   │    └───*dqn.pt            # Contains trained model for dqn task\n",
    "│   │   │    └───*rbf.pkl           # Contains trained model for rbf task\n",
    "│   │   └───video                   # Videos saved\n",
    "│   │   └───*cartpole_rbf.png       # Contains training performance plot for rbd\n",
    "│   │   └───*cartpole_hd.png        # Contains training performance plot for handcrafted feature\n",
    "│   └───LunarLander-v2\n",
    "│   ex4_dqn.ipynb                   # 2nd assignment file containing tasks <---------\n",
    "│   ex4_rbf.ipynb                   # 1st assignment file containing tasks <---------This task\n",
    "│   train.py                        # Contains train and test functions \n",
    "│   utils.py                        # Contains useful functions \n",
    "└───buffer.py                       # Contains buffer functions\n",
    "```\n",
    "\n"
   ]
  },
  {
   "cell_type": "markdown",
   "id": "5b3c5f5c",
   "metadata": {
    "tags": []
   },
   "source": [
    "# 2. Approximate with non-linear features <a id='2.'></a>\n",
    "## 2.1 Radial Basis Functions <a id='2.1'></a>\n",
    "A radial basis function (RBF) is a real-valued function $\\phi$ that maps a vector $\\boldsymbol{x} \\in \\mathbb{R}^d$ into a real-value $\\phi : \\mathbb{R}^d \\mapsto \\mathbb{R}$. The RBF $\\phi(\\boldsymbol{x} )$ = $\\phi(||\\boldsymbol{x} ||)$ acts on a distance (radial) and a basis function $\\phi$ (e.g. Gaussian function). The RBFs are commonly used as kernels in machine learning. The RBF kernel is defined as a $K(\\boldsymbol{x} , \\boldsymbol{x} ′) = 〈\\phi(\\boldsymbol{x}),\\phi(\\boldsymbol{x}′)〉$, where $\\phi$ is the Gaussian function. Therefore, the RBF kernel is defined as\n",
    "\n",
    "$$\n",
    "K\\left(\\boldsymbol{x}, \\boldsymbol{x}^{\\prime}\\right)=\\exp \\left(-\\frac{-\\left\\|\\boldsymbol{x}-\\boldsymbol{x}^{\\prime}\\right\\|^2}{2 \\sigma^2}\\right)\n",
    "$$\n",
    "\n",
    "where the parameter $\\phi^2$ is the variance and gives shape to the Gaussian function. \n",
    "\n",
    "On the exercise you are given a ```featurizer``` which uses an ```RBFSampler```. The ```RBFSampler``` uses a Monte Carlo approximation of the RBF kernel and generates samples with the specified variance. The ```RBFSampler``` has been trained on a predefined dataset. Thus, the RBF kernel will map the state $x \\in \\mathbb{R}$ d to the distance to the trained dataset. Therefore, an input state will be transformed to as many features as samples $N$ are specified in the ```RBFSampler``` $\\phi : \\mathbb{R}^d \\mapsto \\mathbb{R}^N $. \n",
    "\n",
    "In a nutshell, the ```featurizer``` function maps low-dimensional states to a high-dimensional representation, which reveals properties that haven’t been shown in the original low-dimensional space, e.g., for the Cartpole environment, it maps the original four-dimensional states to a 230-dimensional vector.\n",
    "\n",
    "## 2.2 Sklearn RBF function<a id='2.2'></a>\n",
    "In this excercise, we use scikit-learn library to implement the RBF approximation by doing following steps:\n",
    "\n",
    "- RBFSampler: A RBF kernel will map feature into higher dimensions using random Fourier features.\n",
    "- FeatureUnion: Concatenates results of multiple transformer objects.\n",
    "- SGDRegressor: Linear model fitted by minimizing a regularized empirical loss with SGD.\n",
    "\n",
    "\n"
   ]
  },
  {
   "cell_type": "markdown",
   "id": "5511d36c",
   "metadata": {},
   "source": [
    "<a id='T1'></a>\n",
    "<div class=\" alert alert-warning\">\n",
    "    <h3><b>Student Task 1.</b> Implementing Q-learning using Function Approximation (20 points) </h3> \n",
    "\n",
    "Implement Q-learning using function approximation. Also implement $\\epsilon$-greedy action selection. Test two different features for state representations:\n",
    "\n",
    "&nbsp;&nbsp;&nbsp;&nbsp;&nbsp;(a) handcrafted feature vector $\\phi(s) = [s, |s|]^T$,(use the ```featurizer``` inside the ```RBFAgent``` class).\n",
    "\n",
    "&nbsp;&nbsp;&nbsp;&nbsp;&nbsp;(b) radial basis function representations (use the ```featurizer``` inside the ```RBFAgent``` class).\n",
    "\n",
    "For this task you need to modify functions ```featurize```, ```get_action```, and ```update``` inside the ```RBFAgent``` class. Test the implementation on the Cartpole environment by running the ```train(agent)``` script with default configs. You can test the trained model with the ```test(agent, cfg_args=dict(save_video=true))``` script. \n",
    "    \n",
    "**See Figure 2 for an example training performance plot for Task1(b). Save the training performance plots for both (a) and (b), and check if they are in the right place (the paths please refer to <a href='#3.'>Submitting<a>).**\n",
    "\n",
    "<figure style=\"text-align: center\">\n",
    "<img src=\"imgs/rbf.png\" width=\"300px\">\n",
    "<figcaption style=\"text-align: center\">Figure 2: The training performance plot for Task 1 (b) might look something like this.</figcaption>\n",
    "</figure>\n",
    "    \n",
    "🔝\t<a href='#TOC'><b>Table of Contents</b></a>\n",
    "</div>\n"
   ]
  },
  {
   "cell_type": "markdown",
   "id": "491cd397",
   "metadata": {},
   "source": [
    "### Training performance plots I got\n",
    "<figure>\n",
    "<img src=\"results/CartPole-v1/cartpole_hd.png\" width=\"400px\">\n",
    "<figcaption style=\"text-align: center\"> The training performance plot for cartpole-rbf with manual features I got. </figcaption>\n",
    "</figure>\n",
    "<figure>\n",
    "<img src=\"results/CartPole-v1/cartpole_rbf.png\" width=\"400px\">\n",
    "<figcaption style=\"text-align: center\"> The training performance plot for lunarlander-rbf with rbf features I got.</figcaption>\n",
    "</figure>"
   ]
  },
  {
   "cell_type": "code",
   "execution_count": 1,
   "id": "62817342",
   "metadata": {
    "tags": []
   },
   "outputs": [],
   "source": [
    "import sys, os\n",
    "sys.path.insert(0, os.path.abspath(\"..\"))\n",
    "\n",
    "import yaml\n",
    "import numpy as np\n",
    "from pathlib import Path\n",
    "\n",
    "from sklearn.linear_model import SGDRegressor\n",
    "from sklearn.kernel_approximation import RBFSampler\n",
    "from sklearn.preprocessing import StandardScaler\n",
    "from sklearn.pipeline import FeatureUnion\n",
    "\n",
    "from buffer import Batch\n",
    "import utils as u\n",
    "import train as t\n",
    "\n",
    "from IPython.display import Video # to display videos"
   ]
  },
  {
   "cell_type": "code",
   "execution_count": 15,
   "id": "9ee3fb4e",
   "metadata": {
    "tags": []
   },
   "outputs": [],
   "source": [
    "class RBFAgent(object):\n",
    "    def __init__(self, n_actions, gamma=0.98, batch_size=32):\n",
    "        self.scaler = None\n",
    "        self.featurizer = None\n",
    "        self.q_functions = None\n",
    "        self.gamma = gamma\n",
    "        self.batch_size = batch_size\n",
    "        self.n_actions = n_actions\n",
    "        self._initialize_model()\n",
    "\n",
    "    def _initialize_model(self):\n",
    "        # Draw some samples from the observation range and initialize the scaler (used to normalize data)\n",
    "        obs_limit = np.array([4.8, 5, 0.5, 5])\n",
    "        samples = np.random.uniform(-obs_limit, obs_limit, (1000, obs_limit.shape[0]))\n",
    "        \n",
    "        # calculate the mean and var of samples, used later to normalize training data\n",
    "        self.scaler = StandardScaler().fit(samples) \n",
    "\n",
    "        # Initialize the RBF featurizer\n",
    "        self.featurizer = FeatureUnion([\n",
    "            (\"rbf1\", RBFSampler(gamma=5.0, n_components=100)),\n",
    "            (\"rbf2\", RBFSampler(gamma=2.0, n_components=80)),\n",
    "            (\"rbf3\", RBFSampler(gamma=1.0, n_components=50)),\n",
    "        ])\n",
    "        self.featurizer.fit(self.scaler.transform(samples))\n",
    "\n",
    "        # Create a value approximator for each action dimension\n",
    "        self.q_functions = [SGDRegressor(learning_rate=\"constant\", max_iter=500, tol=1e-3)\n",
    "                       for _ in range(self.n_actions)]\n",
    "\n",
    "        # Initialize it to whatever values; implementation detail\n",
    "        for q_a in self.q_functions:\n",
    "            q_a.partial_fit(self.featurize(samples), np.zeros((samples.shape[0],)))\n",
    "\n",
    "    def featurize(self, state):\n",
    "        \"\"\" Map state to a higher dimension for better representation.\"\"\"\n",
    "        if len(state.shape) == 1:\n",
    "            state = state.reshape(1, -1) # np.array(batch_size, num_states)\n",
    "        \n",
    "        # TODO: Task 1, choose which feature to use. \n",
    "        # Task 1a: implement the manual features here \n",
    "        ########## You code starts here #########\n",
    "        # \\Phi(s) = [s, |s|]^T\n",
    "        manual_feature = np.concatenate((state, np.absolute(state)), axis=1) # (batch_size, 2*num_states)\n",
    "        ########## You code ends here #########\n",
    "        \n",
    "        \n",
    "        # Task 1b: implement the RBF features transformation here \n",
    "        # it will map a state to a higher dimension (100+80+50)\n",
    "        ########## You code starts here #########\n",
    "        # n_components are specified in featurizer \n",
    "        # apply the approximate feature map to state\n",
    "        rbf_feature = self.featurizer.transform(state)  # NOTE featureunion\n",
    "        ########## You code ends here #########\n",
    "\n",
    "        #Task 1:return manual_feature or return rbf_feature\n",
    "        ########## You code starts here #########\n",
    "        # feature = manual_feature #(task 1 a)\n",
    "        feature = rbf_feature #(task 1 b)\n",
    "        # feature = state\n",
    "        ########## You code ends here #########\n",
    "        \n",
    "        return feature\n",
    "    \n",
    "    def get_action(self, state, epsilon=0.0):\n",
    "        # TODO: Task 1: Implement epsilon-greedy policy\n",
    "        # Hints:\n",
    "        # 1. self.q_functions is a list which defines a q function for each action dimension\n",
    "        # 2. for each q function, use predict(feature) to obtain the q value\n",
    "        ########## Your code starts here ##########\n",
    "        # when epsilon = 1, purely greedy \n",
    "        u = np.random.random()\n",
    "        f_state = self.featurize(state) # NOTE featurize before pass into sgdregressor\n",
    "        if u > epsilon: \n",
    "            q_values = [qf.predict(f_state) for qf in self.q_functions]\n",
    "            action = np.argmax(q_values)\n",
    "        else: \n",
    "            action = int(np.random.random() * self.n_actions)\n",
    "        ########## Your code ends here #########\n",
    "        return action\n",
    "\n",
    "\n",
    "    def _to_squeezed_np(self, batch:Batch) -> Batch:\n",
    "        \"\"\" A simple helper function squeeze data dimension and cover data format from tensor to np.ndarray.\"\"\"\n",
    "        _ret = {}\n",
    "        for name, value in batch._asdict().items():\n",
    "            if isinstance(value, dict): # this is for extra, which is a dict\n",
    "                for k, v in value.items():\n",
    "                    value[k] = v.squeeze().numpy()\n",
    "                _ret[name] = value\n",
    "            else:\n",
    "                _ret[name] = value.squeeze().numpy()\n",
    "        return Batch(**_ret)\n",
    "        \n",
    "    def update(self, buffer):\n",
    "        # batch is a namedtuple, which has state, action, next_state, not_done, reward\n",
    "        # you can access the value be batch.<name>, e.g, batch.state\n",
    "        batch = buffer.sample(self.batch_size) \n",
    "        # Hint:\n",
    "        #    state = batch.state\n",
    "        #    action = batch.action \n",
    "        #    next_state = batch.next_state\n",
    "        #    reward = batch.reward \n",
    "        #    not_done = batch.not_done \n",
    "        \n",
    "        # the returned batch is a namedtuple, where the data is torch.Tensor\n",
    "        # we first squeeze dim and then covert it to Numpy array.\n",
    "        batch = self._to_squeezed_np(batch)\n",
    "\n",
    "        # TODO: Task 1, update q_functions\n",
    "        # Hints: \n",
    "        # 1. featurize the state and next_state\n",
    "        # 2. calculate q_target (check q-learning)\n",
    "        # 3. self.q_functions is a list which defines a q function for each action dimension\n",
    "        #    for each q function, use q.predict(featurized_state) to obtain the q value \n",
    "        # 4. remember to use not_done to mask out the q values at terminal states (treat them as 0)\n",
    "        ########## You code starts here #########\n",
    "        # 1. featurize the state and next_state\n",
    "        f_state = self.featurize(batch.state) # (batch_size, feature_size)\n",
    "        next_f_state = self.featurize(batch.next_state)\n",
    "        # 2. calculate q_target \n",
    "        # mask to determine if s_j is the final state or not\n",
    "        non_final_mask = batch.not_done.astype(bool) # NOTE\n",
    "        final_mask = ~non_final_mask # NOTE\n",
    "        # compute V(s_{j+1}) \n",
    "        q_tar = np.stack([qf.predict(next_f_state) for qf in self.q_functions], axis=1) # (batch_size, n_actions)\n",
    "        q_tar = q_tar.max(axis=1)\n",
    "        q_tar[final_mask] = 0\n",
    "        q_tar = batch.reward + self.gamma*q_tar\n",
    "        ########## You code ends here #########\n",
    "        \n",
    "        # Get new weights for each action separately\n",
    "        for a in range(self.n_actions):\n",
    "            # Find states where `a` was taken\n",
    "            idx = batch.action == a\n",
    "            \n",
    "            # If a not present in the batch, skip and move to the next action\n",
    "            if np.any(idx):\n",
    "                act_states = f_state[idx]\n",
    "                act_targets = q_tar[idx]\n",
    "\n",
    "                # Perform a single SGD step on the Q-function params to update the q_function corresponding to action a\n",
    "                self.q_functions[a].partial_fit(act_states, act_targets)\n",
    "\n",
    "        return {}\n",
    "\n",
    "    def save(self, fp):\n",
    "        path = fp/'rbf.pkl'\n",
    "        u.save_object(\n",
    "            {'q': self.q_functions, 'featurizer': self.featurizer},\n",
    "            path\n",
    "        )\n",
    "\n",
    "    def load(self, fp):\n",
    "        path = fp/'rbf.pkl'\n",
    "        d = u.load_object(path)\n",
    "\n",
    "        self.q_functions = d['q']\n",
    "        self.featurizer = d['featurizer']"
   ]
  },
  {
   "cell_type": "markdown",
   "id": "bb219433-160a-4c5b-b1bf-6c654a57e703",
   "metadata": {
    "tags": []
   },
   "source": [
    "<a id='T1'></a>\n",
    "<div class=\" alert alert-warning\">\n",
    "    <h4><b>Student Task 1.(a)</b> Linear model with handcraft feature </h4> \n",
    "\n",
    "First, let's test Q-learning with handcrafted features. We define the feature as :\n",
    "    \n",
    "&nbsp;&nbsp;&nbsp;&nbsp;&nbsp;&nbsp;&nbsp;&nbsp;&nbsp;&nbsp;&nbsp;&nbsp;&nbsp;&nbsp;&nbsp;&nbsp;&nbsp;&nbsp;&nbsp;&nbsp;&nbsp;&nbsp;&nbsp;&nbsp;&nbsp;&nbsp;&nbsp;&nbsp;&nbsp;&nbsp;$\\phi(s) = [s, |s|]^T$\n",
    "\n",
    "Then we will feed this feature into a linear model to predict corresponding Q-values.\n",
    "\n",
    "For this Task, implement the code in ```class RBFAgent```:\n",
    "    \n",
    "1. First, you need to modify functions ```featurize```, to convert the state $s$ from encironment to $[s, |s|]^T$.\n",
    "2. Modify the function ```get_action```, use ```self.q_functions``` to select the action has the highest return.\n",
    "3. Modify the function ```update```, based on the Q-learning objective to update the Q-function (linear models).\n",
    "\n",
    "After the modifying, test the implementation on the Cartpole environment by running the ```train(agent)``` script with default configs. You can test the trained model with the ```test(agent, cfg_args=dict(save_video=true))``` script. \n",
    "</div>"
   ]
  },
  {
   "cell_type": "code",
   "execution_count": 4,
   "id": "d9dd6467",
   "metadata": {
    "tags": []
   },
   "outputs": [],
   "source": [
    "# After the modifying, run\n",
    "# init agent\n",
    "with open(Path().cwd()/'cfg'/'cartpole_rbf.yaml', 'r') as f:\n",
    "    cfg = t.Struct(**yaml.safe_load(f))\n",
    "        \n",
    "agent = RBFAgent(n_actions=cfg.n_actions, gamma=cfg.gamma, batch_size=cfg.batch_size)"
   ]
  },
  {
   "cell_type": "code",
   "execution_count": 5,
   "id": "2a35df33",
   "metadata": {
    "tags": []
   },
   "outputs": [
    {
     "name": "stdout",
     "output_type": "stream",
     "text": [
      "Numpy/Torch/Random Seed:  436\n",
      "{'ep_reward': 53.0, 'episode': 0, 'epsilon': 1.0, 'ep_avr': 0.022339116781949997, 'ts_avr': 0.000415095532277845}\n",
      "{'ep_reward': 149.0, 'episode': 100, 'epsilon': 0.3333333333333333, 'ep_avr': 0.09140280488878488, 'ts_avr': 0.0017348656765451642}\n",
      "{'ep_reward': 67.0, 'episode': 200, 'epsilon': 0.2, 'ep_avr': 0.11449736658483743, 'ts_avr': 0.0017838412146792373}\n",
      "{'ep_reward': 37.0, 'episode': 300, 'epsilon': 0.14285714285714285, 'ep_avr': 0.11649789359420538, 'ts_avr': 0.001798756544903763}\n",
      "{'ep_reward': 47.0, 'episode': 400, 'epsilon': 0.1111111111111111, 'ep_avr': 0.10708046279847622, 'ts_avr': 0.0018368938284722654}\n",
      "{'ep_reward': 76.0, 'episode': 500, 'epsilon': 0.09090909090909091, 'ep_avr': 0.12011390987783671, 'ts_avr': 0.0018019442711124437}\n",
      "{'ep_reward': 35.0, 'episode': 600, 'epsilon': 0.07692307692307693, 'ep_avr': 0.12244136463850737, 'ts_avr': 0.0018159033133695317}\n",
      "{'ep_reward': 87.0, 'episode': 700, 'epsilon': 0.06666666666666667, 'ep_avr': 0.10609609130769967, 'ts_avr': 0.0018137922089681354}\n",
      "{'ep_reward': 144.0, 'episode': 800, 'epsilon': 0.058823529411764705, 'ep_avr': 0.1661691280081868, 'ts_avr': 0.0018087196754427944}\n",
      "{'ep_reward': 48.0, 'episode': 900, 'epsilon': 0.05263157894736842, 'ep_avr': 0.13581765476614238, 'ts_avr': 0.001823828140777135}\n",
      "{'ep_reward': 53.0, 'episode': 1000, 'epsilon': 0.05, 'ep_avr': 0.14172420918941497, 'ts_avr': 0.0018320163341207058}\n",
      "{'ep_reward': 129.0, 'episode': 1100, 'epsilon': 0.05, 'ep_avr': 0.12819631844758989, 'ts_avr': 0.0018316701783017474}\n",
      "{'ep_reward': 200.0, 'episode': 1200, 'epsilon': 0.05, 'ep_avr': 0.14130768463015556, 'ts_avr': 0.0018259325659917638}\n",
      "{'ep_reward': 94.0, 'episode': 1300, 'epsilon': 0.05, 'ep_avr': 0.14220187213271857, 'ts_avr': 0.001831567265557008}\n",
      "{'ep_reward': 158.0, 'episode': 1400, 'epsilon': 0.05, 'ep_avr': 0.15433155529201031, 'ts_avr': 0.0018259667063806307}\n",
      "{'ep_reward': 90.0, 'episode': 1500, 'epsilon': 0.05, 'ep_avr': 0.1444677159562707, 'ts_avr': 0.0018174462404834393}\n",
      "{'ep_reward': 54.0, 'episode': 1600, 'epsilon': 0.05, 'ep_avr': 0.13823274902999402, 'ts_avr': 0.001827796238164107}\n",
      "{'ep_reward': 71.0, 'episode': 1700, 'epsilon': 0.05, 'ep_avr': 0.14845274873077868, 'ts_avr': 0.0018208387192407268}\n",
      "{'ep_reward': 110.0, 'episode': 1800, 'epsilon': 0.05, 'ep_avr': 0.14370462872087955, 'ts_avr': 0.0018320531256381931}\n",
      "{'ep_reward': 67.0, 'episode': 1900, 'epsilon': 0.05, 'ep_avr': 0.17695457179099322, 'ts_avr': 0.0017929330023378285}\n",
      "------ Training Finished ------\n"
     ]
    }
   ],
   "source": [
    "t.train(agent, cfg_path=Path().cwd()/'cfg'/'cartpole_rbf.yaml', cfg_args={}) # < 10 mins"
   ]
  },
  {
   "cell_type": "code",
   "execution_count": 6,
   "id": "4d57a812",
   "metadata": {
    "scrolled": true,
    "tags": []
   },
   "outputs": [
    {
     "name": "stdout",
     "output_type": "stream",
     "text": [
      "Numpy/Torch/Random Seed:  436\n"
     ]
    },
    {
     "name": "stderr",
     "output_type": "stream",
     "text": [
      "error: XDG_RUNTIME_DIR not set in the environment.\n"
     ]
    },
    {
     "name": "stdout",
     "output_type": "stream",
     "text": [
      "{'episode': 0, 'ep_reward': 55.0}\n",
      "{'episode': 1, 'ep_reward': 73.0}\n",
      "{'episode': 2, 'ep_reward': 67.0}\n",
      "{'episode': 3, 'ep_reward': 55.0}\n",
      "{'episode': 4, 'ep_reward': 44.0}\n",
      "{'episode': 5, 'ep_reward': 51.0}\n",
      "{'episode': 6, 'ep_reward': 63.0}\n",
      "{'episode': 7, 'ep_reward': 93.0}\n",
      "{'episode': 8, 'ep_reward': 65.0}\n",
      "{'episode': 9, 'ep_reward': 47.0}\n"
     ]
    }
   ],
   "source": [
    "t.test(agent, cfg_path=Path().cwd()/'cfg'/'cartpole_rbf.yaml', cfg_args=dict(save_video=True)) "
   ]
  },
  {
   "cell_type": "code",
   "execution_count": 7,
   "id": "4e9ba558-6057-4142-804b-d6bc43d0d709",
   "metadata": {
    "tags": []
   },
   "outputs": [
    {
     "name": "stdout",
     "output_type": "stream",
     "text": [
      "Numpy/Torch/Random Seed:  436\n"
     ]
    },
    {
     "data": {
      "image/png": "[encoded data removed]",
      "text/plain": [
       "<Figure size 640x480 with 1 Axes>"
      ]
     },
     "metadata": {},
     "output_type": "display_data"
    }
   ],
   "source": [
    "t.plot(save_name='cartpole_hd.png', cfg_path=Path().cwd()/'cfg'/'cartpole_rbf.yaml', cfg_args={}) # < 15 mins"
   ]
  },
  {
   "cell_type": "markdown",
   "id": "05fb6b18",
   "metadata": {},
   "source": [
    "The agent acting in the environment can be seen using the following command. Change the path to pick the episode you want to visualize. Bear in mind by default video saving for training is taken every 500 episodes"
   ]
  },
  {
   "cell_type": "code",
   "execution_count": 8,
   "id": "69b48c8a",
   "metadata": {
    "tags": []
   },
   "outputs": [
    {
     "data": {
      "text/html": [
       "<video loop autoplay  >\n",
       " <source src=\"data:video/mp4;base64,AAAAIGZ0eXBpc29tAAACAGlzb21pc28yYXZjMW1wNDEAAAAIZnJlZQAAEYVtZGF0AAACrwYF//+r3EXpvebZSLeWLNgg2SPu73gyNjQgLSBjb3JlIDE2NCByMzA5NSBiYWVlNDAwIC0gSC4yNjQvTVBFRy00IEFWQyBjb2RlYyAtIENvcHlsZWZ0IDIwMDMtMjAyMiAtIGh0dHA6Ly93d3cudmlkZW9sYW4ub3JnL3gyNjQuaHRtbCAtIG9wdGlvbnM6IGNhYmFjPTEgcmVmPTMgZGVibG9jaz0xOjA6MCBhbmFseXNlPTB4MzoweDExMyBtZT1oZXggc3VibWU9NyBwc3k9MSBwc3lfcmQ9MS4wMDowLjAwIG1peGVkX3JlZj0xIG1lX3JhbmdlPTE2IGNocm9tYV9tZT0xIHRyZWxsaXM9MSA4eDhkY3Q9MSBjcW09MCBkZWFkem9uZT0yMSwxMSBmYXN0X3Bza2lwPTEgY2hyb21hX3FwX29mZnNldD0tMiB0aHJlYWRzPTEyIGxvb2thaGVhZF90aHJlYWRzPTIgc2xpY2VkX3RocmVhZHM9MCBucj0wIGRlY2ltYXRlPTEgaW50ZXJsYWNlZD0wIGJsdXJheV9jb21wYXQ9MCBjb25zdHJhaW5lZF9pbnRyYT0wIGJmcmFtZXM9MyBiX3B5cmFtaWQ9MiBiX2FkYXB0PTEgYl9iaWFzPTAgZGlyZWN0PTEgd2VpZ2h0Yj0xIG9wZW5fZ29wPTAgd2VpZ2h0cD0yIGtleWludD0yNTAga2V5aW50X21pbj0yNSBzY2VuZWN1dD00MCBpbnRyYV9yZWZyZXNoPTAgcmNfbG9va2FoZWFkPTQwIHJjPWNyZiBtYnRyZWU9MSBjcmY9MjMuMCBxY29tcD0wLjYwIHFwbWluPTAgcXBtYXg9NjkgcXBzdGVwPTQgaXBfcmF0aW89MS40MCBhcT0xOjEuMDAAgAAAAhxliIQAJ//+9bF8CmrJ84oM6DIu4Zckya62IuJtAMAAJShQAAADABLJlCWzIByZd0AAABMgA4ofQZQeYiYqxUCV4g4GauIAZBgX1Ee0W0AuqEdplc0hWD3Mx2lleY40IO2H9fW86WaNt3L/AJQH/ubeVqttQqsNg95cPhurpGwe7bzUYyV5+Uo/M9iK8sAA2PZj5AH+4hqtLU/qzCsBrroAWs/fjkyyFIez79MB9+GyHe5GE9boyCFg57c8UJQC8E1le9MKKbxROKxCBrO1nt1YxnXlfOGExWWQnv+DIefPf5DlJJ9N97DeKbHz34QDX0ZCfZ7wAARB4proDZaFLr+V0drSas+OY0qmo/FzVsqb0FbsLW3oHS9FXUKLYh3M4FXMpLKLIYSi86+T8AntDu+3eHMq+hQAxLUoYObWi9f8JBsGGtDn8DCc4ERu9mX1bWi0Vqqg2BUSk1kqbF4GSMKHQPhnMUAR0XmuMjVfLQMpzF/0yNsZC6wThuXWanbJX6Fnvxag/axNB6o7U7KOLEIJbxIQjGj654/glrpoK6LmTIqdKjQchMW2B0AzYsOx37Ryfsa7tWBIcXEc0NLaO2A07qmXjhp5zEkbetVcVZnXZVGKENf1pK/+zOMXMO+33TnpkABLbJ3X0ytuVUIBn4YhxjYfo+abHxjMHozuQzl002MW4tJQw+/P8GpZtD7oQDkE0QAAAwAAAwAAICEAAAB4QZokbEI//eEAAAQX34sAJB8xwy5wsMXUrZme3ilPA5Tpd3vQoyc3vcZ06yEyebrFnJnqK/qOw0CbX9iiqgC4gTd1PSnCoKS25BdzZsJg0gzrotixQAaIcuALp3ppH8/2j69/djU83mfm55u0ew87a28qg02vzN0GAAAAIUGeQniEfwAAFr5LsEJz9mavZXE6otmY2x2Q695QKpJswQAAABgBnmF0R/8AAAMACj+0PYM6OJ2fUtjR9QEAAAAZAZ5jakf/AAAjscwJb6lvshVI+870Yyrh3QAAAIZBmmhJqEFomUwIT//98QAAAwKfAqPA7vF+xpDaiL+acqk2UQgDuaFQZWNdAiNom0U94igHSJCxoQQDV8rtLN+Ir8CtKKuuGmNhBwZ5Or3wipt//mqSSPVl/lvr1IP92Xe2S2AdHmEfIe0lkoLr7h6kikb/YYuAY4qCeFTfM5oJePF3L3ISYQAAADFBnoZFESwj/wAAFrxDzcyyS0Z7fuhVNuVCXQR5+n1d/20cLPYDKpIg105GxvDmZ+lRAAAAGgGepXRH/wAADYXrhKVKJ2+BN6yU8jQFGDdBAAAAHQGep2pH/wAAI7HMCW+pb7IVSPv8Oxb0KbMu9zbcAAAAWUGarEmoQWyZTAhH//3hAAAEF+o8ua3gPyAVpRfGsGW65hAHAL1WUKYTHRbK1rCLX/qRR26aoGXxw/EMx2+jgaFJHL7QRI98AbobTch8P9knvEPbS5ejJTuAAAAAIUGeykUVLCP/AAAWtSs3a1peuKKDwjC8HMjb6fLotKT1iwAAABgBnul0R/8AACPDF2ippVPU+8IJjidnlgwAAAAXAZ7rakf/AAADAAo+eQzBQPX+9kHnPVAAAABaQZrwSahBbJlMCE///fEAAAMCnvblv6twBkZdQBFQKTFsg3V3DSJ/aFbQKPljql5AYcSATjCpMxvkVBGkuqn1EpLk/+jc/I5q4BqwCQnsJnRe+ejVloft3x+tAAAAJEGfDkUVLCP/AAAWs0f7rhi8bgGZqOtapAtSOLYnTHYTN79kwQAAACIBny10R/8AACOr+F1X9COL3Js12ivU0WbbuIEoOYq3lxQRAAAAHwGfL2pH/wAAI7HMCYIHVQLur1WJuNi3fhmZbdrj6SYAAABsQZs0SahBbJlMCEf//eEAAAQWRvwjj5aD/k8tIAAcok0vIRm/3qURR49aSfvT+e5D5hWSSixMPIAM0lQxdGGZ/z8OKQnnDoHdj54oNLFlvmOyPI1/UbnQu0jHo2muUUmYIBrwcuS2Q+8FVxNAAAAAL0GfUkUVLCP/AAAWu4rR5gPN9OkAQq4jtFWYafTA5OtpDA1FJAyJnVLH7kbwde2ZAAAAIwGfcXRH/wAAI6w4/vTLSsJKelEN47vJ+S2qrTHlXuIraiKCAAAAMgGfc2pH/wAAI5mvAn7JaslFv2NP+2IFtzRDDBn2Ky6JwydJHf2zNjO/MHncuVNzvrbgAAAAkUGbeEmoQWyZTAhH//3hAAAEM0g2skAA096AA2+pPMixiwcO1B5C+AmpSBBIZzCB+dyLoop+gIIJ7UHhxnW629sb2KjqbotkHZm8l0+WMyRIVa1elGwdQ5SNRhTiIj6Co1kvZ/HmnbENIihtfixrfErk7Yg3xYOA4dImz3HuuB2+XNgQKCgZ5vqKjKvXjAyYwA0AAAA3QZ+WRRUsI/8AABdMPMNgIGJNLAbYewLr4T1AXXEQ3K88oc1bAZu9KfK+Ijl0v/3pQpIxB1UbZgAAACsBn7V0R/8AACOp6uGqFlMXg4BbbvjrxTp0KALfnIkfSwLvQ+mfLgh0HVsxAAAAIgGft2pH/wAAJK5eM376MxbvKwgMJ2nRHdGAf3NZFtlDKTkAAAB+QZu8SahBbJlMCEf//eEAAAQzSDLf6gK8w1sOxnS5D4bL7qx3Pw694YQTc//ByRXIAKfjarfowAkHoD7RXgLkjb3BX2lg7TUEpRCZ3anc7WrkOd/+/EOrXWaGtOwnG1alSKFfSHRZjf/UhWFognQMfttYGBSSAB3NyvwLaUjrAAAANUGf2kUVLCP/AAAXQqvotDzTwY09g6atw+evWjHTB0F1H5BEfWyh+Z9vyfm2eUWJJASILtmBAAAAMAGf+XRH/wAAJMCZ4dJhF1SqKg5K1ZKGux+3m9nbaEvnSkQ9okTI+R3jxIc742d4MAAAACMBn/tqR/8AACSuXizJdIpYanVxUbC+pKnjMCjz222YGRypAQAAALhBm+BJqEFsmUwIR//94QAABDY/DtMifQBPzHEOV3fZYBW/nQoAwX0vvrKIfQ7/Y9py4G4vbIj1CVgBICCsW36WlhdIgAUM0LWvhPm2SVi3EqgLsi0FZ85Cb1e3BdKGvYa0V5XIlUQu2FOz7l5hONXPQdXO+go6n7uVKc5EU9bbX2BKi3nYRfzZVrXeONxXLTX9NlKPALfpBMDnXgNZEWCwuHOG0Jmj1KxZZ2W3GsHlc7nnqjTOEVCBAAAARUGeHkUVLCP/AAAXS1tupuZWHVE7MrnYfi4TXjUdvWwgMfmr5of1Jt0uflQvyvZGwRXjKVOftTDBCmnAAatdGmjwR1rbgAAAACYBnj10R/8AACTAmeHSN09dFZ+w7MTdt43tIksrv6yIWomas6G2YAAAAC0Bnj9qR/8AACStW8OJLBJ3MIoCz54KnUOKa3Lq7NYjcdNtQ7L7LJobeLqQC28AAACjQZokSahBbJlMCEf//eEAAARTTg160g1+Dw37WTUvJev3qyIhckJA+ZpOXHf+7+EJD57el20jmHwZpcjOiega6loDp2iuGyhKTvc0svbUBuiAQXWxxne2QpC+FTiLnpJ4H4IhxWl+t8prR3K6qvj5ifVTgX3GxoA7Sk9JA7/+5FYHuZtb8CMpPLMPD9LdS0iH1SZV1fk/hrv1tRXuwtANnKRgcAAAAEdBnkJFFSwj/wAAF+l8TsmC2bb9A4F+/0ZqRza5ycoRq4bvLu5YA+VyLR8NHf2ELlkPNc49OakbCg6cOAjmazhrj5X1+Rg/twAAACcBnmF0R/8AACTAmTJdXKsvV4Y2QUcds8FNWaaA9Z5Bw3t2fgKbyYAAAAAoAZ5jakf/AAAlvvRxDU+9tJwZFKQ28vV5IuUrGca0emM89XrliiEVGQAAAGhBmmhJqEFsmUwIR//94QAABFNQNL/7ICvO9axrHAjH7S6sArQAKEyW3DFniyKX/boPokUeot7ZZNTbacAcWkDBleE+qnmuwmiXi15ZsCiNIxmSlyw4mmoqlT7KSF2cT3U2X81cDB08cQAAADtBnoZFFSwj/wAAF991HQtkHZUhChskkitVg6n2awM7STPZzRptLgonXtqW0UCGDcAA36/NCpTe1CN7UwAAACgBnqV0R/8AACXAmd3pXpFyMaHCD39kPQ6qkKhb77mYUugY82FI9VItAAAANgGep2pH/wAAJa1bw4kcMD5bqzbRw0jsKgBJeIiI0BqLHfPlKVpfsBblajAmg1tC8U6Q+Cu1IAAAAGtBmqxJqEFsmUwIT//98QAAAwLFEC4S8uljLc71OI4r1X61/01rRL4it1Cxcff/C1qOqskwA+niqlxPmAsAhiTqWEDSQCZzeDWwSKSm7B0kKJAAlp6+euzy7P8vEv7QUD0LxeSWTLzSMdJHzAAAAEZBnspFFSwj/wAAF991PqdR1SVjZpvkOPa5+YAowN+2AXNfJNuxZJlDGOU9D2KAG4dWtHa8HH0Ikcx+JgSaYr3JG8u+q1dhAAAALwGe6XRH/wAAJalMvzAOoJGn/azuVAqateEMzIJOBEs67M5RdpisxsYxuWZsvZtSAAAAKQGe62pH/wAAJa1cj+PYmY23pX1b3D1UkFEfk5UpmZmu/XdN0YTmZ4WpAAAAYUGa8EmoQWyZTAj//IQAABFLeBc5gAG2SzPbFNXjbd8u6Ct4NBQVU/1oHJqaGQMLg6dP2phZr3dYtpCwZ1s+8uFDfqx+V+8X0E0Lp0EYyNTDou7qrieAXbvs+Xsvuvbbm7kAAABgQZ8ORRUsI/8AABiIV5v8R3BY5xguFIO+7HLhsMQM1XVr2IjyW0h9LtILg9FhT8enVWZPvAIxnGuov3BK3xVKRlxjdwjE/HC0idgM2CDtfFkCufAn3NEs9NZTU6HFBMLBAAAAPAGfLXRH/wAAJr/5W9wmgD+1pJkRR1NIpCqFU4URN8EPEtJ5w2g/jX6KcPeAjJ77FGmTpN19bzJv1qOwIQAAAC8Bny9qR/8AACaxzA8fXDHp7MD5p6ZI/UF/5j7E5kNpmXrpeJPYDS3DUn5fXoEFgAAABXdtb292AAAAbG12aGQAAAAAAAAAAAAAAAAAAAPoAAAD1AABAAABAAAAAAAAAAAAAAAAAQAAAAAAAAAAAAAAAAAAAAEAAAAAAAAAAAAAAAAAAEAAAAAAAAAAAAAAAAAAAAAAAAAAAAAAAAAAAAAAAAACAAAEoXRyYWsAAABcdGtoZAAAAAMAAAAAAAAAAAAAAAEAAAAAAAAD1AAAAAAAAAAAAAAAAAAAAAAAAQAAAAAAAAAAAAAAAAAAAAEAAAAAAAAAAAAAAAAAAEAAAAACWAAAAZAAAAAAACRlZHRzAAAAHGVsc3QAAAAAAAAAAQAAA9QAAAIAAAEAAAAABBltZGlhAAAAIG1kaGQAAAAAAAAAAAAAAAAAADIAAAAxAFXEAAAAAAAtaGRscgAAAAAAAAAAdmlkZQAAAAAAAAAAAAAAAFZpZGVvSGFuZGxlcgAAAAPEbWluZgAAABR2bWhkAAAAAQAAAAAAAAAAAAAAJGRpbmYAAAAcZHJlZgAAAAAAAAABAAAADHVybCAAAAABAAADhHN0YmwAAACwc3RzZAAAAAAAAAABAAAAoGF2YzEAAAAAAAAAAQAAAAAAAAAAAAAAAAAAAAACWAGQAEgAAABIAAAAAAAAAAEAAAAAAAAAAAAAAAAAAAAAAAAAAAAAAAAAAAAAAAAAAAAY//8AAAA2YXZjQwFkAB//4QAZZ2QAH6zZQJgz5eEAAAMAAQAAAwBkDxgxlgEABmjr48siwP34+AAAAAAUYnRydAAAAAAAAI7CAACOwgAAABhzdHRzAAAAAAAAAAEAAAAxAAABAAAAABRzdHNzAAAAAAAAAAEAAAABAAABmGN0dHMAAAAAAAAAMQAAAAEAAAIAAAAAAQAABQAAAAABAAACAAAAAAEAAAAAAAAAAQAAAQAAAAABAAAFAAAAAAEAAAIAAAAAAQAAAAAAAAABAAABAAAAAAEAAAUAAAAAAQAAAgAAAAABAAAAAAAAAAEAAAEAAAAAAQAABQAAAAABAAACAAAAAAEAAAAAAAAAAQAAAQAAAAABAAAFAAAAAAEAAAIAAAAAAQAAAAAAAAABAAABAAAAAAEAAAUAAAAAAQAAAgAAAAABAAAAAAAAAAEAAAEAAAAAAQAABQAAAAABAAACAAAAAAEAAAAAAAAAAQAAAQAAAAABAAAFAAAAAAEAAAIAAAAAAQAAAAAAAAABAAABAAAAAAEAAAUAAAAAAQAAAgAAAAABAAAAAAAAAAEAAAEAAAAAAQAABQAAAAABAAACAAAAAAEAAAAAAAAAAQAAAQAAAAABAAAFAAAAAAEAAAIAAAAAAQAAAAAAAAABAAABAAAAAAEAAAUAAAAAAQAAAgAAAAABAAAAAAAAAAEAAAEAAAAAHHN0c2MAAAAAAAAAAQAAAAEAAAAxAAAAAQAAANhzdHN6AAAAAAAAAAAAAAAxAAAE0wAAAHwAAAAlAAAAHAAAAB0AAACKAAAANQAAAB4AAAAhAAAAXQAAACUAAAAcAAAAGwAAAF4AAAAoAAAAJgAAACMAAABwAAAAMwAAACcAAAA2AAAAlQAAADsAAAAvAAAAJgAAAIIAAAA5AAAANAAAACcAAAC8AAAASQAAACoAAAAxAAAApwAAAEsAAAArAAAALAAAAGwAAAA/AAAALAAAADoAAABvAAAASgAAADMAAAAtAAAAZQAAAGQAAABAAAAAMwAAABRzdGNvAAAAAAAAAAEAAAAwAAAAYnVkdGEAAABabWV0YQAAAAAAAAAhaGRscgAAAAAAAAAAbWRpcmFwcGwAAAAAAAAAAAAAAAAtaWxzdAAAACWpdG9vAAAAHWRhdGEAAAABAAAAAExhdmY1OC43Ni4xMDA=\" type=\"video/mp4\">\n",
       " Your browser does not support the video tag.\n",
       " </video>"
      ],
      "text/plain": [
       "<IPython.core.display.Video object>"
      ]
     },
     "execution_count": 8,
     "metadata": {},
     "output_type": "execute_result"
    }
   ],
   "source": [
    "Video(Path().cwd()/'results'/'CartPole-v1'/'video'/'test'/'ex4_rbf-episode-9.mp4',\n",
    "      embed=True, html_attributes=\"loop autoplay\") # Set html_attributes=\"controls\" for video control"
   ]
  },
  {
   "cell_type": "markdown",
   "id": "571f48c8-9ab6-43fb-bce0-19719ce2c9e2",
   "metadata": {
    "tags": []
   },
   "source": [
    "<a id='T1'></a>\n",
    "<div class=\" alert alert-warning\">\n",
    "    <h4><b>Student Task 1.(b)</b> RBF approximation </h4> \n",
    "\n",
    "Now, let's test Q-learning with RBF approximation. In this task, we will do a feature transform using the Radial Basis Function. An input state will be transformed to as many features as samples $N$ are specified in the ```RBFSampler``` $\\phi : \\mathbb{R}^d \\mapsto \\mathbb{R}^N $. Then we will feed this $\\mathbb{R}^N $ feature into a linear model to predict corresponding Q-values.\n",
    "\n",
    "For this Task:\n",
    "    \n",
    "1. You need to modify functions ```featurize```, to **convert the state $s$ to a higher dimensional feature using** ```RBFSampler```.\n",
    "\n",
    "2. Run the cell of ```class RBFAgent``` to update the class function\n",
    "\n",
    "3. <span style=\"color:red\"> **IMPORTANT: Directly come to this cell after the modifications, DO NOT RUN the handcraft feature cells again!!!** </span>\n",
    "\n",
    "4. Run the cells below to check the performances of Q-learning with RBF approximation.\n",
    "    \n",
    "After the modifying, test the implementation on the Cartpole environment by running the ```train(agent)``` script with default configs. You can test the trained model with the ```test(agent, cfg_args=dict(save_video=true))``` script. \n",
    "</div>"
   ]
  },
  {
   "cell_type": "code",
   "execution_count": 10,
   "id": "ab43c155-a9a9-4d7c-8829-0b472d25314e",
   "metadata": {
    "tags": []
   },
   "outputs": [],
   "source": [
    "# After modifying the function 'featurize', \n",
    "# 1. run the cell of class RBFAgent(object) to update the class\n",
    "# 2. After update the class, directly run this cell (Skip the cells above of training hadncraft feature) \n",
    "# 2. now let's rerun the agent\n",
    "\n",
    "with open(Path().cwd()/'cfg'/'cartpole_rbf.yaml', 'r') as f:\n",
    "    cfg = t.Struct(**yaml.safe_load(f))        \n",
    "agent = RBFAgent(n_actions=cfg.n_actions, gamma=cfg.gamma, batch_size=cfg.batch_size)"
   ]
  },
  {
   "cell_type": "code",
   "execution_count": 11,
   "id": "793f3d51-0bc1-469e-a889-86f217668c02",
   "metadata": {
    "tags": []
   },
   "outputs": [
    {
     "name": "stdout",
     "output_type": "stream",
     "text": [
      "Numpy/Torch/Random Seed:  436\n",
      "{'ep_reward': 17.0, 'episode': 0, 'epsilon': 1.0, 'ep_avr': 0.0022451281547546387, 'ts_avr': 0.00011121766532168669}\n",
      "{'ep_reward': 144.0, 'episode': 100, 'epsilon': 0.3333333333333333, 'ep_avr': 0.12972680896520614, 'ts_avr': 0.001736141429546448}\n",
      "{'ep_reward': 200.0, 'episode': 200, 'epsilon': 0.2, 'ep_avr': 0.3164187939837575, 'ts_avr': 0.001793546518169915}\n",
      "{'ep_reward': 168.0, 'episode': 300, 'epsilon': 0.14285714285714285, 'ep_avr': 0.33396297302097083, 'ts_avr': 0.001792467189365717}\n",
      "{'ep_reward': 200.0, 'episode': 400, 'epsilon': 0.1111111111111111, 'ep_avr': 0.3423980597034097, 'ts_avr': 0.001802997687458207}\n",
      "{'ep_reward': 200.0, 'episode': 500, 'epsilon': 0.09090909090909091, 'ep_avr': 0.35676226623356344, 'ts_avr': 0.00179252758432694}\n",
      "{'ep_reward': 200.0, 'episode': 600, 'epsilon': 0.07692307692307693, 'ep_avr': 0.354528709538281, 'ts_avr': 0.0017988420327106163}\n",
      "{'ep_reward': 200.0, 'episode': 700, 'epsilon': 0.06666666666666667, 'ep_avr': 0.3594315439462662, 'ts_avr': 0.0017966517861932516}\n",
      "{'ep_reward': 200.0, 'episode': 800, 'epsilon': 0.058823529411764705, 'ep_avr': 0.36008864354342224, 'ts_avr': 0.0017999084109440447}\n",
      "{'ep_reward': 200.0, 'episode': 900, 'epsilon': 0.05263157894736842, 'ep_avr': 0.3630876825377345, 'ts_avr': 0.0018303900661053008}\n",
      "{'ep_reward': 200.0, 'episode': 1000, 'epsilon': 0.05, 'ep_avr': 0.3512553932890296, 'ts_avr': 0.0018240815803271617}\n",
      "{'ep_reward': 200.0, 'episode': 1100, 'epsilon': 0.05, 'ep_avr': 0.3624240776896477, 'ts_avr': 0.0018115932760760188}\n",
      "{'ep_reward': 200.0, 'episode': 1200, 'epsilon': 0.05, 'ep_avr': 0.361041626855731, 'ts_avr': 0.0018046673458069562}\n",
      "{'ep_reward': 200.0, 'episode': 1300, 'epsilon': 0.05, 'ep_avr': 0.3604757482931018, 'ts_avr': 0.0018018672566860914}\n",
      "{'ep_reward': 200.0, 'episode': 1400, 'epsilon': 0.05, 'ep_avr': 0.3665523011982441, 'ts_avr': 0.0018322280401363968}\n",
      "{'ep_reward': 200.0, 'episode': 1500, 'epsilon': 0.05, 'ep_avr': 0.36121233221143484, 'ts_avr': 0.0018055371657013893}\n",
      "{'ep_reward': 200.0, 'episode': 1600, 'epsilon': 0.05, 'ep_avr': 0.3598155646771193, 'ts_avr': 0.0017985699735581875}\n",
      "{'ep_reward': 200.0, 'episode': 1700, 'epsilon': 0.05, 'ep_avr': 0.36298991926014423, 'ts_avr': 0.0018144281290471554}\n",
      "{'ep_reward': 100.0, 'episode': 1800, 'epsilon': 0.05, 'ep_avr': 0.3451047929003835, 'ts_avr': 0.0018089333083871253}\n",
      "{'ep_reward': 200.0, 'episode': 1900, 'epsilon': 0.05, 'ep_avr': 0.30115346252918246, 'ts_avr': 0.0018198728529424627}\n",
      "------ Training Finished ------\n"
     ]
    }
   ],
   "source": [
    "t.train(agent, cfg_path=Path().cwd()/'cfg'/'cartpole_rbf.yaml', cfg_args={}) # < 5 mins"
   ]
  },
  {
   "cell_type": "code",
   "execution_count": 12,
   "id": "88396eef-a80e-41dd-bdc7-c5cb67a2e75f",
   "metadata": {
    "tags": []
   },
   "outputs": [
    {
     "name": "stdout",
     "output_type": "stream",
     "text": [
      "Numpy/Torch/Random Seed:  436\n",
      "{'episode': 0, 'ep_reward': 200.0}\n",
      "{'episode': 1, 'ep_reward': 200.0}\n",
      "{'episode': 2, 'ep_reward': 200.0}\n",
      "{'episode': 3, 'ep_reward': 200.0}\n",
      "{'episode': 4, 'ep_reward': 200.0}\n",
      "{'episode': 5, 'ep_reward': 200.0}\n",
      "{'episode': 6, 'ep_reward': 200.0}\n",
      "{'episode': 7, 'ep_reward': 200.0}\n",
      "{'episode': 8, 'ep_reward': 200.0}\n",
      "{'episode': 9, 'ep_reward': 200.0}\n"
     ]
    }
   ],
   "source": [
    "t.test(agent, cfg_path=Path().cwd()/'cfg'/'cartpole_rbf.yaml', cfg_args=dict(save_video=True)) "
   ]
  },
  {
   "cell_type": "code",
   "execution_count": 13,
   "id": "4b5fd3b7-ee1d-46c7-830f-54b295ececa3",
   "metadata": {
    "tags": []
   },
   "outputs": [
    {
     "name": "stdout",
     "output_type": "stream",
     "text": [
      "Numpy/Torch/Random Seed:  436\n"
     ]
    },
    {
     "data": {
      "image/png": "[encoded data removed]",
      "text/plain": [
       "<Figure size 640x480 with 1 Axes>"
      ]
     },
     "metadata": {},
     "output_type": "display_data"
    }
   ],
   "source": [
    "t.plot(save_name='cartpole_rbf.png', cfg_path=Path().cwd()/'cfg'/'cartpole_rbf.yaml', cfg_args={}) # < 5 mins"
   ]
  },
  {
   "cell_type": "markdown",
   "id": "445eb823-f602-442f-b4b3-ed6806c18ffe",
   "metadata": {
    "tags": []
   },
   "source": [
    "The agent acting in the environment can be seen using the following command. Change the path to pick the episode you want to visualize. Bear in mind by default video saving for training is taken every 500 episodes"
   ]
  },
  {
   "cell_type": "code",
   "execution_count": 14,
   "id": "cd524780-6930-4de3-ae4b-9157e89760d7",
   "metadata": {
    "tags": []
   },
   "outputs": [
    {
     "data": {
      "text/html": [
       "<video loop autoplay  >\n",
       " <source src=\"data:video/mp4;base64,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\" type=\"video/mp4\">\n",
       " Your browser does not support the video tag.\n",
       " </video>"
      ],
      "text/plain": [
       "<IPython.core.display.Video object>"
      ]
     },
     "execution_count": 14,
     "metadata": {},
     "output_type": "execute_result"
    }
   ],
   "source": [
    "Video(Path().cwd()/'results'/'CartPole-v1'/'video'/'test'/'ex4_rbf-episode-9.mp4',\n",
    "      embed=True, html_attributes=\"loop autoplay\") # Set html_attributes=\"controls\" for video control"
   ]
  },
  {
   "cell_type": "markdown",
   "id": "8f725b2e",
   "metadata": {},
   "source": [
    "<a id='Q1'></a>\n",
    "<div class=\" alert alert-warning\">\n",
    "    <h3><b>Student Question 1.1</b> Considering Linear Features (10 points) </h3> \n",
    "\n",
    "Would it be possible to learn accurately Q-values for the Cartpole problem using linear features (by passing the state directly to a linear regressor)? Why/why not?\n",
    "    \n",
    "**Hint: directly return 'state' in function 'featurize'**\n",
    "    \n",
    "🔝\t<a href='#TOC'><b>Table of Contents</b></a>\n",
    "</div>\n"
   ]
  },
  {
   "cell_type": "markdown",
   "id": "cecc979f",
   "metadata": {},
   "source": [
    "We initialize a new agent directly using `state` and train it with the same configuration. As the results show, it is impossible to accurately learn Q-values for the Cartpole problem using linear regressor with linear features.\n",
    "\n",
    "The reason is that the relation between states and actions is non-linear in the Cartpole setting just like most RL tasks, while the linear features can only define linear hyper-planes in the action space, which is not expressive enough for an accurate prediction. "
   ]
  },
  {
   "cell_type": "code",
   "execution_count": 16,
   "id": "332c8bda",
   "metadata": {},
   "outputs": [],
   "source": [
    "# After the modifying, run\n",
    "# init agent\n",
    "with open(Path().cwd()/'cfg'/'cartpole_rbf.yaml', 'r') as f:\n",
    "    d = yaml.safe_load(f)\n",
    "    cfg = t.Struct(**d)\n",
    "    \n",
    "agent = RBFAgent(n_actions=cfg.n_actions, gamma=cfg.gamma, batch_size=cfg.batch_size)"
   ]
  },
  {
   "cell_type": "code",
   "execution_count": 17,
   "id": "17197c64",
   "metadata": {},
   "outputs": [
    {
     "name": "stdout",
     "output_type": "stream",
     "text": [
      "Numpy/Torch/Random Seed:  436\n",
      "{'ep_reward': 24.0, 'episode': 0, 'epsilon': 1.0, 'ep_avr': 0.0030475258827209473, 'ts_avr': 0.0001083280270298322}\n",
      "{'ep_reward': 44.0, 'episode': 100, 'epsilon': 0.3333333333333333, 'ep_avr': 0.038007764145731926, 'ts_avr': 0.0015727676790570127}\n",
      "{'ep_reward': 10.0, 'episode': 200, 'epsilon': 0.2, 'ep_avr': 0.033452531732618807, 'ts_avr': 0.001745700742806218}\n",
      "{'ep_reward': 13.0, 'episode': 300, 'epsilon': 0.14285714285714285, 'ep_avr': 0.03192181192338467, 'ts_avr': 0.0019203837263447774}\n",
      "{'ep_reward': 25.0, 'episode': 400, 'epsilon': 0.1111111111111111, 'ep_avr': 0.03837323922663927, 'ts_avr': 0.0018158130696974695}\n",
      "{'ep_reward': 32.0, 'episode': 500, 'epsilon': 0.09090909090909091, 'ep_avr': 0.04081801299005747, 'ts_avr': 0.0018617925746345129}\n",
      "{'ep_reward': 18.0, 'episode': 600, 'epsilon': 0.07692307692307693, 'ep_avr': 0.045697214156389235, 'ts_avr': 0.0018505368991551176}\n",
      "{'ep_reward': 16.0, 'episode': 700, 'epsilon': 0.06666666666666667, 'ep_avr': 0.036499320156872274, 'ts_avr': 0.0017595855016899293}\n",
      "{'ep_reward': 10.0, 'episode': 800, 'epsilon': 0.058823529411764705, 'ep_avr': 0.036553111672401425, 'ts_avr': 0.001756268279412045}\n",
      "{'ep_reward': 11.0, 'episode': 900, 'epsilon': 0.05263157894736842, 'ep_avr': 0.03133233312517405, 'ts_avr': 0.0017570416253858679}\n",
      "{'ep_reward': 11.0, 'episode': 1000, 'epsilon': 0.05, 'ep_avr': 0.0397720480337739, 'ts_avr': 0.0017720703259808009}\n",
      "{'ep_reward': 14.0, 'episode': 1100, 'epsilon': 0.05, 'ep_avr': 0.035280473195016385, 'ts_avr': 0.0017620287723895134}\n",
      "{'ep_reward': 61.0, 'episode': 1200, 'epsilon': 0.05, 'ep_avr': 0.03587328258901835, 'ts_avr': 0.0017660097113530624}\n",
      "{'ep_reward': 9.0, 'episode': 1300, 'epsilon': 0.05, 'ep_avr': 0.0416621220484376, 'ts_avr': 0.001756148313053144}\n",
      "{'ep_reward': 8.0, 'episode': 1400, 'epsilon': 0.05, 'ep_avr': 0.03710274022072554, 'ts_avr': 0.0017852598516970915}\n",
      "{'ep_reward': 28.0, 'episode': 1500, 'epsilon': 0.05, 'ep_avr': 0.03356557045131922, 'ts_avr': 0.0017608300574964738}\n",
      "{'ep_reward': 9.0, 'episode': 1600, 'epsilon': 0.05, 'ep_avr': 0.03225138537585735, 'ts_avr': 0.0017786865815454498}\n",
      "{'ep_reward': 29.0, 'episode': 1700, 'epsilon': 0.05, 'ep_avr': 0.03407943677157164, 'ts_avr': 0.0017573678821817395}\n",
      "{'ep_reward': 32.0, 'episode': 1800, 'epsilon': 0.05, 'ep_avr': 0.030329261273145676, 'ts_avr': 0.001858145564995537}\n",
      "{'ep_reward': 10.0, 'episode': 1900, 'epsilon': 0.05, 'ep_avr': 0.033350612744688986, 'ts_avr': 0.0017605933798127745}\n",
      "------ Training Finished ------\n"
     ]
    }
   ],
   "source": [
    "cfg_args = {'save_model': False, 'save_logging': False}\n",
    "t.train(agent, cfg_path=Path().cwd()/'cfg'/'cartpole_rbf.yaml', cfg_args=cfg_args) "
   ]
  },
  {
   "cell_type": "markdown",
   "id": "c5a8edc7",
   "metadata": {},
   "source": [
    "<a id='Q2'></a>\n",
    "<div class=\" alert alert-warning\">\n",
    "    <h3><b>Student Question 1.2</b> Experience Replay Buffer (10 points) </h3> \n",
    "\n",
    "In Task 1, we collect observed states, actions, and rewards into an experience replay buffer. During training we randomly sample mini-batches from this buffer. \n",
    "    \n",
    "1.Why do we use the experience replay buffer, how does it affect the learning performance? \n",
    "    \n",
    "2.Why do we sample the mini-batches randomly?\n",
    "\n",
    "**Hint:** In machine learning, when training a model, we usually assume dataset includes i.i.d(independent and identically distributed) samples from a unknown distribution.\n",
    "    \n",
    "🔝\t<a href='#TOC'><b>Table of Contents</b></a>\n",
    "</div>\n"
   ]
  },
  {
   "cell_type": "markdown",
   "id": "494cdd70",
   "metadata": {},
   "source": [
    "**Why do we use the experience replay buffer, how does it affect the learning performance?**\n",
    "\n",
    "1. a main reason why we use the experience replay buffer is that, RL agent learns from experience while gaining experience sometimes can be costly. By consistantly saving previous experience $(s_t, a_t, r_t, s_{t+1})$ at timestep $t$ to the experience replay buffer and reusing them by sampling, i.e. boostrapping, we can make full use of all the experience we have obtained by now. This can be especially beneficial when there is a low variance among outcomes given the same current state and action pair.\n",
    "\n",
    "2. the experience replay buffer can strengthen the stability of learning,since the data will be more closed to i.i.d. instead of highly correlated from the consecutive experience. Besides, the experience replay buffer facilitates batch-learning, enabling a faster convergence and higher computational efficiency. \n",
    "\n",
    "**Reference**\n",
    "\n",
    "[What is experience replay and what are its benefits](https://datascience.stackexchange.com/questions/20535/what-is-experience-replay-and-what-are-its-benefits)"
   ]
  },
  {
   "cell_type": "markdown",
   "id": "2a4793b0",
   "metadata": {},
   "source": [
    "<a id='Q3'></a>\n",
    "<div class=\" alert alert-warning\">\n",
    "    <h3><b>Student Question 1.3</b> Grid-based vs Function Approximators (10 points) </h3> \n",
    "\n",
    "In Exercise 3, we used grid-based Q-learning to balance the Cartpole. Are grid-based methods sample-efficient compared to the RBF function approximation methods? Why/why not?\n",
    "\n",
    "**Hint:** An algorithm is said to be sample-efficient when it requires less samples (data) to reach\n",
    "an optimal performance\n",
    "    \n",
    "🔝\t<a href='#TOC'><b>Table of Contents</b></a>\n",
    "</div>\n"
   ]
  },
  {
   "cell_type": "markdown",
   "id": "ed64fa0e",
   "metadata": {},
   "source": [
    "**Let's directly look at the experimental results**: \n",
    "\n",
    "When using this RBF function approximation methods,the agent learnt how to balance the cartpole for more than $200$ timesteps in most of trials when trained for $250$ episodes.One new sample is generated and a batch of $16$ old samples is used for update for each episode. \n",
    "\n",
    "Looking back on Exercise 3, it took the agent using grid-based Q-learning and GLIE strategy more than $15000$ episodes to achieve a comparable performance. Also, one new sample is generated for each episode, which means it requires more than $15000$ samples to learn how to keep balance for $200$ timesteps. It's obvious that the RBF function approximation method is much more sample-efficient.\n",
    "\n",
    "**Why grid-based methods are less sample-efficient compared to the RBF function approximation**: \n",
    "\n",
    "In one sentence, the grid-based methods must maintain a Q tables for all possible state-action pairs, while the function approximation methods use parametric Q function which can generalize out of already-seen samples. \n",
    "\n",
    "More specifically, \n",
    "1. experience replay buffer is used in this RBF function approximation methods such that we can make full use of previous experience, i.e. old samples. \n",
    "2. the parametric Q functions can learn from a set of samples, then approximate any other samples."
   ]
  },
  {
   "cell_type": "markdown",
   "id": "223b9e0c",
   "metadata": {},
   "source": [
    "<a id='T2'></a>\n",
    "<div class=\" alert alert-warning\">\n",
    "    <h3><b>Student Task 2.</b> Visualizing the Policy (10 points) </h3> \n",
    "\n",
    "Create a 2D plot of policy (best action in terms of state) learned with RBF in terms of $x$ and θ for $\\dot{x} = 0$ and $\\dot{\\theta} = 0$, such that θ is on the horizontal axis and $x$ is on the vertical axis. The plot will be visualized below.\n",
    "\n",
    "**Hint 1 :** You can fix $\\dot{x} = 0$ and $\\dot{\\theta} = 0$ and discretize the state-space for $x$ and $\\theta$.\n",
    "\n",
    "**Hint 2 :** You can directly use the code in ***excercise 1 Task 4*** to visualize the policy.\n",
    "    \n",
    "**Hint 3 :** For CartPole environment state specifications, find them here https://gymnasium.farama.org/environments/classic_control/cart_pole/\n",
    "    \n",
    "🔝\t<a href='#TOC'><b>Table of Contents</b></a>\n",
    "</div>\n"
   ]
  },
  {
   "cell_type": "markdown",
   "id": "2203cd98",
   "metadata": {},
   "source": [
    "$$\n",
    "o=s=\\left(\\begin{array}{c}\n",
    "x \\\\\n",
    "\\dot{x} \\\\\n",
    "\\theta \\\\\n",
    "\\dot{\\theta}\n",
    "\\end{array}\\right) \\text {, }\n",
    "$$"
   ]
  },
  {
   "cell_type": "code",
   "execution_count": null,
   "id": "797754bd-2a91-4b68-ab12-84dab27f100a",
   "metadata": {
    "tags": []
   },
   "outputs": [],
   "source": [
    "import matplotlib.pyplot as plt\n",
    "import seaborn as sns\n",
    "\n",
    "# define and reload the RBF agent, which is trained with RBF feature!!!!\n",
    "with open(Path().cwd()/'cfg'/'cartpole_rbf.yaml', 'r') as f:\n",
    "    cfg = t.Struct(**yaml.safe_load(f))        \n",
    "agent = RBFAgent(n_actions=cfg.n_actions, gamma=cfg.gamma, batch_size=cfg.batch_size)\n",
    "agent.load(Path().cwd()/'results/CartPole-v1/model/')\n",
    "\n",
    "########## Your code starts here ##########\n",
    "# discretize into 16 by 16 grids\n",
    "npoints = 32\n",
    "# number of action\n",
    "action_space_dim = 2\n",
    "# state range for x and theta\n",
    "x_range = np.linspace(-2.4, 2.4, npoints)\n",
    "theta_range = np.linspace(-.2095, .2095, npoints)\n",
    "\n",
    "actions = np.zeros((npoints, npoints), dtype=np.int32)\n",
    "\n",
    "# fix dot_x and dot_theta\n",
    "dot_x, dot_th = 0, 0\n",
    "# loop through x and theta\n",
    "for i, x in enumerate(x_range): \n",
    "    for j, th in enumerate(theta_range):\n",
    "        state = np.array([x, dot_x, th, dot_th])\n",
    "        best_action = agent.get_action(state)\n",
    "        actions[i, j] = best_action\n",
    "# heatmap scale configuration\n",
    "num_ticks = 10\n",
    "tick_skip = max(1, npoints // num_ticks)\n",
    "tick_shift = 2*np.pi/npoints/2\n",
    "tick_points = np.arange(npoints)[::tick_skip] + tick_shift\n",
    "x_tick_labels = x_range.round(3)[::tick_skip]\n",
    "th_tick_labels = theta_range.round(3)[::tick_skip]\n",
    "cmap = sns.color_palette(\"deep\", action_space_dim)\n",
    "\n",
    "# create policy heatmap\n",
    "sns.heatmap(actions, cmap=cmap, vmin=0, vmax=action_space_dim-1)\n",
    "plt.xticks(tick_points, x_tick_labels, rotation=45)\n",
    "plt.yticks(tick_points, th_tick_labels, rotation=45)\n",
    "colorbar = plt.gca().collections[0].colorbar\n",
    "ticks = np.array([0.25, 0.75])\n",
    "colorbar.set_ticks(ticks)\n",
    "labels = ['Left', 'Right']\n",
    "colorbar.set_ticklabels(labels)\n",
    "plt.xlabel(\"x\")\n",
    "plt.ylabel(\"theta\")\n",
    "plt.title(\"Best action\")\n",
    "plt.suptitle(\"Best action in %s\" % cfg.env_name)\n",
    "plt.show()\n",
    "\n",
    "########## Your code ends here #############\n",
    "\n"
   ]
  },
  {
   "cell_type": "markdown",
   "id": "c88aa5e4-757d-49c8-9bec-3f23e7bc2f9f",
   "metadata": {
    "tags": []
   },
   "source": [
    "# 3. Submitting <a id='3.'></a>\n",
    "Ensure all tasks and questions (in ```ex4_dpn.ipynb``` and ```ex4_rbf.ipynb```) are answered and the necessary plots are saved in the appropriate locations. The relevant plots and files need to be included for this part of assignment are:\n",
    "\n",
    "\n",
    "- Training performance plots:\n",
    "  - `cartpole_hd.png`: Training performance of handcrafted feature plots in terms of episode and episodic reward\n",
    "  - `cartpole_rbf.png`: training performance of rbf feature plots in terms of episode and episodic reward \n",
    "<br>\n",
    "<br>\n",
    "\n",
    "  \n",
    "\n",
    "- Model files:\n",
    "  - `rbf.kpl`: Trained model\n",
    "\n",
    "\n",
    "Ensure the correct model files and plots are saved in paths:\n",
    "- ```results/CartPole-v1/cartpole_rbf.png``` Training result for Cartpole environment\n",
    "- ```results/CartPole-v1/cartpole_hd.png```  Training result for Cartpole environment\n",
    "- ```results/CartPole-v1/model/rbf.kpl``` Model for Cartpole environment\n",
    "\n",
    "\n",
    "<span style=\"color:red\"> **# IMPORTANT: DO NOT FORGET ANOTHER TASK IN ```ex4_dqn.ipynb```** </span>"
   ]
  },
  {
   "cell_type": "markdown",
   "id": "7dbc83ca-dbb0-4024-868e-6718a83e9bb2",
   "metadata": {
    "tags": []
   },
   "source": [
    "## 3.1 Feedback <a id='3.1'></a>\n",
    "\n",
    "In order to help the staff of the course as well as the forthcoming students, it would be great if you could answer to the following questions in your submission:"
   ]
  },
  {
   "cell_type": "markdown",
   "id": "eee27da8-ac20-488b-9d05-c03ed1f0f837",
   "metadata": {},
   "source": [
    "1) How much time did you spend solving this exercise? (change the ```hrs``` variable below to a floating point number representing the number of hours taken e.g. 5.43)"
   ]
  },
  {
   "cell_type": "code",
   "execution_count": null,
   "id": "f4a4e19d-39b6-466a-8fea-b63f91916cf5",
   "metadata": {
    "tags": []
   },
   "outputs": [],
   "source": [
    "hrs = 5"
   ]
  },
  {
   "cell_type": "markdown",
   "id": "dc128a60-a227-41b5-b6e0-531de2c3df1b",
   "metadata": {},
   "source": [
    "2) Difficulty of each task/question from 1-5 (int or float)"
   ]
  },
  {
   "cell_type": "code",
   "execution_count": null,
   "id": "c797f06b-bf2d-4305-abe2-e2773c6fb3d8",
   "metadata": {
    "tags": []
   },
   "outputs": [],
   "source": [
    "T1_a = 1   # Implementing Hand feature \n",
    "T2_b = 4   # Implementing RBF feature \n",
    "Q1_1 = 2 # Question 1.1 Considering linear features (10 points)\n",
    "Q1_2 = 3 # Question 1.2 Experience replay (10 points)\n",
    "Q1_3 = 2.5 # Question 1.3 Grid vs Function (10 points)\n",
    "Q2 = 3.5 # Question 2 Policy visualization (10 points)"
   ]
  },
  {
   "cell_type": "markdown",
   "id": "e6612842-e130-4658-adef-181218023449",
   "metadata": {},
   "source": [
    "3) How well did you understand the content of the task/question from 1-5? (int or float)"
   ]
  },
  {
   "cell_type": "code",
   "execution_count": null,
   "id": "5a5ea255-ca3f-4ee2-860c-147ff88373f7",
   "metadata": {
    "tags": []
   },
   "outputs": [],
   "source": [
    "T1_a = 5   # Implementing Hand feature \n",
    "T2_b = 5   # Implementing RBF feature \n",
    "Q1_1 = 5 # Question 1.1 Considering linear features (10 points)\n",
    "Q1_2 = 5 # Question 1.2 Experience replay (10 points)\n",
    "Q1_3 = 5 # Question 1.3 Grid vs Function (10 points)\n",
    "Q2 = 4 # Question 2 Policy visualization (10 points)"
   ]
  },
  {
   "cell_type": "markdown",
   "id": "77831fe1-f18d-4036-97a9-ad6d1adadfa2",
   "metadata": {},
   "source": [
    "4) General feedback. Consider questions like:\n",
    "\n",
    "    - Did the content of the lecture relate well with the assignment?\n",
    "    - To what extent did you find the material to be potentially useful for your research and studies?\n",
    "    \n",
    "Please share any additional feedback, suggestions, or comments you have about the lecture, assignment, or course content. Your input is valuable in helping us improve the learning experience."
   ]
  },
  {
   "cell_type": "markdown",
   "id": "6c8038fb-e038-4eac-87f3-ff28e0f94e9d",
   "metadata": {
    "tags": []
   },
   "source": [
    "- Yes the content of the leacture relates with the assignment. \n",
    "- I enjoyed working on this assignment. The provided template is clear and easy-to-understand,and the task and question settings help me understand the function approximation and this linear method better. \n",
    "- additional feedback and suggestions:</br>\n",
    "same as what I wrote in the `ex4_dqn` task, it can make the subtask clearer and save me some time on making name and data type right if the name, datatype and shape of function's arguments and returns are provided. "
   ]
  },
  {
   "cell_type": "code",
   "execution_count": null,
   "id": "0d9be545",
   "metadata": {},
   "outputs": [],
   "source": []
  }
 ],
 "metadata": {
  "kernelspec": {
   "display_name": "Python 3",
   "language": "python",
   "name": "python3"
  },
  "language_info": {
   "codemirror_mode": {
    "name": "ipython",
    "version": 3
   },
   "file_extension": ".py",
   "mimetype": "text/x-python",
   "name": "python",
   "nbconvert_exporter": "python",
   "pygments_lexer": "ipython3",
   "version": "3.10.8"
  }
 },
 "nbformat": 4,
 "nbformat_minor": 5
}
