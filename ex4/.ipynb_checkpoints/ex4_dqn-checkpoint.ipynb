{
 "cells": [
  {
   "cell_type": "markdown",
   "id": "53274fb5",
   "metadata": {},
   "source": [
    "\n",
    "<div class=\"alert alert-block alert-info\">\n",
    "   <h2 align=\"center\"> <center><b> Reinforcement Learning Assignment 4 - Function Approximators Part 2: Deep Q Network </b></center></h2>\n",
    "\n",
    "<br>\n",
    "<center><font size=\"3\">This notebook is a part of teaching material for ELEC-E8125</font></center>\n",
    "<center><font size=\"3\">Sep 4, 2023 - Nov 30, 2023</font></center>\n",
    "<center><font size=\"3\">Aalto University</font></center>\n",
    "</div>\n",
    "\n",
    "\n",
    "<a id='TOC'></a>\n",
    "\n",
    "<div class=\"alert alert-block alert-success\">\n",
    "    \n",
    "# Table of contents\n",
    "* <a href='#1.'> 1. Introduction </a>\n",
    "* <a href='#1.1'> 1.1 Task environments </a>\n",
    "* <a href='#1.2'> 1.2 Learning Objectives </a>\n",
    "* <a href='#1.3'> 1.3 Code Structure & Files </a>\n",
    "* <a href='#1.4'> 1.4 Execution time </a>\n",
    "* <a href='#2.'> 2. A (not-so-)deep Q-network</a>\n",
    "* <a href='#3.'> 3. Submitting </a>\n",
    "* <a href='#3.1'> 3.1 Feedback </a>\n",
    "\n",
    "<a href='#T1'><b>Student Task 1.</b> Implementing DQN (10 points) </a>\\\n",
    "<a href='#Q1'><b>Student Question 1.1</b> Considering Continuous Action Spaces (5 points) </a>\\\n",
    "<a href='#Q2'><b>Student Question 1.2</b> Continuous Action Spaces Part 1 (15 points) </a>\\\n",
    "<a href='#Q3'><b>Student Question 1.3</b> The Target Network (10 points) </a>\n",
    " \n",
    "\n",
    "**Total Points:** 40"
   ]
  },
  {
   "cell_type": "markdown",
   "id": "c25c916f",
   "metadata": {},
   "source": [
    "# 0. Notes for myself\n",
    "### [Reinforcement learning (DQN) tutorial](https://pytorch.org/tutorials/intermediate/reinforcement_q_learning.html)\n",
    "1. Huber loss is used instead of MSE loss: </br>\n",
    "\n",
    "> The Huber loss acts like the mean squared error (MSE) when the error is small, but like the mean absolute error (MAE) when the error is large - this makes it more robust to outliers when the estimates of $Q$ are very noisy. \n",
    "\n",
    "\n",
    "### [What does the gather function do in pytorch in layman terms?](https://stackoverflow.com/questions/50999977/what-does-the-gather-function-do-in-pytorch-in-layman-terms)\n",
    "\n",
    "### policy net and target net\n",
    "\n",
    "1. policy net: estimate current Q-value, $Q(s_j, a_j)$ \n",
    "2. target net: estimate target Q-value, $r_j + \\gamma \\cdot \\max_{a}\\left(\\hat{Q}(s_{j+1}, a)\\right)$\n",
    "\n",
    "update every $C$ steps: $\\hat{Q} = Q$"
   ]
  },
  {
   "cell_type": "markdown",
   "id": "9fb3bd96",
   "metadata": {},
   "source": [
    "# 1. Introduction <a id='1.'></a>\n",
    "\n",
    "In various real-world scenarios, dealing with high-dimensional state spaces makes it impractical to compute and store Q-values for every possible state-action pair in a Q-table. To address this challenge, we turn to function approximators. In this assignment, you will progress creating a basic Deep Q-Network (DQN) in the **Cartpole** and **LunarLander** environment.\n",
    "\n",
    "**Please start working on this assignment early since the DQN will take some time to train.**\n",
    "\n",
    "\n",
    "<div style=\"display:flex\">\n",
    "     <div style=\"flex:1;padding-left:100px;\">\n",
    "          <img src=\"imgs/cartpole.png\" width=\"300\"/>\n",
    "         <figcaption style=\"flex:1;padding-left:20px;\">  Figure 1: The Cartpole environment. </figcaption>\n",
    "     </div>\n",
    "     <div style=\"flex:1;padding-left:70px;\">\n",
    "          <img src=\"imgs/lunar_lander.png\" width=\"300\"/>\n",
    "         <figcaption style=\"flex:1;padding-left:20px;\">  Figure 2: The Lunarlander environment. </figcaption>\n",
    "     </div>\n",
    "\n",
    "</div>\n",
    "\n",
    "Useful Sources:\n",
    "\n",
    "- Mnih, Volodymyr, et al. \"Playing atari with deep reinforcement learning.\" arXiv preprint arXiv:1312.5602 (2013). https://arxiv.org/pdf/1312.5602.pdf\n",
    "\n",
    "\n",
    "## 1.1 Task environments: <a id='1.1'></a>\n",
    "In this excercise, we will mainly use DQN for two tasks:\n",
    "- Cartpole(https://gymnasium.farama.org/environments/classic_control/cart_pole/): This environment corresponds to the version of the cart-pole problem described by Barto, Sutton, and Anderson in “Neuronlike Adaptive Elements That Can Solve Difficult Learning Control Problem”. A pole is attached by an un-actuated joint to a cart, which moves along a frictionless track. The pendulum is placed upright on the cart and the goal is to balance the pole by applying forces in the left and right direction on the cart.\n",
    "\n",
    "- Lunar Lander (https://gymnasium.farama.org/environments/box2d/lunar_lander/): This environment is a classic rocket trajectory optimization problem. According to Pontryagin’s maximum principle, it is optimal to fire the engine at full throttle or turn it off. This is the reason why this environment has discrete actions: engine on or off.\n",
    "\n",
    "## 1.2 Learning Objectives: <a id='1.1'></a>\n",
    "- Understand why and how function approximators can be used for Q-learning\n",
    "- Understand the Deep Q-Network RL algorithm\n",
    "\n",
    "## 1.3 Code Structure & Files <a id='1.2'></a>\n",
    "\n",
    "```ex4_dqn.ipynb``` is the file needed to be modified for this part of the assignment.  \n",
    "\n",
    "<span style=\"color:red\"> **# IMPORTANT: DO NOT FORGET ANOTHER TASK IN ```ex4_rbf.ipynb```** </span>\n",
    "\n",
    "```\n",
    "├───cfg                            # Config files for environments\n",
    "├───imgs                           # Images used in notebook\n",
    "├───results\n",
    "│   └───CartPole-v1\n",
    "│   │   ├───logging                \n",
    "│   │   │    └───logging.pkl        # Contains logged data\n",
    "│   │   ├───model              \n",
    "│   │   │    └───*dqn.pt            # Contains trained model\n",
    "│   │   └───video                   # Videos saved\n",
    "│   │   └───*cartpole_dqn.png       # Contains training performance plot\n",
    "│   └───LunarLander-v2\n",
    "│   │   ├───logging                \n",
    "│   │   │    └───logging.pkl        # Contains logged data\n",
    "│   │   ├───model              \n",
    "│   │   │    └───*dqn.pt            # Contains trained model\n",
    "│   │   └───video                   # Videos saved\n",
    "│   │   └───*lunarlander_dqn.png    # Contains training performance plot\n",
    "│   ex4_dqn.ipynb                   # 2nd assignment file containing tasks <---------This task\n",
    "│   ex4_rbf.ipynb                   # 1st assignment file containing tasks <---------\n",
    "│   train.py                        # Contains train and test functions \n",
    "│   utils.py                        # Contains useful functions \n",
    "└───buffer.py                       # Contains buffer functions\n",
    "```\n",
    "\n",
    "## 1.4 Execution time <a id='1.4'></a>\n",
    "\n",
    "The training of these methods might take more than 40 mins depends on the server. If you have problem of experiment running takes too much time, you can download the jupyter notebook and test it locally."
   ]
  },
  {
   "cell_type": "markdown",
   "id": "2cba7612-914b-4860-b019-7dc32b075b6b",
   "metadata": {
    "tags": []
   },
   "source": [
    "# 2. A (not-so-)deep Q-network <a id='2.'></a>"
   ]
  },
  {
   "cell_type": "markdown",
   "id": "00b2f2ea",
   "metadata": {},
   "source": [
    "<a id='T1'></a>\n",
    "<div class=\" alert alert-warning\">\n",
    "    <h3><b>Student Task 1.</b> Implementing DQN (10 points) </h3> \n",
    "\n",
    "Finish the incomplete code in DQNAgent (functions ```update``` and ```get_action```, marked with ```TODO```) to implement a DQN agent.\n",
    "\n",
    "**See Figure 3 for an example training performance plot for cartpole. Save the training performance plots, and check if they are in the right place (the paths please refer to <a href='#3.'>Submitting<a>).**\n",
    "\n",
    "<figure style=\"text-align: center\">\n",
    "<img src=\"imgs/dqn.png\" width=\"300px\">\n",
    "<figcaption style=\"text-align: center\"> Figure 3: The training performance plot for cartpole-dqn might look something like this. </figcaption>\n",
    "</figure>\n",
    "    \n",
    "🔝\t<a href='#TOC'><b>Table of Contents</b></a>\n",
    "</div>\n"
   ]
  },
  {
   "cell_type": "markdown",
   "id": "53c0fa85",
   "metadata": {},
   "source": [
    "### Training performance plots I got\n",
    "<figure>\n",
    "<img src=\"results/CartPole-v1/cartpole_dqn.png\" width=\"400px\">\n",
    "<figcaption style=\"text-align: center\"> The training performance plot for cartpole-dqn I got. </figcaption>\n",
    "</figure>\n",
    "<figure>\n",
    "<img src=\"results/LunarLander-v2/lunarlander_dqn.png\" width=\"400px\">\n",
    "<figcaption style=\"text-align: center\"> The training performance plot for lunarlander-dqn I got.</figcaption>\n",
    "</figure>"
   ]
  },
  {
   "cell_type": "code",
   "execution_count": 1,
   "id": "ec1d14d1",
   "metadata": {
    "tags": []
   },
   "outputs": [],
   "source": [
    "import sys, os\n",
    "sys.path.insert(0, os.path.abspath(\"..\"))\n",
    "from typing import List\n",
    "import numpy as np\n",
    "import torch, random, copy, yaml, time\n",
    "import torch.nn as nn\n",
    "import torch.optim as optim\n",
    "import torch.nn.functional as F\n",
    "from pathlib import Path\n",
    "\n",
    "import utils as u\n",
    "import train as t\n",
    "\n",
    "from IPython.display import Video # to display videos\n",
    "\n",
    "device = 'cpu'"
   ]
  },
  {
   "cell_type": "code",
   "execution_count": 2,
   "id": "b2c93182",
   "metadata": {
    "tags": []
   },
   "outputs": [],
   "source": [
    "def mlp(in_dim, mlp_dims: List[int], out_dim, act_fn=nn.ReLU, out_act=nn.Identity):\n",
    "    \"\"\"Returns an MLP.\"\"\"\n",
    "    if isinstance(mlp_dims, int): raise ValueError(\"mlp dimensions should be list, but got int.\")\n",
    "\n",
    "    layers = [nn.Linear(in_dim, mlp_dims[0]), act_fn()]\n",
    "    for i in range(len(mlp_dims)-1):\n",
    "        layers += [nn.Linear(mlp_dims[i], mlp_dims[i+1]), act_fn()]\n",
    "    # the output layer\n",
    "    layers += [nn.Linear(mlp_dims[-1], out_dim), out_act()]\n",
    "    return nn.Sequential(*layers)"
   ]
  },
  {
   "cell_type": "code",
   "execution_count": 3,
   "id": "6c01a546",
   "metadata": {
    "tags": []
   },
   "outputs": [],
   "source": [
    "class DQNAgent(object):\n",
    "    def __init__(self, state_shape, n_actions,\n",
    "                 batch_size=32, hidden_dims=[12], gamma=0.98, lr=1e-3, grad_clip_norm=1000, tau=0.001):\n",
    "        self.n_actions = n_actions\n",
    "        self.state_dim = state_shape[0]\n",
    "        self.policy_net = mlp(self.state_dim, hidden_dims, n_actions).to(device)\n",
    "        self.target_net = copy.deepcopy(self.policy_net)\n",
    "        self.target_net.eval()\n",
    "        self.optimizer = optim.Adam(self.policy_net.parameters(), lr=float(lr))\n",
    "\n",
    "        self.batch_size = batch_size\n",
    "        self.gamma = gamma\n",
    "        self.grad_clip_norm = grad_clip_norm\n",
    "        self.tau = tau\n",
    "        \n",
    "        self.counter = 0\n",
    "\n",
    "    def update(self, buffer):\n",
    "        \"\"\" One gradient step, update the policy net.\"\"\"\n",
    "        start = time.perf_counter()\n",
    "        self.counter += 1\n",
    "        # Do one step gradient update\n",
    "        batch = buffer.sample(self.batch_size, device=device)\n",
    "        # Hint:\n",
    "        #    state = batch.state\n",
    "        #    action = batch.action \n",
    "        #    next_state = batch.next_state\n",
    "        #    reward = batch.reward \n",
    "        #    not_done = batch.not_done \n",
    "        \n",
    "        # TODO: Task 3: Finish the DQN implementation.\n",
    "        # Hints: 1. You can use torch.gather() to gather values along an axis specified by dim. \n",
    "        #        2. torch.max returns a namedtuple (values, indices) where values is the maximum \n",
    "        #           value of each row of the input tensor in the given dimension dim.\n",
    "        #           And indices is the index location of each maximum value found (argmax).\n",
    "        #        3.  batch is a namedtuple, which has state, action, next_state, not_done, reward\n",
    "        #           you can access the value be batch.<name>, e.g, batch.state\n",
    "        #        4. check torch.nn.utils.clip_grad_norm_() to know how to clip grad norm\n",
    "        #        5. You can go throught the PyTorch Tutorial given on MyCourses if you are not familiar with it. \n",
    "        # calculate the q(s,a)\n",
    "        ########## You code starts here #########\n",
    "        \n",
    "        # 0. given minibatch of transitions based on batch \n",
    "        # 1. compute Q(s_j, a_j)\n",
    "        # `gather(dim=1, index=state)`:  for each sample, gather value of specified state.\n",
    "        state_action_values = self.policy_net(batch.state).gather(1, batch.action.long()) \n",
    "        \n",
    "        # 2. compute V(s_{j+1}) for all next states.\n",
    "        # mask to determine if s_j is the final state or not\n",
    "        # by testing, this implementation will be faster than the map-based method presented in the tutorial \n",
    "        non_final_mask = batch.not_done.bool()\n",
    "        final_mask = ~non_final_mask # \n",
    "        # compute V(s_{j+1}) for all next states \n",
    "        next_state_values = torch.max(self.target_net(batch.next_state), dim=1).values.unsqueeze(1)\n",
    "        next_state_values[final_mask] = 0\n",
    "        \n",
    "        # 3. compute the expected Q values \n",
    "        expected_state_action_values = batch.reward + self.gamma * next_state_values\n",
    "        \n",
    "        # 4. compute mse loss\n",
    "        criterion = nn.MSELoss() # reduction: mean\n",
    "        loss = criterion(state_action_values, expected_state_action_values)\n",
    "        \n",
    "        # 5. optimize the model\n",
    "        self.optimizer.zero_grad()\n",
    "        loss.backward()\n",
    "        # in-place gradient clipping, to mitigate exploding gradients\n",
    "        nn.utils.clip_grad_value_(self.policy_net.parameters(), 100)\n",
    "        self.optimizer.step()\n",
    "            \n",
    "        ########## You code ends here #########\n",
    "\n",
    "        # update the target network\n",
    "        u.soft_update_params(self.policy_net, self.target_net, self.tau)\n",
    "        \n",
    "        end = time.perf_counter()\n",
    "        update_time = end - start\n",
    "        return {'loss': loss.item(), \n",
    "                'q_mean': expected_state_action_values.mean().item(),\n",
    "                'num_update': self.counter,\n",
    "                'update_time': update_time}\n",
    "\n",
    "\n",
    "    # NOTE no grad required for action\n",
    "    @torch.no_grad()\n",
    "    def get_action(self, state, epsilon=0.05):\n",
    "        # TODO:  Task 3: implement epsilon-greedy action selection\n",
    "        ########## You code starts here #########\n",
    "        u = np.random.random()\n",
    "        state = torch.from_numpy(state)\n",
    "        if u > epsilon: \n",
    "            action = torch.argmax(self.policy_net(state)).item()\n",
    "        else: \n",
    "            action = torch.randint(0, self.n_actions, (1,), dtype=int).item()\n",
    "        ########## You code ends here #########\n",
    "        return action\n",
    "\n",
    "\n",
    "    def save(self, fp):\n",
    "        path = fp/'dqn.pt'\n",
    "        torch.save({\n",
    "            'policy': self.policy_net.state_dict(),\n",
    "            'policy_target': self.target_net.state_dict()\n",
    "        }, path)\n",
    "\n",
    "    def load(self, fp):\n",
    "        path = fp/'dqn.pt'\n",
    "        d = torch.load(path)\n",
    "        self.policy_net.load_state_dict(d['policy'])\n",
    "        self.target_net.load_state_dict(d['policy_target'])"
   ]
  },
  {
   "cell_type": "code",
   "execution_count": 4,
   "id": "d1d97e7d",
   "metadata": {
    "tags": []
   },
   "outputs": [],
   "source": [
    "# init agent\n",
    "with open(Path().cwd()/'cfg'/'cartpole_dqn.yaml', 'r') as f:\n",
    "    cfg = t.Struct(**yaml.safe_load(f))\n",
    "    \n",
    "agent = DQNAgent(state_shape=cfg.state_shape, n_actions=cfg.n_actions, batch_size=cfg.batch_size, hidden_dims=cfg.hidden_dims,\n",
    "                 gamma=cfg.gamma, lr=cfg.lr, tau=cfg.tau)"
   ]
  },
  {
   "cell_type": "code",
   "execution_count": null,
   "id": "35fc3169",
   "metadata": {
    "scrolled": true,
    "tags": []
   },
   "outputs": [
    {
     "name": "stdout",
     "output_type": "stream",
     "text": [
      "Numpy/Torch/Random Seed:  436\n",
      "{'ep_reward': 18.0, 'episode': 0, 'epsilon': 1.0, 'ep_avr': 0.002592712640762329, 'ts_avr': 0.00012214502526654137}\n",
      "{'ep_reward': 12.0, 'episode': 100, 'epsilon': 0.6666666666666666, 'ep_avr': 0.022848412804305555, 'ts_avr': 0.0011476091290983396, 'loss': 0.6559486389160156, 'q_mean': 1.487979531288147, 'num_update': 1768, 'update_time': 0.0009693242609500885}\n",
      "{'ep_reward': 17.0, 'episode': 200, 'epsilon': 0.5, 'ep_avr': 0.0196464579179883, 'ts_avr': 0.0012744804644561419, 'loss': 0.5357875823974609, 'q_mean': 2.4460344314575195, 'num_update': 3307, 'update_time': 0.0009650737047195435}\n",
      "{'ep_reward': 10.0, 'episode': 300, 'epsilon': 0.4, 'ep_avr': 0.017084268480539323, 'ts_avr': 0.0013687834622006546, 'loss': 0.8416765928268433, 'q_mean': 3.352484941482544, 'num_update': 4553, 'update_time': 0.0009639561176300049}\n",
      "{'ep_reward': 18.0, 'episode': 400, 'epsilon': 0.3333333333333333, 'ep_avr': 0.017251707352697848, 'ts_avr': 0.001383372641591183, 'loss': 1.0073063373565674, 'q_mean': 4.1950297355651855, 'num_update': 5798, 'update_time': 0.0009619295597076416}\n",
      "{'ep_reward': 12.0, 'episode': 500, 'epsilon': 0.2857142857142857, 'ep_avr': 0.0148869688808918, 'ts_avr': 0.001325660274695542, 'loss': 1.1069000959396362, 'q_mean': 4.811143398284912, 'num_update': 6919, 'update_time': 0.0009571090340614319}\n",
      "{'ep_reward': 12.0, 'episode': 600, 'epsilon': 0.25, 'ep_avr': 0.01485065795481205, 'ts_avr': 0.0013841106604182976, 'loss': 0.8155822157859802, 'q_mean': 5.489501476287842, 'num_update': 7990, 'update_time': 0.0009628832340240479}\n",
      "{'ep_reward': 12.0, 'episode': 700, 'epsilon': 0.2222222222222222, 'ep_avr': 0.015038106963038445, 'ts_avr': 0.0013771148723199828, 'loss': 0.7456523180007935, 'q_mean': 6.013716697692871, 'num_update': 9080, 'update_time': 0.0009583607316017151}\n",
      "{'ep_reward': 10.0, 'episode': 800, 'epsilon': 0.2, 'ep_avr': 0.017115365378558636, 'ts_avr': 0.0015051615723954423, 'loss': 1.957756757736206, 'q_mean': 6.420927047729492, 'num_update': 10215, 'update_time': 0.0016266964375972748}\n",
      "{'ep_reward': 8.0, 'episode': 900, 'epsilon': 0.18181818181818182, 'ep_avr': 0.01586513750255108, 'ts_avr': 0.0013500877226506759, 'loss': 1.2380460500717163, 'q_mean': 7.117758750915527, 'num_update': 11388, 'update_time': 0.0009720809757709503}\n",
      "{'ep_reward': 9.0, 'episode': 1000, 'epsilon': 0.16666666666666666, 'ep_avr': 0.01515975784510374, 'ts_avr': 0.0013883267623295479, 'loss': 1.4317233562469482, 'q_mean': 7.427616596221924, 'num_update': 12478, 'update_time': 0.0009585991501808167}\n",
      "{'ep_reward': 10.0, 'episode': 1100, 'epsilon': 0.15384615384615385, 'ep_avr': 0.014712921380996703, 'ts_avr': 0.0014323615555356189, 'loss': 2.4269511699676514, 'q_mean': 7.878874778747559, 'num_update': 13503, 'update_time': 0.0009611994028091431}\n",
      "{'ep_reward': 64.0, 'episode': 1200, 'epsilon': 0.14285714285714285, 'ep_avr': 0.03754790119826794, 'ts_avr': 0.001279780902387908, 'loss': 2.036907434463501, 'q_mean': 8.997586250305176, 'num_update': 16434, 'update_time': 0.0009604468941688538}\n",
      "{'ep_reward': 36.0, 'episode': 1300, 'epsilon': 0.13333333333333333, 'ep_avr': 0.05505926202982664, 'ts_avr': 0.0012043968345415363, 'loss': 3.2277896404266357, 'q_mean': 11.418619155883789, 'num_update': 21002, 'update_time': 0.0009798035025596619}\n",
      "{'ep_reward': 50.0, 'episode': 1400, 'epsilon': 0.125, 'ep_avr': 0.06846673872321844, 'ts_avr': 0.0011974142601607269, 'loss': 5.699112892150879, 'q_mean': 14.365293502807617, 'num_update': 26716, 'update_time': 0.0009801946580410004}\n",
      "{'ep_reward': 73.0, 'episode': 1500, 'epsilon': 0.11764705882352941, 'ep_avr': 0.08410519398748875, 'ts_avr': 0.0011833384465234776, 'loss': 4.353913307189941, 'q_mean': 18.63027000427246, 'num_update': 33819, 'update_time': 0.0009696148335933685}\n",
      "{'ep_reward': 174.0, 'episode': 1600, 'epsilon': 0.1111111111111111, 'ep_avr': 0.1441192263737321, 'ts_avr': 0.0011690299373892216, 'loss': 6.229769229888916, 'q_mean': 24.83343505859375, 'num_update': 46141, 'update_time': 0.000958465039730072}\n",
      "{'ep_reward': 136.0, 'episode': 1700, 'epsilon': 0.10526315789473684, 'ep_avr': 0.1526063610613346, 'ts_avr': 0.0011720422850568229, 'loss': 3.868013620376587, 'q_mean': 31.7125186920166, 'num_update': 59155, 'update_time': 0.0009745955467224121}\n",
      "{'ep_reward': 188.0, 'episode': 1800, 'epsilon': 0.1, 'ep_avr': 0.18684903997927904, 'ts_avr': 0.0011554256333252547, 'loss': 0.31694406270980835, 'q_mean': 37.2813606262207, 'num_update': 75319, 'update_time': 0.0009658411145210266}\n",
      "{'ep_reward': 200.0, 'episode': 1900, 'epsilon': 0.09523809523809523, 'ep_avr': 0.2260143619030714, 'ts_avr': 0.0011568766101410354, 'loss': 2.6306540966033936, 'q_mean': 42.2734375, 'num_update': 94847, 'update_time': 0.0009608194231987}\n",
      "{'ep_reward': 200.0, 'episode': 2000, 'epsilon': 0.09090909090909091, 'ep_avr': 0.23090479258447885, 'ts_avr': 0.0011540094383060931, 'loss': 0.19083204865455627, 'q_mean': 59.43941116333008, 'num_update': 114847, 'update_time': 0.0009957924485206604}\n",
      "{'ep_reward': 200.0, 'episode': 2100, 'epsilon': 0.08695652173913043, 'ep_avr': 0.23027920067310334, 'ts_avr': 0.0011508921794593334, 'loss': 2.253459930419922, 'q_mean': 72.47383880615234, 'num_update': 134847, 'update_time': 0.0009607002139091492}\n"
     ]
    }
   ],
   "source": [
    "# Trainig takes approximately 40 mins,depends on server\n",
    "t.train(agent,  cfg_path=Path().cwd()/'cfg'/'cartpole_dqn.yaml',) "
   ]
  },
  {
   "cell_type": "code",
   "execution_count": null,
   "id": "9a9a1164-6330-4e45-ba52-1a84d8a91001",
   "metadata": {
    "tags": []
   },
   "outputs": [],
   "source": [
    "# Visualize the DQN training plots for the cartpole task\n",
    "t.plot(save_name='cartpole_dqn.png', cfg_path=Path().cwd()/'cfg'/'cartpole_dqn.yaml',)"
   ]
  },
  {
   "cell_type": "code",
   "execution_count": null,
   "id": "09736f3b",
   "metadata": {
    "tags": []
   },
   "outputs": [],
   "source": [
    "t.test(agent, cfg_path=Path().cwd()/'cfg'/'cartpole_dqn.yaml', cfg_args=dict(save_video=True))"
   ]
  },
  {
   "cell_type": "code",
   "execution_count": null,
   "id": "6c63b5ce",
   "metadata": {
    "scrolled": false,
    "tags": []
   },
   "outputs": [],
   "source": [
    "Video(Path().cwd()/'results'/'CartPole-v1'/'video'/'test'/'ex4_dqn-episode-9.mp4',\n",
    "      embed=True, html_attributes=\"loop autoplay\") # Set html_attributes=\"controls\" for video control"
   ]
  },
  {
   "cell_type": "code",
   "execution_count": 9,
   "id": "004fa76f",
   "metadata": {
    "tags": []
   },
   "outputs": [],
   "source": [
    "# init agent\n",
    "with open(Path().cwd()/'cfg'/'lunarlander_dqn.yaml', 'r') as f:\n",
    "    cfg = t.Struct(**yaml.safe_load(f))\n",
    "    \n",
    "agent = DQNAgent(state_shape=cfg.state_shape, n_actions=cfg.n_actions, batch_size=cfg.batch_size, hidden_dims=cfg.hidden_dims,\n",
    "                 gamma=cfg.gamma, lr=cfg.lr, tau=cfg.tau)"
   ]
  },
  {
   "cell_type": "code",
   "execution_count": 10,
   "id": "d3775e17",
   "metadata": {
    "tags": []
   },
   "outputs": [
    {
     "name": "stdout",
     "output_type": "stream",
     "text": [
      "Numpy/Torch/Random Seed:  436\n",
      "{'ep_reward': -489.08022834697204, 'episode': 0, 'epsilon': 1.0, 'ep_avr': 0.01500418409705162, 'ts_avr': 0.00011701661607493525}\n",
      "{'ep_reward': -154.45575037013953, 'episode': 100, 'epsilon': 0.6666666666666666, 'ep_avr': 0.21272124864161016, 'ts_avr': 0.0019643704089579465, 'loss': 27.776859283447266, 'q_mean': -10.064733505249023, 'num_update': 9981, 'update_time': 0.0020054765045642853}\n",
      "{'ep_reward': -13.37975108053071, 'episode': 200, 'epsilon': 0.5, 'ep_avr': 0.40657139252871277, 'ts_avr': 0.002112967335870403, 'loss': 14.9912109375, 'q_mean': -7.065962314605713, 'num_update': 29195, 'update_time': 0.0019054785370826721}\n",
      "{'ep_reward': 69.00590836008824, 'episode': 300, 'epsilon': 0.4, 'ep_avr': 0.6525714273750782, 'ts_avr': 0.0021045870140219427, 'loss': 9.034385681152344, 'q_mean': 1.586045742034912, 'num_update': 60172, 'update_time': 0.0017243213951587677}\n",
      "{'ep_reward': 10.002263200800641, 'episode': 400, 'epsilon': 0.3333333333333333, 'ep_avr': 0.8765325840935111, 'ts_avr': 0.0021863663407513784, 'loss': 13.801616668701172, 'q_mean': 16.46843910217285, 'num_update': 100231, 'update_time': 0.0019351951777935028}\n",
      "{'ep_reward': 26.53483543306517, 'episode': 500, 'epsilon': 0.2857142857142857, 'ep_avr': 1.0187778452038765, 'ts_avr': 0.0021284160440425874, 'loss': 4.734366416931152, 'q_mean': 22.851451873779297, 'num_update': 148064, 'update_time': 0.0021000877022743225}\n",
      "{'ep_reward': 106.85332865179906, 'episode': 600, 'epsilon': 0.25, 'ep_avr': 1.064914202541113, 'ts_avr': 0.002191359160776716, 'loss': 28.920551300048828, 'q_mean': 29.979839324951172, 'num_update': 196625, 'update_time': 0.0019486993551254272}\n",
      "{'ep_reward': 102.28432595578595, 'episode': 700, 'epsilon': 0.2222222222222222, 'ep_avr': 1.0514567644521593, 'ts_avr': 0.0021513222093337303, 'loss': 3.798222303390503, 'q_mean': 34.393333435058594, 'num_update': 245467, 'update_time': 0.001825772225856781}\n",
      "{'ep_reward': 109.79814795795599, 'episode': 800, 'epsilon': 0.2, 'ep_avr': 1.0997760525718332, 'ts_avr': 0.0022393087101670807, 'loss': 2.770263671875, 'q_mean': 38.55300521850586, 'num_update': 294544, 'update_time': 0.002111632376909256}\n",
      "{'ep_reward': 86.89946099223539, 'episode': 900, 'epsilon': 0.18181818181818182, 'ep_avr': 1.0391793632879853, 'ts_avr': 0.0021661900702239605, 'loss': 2.4324536323547363, 'q_mean': 39.64115524291992, 'num_update': 342482, 'update_time': 0.0018119700253009796}\n",
      "{'ep_reward': 267.2634097919158, 'episode': 1000, 'epsilon': 0.16666666666666666, 'ep_avr': 1.0499672923237084, 'ts_avr': 0.002172709932953494, 'loss': 4.623049259185791, 'q_mean': 38.67831039428711, 'num_update': 390775, 'update_time': 0.002101082354784012}\n",
      "{'ep_reward': 91.99557798915639, 'episode': 1100, 'epsilon': 0.15384615384615385, 'ep_avr': 1.0275104949995875, 'ts_avr': 0.0022418765668266376, 'loss': 2.451835870742798, 'q_mean': 40.784584045410156, 'num_update': 436576, 'update_time': 0.0019209980964660645}\n",
      "{'ep_reward': 146.64523858036608, 'episode': 1200, 'epsilon': 0.14285714285714285, 'ep_avr': 1.0116118650510908, 'ts_avr': 0.002194646008124432, 'loss': 5.441307544708252, 'q_mean': 45.54737854003906, 'num_update': 482640, 'update_time': 0.0019910521805286407}\n",
      "{'ep_reward': 264.0737160624951, 'episode': 1300, 'epsilon': 0.13333333333333333, 'ep_avr': 0.9611664916947484, 'ts_avr': 0.002154731987168531, 'loss': 1.7808172702789307, 'q_mean': 44.4569091796875, 'num_update': 527215, 'update_time': 0.0019227080047130585}\n",
      "{'ep_reward': 299.90286568413, 'episode': 1400, 'epsilon': 0.125, 'ep_avr': 0.8557128144800663, 'ts_avr': 0.0021265293568911567, 'loss': 1.5148714780807495, 'q_mean': 48.74836730957031, 'num_update': 567424, 'update_time': 0.0018557049334049225}\n",
      "{'ep_reward': 163.8954821732979, 'episode': 1500, 'epsilon': 0.11764705882352941, 'ep_avr': 0.826106388233602, 'ts_avr': 0.0021861238366779174, 'loss': 11.587559700012207, 'q_mean': 50.42975997924805, 'num_update': 605183, 'update_time': 0.0019297637045383453}\n",
      "{'ep_reward': 247.9428522649312, 'episode': 1600, 'epsilon': 0.1111111111111111, 'ep_avr': 0.7213595506548881, 'ts_avr': 0.0021783251132384265, 'loss': 1.1163609027862549, 'q_mean': 53.95981216430664, 'num_update': 638268, 'update_time': 0.0019080191850662231}\n",
      "{'ep_reward': 164.74907959590385, 'episode': 1700, 'epsilon': 0.10526315789473684, 'ep_avr': 0.7690255996957421, 'ts_avr': 0.002178149803821153, 'loss': 1.049153208732605, 'q_mean': 54.03112030029297, 'num_update': 673545, 'update_time': 0.0019378364086151123}\n",
      "{'ep_reward': 163.0724358065104, 'episode': 1800, 'epsilon': 0.1, 'ep_avr': 0.8048987251147628, 'ts_avr': 0.002203837892536373, 'loss': 0.6495519280433655, 'q_mean': 58.246734619140625, 'num_update': 710038, 'update_time': 0.002521280199289322}\n",
      "{'ep_reward': 266.73720217792334, 'episode': 1900, 'epsilon': 0.09523809523809523, 'ep_avr': 0.7394633840397, 'ts_avr': 0.0021988485714731117, 'loss': 7.351023197174072, 'q_mean': 57.454986572265625, 'num_update': 743638, 'update_time': 0.0019312500953674316}\n",
      "------ Training Finished ------\n"
     ]
    }
   ],
   "source": [
    "# Trainig takes approximately 60 mins,depends on server\n",
    "t.train(agent, cfg_path=Path().cwd()/'cfg'/'lunarlander_dqn.yaml', cfg_args=dict()) "
   ]
  },
  {
   "cell_type": "code",
   "execution_count": 11,
   "id": "3e2a7511-d1aa-4691-be76-406dbccdc739",
   "metadata": {
    "tags": []
   },
   "outputs": [
    {
     "name": "stdout",
     "output_type": "stream",
     "text": [
      "Numpy/Torch/Random Seed:  436\n"
     ]
    },
    {
     "data": {
      "image/png": "[encoded data removed]",
      "text/plain": [
       "<Figure size 640x480 with 1 Axes>"
      ]
     },
     "metadata": {},
     "output_type": "display_data"
    }
   ],
   "source": [
    "# Visualize the DQN training plots for the lunarlander task\n",
    "t.plot(save_name='lunarlander_dqn.png', cfg_path=Path().cwd()/'cfg'/'lunarlander_dqn.yaml', cfg_args=dict())"
   ]
  },
  {
   "cell_type": "code",
   "execution_count": 12,
   "id": "ba2808d4",
   "metadata": {
    "tags": []
   },
   "outputs": [
    {
     "name": "stdout",
     "output_type": "stream",
     "text": [
      "Numpy/Torch/Random Seed:  436\n",
      "{'episode': 0, 'ep_reward': 290.1270265065841}\n",
      "{'episode': 1, 'ep_reward': 272.7290723291328}\n",
      "{'episode': 2, 'ep_reward': 291.50858870267933}\n",
      "{'episode': 3, 'ep_reward': 301.45779154667525}\n",
      "{'episode': 4, 'ep_reward': 264.0151599180497}\n",
      "{'episode': 5, 'ep_reward': 297.12570718572147}\n",
      "{'episode': 6, 'ep_reward': 285.49152792074506}\n",
      "{'episode': 7, 'ep_reward': 179.84399162177476}\n",
      "{'episode': 8, 'ep_reward': 294.6343321962571}\n",
      "{'episode': 9, 'ep_reward': 263.55918976486305}\n"
     ]
    }
   ],
   "source": [
    "t.test(agent, cfg_path=Path().cwd()/'cfg'/'lunarlander_dqn.yaml', cfg_args=dict(save_video=True))"
   ]
  },
  {
   "cell_type": "code",
   "execution_count": 3,
   "id": "e34889d9",
   "metadata": {
    "tags": []
   },
   "outputs": [
    {
     "data": {
      "text/html": [
       "<video loop autoplay  >\n",
       " <source src=\"data:video/mp4;base64,AAAAIGZ0eXBpc29tAAACAGlzb21pc28yYXZjMW1wNDEAAAAIZnJlZQAAvdBtZGF0AAACrwYF//+r3EXpvebZSLeWLNgg2SPu73gyNjQgLSBjb3JlIDE2NCByMzA5NSBiYWVlNDAwIC0gSC4yNjQvTVBFRy00IEFWQyBjb2RlYyAtIENvcHlsZWZ0IDIwMDMtMjAyMiAtIGh0dHA6Ly93d3cudmlkZW9sYW4ub3JnL3gyNjQuaHRtbCAtIG9wdGlvbnM6IGNhYmFjPTEgcmVmPTMgZGVibG9jaz0xOjA6MCBhbmFseXNlPTB4MzoweDExMyBtZT1oZXggc3VibWU9NyBwc3k9MSBwc3lfcmQ9MS4wMDowLjAwIG1peGVkX3JlZj0xIG1lX3JhbmdlPTE2IGNocm9tYV9tZT0xIHRyZWxsaXM9MSA4eDhkY3Q9MSBjcW09MCBkZWFkem9uZT0yMSwxMSBmYXN0X3Bza2lwPTEgY2hyb21hX3FwX29mZnNldD0tMiB0aHJlYWRzPTEyIGxvb2thaGVhZF90aHJlYWRzPTIgc2xpY2VkX3RocmVhZHM9MCBucj0wIGRlY2ltYXRlPTEgaW50ZXJsYWNlZD0wIGJsdXJheV9jb21wYXQ9MCBjb25zdHJhaW5lZF9pbnRyYT0wIGJmcmFtZXM9MyBiX3B5cmFtaWQ9MiBiX2FkYXB0PTEgYl9iaWFzPTAgZGlyZWN0PTEgd2VpZ2h0Yj0xIG9wZW5fZ29wPTAgd2VpZ2h0cD0yIGtleWludD0yNTAga2V5aW50X21pbj0yNSBzY2VuZWN1dD00MCBpbnRyYV9yZWZyZXNoPTAgcmNfbG9va2FoZWFkPTQwIHJjPWNyZiBtYnRyZWU9MSBjcmY9MjMuMCBxY29tcD0wLjYwIHFwbWluPTAgcXBtYXg9NjkgcXBzdGVwPTQgaXBfcmF0aW89MS40MCBhcT0xOjEuMDAAgAAABwVliIQAM//+9uy+BTYUyFCXESzF2kpwPiqkgIB3NPoePsqalDRmAN1dcCZqcy51MBjVOGaXlg7gp0uQSNacf4w0Wi43Q7vO19VjJD4+SCriHA/L33XD8CQOXYKfTNZBIjI4IAqgvDyVnZGVCz87VtnwegUSTH6byMbzo0EQ4QRa/buDX/7K59K4xPRe98EshPhO2UkjGgDsnnFlfcCKzcBkpExOLe9+s8111L3562MCNpTnPzdf7rpw65Gib1H6mlnmnU3Y3etspFlyl04r+j4JmKnE43JC9rbSVDEAAAMAAAMAqMTuld+gaIpV58bRZ8gADBB8z0WDtDCjHDmEcHsN4co3SHF0BeDFDvptphjwKygLSUOufJAqJlaeQNlYBVcsXv07GDwRKqcjb75t9SzMKuRbck6pd680rvzSA96JcHxoRkAcodiFMk6wyKqpdG5mEgNIPj3kME/9mCGlqRUP9ZgoscPQLsyfe8Ei8xM30t/r6DMauBW6ggGTq/R2+qm0KaBMJNElO6EfUaLs5Qx0cXICHk9NwgXYcIjiIguBw0KPL08sVlhysyuK/H6tkJ1ublLF46TIvfbUdbsctCN7biZ6gKP37jbXHYVdAtuo8A9PX9VUAEh3xTRk67gH978KMWCEKdhuM9b6tn7OL93VZL8HoesACw+SVmBJOI/bqfHq8C02BcXEACYafG28Vtwsgdm6jG4Crkl/a6JPYkefTgyWPOjuHmNUXpW8w4yqjOrg6oWMHQsvtT/Km2BixYzvaRvcgHq5Pf8Tqqg9/frCH+YGl37ZMi0pFhxLlyZEefcrKPEiNZB6ULofESA6PmmhMo5IbBY/dxepJO1f+bJY0S/Z3YtVGJISImuR0aT5mNXm3D5mx7zt8a40Kpsv0JJ3HxZIcs46pxHvIuNzXBxfAnjCplJm34lLh/3H+XdC1Ntnq2oMde2ps8Xtywx+GMPk1S2PvFs6f01FG85iRdtqt0WIc9C3hgfbeBkS6jTmlJMhEgv1f8SPDychf0mqsXfP1/AKtvgdZ9ZHZW4xYhc+POZCjl6/XYfjv7bys+pIy1swHaL1Ldp8tB8Omkfu8LG56630ucK1IbixLn8jvC2fv3AGCWUrkeE8c9v293CoPMDE7BI1aVbpf4NXM4Dlu58h0ixmzFq3sO/U99RsoVbcH7h5iZQxJhOE4CNoVkFJqU7rZH8gUUij/wp+U7xMhoFI2C99i9zTJigercLFiBVqNNi04yhSvF5pwmuBxwOknvK4uDv7ZD/C3xGo8FD8UFstYbNxx20cxM7CcB2HuRem0Ujpk0UVBXrkS9b8fc+s1/DtzJWxTR5nla2It2gpGC3xubNeEXtG1ZI+W/mFDFvtak/SdX7/qxtViRETArHSafSgPkTnCTmkIudUCP5UHHzbTnA7V+ndbLCXsUV2v/vFvDvDtZZ22Q73faPVSU5DSBhukrGQ8FERQW8o8mID3iJvGAm7PyCCV786emujP2P0SPwSkVVRuXdQB3faXnVf611wECficczns52+2ar/+jxzud9gJEg/2MZAFcRoC1f+Ujz/wGyZPXxywWMrSSy7H7P5xiPFh3KlClkrWJqwEutXw1qAkQgK+ulOSrHUnQMGago58aNTLpx2H1LngLDS4Z0o92LRreOcMaGy2wSBGESlDuVaqu916aYjILN/JV3AcQdaUx8WIu+sFq/K1MXlpfTn6cx+fPRhy4ffJr5lDvi5YYzyI1GV1Dc6FoqUw6/vcMiskUpM1AfVR+8YRp0GxIcDYPgCBK1C2jflC8EeP+08odVSehxHxlvg0waV49+6ArSpZOGCsRL9zDM7CxhIK2m9FwsO46o1hcVnfBwpY80lhiavHmJ0KX5frS22Ys8UiSOZx/v/LwkrLFOuSfz3GTC8CuCYs1MkPTc2PR/d6RO0aMsHYmls7gcZjcvAXfcd4x/EHrK5rh6bjx0CjGABIEBGaV2j+980DpkwEokcaP0BE2F2tMdf24fj7d6DG5NWk65B5U7r7K1TQfPBCQ39I2QeIFoeJf3hCIDuLsU/v5Md7iG/0X+TywulGCYUTFHRzE2X6UVpD3Aw0LX7FbLyO3rkCG5pS4+SVHjR1daP3cXILm4HJ0W4bKMlwieNopuQ5lwKb1IJhG+ADHf7AIJ0hcDP9IMdKdXmCyAufO3UTlbM6a+NZ2P1qm6TSnAXFG60ZeK109lszprUxU09Ux2+TEBqey2Z01cgQH0Y04pu30Z0+vdsYxKBeLHu0Ae5dViiKiTWhiiL69gbZYpnKOS2Tv4BcfrAAUlY96QqQRGMlOXUIjtJNldjUedkqhUR6j00pPx4tS6Gglfs5rHDqJOy6tUHbogX8/yMOg2v1g2HmQ20BnmbUvDIvt7Y6oLeAAADAAADATUAAADjQZokbEM//p4p3/ip2aWqf6QAOZ1Ffir4Ydx+Fe+DZeJQF9YBU4wRdqPpY778ipqK8YAAAFZd921TLSCVqXCDvsBJdbqCy59pSkuA9ocAtBe2Y3pqea64LnBJIwOMpToa+mT4HkOc5QrycCfZlPBP48/2d1DlizpRFrD1hV+NdTe83AyV2FP0mJTW2YrpG+y66RtTC8j6K76l63rsdn5mdj7I2MC40xADvhhWfnFI65tU1HMMPngl6VE4ahKX3TnoFGnRrhQNty/Dt1eSEuGPrFfGhbbISAtUwXARDgLeLWQAekAAAABGQZ5CeIR/EU8WODz52R2EENEVTYkQAsaW76KAA01Og5qaJStdgQCJGaC2+AgKBkzF9uNeiyiHgn/zyzpYIIXP3J51pTwE7QAAAD8BnmF0R/8Ux21SN9lShRMrAAJfF9l3QK0EVCV1c6DWAAmp1Tj/q0KRyVwj6ywv29lXRJxXAq59aPYQvaAAakAAAAAxAZ5jakf/FydoSsz9KtI1pyBFrKy9FAAaZSeb1J2TkZbZ3ioY0rrGqM0wD3sNt4D2gQAAANtBmmhJqEFomUwIZ//+njv/qPqUFAAmSIgtQzXZ/NN50kKEP9OWs5eTQq3yYz09GtwAQqI88AAAAwAI3ae7aplkeONhERSF0gTJ/IFo+YrlaFNoaO9jNVz0FZBgpX+jCsP0moanqK8YTcy9vAWM5Nxg1maV14tuu6GbPHlDURHPep92PCcftNlxSA/hmKFwsDqmNG0N3ilAagUn1fDxywEowExhq2pzgKZPeqBxSuAktKxmmERfhLu76u0UYAcf+Lgcl6DiE1BAyqpveZIhQyjFtfkQH4mB1EggQcEAAABGQZ6GRREsI/8RPNhwIa9ABaAVE1xCBjbZcxjDMz5tVgXTGp8ZUSkdfXx/BaABIUdo5nX0RVfXdPvZLz02efl8/twEPrA0YQAAADMBnqV0R/8WA8tV8geJULRwf4MwBXAA0znedbQM4/EHXfB20/FXxACHt8ClDv5icUugDbkAAAA1AZ6nakf/FvrzosAQmxOG5Y9v18MtGBIt8UEoAHmciOE9AT6Og7FWMRk4dlPvF6TFSEnIYsAAAACGQZqsSahBbJlMCGf//p45/sTwvhSq81OjyGJKAFouns1b2accpFj/ERcxFGzZleSSo+fNFDufsc1jAAADAAAI6vfdrUqikyt4wUuoCY1wv0CYhWSoL19UcPpXxoDab1KxNkQQkVcLdsmPMdiM7hHz116vskScVkTmbcrVvVIj8ZvhNMWAGVAAAAA8QZ7KRRUsI/8Q+bqYIp5gArOPZ9InuBkWjhqdpwAZ5bCgL2ABkmSVo/Sh/qtj0GSBvangFEkkTnTDEVHVAAAAJQGe6XRH/xbg7J8imOneaqFdJlWNAAO2xU3/zXkSuceydHKMS8AAAAAhAZ7rakf/Fx5wDOOO0HABUMIN3JJ5IVNNKNXi9HQ5w8VcAAAAgkGa8EmoQWyZTAhn//6eUW2nABweOXcSs28YbEW8ShuXlkwd8FKBwFLMMFIfFeFt5/aKAAADAAADAB5Hdd7WpVCzz1e+Xbj1vHTeexunmm+PK4uHtxk1h+ToWyJ8amuWBDECV4x9Q+9G7i5y6IUlSwfYZMujEsAqOU9fIijBFygdAMEAAAA6QZ8ORRUsI/8TojwF0ptacHdwjqAAVoa4XpwbWr5vEnCqHAPjwkSXAwNPEU4w5oX/BjXeOtvAjOwBqwAAAB0Bny10R/8XJUsmfKHPIAFPzwxk/4g0Oy6D9JkKCQAAACwBny9qR/8ZZB8IgxWfQEWswAjIDcetqGCLsfQGP97q4JEg47DLk8HJOgB0wAAAAIxBmzRJqEFsmUwIZ//+nlNmkbpmBwAmW6LMRIxkefPLKK/QSyw/SP3AThwGcM8KdxqSoHsQtZOdl3plZ6NWAGZdIAAAAwAAGBjvu2qZY0Kupq6vRTyBfVviULt/aO8btMN79Mq6YaoKcwh6bJulbGmPIPlfFuYXUO0EP+y3kI0zjBeu9dTFsPmM77IBUwAAAE1Bn1JFFSwj/xM92YPrAC3RUgBKvgAo/K7IIicVC3ijZNwYVsXeKPPQj2gA8xzjmM2ZqgPrLHTZWorR4xrvnMK+oIfvkFqo11EjCkV6QQAAACYBn3F0R/8ZoJbnR4Z744SVLQAAZx2oF7bsvX5fKtg2hlowkkAFlAAAAC0Bn3NqR/8ZKOCIdvuLLNXhJOjAAvqZpkzTkj/ZvKmqRy1wYUsOCpCwyoIAxYAAAACWQZt4SahBbJlMCF///o1E+OvCRu4ARgialLcIcHfXyLmKGsb2/zeZXajX5YVWpQrutnQ08aJT5fEG7Dc4GiPH4gkG323RJ5o5MXvNGYvpMqieD7ziW0RS2ol2jgz7dQ7+V93QY9LO/YxfuOUcbR6Sa/vUDiQBH6QT7HQ8r67OWJKAc+vwAA2It3UPDH6c4n5Y7akEWDEbAAAAPkGflkUVLCP/FjIFG2bUJgqyOsjWh4unmgAJisUhDtF1JYlaPaAAeachGkXJHP3l4mpAcDX9FVCGQsBHgDUgAAAAJQGftXRH/xk4lTFmJpwpwAWbs3iYopJOAAD6tCLc/hGVOpGqIi8AAAAwAZ+3akf/HKJ1wtC9ldQkX4ANbjM5Lv/OA8tFdhO4Uf5fdgACy9k8TRag+1YKw47pAAAA1EGbvEmoQWyZTAhf//6NQ5u6FGvDkYAHwHezMBGvp8gaEHR2hKATehuPepOlIm4peOZQe+UQEp+A1e4Tu0E3gvF9KAu4LtPGNSOdr+WgsJe+KdZTv3qRcvfNzAJJurBTN4VfwUOkF1FFbFXrATrCmQYDUG1U0dPuZMclGnwCGWCDJgL3wAAAAwDV5+bd3x2W4D5IBU/XTMtzt22pVHF61VQVsdw84qP/8RAeZUgc1eHeZYxigJeAT8o+o1x7i90W8lUeb2gVYnKDZ35LUgsJcW3RoayoAAAAUUGf2kUVLCP/Fb4wXy7h04ABt65UoDFkSnfq6JkvfrWEEx0xIM4HahGymsL18bySbnB4AvhvxRN3gSjGEH/J6/umsvRuN3pUtmZVToYBBwA44QAAACsBn/l0R/8cRVtGYvdWVnC0O20ALCh9Vd3xXCB3jOW4AbqCcB1G+sN82kM+AAAANgGf+2pH/xwgA6qD8ABIbv3cxfkZVFuHjBeHiAKhUWg4jPgNPYRrPIc9jtY9wvHPVulWrHABmQAAAK1Bm/9JqEFsmUwIX//+jcBl/Dzlf5kFE4wAQl+DLPeGD3TQ9HfcrXr1t/Wh4Q59Vb2Jm7mppu+ULmLKB5gqmRGrJyQ9L9O+GFJ2m+m/7+kqD0VKdviDmisq3oBtB5f8c4wUZvgoNx2kAAADAC/tY+khwpdscViDdVKb7ttSqCQTZ2h/RjQ6+thr1lgFoGgKD4b61ifHOea9fZxiVW0YaQvdaq91s7YFtJgKV/8GzQAAAEtBnh1FFSwj/xWrgXwOGljilkrvWSLFNUWkCxSYnUwtHixVKUoYgBpdhxvrxNFM1a1xUoASE3loio24QERtE3ap9hsMTrRhRVWkBSQAAAAhAZ4+akf/HFWxipZCFcWbdVuxnVExbkADNZBixkDR6DBgAAABQEGaIkmoQWyZTAhf//6NmIKhYIBATwKt8vf6HQx39lISbUXvnqCaPlA5Es96EiRmor0y0ttHJzsIhGJ41R2azAb3Twth5dZmsiJ+NlwMe8aKWre/fv1/H/OHYwrv0Qx44Egjaf+Al/0uvpYfcePbudbFYRKbIjI9rlO/aOfg1JNIl1m+uvWYosLYAAADAAARIIVK1wPO5eVsPy1Q6L8AZ+PYjZpsMTikAO1ccGSCO5FkSVppWgzE34Jwhhe/AdsTYB2e1CH/gkGXlwxOhy8HXVWgwQZ9LlfmemPfdtUyzb2Xo01CN5Lwq1geUWMI/H9x9DugIDoHZQ7kvG/0hNK9LHeHGKadYoZQnmTxJ47z95yf9GPPdnWTG9GUEJUdrN9IDA11WT7XbdBeYp8TtgOO9wP60NEGur9N7+jczpMCozPXAAAAWEGeQEUVLCP/GIrPOuU3MfEizMSkZu5oAGvoa+M8NppCpZbmVKaywa21HPAUL3dU+vrdmiZEgSsluqv5he1Br9f2w4SJ/QcAFb6LHWEv70sdaED01eGAFBAAAABcAZ5hakf/H64FazLKLSAAmWpHC0rfYSUEWvp+X9hP+s50k2bawmUcGZaNFkFT/XnhIjXWdnTKIVX+nKxIxf+eiCGVXaYzffZhrYQAOO9GcYzoJEweS0n2iVsoO6EAAAFaQZplSahBbJlMCGf//p71Xl0YwArLnQ3X2+dVdPwSuARN5Dt01defJD8VurOWZM+cMFAKiDSZcr6Q8Ug7ljhDS+UNnpCUtl0hcXdWXQ6c3e3EnbdfxGj9XtiNN3A+b47N7haQ+loLH6D3T/bMgAAAAwAEF9vRLSrO5YnTzV7moBjnX3pcauGXWufVjFm202xi+E0I0BNQsNiDSclUNDsnWkas4TqxC+t8GD0/3tcg/012jwEpZe97tqmWZ2vONqsIdd5RgE02x5kzdzVTCz8ThxDHiBjmuBP9cQ4K9NJYb6VnKAbnuH5E0Oi7XO0NqPPw0ssf/irFF5H+lIF/5lNtb3soyG/1HKlLeNm/YRapZbNcGdCr/78F385FIX/i5tdZyvkLugtud4LgOKkuneUYQ/Gg6qQZeAqKhCcylvJ8PRpRsHu8CeopQqmDeM5IK8qhD4keK8lnKTCtgAAAAJ5BnoNFFSwj/xkcd4AHCfDzVn/vaAD3lkOOPBnk05hnXihfSj4Pbwh2JA82qRICRy/1MZrxc4gzXs+5qVe70+F7CoHIFpVoxS2jXOPzlVMDtmKbB4BIehc/Z0xplpqUdRnHzZhvKPjm1Lo4EI9LTvpmIPwn1IuHwSA8RZgld0/aeHjVD+ipgAADgU9WclOcLDo21w5fuckEyRwJDIAWUQAAAKsBnqRqR/8gS5EdABwPKe8mE/6gZ0+1/nu8Wzd1AriwrQ7meu1frBkoFszOKLTu20tzyq5OqgwQenv/rSl9E8W1us92uK7p/YJp1zDrkMWy7+KqJHmg2W9vMh060imUynZRnDCoUDcyjBmsu3HUhLtXCHunX/sKxfpmvUGkCSAk/tAt7US+xTr/zn7Ek/ldXqTsrT8vF56agAh+/MSQFushAPo/HQhicKTAbMEAAAFQQZqpSahBbJlMCGf//p7ZPl1/ZpADpHtw75kxOPuxjc1HSUcjy0p83wP8NBu48N+wikd524RLpSZh6ftGRLOcO9MKh07339WlT+38qjoQVjkl/hHOfCez4N3ChKNHjzUJmKZt1AzkA8uz6XwXNHQKshwAAAMAAAMAe88gTudHLXEoah0lxNP9fS3UtxjCqe5m0Nt4jxD5g1vzSKm0E3jNpuUPml1xYzN2EjPPWK+99xlAw2pVKyrItpeBsmY09iqFC139tns1vanZJgtNxjHlTT9zguGl7l6EYgAAC/KoesJ8wfLisKgvv7mf/oUboEFmgEr15F5R+FQnFIgCiYjJL46o7tgbcCltv+2H2Qfxo0N7rS0b2KdzL1iI24jlHo0Nh/LBo1lrulqygV66qwOP/rBjUH76fNlW+4SnUr3pdBvAifpv3rQCIbB+p/soDwy3AAAAskGex0UVLCP/GN4wQC9z4H0bYwwATh76vZMlLsNw5wo5Cpax21HlGS87SZkfasFM1kYFaybp2bxP9H4LqqO/Kwxu49WhYXL6cPGBjIzUbkv1Q4YcvkLHt92HQn7XjGG+OcvenAXRXO16pa5EmJ4eanXMYrLA1x/YBJC5+/TWixSMcwxe1IOYOz2dI5yvTHeJULgmPciol1y9TZAv342al2h0iLtHic4VCbi7qzLNgIoucUEAAACvAZ7mdEf/IED35zGGkwPuU1OXC8n9a7+b1soEIeOSZW98aJKjPSFLwBEekNz0lIEUH3SKvE8azW117KrpBMQ7W5Qe4HK422hyZ2owXUrcCj530nHOjEKg3oZfthtTMGfLeW27AofeIyeeRdKrc4lYW71hC60RF8CXBWG2glJBPnNuW5kNdX/EORtxTmeNltBOipWdmIuwaq3Bf0oBWYNF1qS8HW9TsJjbxgJ5rvyiHgAAANIBnuhqR/8gFf0o3ABxrla/g9wtjKF7sAeXdWTrOJjlMuCKVYnwrOo7PDtsNK+bE6pGTZhBeddHgi+BSjf6q36cC2jBF/m2sXuAImnN/SDxtu0Vq7nLEvf9iwkfBTae6T1iiw3IeyW6HikQfIYs1WytAaoFzbsObxpYNH9uidyIg69CaXVYIOn9abLbw3LFygl1eEv9zxnZ/C8cE1bI4M4yDVNbSUvmFAn6NTP8Ba/dntQpYHuBBESIUicqzjbt+IckV5+10AYiZ8VJvsrUAXcthqQAAAGyQZrtSahBbJlMCF///o2U5JqIyJg7mgGrqS8s6U/RZtwzVfL5FHfMpDapLXErL7Ji4GNaC7Vxz7MU384kRPzsF0Pkt+5iHPSdlBtUXGB6ao4lZQXp0XhTWFgMkPmuwxgAAAMAAqdPMD5DKPkT9AQ8QZ7OKQTikjp5krpgoBCU9FnnKqdqG1MVWRDtc9x5wKTNZ8buBzlFFVKAdFhO4Gr14JAw72u+OS9OEjV7Vea/wcsBdWiwb1UAvlirEuqg+oQCycueLhsbpSSTWAWkRP9Df3vu2qZYr8YWTQZG6jk6A4YNkUwsJSItp1iC5V92cxmhrtYslFmEXzLNlO8Z0Od0PVz6+ulU2PKORXmIlgZOhvak/ojQD060ihlNeI8VpI8ZjFRodvRzJqGSYSsTyh/JriZVLVFQ+3dx5f75brteVvjG7BhwGCCmrBSg8kX0446xBsvGkhcN7qSsUTqJsIxcSwqsDrDM87rqYyQD8sSPH5H/CxhtOXm5j7diJ37PXOGToPpjWsjU5kigIUcWfDuMRmSXdqPjZ4p+GgkblsjMBVJt+nylZ9U8wwXnnwyJx82oIOEAAADxQZ8LRRUsJ/8XGXqPB5avoRHDwmdzqsqOFz2QxyAKcayiHt9XlDnGMBGvRP7NccEWpqi4g5/bza8wzc4JfyTaZ1YYNT7oXh2yUOc2acbU/ia6JFqVjZbWEpIhBjUtGqg4ccqrS99QO9C92kkqzmwxEFarORwtHFCKR/2V6oqfQycal5iROavzvUKpqge6Da6vO5M16qOMY/oTyoYH/BRC+FLcQplESD2haAYokie04uTLrASRHx0siTWgnQ+ce27VbikmVc4qf8SPUCB2o6LWBHMVq2rjj3UqxM6R7sCNDt7zpMEp4sk8so9LcwHW4wATcAAAAMABnyp0R/8gbdFpHCdDRjZz9d1o4R8J3plAki2nS4ZoKlojqL5EsbYQOlQFxh/HgjPg1AENaG8T0iOzeztjTUK697qF6a7GGcJklh6HNFFkn3FOr+/5PbY4WP1BAOIgzKBD7s0jCCOzKseMJI9gRkKzgSGcg6+4vMKVFzOKhlbtCUXDklhZaXv1UgWVBJo/7Nz2//fcvbvt/LRZ7lWjPJjUU1FmKCpym5LcA/QNh3jO25bG5A1ABG5dIPBp0zp8mfAAAACgAZ8sakf/IBWuA4s9buBBR6r3nhVy71rnrQACcX0WIYBfU/ND7r82r9Wcr6ZUQbd3o1DfMF4fxpQRTaj2MQftMTN8n4QnziFJMeVV6LhDXwqPW8mjjZL54sq1wg1VwQA3yecXsDOhwb3JWNutOUweDJyJVqwMMd3L2W1K1j4z+GluHKHyKvE17F5wI7vO6HZeP0u4CSQqupFWhSFEyZZi7wAAAX5BmzFJqEFsmUwIX//+jbM7TTMpljgBYKLhMhwAd7kt9eRhv9RRhSWkZ5tuxspZosRMUtV4vh+E5lSYz9nKxxdhuTdMEWxvGzFKPL9AAAADAAoWl6M6wtMbXQk/rfvoUlB4WPzSqKs544NoLECCyofvI7mtM2q18DENs8ABeiWG4Ygm+0An4gmCHYYGO+7WpVCwjR2faWeMttc0oXYg4/qIhCBEEMvnP4vl2y2nBSqVuS79D/3iaXopFkkGrzD6CHgpv2nGUE8hD4SBoralzORwrH8Mh4bIdf8k8qXLir/2oP4/txfa3H/lIdUDhVzvHSK9Tf92mYyx19Tl7nw0HL56dPdxoWz5mH2NFP6MG9oLIv6SJzrOP7uK9sweoKQexutaz9xBhwIGoF2V6M3F0Yp7MppgbqiIkDSHssFo5Ro4rd6Tm+XsLDCcTwR2YgNSdjjmUuTvbtpyt+EKobojHJQAtaTYIAKCok823Xrw6iK7pdSvvc2gkNxnhioJsHdBAAAAlEGfT0UVLCP/FxZVX/R+zle8fBi8rWP4cjKwoiI9p+dFvRGTk6T4AdsAW8pIBtZ/g1Vvsb/mzevCxzkRwkUsbvUzMOb0AdtDRm2g3YO80A1ydp1AQkGKh9LKhZ4jC8/Os/TIB68Irg1RfuARoMUaiC//wa1CfIqDhH72hXAwC7tt0C2AmV/07mJs93bjNqD1AtcoApMAAACWAZ9udEf/H6P+UWuRFZHlE2cqXs+J+ABb27xtNM6UtmSE7JMI/2+lSeRMCB9lfaj9u5T1DPXh7A+jQ+BDWLkjYumTZpQv9NEQqWZD4+TSaSXLVkjMk4FxNUC5ySSOYcbtpt3AJkYXLCH9hMbxRT6R7pEoS4AIwKHi0p05xrxQNID0K11HCuNjWWppWZ96JEiJO7Y0FgtoAAAAkgGfcGpH/yAUDrrO2oINyd9Kh0p+zeWxIiDbh0GD+LwIyoytbjmGH47Haf/PNIkIlaCF+/s7bJWKZw1QA15bU2BGiSNo02XCRaHJ9a9grSOMOWO7NtmLSP1JGFyQjjnDh0U0bPPviEO41nnKM3FXVa0SEephzHiJML66axCgfBmVrK0ZMaU7iXd7wmNbnOYOTg6oAAABLkGbc0moQWyZTBRMM//+nu+FZJWUgAKlrVZnk0hxmPs4A6KJUfzzsmS4Wa945K26Tj/Drlu76PucAAADAAAThE9hYqFAmR5E0uFArne9bCq9Fm0ay2KJ2ZqWJdKZlTjFM0HEhq4vA3Vq98b8fHT3bZqxMND+DgDgK46pp333bVMsLvAntouAWUidiCtSoAavweextGNQDN7xOiVidFPzLZaUIyHgKPuxQLSofZ2I1qCL41G1rjFrXhhHVspRyHRySrn/AUF4OQk6gsbaUVAtyI0u60dm2tQVKK8yiFe5Px7FEGzhzYaisFx+GXLOABMCa66m0KZAmgDZKffbt3WVXoRrMpvBKaF3iiExnOldtOXqQC/0BlksepupWU1jQyGpm6QAoDSi3C9+khBonAKrAAAAowGfkmpH/yBLi472y4uU0JerXiEUohF1lgAJn68QU+ZmKeGoSyD0wfjy6WxY8gorZnmlvz2T0ySR4mVhFVkuXMzrrWi63o47+zaKDqQgdc6gnTXSiOCqU48onWWdR3AtLx31ff38hbJI7Z3BF7j5yPGqgYNoDiYC/J6AX7Z45ns8z//TYk2qLgfhZ1cVFvllsw04yvbxdsVadpNdtb82fStwHpAAAAEyQZuXSeEKUmUwIZ/+nvUplicd/f6ASDmvjzUAI7Ryzq7eIHW/thBrPGXAwXcAAAMAAAMDglr4HfKFeR/ehatd9z5y3BPg1fLdMOIdKE6Z9v49zuEV32v29qUzD8D1TMGGD5QMhycdRL4d3+ePNDS7Uu3cuSIMce+7WpVCNqF4qW87HKBcqxviPkYp7cGJKDJY+OZaUmXZiLknTBM4HzLCOAN/QVVJiKINgh/C2D3BNBiTWfwTic9CI0bc1TlmfAMKt9F0iitutCunmpSNEL4vvLzinGzYWZyK++roOrBUX3AAWHwERDrZJZmxG/lDcpUoAqCv0fiHpcrfYeuqdOgXCDAvUJrkPPNN5xuFhuMvCW/m1oldA7oy3GX47/R+8/qcDO5246S/l8NK9i90PosVdEHAAAAA20GftUU0TCP/GEoG4f99URmFEmPKKWQSN5bA3TgBt8LiNQvd7C15rLrRz6QCBKvu7MtaLlmQCdY8S1bGfOypNJ0NBmsp/LQdRV5eKX3YlrINGue7bHza3gQ4rWa1vS3wvkp6yRuD6PfiR0wEMr0DnUi7LC44LGUtRM3jI5/rfyIKVXpkN9u3ANdftey4qrH3ahEJDH7OMbEBCzgTKobYXKvIiJFazsrL72IkFA0lmVZQhTUYGfWIgjIgGiQlcu+xwZWqYgJiGCUVLnpE/y5YE8599ytb/MCBmKwGfQAAAJwBn9R0R/8fks5xWzIytFDZxfOiOsCL8tk70AAFs7FBQNZZ1Hnwzs/F4Eafu0gZfVmTHytpXzIO+rwzjymAcIpxLWXRXFB2MSy/OrIL8hBQ8Xs6+Jli7myizU/O5i9qneDt+SfxsPM9ptAscS/YFdFWdp4RXse9LYhnLETnTJechOZb3IhfX7jIp81LDpvkrUcENjq69WjcVttQaMAAAACtAZ/Wakf/IBQZHgALaXUpt2Rolffdq/2vyzFHgyKT1sjgt41j2oI1WXHMjb1504wGC+vCdgsja3ZQNtKDeuFKSCKikLUK+XJp+QaMh6153eMSZNPT0ps3C4UN5xTKbh2YMv46zpqRi+5C0uPHIMPvCXOhMcNKSqeXsbPJ/HCGDlID5k79AqoMv8o7HzB8SIhvwWtinIxgAEE3SOvU7FNU4I130EsI2bqXqHFAd0EAAAF/QZvbSahBaJlMCGf//p7WaBuWSzg7KZYAIyPs0UYB/t14An51QNJQxGuRiarBMUEKkjLJrw+AyTp/DD8Rdmu5PJA1gAAAAwAJYre/hhjMsotBOOg1wyO7TYoFrXlwIbZgh5pa0OzDR6bzoATi6hgUU+OQQd9K1tH4yx1ASFMHjaVXF30dflKPt921TLDZ54EAqek3PkpIrNm/ORjAXVrsd0KHrGFr+evvajQ4BY4oEf9UZairofIf5ElAub523xeiUlvuRxrh0DCXsHL1pg+jLFdl1eCwjamF8kp786MBPVs5/4gkdhyO+J79cpAM7Z4jas8VsPb6Q3gWFhh/5tqXAq75Nkf38PbMCWf8uuX2ucWR6OOB8/n/KSaNhAqFfmh90tyw2lsDLZDDewFwkrmbPXf0ya+fZOH+zYUr641Af/FRrCM4Njh9yiiXwcL9QHtuz4/fuiksu1W47W+7kMog+w/DXSaDL6t7mMBpr3OJsq9c/34HUPZEc+kxf+AgEbEAAAC6QZ/5RREsI/8c6HCWR5xmYHNGe8Nc9DYBkVVMMygRmbCABcwbfJaa8qACG01pxGNvz7VPmsQDKhpxoIkdgoNz2y+I++qDDQEMvDcl38ZA+4UJomm2OlyC90CGabNDvxJv+VxE05VdxsLpL8DA3d76WcuXKrhsitZZwTyqFuIGp9lbTqwSScgp7T0GKkLtU8hWhJkzmn1TMrrwBFpFQAilpVlokK8MPJ3oSo3JCxV9uOOeJ/QM7MEPQHTAAAAApAGeGHRH/yBC8aTCFKfmLjZPeVMVABN5zEIM9pVJ6309l6Ej+rc+NBW0TlWDLkgaIt/vRoTllv/KK0wxbtCo+c1IK5WxKNUDtOg/Q7dOF1EGnv2ZCbqFHDmYZhtEIAVMQ+KjDNlmqRNcHHqC4YlComzh7Xv3FV+slmlA0e0g51yb/KZaimwVcpiwQQvNAKajPeTXjRvOn2lc3daQBrSXxNrcABKxAAAAlQGeGmpH/x/JsYA1xwtxCYFKJACapJuUvWEWuXCA/M+t2iFjvLvdOLt7HAHaDtPpZGvV9I74s4X21C1b4pbbYJT6q3v2rDarZIfJWfKIpgipXs9kgcg7Dd8y3P9T4OpCpQiXr+b2AOa8sxANXf9g/xtdOZw/7OEqN5H6OaK4gvfIxNUXTid4ASkccNAqkn5eEtdScAEvAAABikGaH0moQWyZTAhn//6ftOnwRnhEBUV2rMLilomQnnCQuJvERRV4NrbuEZWHq4XrMXQ2Tgt0oewsKT6bU7/c0kvNrsfPow9AAAADAABzd2G60DO47wJNnxNbVJXugwH7sFGc1y2Di3QxrylZeCGUhwagyhoYVNvTw3iFOV63r+Ia0n/wAGhORcSK86CT1YQ5+dZ6wPMMsboCeTwPP8vfC1l2PFV/Rslq/7bNG/9Gn7gPKCMPjOPIANikRfvu2qZYbabKcwVycYIp9sKa9H0DOkRQZ44JErn012689dCus5gQjPB/hKAbshAhdyb1J5D/5fb9B3M+0kqrbKq/MJyhqA6HIXqmECoU8OPkF7yKhd8TmPyXwd7aOSY7GRz5DFamjTx2IEyi7p0ClFAvT1oHa/XI1uOlJBch/S0PG1M/x6gFzBOthZ6MDgyeV+ojNT/WEO5iuy3SKLpGDZ+jSKbeyVUpJkrFNxYS5jHwOtlrx4OYN9ZvwdHb+NYZqTe0UusixrPQEBjLo+BzjcEAAACtQZ49RRUsI/8cpHATfAk+y1EflgQ22wAbyH5Tr4AJGa1UwZKsi0E0QC78GwbVdhkRkvGcxvkYffVwTT9lFvCFaIq/Fz+lhd6ewki1pMT2maBO9WALelwlFMoo/jyD4UfHt+haXZmDBMN9Y416eUUpWPBCKx/WyBZCVrtv6kIPJiB/+AfOGuu7TL4nfsa8qCoIDa+Fx5P1W0qTUypcRyRhEy8xxHMxHYDi7t7AJuEAAACJAZ5cdEf/IIaxCjDe0XnQATs49KE3e0M1XLKvNulFO5m8hH2b9atXNnoOgZGKiPqcn+c0Jg0OpgV3LXdlva19ojgGpjhOD0aM8xBVMi6r2qdApKUGVc1AO1er9ZCo3Tl9s/GPYe58l+kqI015mT6AMMhda7Sx7zwAmdSxuT4SX1nxRiuyMfgAL2AAAAC7AZ5eakf/IDrANIlH1S9nTvJJj3eTHWKx77SZZdlT2m//YAAK9ob1cLNdmw3eRHmZEmqwz+1FAjL6T4iKo3A4pUkpiYqLbQ/2Un51uLLQKCH4OOVlDNS7jhdpwXzEh1+RR61Rbly27jmdT5PHAuC5Hblb8WVVh4ZEL5bTXGeKMmTz5GAG8k4OBwU0ipPSsGyasDCjAH5owiCEmeIhtwClYMuRjCtYBmRHsHN4Y0aw7cG99RMOhnp/ZRBqQAAAAVlBmkNJqEFsmUwIZ//+n3uIZ3/Rhz7eABxuYPYU0apRwISDBViQxBSsTAngfqaVcNG4PMGTTEcAAAMAAAMAC4J/SpflZN8nLsK0GORAl4rCs/AccLt96jDAfCzk94vMifw9MV+aOYzz0gkvvP99RDxTaplk4517ET8pfnj88kFeBou634xobkuXBIs96wT4Fm6SpZM6dym1zcYJaCStx9gHfq6wX8wQ/8+8HfVrF3zegb9FScCwdigNueTwai14oD+bZgJJSt0phVrAOtcVJp7iM1fHVGHh7trax8kygI4QDKaElLavvPbPqYMOujvOUBB0Qn3mtfDT5jcMwoAlzxOZzUunM2nHmVjnZw+kmOCHGBRqHKG1u3ym6BQtj4bkky3bvY6o2RZKnEuXUWd896YTsJDE7oigGuS2o9v+zNDU3beKyym+NDlamh8eefVmBNyN5seb8s8ZURcAAAC0QZ5hRRUsI/8c6G33ffN4d2/n3GAg0ATE1wzHbW3mDbNbp7tJqQaimhj1eBtM2sZGEUGuToIEhe9aAGuOHWZVCfSy8VbVLHY2y4Et0f+NaRAqIkp2J51Z/fhBqfw4RvTr63wh8SBmVQNmnrfL8VILxftiFyE0JE31iwXzBTASoxNlcWsAGuV7w3bkDMRL+p+1oN/gmPRjQlZu+vhdjFqvKtd+hTyWClWLfDM0pzxypkNadAWUAAAAvgGegHRH/yCGP/hkr4MZE7Kzk5fy+OYAcwudbpoZZfsptuptLejwQEnONKaEjUsTLub9MDDOPMQQkP2zCGgdpeRwsAE5mgC1YGrmRZ4HSv9Kw69xPnwsWgeykdC79uax+m0efy1Z8x5+hwWqnSjmTO9DWBUGn2WIk70es+H69Exny3x0ToXn0hkI74BIHWSJeW8Fh8JwzO5toSy8a16ON9VpK3lLD+uRmHH4HGYl80ex03zzuEL4+lqo9aoQ7oEAAAC0AZ6Cakf/IDrQyCJbf10nAlXqZlkIURnT8AEsh/jrZAtO165xLpW2cj5nfl5dfzskZ+tDP1tNTsblTjtvx55dZ/7kg/mDXYPesjfy9BeDyqnBGI97LsrwWYHeQ6X+7e8ycTcc7SZwhchVgxEyKuL/Dy4wpL8kchTs/huFYFb5hYe29p+35ZA0pjZ/hrU5dUKc134/l0N4fbY/HBFnEXTG3Pnzd8rbqKvn9MQgr0yTnje8WBiwAAABUEGah0moQWyZTAhn//6ftaf6eiDctfPgBusBpO21G+kM42XyZSXvG693kHUN53NR4JtcCiZaHxtIAAADAAAnRp9mL58cfJOC8dn43U969hypGSfObcCGvkATCqY/mNx+RU4zrZm/aHyoc+fv+uPX80FMbXstM3v7ind921TLE7Mgmk4lPLsoe/JBwSJSfx3jlb6/9rLCDqLTKf1vCotq4xCmkfxJj2HVBvN3t8asCVbxB8QdLEDzjrTDuDSRXwNic5NbnHubAQiq7q7SM0s8KsZpagtphcEU85bBzEdzQOIi9ybJ/LkAmx3hlIaxneWbi44KhE24gYsSA+ptEgLAB7i1ZTgzXgkPu1CSNJ8oFYJrnLVvYIzHvfT5xhI5C14vu5207STYenQHdnwjz7aXdgpEFFUwZc0YciaheF14HatBSB4xfxWi0n2YaFHRQjA44QAAAI5BnqVFFSwj/xhvicmBBglXg3XQqx9M9Cf11NtWBW0E25xRbKKEZyslKxutE+K4BNepLK0b1epdMfpB/+g8sWQ8xBEUXKOZx9nmBHR3OkGBVz6RA/okzjygGn2enj4xG5X2CQikrJqwnQbQvlGeKdWhGtAlmNQsag5WpEkl0KK1EOIF/yJ6NYrB/kHzAA45AAAArgGexHRH/xx+DZM//GmI9dkCWosGBFgBQa0lsmGdJj+hGulG9e1B2oOSHuEED/2foUxHFl2tMk247qgDzZCIixHBun8kRULVBOxDJ4ZA+KblWvdHR5CLA8T4uU1AIovpRLMjboIcFbwo4gnFniUtUibnQSNdgZhNmUWVDh0jr8B51rTA+v4dlnzZup0BZ8iqp+fVLevZTApgFnw0WYtK0BGnEenTpe1fitOq10Ym4QAAAIoBnsZqR/8dvSfoszV48kB5yfsCt3ptFAqO3+JYAc9o7SLUEIBrYsENmbEC8s2K10PahnYo80hRCIpdQv29WFtG88ikTtRmovZJdrxVYjsO0ypxta8w52WDN6uld1pyzYpWX2MGJq0on2JhlcI/C/55MVIpPtlXwtjqH/9xtIXvLEOSlXPuaw/lg7sAAAEeQZrLSahBbJlMCGf//p7V2MsMq3GswABwNCGgjW2EcF6po/6I4+f/8mDvNbZeTeDy1IxIAYoAAAMAABWpPLQrzE/Fv3/8iusY5S2bLKozbl3raaTn+kQTj+8uKl84cjXnSJApl/fSUtSZD69921TLDxcX59XRBYlWTdY48zvoG5utr8X2dD0GddZbTSItmXjuq61TnnW4KuLawFfYiLJPPoLnTIqF/CXTI7HOb/gMkEh+aX5sXDhVIO/8oZHnoC04Eb3oGXButscUkAlxTZdeHbRmcibiPgHSteyJCA4R6pY08aoXiejuSqBb9G5Ehfa2AgCQ8kkjElM+iZmvo5Ka7HiLSBSvAq6thS8ML1r4kJ+AOrSBrb4bohJwX+4BvwAAAJ5BnulFFSwj/xrN/2SFSvEn/p5gTSPlnh2xOEZWRWhz5L+xiAIe54Lq9wERJCK8P06eT7aySglPwxiwba3TGKjBuQDOdecdAeMC42WYKAZe1qarDYbRA1FjwRHj+nf0fhr6mB8Sb7gUlYtx/DOXl8cgg4l9hfxPefLK6iTcuxSwHTIP6K7tHuksVqQh2gziVVwcvCwU9/SwP0yWgWgLiAAAAJwBnwh0R/8kLNEjboO4zbMmUmAKZc2ab9UAF0CkHm6zrS/EycFDzIy/6c1/AUsF7YZ/q+Io/cmMmjSPziTtnMh2TS1+acQGPuqkmC2OY+rMFY+4nh8yJMLB5b83zVjZthS3kjQiIV61eYeaaDVVOl+k+d4ML35AMc1oN4LD4ThcDVsZE8UPY3CPG2UA0bJH7cbRxBHbqUGF11hMxM0AAACcAZ8Kakf/JJJIkPVb86wxltTlK+sQfFxOYIaoFIzlv04GvoBQA14bKbgywCk1Dcn7Lm1VixPJOiPlYdmfz4DU59+ljul0j8UIgKULpxqqgrC64NnGGPyvOwZtJBvtstJl5alMn7/L40wBo0+4NAskSi4EckNmmgHyPEPcvXzb7KVdt2LNNTv8NikK24p9pvFIzrrX4afOR45KAKCAAAABI0GbD0moQWyZTAhn//6e8eL/bqKkAK/oN6nWAEpv/PG5Y/jR1JT4BinpyZCCf6h6fYTpAOFML6h5l7cAl/BFPSCXt8fq7PtEQrcDq+PQtsb7uCP8HGo+hNnFol//LqSu3Y6PLSAYjscd2psQsCsdCWLJAtNGxlP1XdSRKddemgjBZZtYtJARcpD0GkxZeqBmvbL59pwu+viUgSWb2klh4+3Bx4RWfUocRb9Va4yqHgSVQ1u5B+34n31J4CTKzCINVQKd1xxLlSqN+g/vj0qhVaHXGBqkpKVnRxxkdX3tQ55URZpxeAQEB50m3XE9xCd3KdBTEK0ENQmLato97RnniDojQgoWK7+pPlGF4/Re/Zds9mL0IiRFKd6J5iB93yFraEETcAAAAM1Bny1FFSwj/x0Hcs7wCE6FxToik19OOGh/w7DijEOhUc4IAbcEHsHvfp4qXJirY3Cwo9Zf5G4xPPURXVJw4TzlXzi0SpcTFGhFf0eee/qKxfoyBMpDMaF98HVt1ejxz5aVwcXEnXrP/0aToitEE3zBArKcjtndrPIPLcoD+RqsjUxugdN0h0MI10gw/++I2wsI2tZYMpEzpiKTgLYHSSrc6lQU9AccxRJJNmlJd+7oGvZcT91F9Iz/O6/XkfygMhxvvCmdcgW1NcMyoQVtAAAAuAGfTHRH/yQscHpBaFHJ0vc6T5Dy+q4AJweH9AanRiXAlMXjkdzLxqWHhI23UBAPWLsoqLWIFd2IBWwqNSTyUvrx2L4O0B5y246X3FCAci7jLqmRf6u++m5iNZ3cea/FPYKkkoiMCAMbDYnfgXCxipurYFEhfU2ClbtjEvWAiwZJH9VpZ/bCj67hw05b8gZpojwCpzfZWrrFtQWmgOOEBdxvugsFpssDASxpD8ACCyag+csg5QnulfEAAAC9AZ9Oakf/JJJIkJP8nTrwMKYufC7d8eEw1Bkyn+dNxXn9jrloqwAWdO/N1d7VCYkA5vF91k5vQFV+dbfHbcCwoYv39smru4+m/dHMFWcrkkAdLACcudqc1YceUbUtpO4gcbIgYTwU1RQ+bbgkMTzTHyfw0jQjwYVD2QUmXPDU3ukzLs3NSBxCeXlhWI1i/FJy+EtxdeZAk+G12nFH+BS02nI8Ssl114t53+SVBMdzzzdOfOcPNu9uYSzh2AmZAAABg0GbU0moQWyZTAhn//6e3DCerFIBQlF2OJWYebzryNF0LSeXtZeqUAAAAwAAAwD3odBSVVLQjWPCGp74cvG8qVtaXAby0XamkpdbdvW7Yc8HHfthX0PW+gt7DuroH0fgRzlVznn7dx/pAzieZysFDwCg9Rxf+gPfdtUyye4tJoJxx0xCm+gYdKOd0Rp1nJcTttgTZLbRlztb2FVd/HdEzz5u8Nlqt+LTwqeW+pEzVqPywIu0E4qNyDdPX6uF3b18TsTv8NJAKnJXmN/vU2UN71RhuUM0y1pNz/kXIqHmTv+lZIvQ1lT/zuChxsCxouXA2YhhJGIbvXkg+wiRPSCNCDKwsbFXXvpR0v+QMNymPSWHh7i2BTT8IXAtVVpHRwzYYDJVUEdKRcpd8pKtgkUHoSBXKTZ5OzFv96EBJBofdBxQguDBdMJpTKQF43wfRf/EKnxp8mv1K2uUBsc+KUGNIMnCoU0j83qgJdUorq+/YmbT4EfWRGrNRSK/FQzEVL9Mm3DZgAAAAMFBn3FFFSwj/xkIwFfyXUU47PjQUoBkACR7FfKSph+zwCZYeQMtC6ngM05ea3Q4b1XJMZDRIO6MZha3LtJPoNmdsmZPPhTLxo7WbnBQKKVmcghq3IafIZ8TZSNDCZta6VKQxLD5fnculh6IE1ooceW+LW0YY7XIeDTyPvYtNyOiDIvmpTVrPte1AfdPZXo1RR3eQUBGO368uAOVFBJohwSBpgnjO3fm0w7ePWiHp8vOIHwNxDbrMHGRPoi/vV1jJJjQAAAAqQGfkHRH/yCTW1vHgwu9KzH21vvEj4g0ZIeRc7tAC1W1rBA30Ubh5F7+xPC677tfpNWU7BS924lG9kIKvmnwJxUVou0k/C70K7Lax9bYHLEKxEAgorbSmCHhjtVKSwyUjxHNb0rCR6nSjMHtl0l0RyJANabUR9Od+YPTuckOz3dGOCkmbI+QKaCujKo/HGIxSvrDO5OjSmdpzYbmigCffa1IGSoSNYzqh4EAAAC1AZ+Sakf/IEtHWnkWCVMZWeQH0frgDvs6rMVyoMpR5C0p1ACuSNibIL5F81c685WoXpqJa4zsMFHMpDpUeNVAwbQNlP8QOElcgWrNiqQl4K8+rMogCwwKMiqIRUuBgSGtgz9Zhk0418V3wE4tJbBD8mhKjZ+7/ESM6sCxh2gXGI4gUNwoqrzzSnRRpOibCK7+aw7UuQRunAmCk5Cz5AMrLV+KeI94fRTeu1525e+17EFfbSjRgAAAASxBm5dJqEFsmUwIZ//+nvqb/Vo4yAIfgfPHL/m+/OTbBIANma2JzzKEBH/5CmDXx7y3v+7IFzZNNkRZpytdW8arQRMyeNaB/BaCIgHH0P9j+pMHJW5Ge2xAr+tqN26Q8LfbISoTtvSuWXzS/fYkUI9f0cDqmZhGQP4C1vFsNRCQkVBnp/u9nMjyRpNF3+1lwied/NRpIZrsUEQpzU4cGZFMEVxQUAmMoqJUggTvXmc9cYuY9/c/DUy+5U+xfdjRQQncqcrhPWedZ5XjHdKInFoavMszb7YvXal821GbarJu2/sqc+HU+KGvuGUoLVpXyHtJ7Ck81UBaUUEWjYHyDejjax//3htvUMuBBe497QaybRmntR8juJHHwbTOymo6Sge4gOpNLC+04zVWR8wAAADFQZ+1RRUsI/8Xf/9f3T9TFDppO8jWX5LGrC+XJffy1eeAD53mEVwf7KWc7FlWBvC8EcbAogFQ+zQefmrSZiGekbrtKKGADQcPzJBfvwY/rSa2nrRR1tF+siZA5aBOy4PVBo+hvxbFH6ASNErgK4E1oBvT9F5TPtgK5zApdgQdb/sMhI1YOfLWsvallbM4Kl4iJ5OkWWpKQT1jrF4ljjOUUN5E1ifr5Ecd9azl6WPKB89MRG+A/ebRGXfOV/5UZsMxHxZw44EAAADFAZ/UdEf/ICAiW8iNJxTt2cPsoXvDTNtrioN+0EAB8HjKg8EelcEfGVXxu0KPZ0ilfcUIByLuMuqZF/q776bmLFgyOsrqFLR6+adRtFY4yYo4r7Jjkvnam2wZgD16PFavtVVPEETDqALKPTJZX2ECieJuv+9U8e/hKaaUQ32Mu/y0nuJ5dqk3hD7TZmf2FZbCPVNZGYFhI6Lo72gRZDKGDgDosaMAzmF4ml5BTfvoaD2JQ8vLDIs9PlACKp9HYwMLFXOAf4AAAACqAZ/Wakf/IG8m9FdIVIaUJOpV3nP+eLIq9wAVnj8YVvTVF0je+Q5luyj3LsGPDHYo+/rfwCtIfF5KzCJ08Hf1q21mkvgYaOO+ORw35z6kBULTv91lLg+DIr4ZLUsCxVNstm8TMlUncP+cPfV0+s+WHrwjc1wqzlQug4h55ZRm9Ru06/tsFDLdEBYZ/rW7+xE85wD7u4IY2DTrBXAhjzugcOrpoKc6jTPDBW0AAAFcQZvbSahBbJlMCGf//p4QC4COO5AAK4bxxX/pnf3JrEW9qxxle0pEjRKHIvub5eNhhpUdlM2neI6M8l/AOb9mZO7sPH450bo08alxrA20B+Q0E6Sa+LUkW7SEh/EEnQ+ikUS654MGiIi3NCAVgg91Hr//GtYQ8IUVmK2aNVT1FeJMcfHHN85eb5CwweRFarg8s89aC5rdxp307AfDBCwKvAqNb5J2WSEwyFNyH9ighTeQKyzLDeZyQ17mXW/ykcse5d+MMiTAzuUx4gakCSHJAJ8LtpBlo8FozErIhN7gXxjNVRA1k2ArR5lFjCU3+H+3aKYZmI0sTKNR3N+dciPZuRT8xEZ8GAPgpQkWpzXyDs42rNODUJT0MY4isha0iSVpCXRT5sANMgRnSaim7qJYEaKq5oemeEqRzSxj9VsVCPR4EjYBOAJv7vfKfvtK5JTX9XDJ2XcJIf93RYSdAAAAx0Gf+UUVLCP/AsQU3/1UoLKKDuKckb3paOqP8G7QRODSgBbxgMofzs2eDtXf7okk6MU4Aran4scXHwe8QqzEhsfsYGnZNOg2yVMHYRgvtLPEVyjTszgpggAbAkFht2OBnZwkhnXHiciqHPeNfIDw4kDIn7l3NVounWSVc+Nk+fJqeFdZTr7eoh93nLQlmp+rtw4uxaZlEBd/J/POVImm3yCDJjFaH1VNxZgj+sB8RH6YWv8rhA4dZhlx5HTEXHIjVCNkkNQAHBAAAADBAZ4YdEf/BFGPvlFpTehETlTDrwYcXleXrIhrHAgWrNlIE+oeAAiqp1IFA8PxA3riAeX09n6c1XEFIOvEb+ik/LSi6gfJ2gZbsDQgqmAR/VIs82xpi+lN0pE2ZZ/GwXiozw4DrMh7gv3rbszGyrO3zpicemzqhQQBKnYI+BdTHitgDYa5Xb2/EmDIoF7Ln7rE15L8oFChe9xWiMtKXC0aFwhHi1+hO39EjF4dLZQKSMkbQ8AAHgrdpz7hHIMabYABBwAAAL8BnhpqR/8EU+hrL5BHFsOG0ku/zHTkZ52JtqPeAAFe0N6uFmuzYbvIjzMj9OCc/lC808T9B9S2DWT27BNvkVhPQH+GhBhYgn39w2K+qRvt/neY7MjUa3e8Q1KBJwqsEcFQdMlXGn9vkbkiy5TpM306IY/KIXSLxTASJnNdDvgJdINBuUbhXMdvKlh9JqcYUnuCfRXVKA6k34sqsH4TxIBkRQoUD9Rpape3SezziOrjQTAnTMYdId/nOh1O9IAEHAAAAYdBmh9JqEFsmUwIX//+jLAMbH2wAcqFVAVYb9vgLk1LtUvyqRF91AIbl4AYD/Z8kotX8zncD+ZcNnHQECYo1Iyte+JS34Yju/QdaEVJ1QxqbF2P965qcwTa5lJKSYkgqulolLov5eSV5OnnLp9JQBIoQ7BYoKJZPMy8EK7F/DxdkJUfgsLR/2kA3aV5OOAOyucnfvdnbTHStTIh39R3OZ48AZQFnUelaqPCMZKYnTNhjN8F1UY7815NJjCHPeOvzTPWlhtpvAiPynwXDzMVoSIbLYXO0xcv7z7vbBVwzGdgM0p8KJ1AOMAJLtiHCPWzLtHJ6Up58rFoGpTh12dE3YemF67hNUzchL7pFtSAJFMrX7o7lGUSoP7aekKAGbVVitu7CPx+h8jbUVIqkBg6s4aIkMqMAFF3EthjXFolZrP4DwJfc5K1w0JbXYBqU2P6Lb15YzBBXuqPlUZjit13ivL2Xg3mgWuhVCIlYczN7UgXE0K2HofmY32Cth+yc2V0x0+QBWGtiybXAAAA5UGePUUVLCP/AsQRVIWMBcbN4myXs7n7Yxg+GPjyle4J5JIzECAAcYnfoTU342xC5gjCYvtBbIvDpdGiA3TxVvUAdKCTxDt4CXVrxxLP/VabgezSVplSewyL1IDnSgZqUI3MAvckjJwW/aDviUTQth9cki3m4htwclrxmxR/mZBTxJxJuy+7NIr+FGLuxYM+cvP7jBxe5eSbS0cEoOuHcXr9s/x3cGZ9c7HqtRlaMGumaNAs9YYLIy3G2/1ESpYiHwiLaYrjJVTdrf1xGb3kqQiQDJX5t4xaM3wMSlaE54NntcbJQXcAAADQAZ5cdEf/BFF/AGtybDJFWBQgW4XpUGV3ABK2T9GVd+JIL4pNtUQ5f7B/W58FvsHATT+EjNgAfikthmjLTIt1A239GO0EJH2aOaLKO/9qLPLDd6AlporQVx/qtv/+m2kSuaBn2gbmn4gcJK61lLbFVFG74WS/5FSek+QXS6JAKCpNSBITlndCsITRFJNGaZ/wT0M5YMUDqp56YT0hWVFGcTGtSCnA3vTDHhdzi8XpyaoaNgaF3S38PLHYsLzmv/zP+4hRQ35VgAOKREncSF2BJwAAALABnl5qR/8EU+CBc4e+/LA+utDpIu0qXTe9421ShoAvwhP+63mQ0t4zIun9Jb00aloBsHe+o+2ZDAkBXxWON6iyc13d7io0m+R4ji29dtzzFki1wRe4cKppSFwTTGQneh9kcE+m3Z4lEwbQ5BqytddO2XNolGVXY6wrx6zdHRjrAOdV9VHgpQ2g2clRlwTQcTEP/SJGuenpNmfyVml+Pp8VQOS835gCoLdjkENagyAB6QAAAT1BmkNJqEFsmUwIX//+jLAPnv0cAHvXCKhW3TeAwoPnwTcQphxD8eds3MFIyPZQLD6X3gB0VdMXrBuFptIPJjBDHh4D+i497XKK2VWid6sfR0DJ9d4WJJ0sx/RhLbRf9yS8L4r2gK5pnXnRpnvrUWZXPlVCV5SAreMk2jPObfiKihOS7p2LlGYEvH3ohibmadkSo652xOVetKN1gj+9hEc208AhPupDCUjJYHd3JQA40wPWAR5PBDZ0HKjsz8kASRRXrH/8/YeV3bjRm9fIo3aMkVMVyWLUE72IdT4i4LfcohB3oWb7CllIuCgajbaa02Saf6ZPru9BsNOALhe2LBgXzGL/iA/fXrj2lebru4JKnfuA8jcl6HzQ5vsfE8AC6/vmFuoaDFn/XN9xkDSEV9PCIPJg7dPogM51EkgSsQAAANRBnmFFFSwj/wLniHgvkngBaz7/cC8S1UUBmA/rDBqf6/b1teuRzvbtUNr3AKUp0UUUpIs8mzpFCNlJdxePKAD2WdyJnkmlHz0z2XuO68Vb4s67iKdZSxYwTZT6t2Nl4B8KjMAxheVD7xopfqhKx7m2YfmwTVS0TgsiZgQWZQcJHphaA7eYlCQ0aU+2O7tmpbcM6qE4DXzc7e6Bbul5iz+/qdlm54hZ139s7eg1bqrC883wzKiPhkBj9+fzqXsc2/kShAqS0EtFGS7PqB6+4m0AC+AOmAAAAKsBnoB0R/8gFsfnICtABw/f96A1ytFsOHy4IZHtGobHygj5UyhiayLTwI3H2lsI9u7ihAORdxJNs98fTefTFUVHk0FLtCKDGjA49cb6XIOLhXn7TG0OvbaqTXmYGesDLN03yXMhOO/ID9fuOo0iSAH4/40XhG6QwOJ6nxo/W0K9nXoa1BBJkrd+cFaV0v5jCU6dbpnB0uyphgzYUDPSkRhSgANUZR18JpEVBgUAAACnAZ6Cakf/BJPW///V8AU4SR64JQQCw9qPFcVkcWa+RSLQFNp19qwk82I1odKbC0FNllU6xC25+dkIH5xVpWu0R7DvpQJ20HKFZdTcq+T5RMtU+IV1ZKKgqZrxZy2M3X7/svz+SDKLn9YJglbEOixb04T9NStJkp4vVOlZWAv2qdzNXBKt3f74qv4Xs6iZlkj75e+nL1Th3LlXrxsZEwYwuxx40A9Tg6YAAAEJQZqGSahBbJlMCF///oywEqi5AAlH0xlYgPdaelJerQIY6dCp5B3ijhspObLngtUDKQ6Rj7J5zxSs39frUlqoUlJ/qoIX8ouPwar9hi6p5vr/F2pfLsTT34doOmvr43q/WC36zCIpu7K+CmTpnJddlx3l6Da8AHaC1Jjy9bXL3yk2qbTE/zzLHNIJ8pBhWk7MBtr7U6OmVa87GxlWsWTWKN7VUA2pnRoWrWYOTsRnMHMTrdiPHHEcNotdZMKQfvzr+jXgavohDbo8mLppXVIfdIaZQSammp9HM/4loqNIaYSs1hS+RiZXLpYJnyG0ABHGZVxiJ003r9v0GL7Of5BTsSYjXB6q8IypgQAAAMNBnqRFFSwj/zg+yABHsUOb0e/qTnwvstS3dj9Wg5Bo8eIIRW1jO/35l/Kh8D/kcLu/OMUJCkP+lqmSq/t+sKcXSNZnCs3J4QdSQFIDdhDngwVdii05zJqkCBQ3Mcr8H5RJPxYE7Ne12rHs74/TuUyUx0irgaUmr3NYazACdgygMwRBX/FPLmoUC856PhaOlegPJMu/D5jZoVXvU8nktL7bV74oGJMKTNFyFafzsKQE1BmA6aCesgRRAe4KFMojtIM3MWUAAACsAZ7Fakf/QT6WUmC2gAqqR7toJAiI0HGzwVwnoCaDOaSZAJZSysjF3y3UWfcvIRrkrBDQa3YtaRlaL3lWDJXfiQ66cBlJA5bhvO9kQV2XCY/l+/mUTkrfz5QF65/eJ8cjyOBsfAZL+RSoIpM5LeVKRJEPDFhVp/18Cb+EEtqaoFCGxSoug+8y3Hpeh79Zzm/5NrO2RDBllEZUFhJkCQX9QLkCCfUViMU3RZgDZwAAAS5BmspJqEFsmUwIX//+jLATHn9Vk2qryax7oAA43fkeImrx58Pi2boz6vt8m4egUGIdb8j7BzM11qSLv5k4qpOhuTVdGWU5ujjrhYZvkJ+xXFqxcEYUsKsbm/G/OPkf/CGmXJZupAgMwXoegJq0IsDueOcEcOfNsiMSeRLw77fs023/lezTBfbHfl4lzk0uIGbuFf1rdbFbTm/mkNHvdcogbe1FXWbwPRVOb8eIkQKUnRXC7GLqdVkFjPooB19sC92dqlNEgcP6XH9FbRI6jkQrVOLGN/DlPMmXl9AHcESWBVceFXsJvcOsCicSAE+rz+rzivi0tUECazTfBE1asD2rz8K68F4fxGEfP0JrXKrr2RVrNCnGdbmwiyU80eH2ncLn1tFiJwzEhKotPzSVsQAAALtBnuhFFSwj/wMHpgABsI3JIUx4WdjsUT22HYeYXc9xNhCvlimW35wdF7POGaypxVETP0fhnVldWxv0lh1re8jjTpzV+AYjMBtOheV0lm944uTT45/mWjKeSf9vFcpipgWUE2DSwxhOCnYkGFn/LlCj1jAjJ3fDtVZfDiGy9W4jrGlCwCqO4f+llD2rF6Ebi7zWVLfKTgZHOfZb82rsxZOGVvUFR3ErPegnrmAoeDOpcCIic6apigs8AGzAAAAAhwGfB3RH/wTTF41YAtIipOp008UWrrWWZXxAAOJsg8eFhqODH9WsKlUHnA9mUt5soh3sg6Aq7ohXBxKRDyW4r8+a1q+EyPZFmYjnB/OqllqDgl3s9grUo/MomvCE+kSGKAXjhnj1Y/p0BG0FsyETnbGT3f8fmAYgG8VL/e0AEkzq86OMd0AG9AAAAH0BnwlqR/8E0kVewmx7YrUJ0FH8svPQkbGCupRQD0AE7K+wG1fuwQcW6Lno7RPUM8gnJe+hwdkqPKFz8TtYeEmLVT9SXu7VkMtrSzjmbLr7RIyBiOZ+4NWPD46zBqA7tpSgqRPy+O50a0u3vGty/RLxvgAhsqWkwBXmCADAgQAAARdBmw5JqEFsmUwIX//+jLADfet259XXx0hPmcAFwvJAdsueJgwnre9OhgsX+AQ0Z+s0dusPuXUIr99hOFwn17sSlCxLJ0TYhvmFKo6OQg31qtz3173+vM0ywx3lWNcA6n1ImwIS2clQw4UuQtzakG+QEQAmqz0syeVfXXpLHnt3FUeL0pbRx0JeC+BKler9jdRjrgx2PZ5UeIMkt1d2Xur+gmx1RhbmfTKRhH9GswuJJTlsAVrkckAu6Pm/NSWurYzVqcHuSjC10b1CLLmOGV1M/EiltbQGLQRIrfBD1KgH7fIySzCrbJE5RvC5aS6EEKRu5AE3NIfI1ewr3ihXWQdCEvFZ3Pm2/DssPAF4pbq35kesE/Py4YsAAACtQZ8sRRUsI/8BHX9jU2YKzkQ+YXkEMS3AA4MBJNcrahzZv1ZvSUwZkTQmVyQoATtiocRFCU4TPmmu0mCU0B+fvnbvjW4j8Mr1AbJ9kPH0/IALN0A3jN9SsLGbIUBz4HPqH+pOJ7F7OFPQlcMPdestA+9uvvTboIXP12vXOLF6yRzw/VjYeUmhh+KtUxjYTDKAxVPhAdcNISPCn4cRP0v6BLPka9UDyoFUf9KgqoAAAAB+AZ9LdEf/Ab9JQUomit9iJ6w3R7+IAZman8MjnFGn+ZY7r/C1iXv/ATZyUKwAYOACIIPDLAY7L6coJR+UJc+R+rBZ7xktCg2A0X8pg8AUdIShXjzsftg9j4Jatq4wcB4HQzUG2SexcBqBtuS7lQJIbRCaJmbQJ4bKGBLwAB8xAAAAiAGfTWpH/wFQzauxytQAVahCETcjVbJwASLiE2SzOjgcMI3kk0IxQxcsmUEjzs/7t0onwWjVZsvk7DCHQlt4Iwg2WrCKsX00bZ1+kEwf7fVAPrJAPw7akxfUVkDUxikxq5D9h2jIW9Iw7dsdBRfjE+KdnlpcN/4SMolE5StOYGvaAfUWodwAD5kAAAE6QZtSSahBbJlMCFf//jhABUfa3x9BOMfLIYn4+BI4MpLsAJx0jdgU+BBAVWD0qLHQdVvKYtqEcUM4GwdFQ+btHWD96+d4WFN6a2IdTFwa+qlgXGy72kQUDEssjIPItAWp6dk80vOzAc6c8//hUQrfUmL6A8UBE4jthoXDmfR5bWTBW/pFMa8+ZOa1cR4w7hEuYPO+tiLw85tynn2vAkbYrHE6abDCM/lvluVH5O0Ar/M56x379OYA5AHxrKfZFLCxBCcy19lkuyjeWkc0HKFlHF+xJQyfHgvAfxThSzCqVAPgqqU9401eEy0qNHjKkTRPsptdm2AYAhcBBqycRl6JiaMhC+ZzGCZx+LPjbvT5ustE/Wngw1CLrdj4CkGLb3zcjVTBaezaQCGmZj4C9TUqT+ni/gTYyxMoCDkAAAC4QZ9wRRUsI/8A028JXbpUgCPdyarENS25BFot6P34J92kbNIq7DJD9DnB75AzUxQ7CtbLZ2M3/ApHwyhg6LF8EsEUrdPw63pOAnH3BQZPUmKth+eRBG/memy5umEmukRPRWKWf21xkbDqU4foE2cJ4NvKX2dTW+C3F/NplOZCPLY1tJoCdArh7CSm2AbORml2Ntb/2kV2BPrzqpvrdaVXh0Yee1ljUnGJdS4DtlqswGvFlpCpoOBgQAAAAJIBn490R/8BUBd4uPOVxLACPdivivoQykJ8eaEhwpXeIWAy2BgECXhfM4+mF6HivZv3+WWHRjlNhcfPlk55vWyOPmHDsIS50Ijvb8ahlYgTzyHgEWoBoNAfYqlkXzKrRFrYy76u1CBWdWz7uaSGS/D0havOi2fyBeU2qH6FfJzUiBO5/TXHLHU4Cg+ABeC+qaADZgAAALUBn5FqR/8BUM2rNw9HK4SKITNiFc3cqAFR7fcse8993ItKc+K83PNQeh6tKz9OViRi80m6oL2eXYLsbESy0C70guf6AZU3om+2R06Xi5r6WUFbEU600yEcihRmDyyxXVjZmQo9IW6jC4p6mo//VC5kK/c5NwZeLL+ViSc//Tia6PoBkNJ6eD+h3aqpjOOPEReeczp3dG6XkpOi13f8nAdi08/ME/mP14zoAjGnJeQDvlZPUAEnAAABGUGblkmoQWyZTAhH//3hAAcPeUgEHkRTsdeD1smn+EoBWJvEsu828mQzZwVfNal1omfMNGshjS9eqhVkFF9ckbOXqh5iCIouUczj7PMCOjjxt7injZ0kwjfs1B7WoAAKD/9nglAT7NQfWsMXgAK/VxD6ckLVjQV5yFRjx51Iwh+2N7lf63YC60RnvWMVPgdLtbhvldVy4ne+hGPUisy+US0Z71Cp9gjI62GgiezpTvg7bom25CIkiLm1mau557f1aMKRwOQopJuc0QsilwYCSqB4HEeJuJ83Pq8KAID6NUp4OoLuOndzb7Qqj7P5jD/EDYjfuJyEKab8QkOLA2CHyMO4RMDB2iBqU9mA2pwQIOcP2HOZqZydycEXAAAAqUGftEUVLCP/ANNvApM1wp8BigAsPeLRxVr2MRSa3jZgSRhTDq9U+wvFnCfqWN+9PnVLYMpekzIsX7+usO9cPBohFkB2T5JoyyKpXbIHxjjXM4NaJk5RCV8q3OO/gtUScZJRmBuDj+kNaAqeThnjkzlzZo7Sv7LTjPTr8oeGcCGcttPDyGyx9ueyfbzdUr8czvBImxWFIMT0xwLd14lljzEsx6wilY1AYEAAAADDAZ/TdEf/AVAXOFEfR5tJ9iVAAhPqxMFj935jZishQ1DDj3jwbOSTxgZ4EiUK8ttX7sEWppYTrR1dYMctPnG6qFnC200kTeHgCgVvwjH9Ahl6zDDU6Pk/KOktQ+twv3EFmFGdSMAir7xIv+t/ss72o7t6Omn0htFImddMHGkNnYip0mwZi9usuZQV3nUOJZF5z/jquuVxHoRgWEUXbHICtdDmT4mVPyDUcireooCLHr3UXHBC0eJrdvyFsWVTHj9SUAD/AAAAoAGf1WpH/wFQzXL5u2l4muEHLvGAEc9uzODzoc5WfuSQziPy31qhCuJbqLmzpPF2Vgr5sTH9bvJzrw343kOPsd2E++OupUZyulTPiXBcUUem/l8XnA9psayB+jL3ZY0xKpA4IsJfZzI/QpiN2CoLdXmuKtagIDzMV84hoYeVB+AAngLLN/yg0cO0fyAooV7MD/+Wfd7S7gRasvMczzgwPuAAAAEBQZvaSahBbJlMCFf//jhAAdH1I92qxVnrxyaTzYAHFjNN1i4cRs++33KhHttqdhe1MC/zsiJpJbzBFkdMCo0kAYykJaZ/F8IHYqDtWTrZZ7SYB29Aea5vp6h6Lzo6v7OZhu1hlOfntvcTWDuo7+KvfsLc5onK23rGHFxcESKxSbtqiWDLG9rfTaPRc+swxXwBOpgopPa95YDVTovSvYqC1I9LDCU6srFzGhz4cvOnYWuuik2AMiV060M27Ambt8u4/thwpPvSpMi9jL42pEpwvsOn4xCySjWYbXnJr9uFAI+L6Pf5HghYHrKBImjNRyK5jX7rfnJ1e3wiHAYBEVcXIGEAAACjQZ/4RRUsI/8A028CkzXCESgD5+L/WS1ACpJJW4Uo9iyiJ+6yCq+mRZrXlKP+vrX1CBMG4ou3Nla9t09Y/5AJa3MI6ekRPYsvqtde0/c5F//pBr79MjIgpVWynW/B3Baa4l8ptTToN50pwxvmETjnPQpMBVIMxMCz+cUNfhQF7RPBhlTMMwgX1j3ByjEfjThJsTdhAohO3DqaMqVP4SC6FABxwQAAAHoBnhd0R/8BUBc4USNLOQp8E5Vwd9rmngABtIp4b59ksSGPvrqhfdsAq2DI6yG0aEzgfvfvgy5WAf6HWygVsbzWwjwqaCcOXhm4WIeN15sTH7cE3Vhj/K1yKctosxqmmQ6QP9GWR/Ohc/DHHPPMBtnIdJK+l+Qk4IAPCAAAAKIBnhlqR/8BUM1y+b2JI1e9SAxACOzP1Im5F2hqAOLnDIj47INJEWAyMQudJpc+H2BtMLv1gWyqDWOhSo0+b7u/M9ymyzkUiMN0e9ECi2KEA5F3DS6ep+Ps91uBQ7VZtqDT8eMfzlq+PBhAOhkW4+1iTEn2gDqK58IdSW116dsJAiaQlXp0J0jhBRHV0xwd4T8DUIoOtqyIYXNx8L3Lep4AZcEAAAECQZoeSahBbJlMCE///fEAAcb03m4coxg0JGg6i8egBrN7wPzzcC4e74gBtRLIP+/etM20FsL0hgpRa1NSJ9WBpkSh24hsMQS+b34G/VTFcIlaWTh9m5gXdR97q+iiN9YfTcMuoKoLaXDkY7p35XLC8mXliu0zpF01QvfiZ9D/KDxw3RWTcA8fqZYlqMFNfhhQAVdSLc/7YMSXw43iCYEPKJGUKurYi6Y4BxB0a3wMFcjxhJHVJSfRdgHUQf5hrKYCqgMpAYEPrg0dCVhAwFbo342JPTKIovbuz2Hk5xjC3nMQLWARC+j7X9gsBbzovDifnwPTIcU483KhIdcFDUABS4HdAAAAwkGePEUVLCP/ANNvApM1jg/Q0/Vu0NSl1tjQCWoAOKvkrAKH17TOO20ycoevUCfFdp/KeiQS3EToLVfvZvYwFzl+03WUeyVNGvoWvWELggtXPPeUKIf87Jn8EL7/Y8707kw3csA3QRLCPas0JAbav6ZGo3fhCNcgOlFgCD7pz7i0OWEVg7GQkH6cub61c9He8gL9KE00OtW63K2KpEMulrkwl9KbDiRvzbdcWK/zBuuKaWB1PcQBKiGvYvUy8+DEACPhAAAAngGeW3RH/wFQFzhRFGPk2Wb+8IgTi8dTFLRp/OqgAuKybogeovmZJPlPYbnUAyEyxhw8CDkbcWr9SYLkTHzl8IQQetX1k/C8kZgOkt5KskS1vvGv45FNnih3boi2UknKYKRK2pvXVIyPtzKqGGHd5zVRsB0ufGQaQwyarGFpDPDlWtDWGjdl8UTetdJz9EjVxIiu0CASBqv7w1C/ABFxAAAAmAGeXWpH/wFQzXL5tkQtVMtVFQW8grACPdm/nYFtO7SwiqfwDMqVwikJFjep8wzRMj74iEgc/hlGZVC6ITmuycblXgLnjo1LzqCEeqGOwEC6WCWU76u87vZAvLX6CMrtmFWDNBxc7g9Li+qlcd3ZKFdTk494RU5IRVlD5Bj3mdx4+KGhselbGhjJQSgc8G8Kx+aN2dhQALaAAAAA70GaQkmoQWyZTAhH//3hAADz+jjXFZOdJqFV9Rx7hKPzHAfr0owCBxTU+OjCIY/im6uGKrHrPFo+KQiLx/mdpjeScZytiyJug+bHkzvclvBn1sWlK7H5U8IwOd1vfQHRhVw+kph+q9HzLMYwZcV/bAonzBOVnypPVZVDF+H/nucNc+jlkoBq8sr33aeO0m4EtRhKXABCu+NywDj//SZl3xWBEJ2nMt1Zn9r9EptFNDGXVnGDvi4bArl7fTBHG39rlsYvIebIsUrjBFcymzWK/ZgLR+V0I/gX30J68g1hBvY9IPo75bAgbKykUSiGNgMWAAAAo0GeYEUVLCP/ANNvApM1jg/P/mkvicACw4oc3o/2trA+8F8QM6G5I5jZkrUt3ZOtcm/X6jX93lQt4tmuwrJlXhzaCswM+HAPP+aGQaWi+INisj1UGSOwUG57ZfEUqFDPHzWtwYs8xHX6ISaW2giiU6VDGyMMQCKoa69Wj7QYwvItq/SlOqXwYe2lI8nZpTdCded6GAnUYWam+wLNg+o0cwtogh8AAACKAZ6fdEf/AVAXOFEUY9baIwqIMs5s6gCLkPLMozF7AyrahuVjrARuJb7Voia3LTp1CmjivsHR6riuBMPJqoJQVy/Cs231dBj4KYHb+t3GwHhEvYWY5gTPM6uzhoCfr9KZvEW33iDxBXjrIQ+VSl05guvDg4TFetwMkQTWYvgR3XDh/lXEGP08ADPgAAAAqAGegWpH/wFQzXL5tkQySXJuocQA6AqDCmGdKr86kp4APhgIr7zwCGHZROd6au6oyr8+xG390EyCVu0/wF5auwUONWO6R4wK9kJJ86PpbJora6MwUFM7StKpeDlv1vJnyqE2PlvobaIpAlgGV2dc6XDbaSv0HiptaEPqHHGAKfEhxemTIncZF46nfOa6/9WoruuTEzKX8Vo+lsntJiKCSZmj+o+rqAAIOQAAATRBmoZJqEFsmUwIX//+jLAADv8J011RkkYvH5EADZ7b09mhd4DtVK/taj+xMMOIwKS9/5goFGXlGtQHorj7z5s29yEzrSFZtZjYogbGL1nsrNszZ05zWSe2bdkx91k7nd0eZMpmkViuSsJiRIYG6cFwvft+xhjuor8paffrLoD8IYWTTwLqv9zRPuTCwmmELG0v6OzoKujMCyXWq5H2ec/6SQ7xx53+HXrmA+Zl9wj8SiTzIR8eEXmdZI+safSHxdFnnE6m7MI4djvRqkyIRWMfkEfKqiDwT9R9gCNksMAsJ8+Ra2d/4WqRxOotKwZgCU0J4d9TpRhuYKVrT/U8pmuUBdF8lD04YbQi+oSSmweSaTHF1ip3OR7KMlWqWeBFg2UddqRUb8EV74H6PZOQS8F/1qAETAAAANlBnqRFFSwj/wDTbwKTNY4Pz/5ovSGJsZnVfR5T016AIi+3x+GpfhYhyK3/F8TmAe7xxQxklFQ97XhJGfEB5rsBnvM8WI7wv+acB99HwN31uO0G3i7Oj19hCiQEW6y3YQo7/67vxYVJokBRbpCsa8jlWzkGRPX6dEdIrl3EJ9QHjIXxsSWJzePALC382VYHcPgDt2JobKI05V/VnEOQ89461Am1bPowwecaNP/k0ed8z8Wwe4EUuRPgL6DVYk0Fli/y70WYxtNZL5+bz42dklKG2t3EEmDMqAUlAAAAugGew3RH/wFQFzhRFGPWU4N5ASDNAxyZCO8gAIJJvNeHLEKwZlfk3sGIxSaVcQgTerOVE7+BmtgTXnnCSw7StdVJpELdclCHDfSoV7LhAJG1RCXWB2S7riTQtOoRwGnAu0GOoGlMzHcel9E9Ja++1mJc1Z5oyg+ee9ShrgKeOQKJkQo4SOiNmzQ5UhbqHJ3D0vrguJCjJp4kPoYEnvGpNlYHGkY2MP1Tb9D8PHKRv1GI4frLbiS5VAAHTQAAAKEBnsVqR/8BUM1y+bZEMgpvROEAYAWHCHu2gjGIjQk1WLzkT4K2+Z/YCSW3ZRpEduiceGMq2fI2LQHI8YGX+PUYHLbOdB9VNn8eMRMqAlN8dcKXCAe8kkjlUo9soDqlhEydQDoTo76ocCUDS5LvDx2xHJGlf2g9ZmyTGa8BbBtzWuuWOAWMpdUFQxPogH2PBPb2PYBSC0chqeUuGnDtPEgFTQAAARJBmspJqEFsmUwIV//+OEAAGJ9SJa5A3kPJtM7aaD8JqbkUyA3DpykB7W2T88/NB2yjGR7noNqkqHsJYRFIxMBSF9nv4uKspmDoG0R5v7rNrCDJU2CTikXyryUIYMw/AK5ADXcXyqc9NY9yoZbP4sfrsMp2PBKHy0YRDYLRQVKvWhZM4YGEOs2evaO7l8k1qhHbntj6LzjuUDKycigIkk6ffbFesfZwySJP5CxuLT6RzW3AU2e4LO0m7abJkK77b157Xp8nd+JLOj4AKw2AK0dkuXkyG425+2p7xg5y41l37AwLz4msA6HVb4e1bVt8P3KOFUljV+m3aMX9qxOwqOKvbCcqOhPO7mqJJyzNHCJf0BsxAAAAvUGe6EUVLCP/ANNvApM1jg/P/ma/m29yce2NP8+EFxrXaiP2oPwAfzyHmaQCEJEy5nFdPzpjpgKMF9tMfKq+I59xSW20LD/6bbqtm2ngY07yO/QwkQXcSII7rE8myix7Z5rBbm2tSjFqb4/GkdOLOih3emj1tC1KLTL964e1pyEf/3I141g1B6tk2kyGIBV2SrJfxLFLmyfiqCHCTL++bOJYWRwQIUQsfpmQXxz1QqdIakqfAhnVzHcpx8gBxwAAALQBnwd0R/8BUBc4URRj05lCfncYj4AXsAocwBfZGO4YOn+3lmUNgZ8Mjgtm+JPSbtpWh8sX+TYpoXMpSvdcP4RqwnKyQ/KjsKgsXn1Bc04mhbYSvT3SOW+wRG/OIFTsMdNWmO2roTraqiqwkKBfjUAtBdUYV8lRi5GigzPLDyjczoevAkK395AJcEsMVryAR4FaBSPugvVbNkm50xBZWWMQbPIz+zJjYcSh73JWjWskICugAW0AAACdAZ8Jakf/AVDNcvm2RDDnlHwALOS5+GeqeFwAuh8O3mY5zO55hIE4x/tL//h11S4FrLRii9XUqJiz9NksmYpsY38ByZKyscc0ruGI19r4cZat53HiIKC5APFfNkTbHesVR5XArk/BPe8pe9vsqq2f0rESL4kg15bCpmg0shfkFDGc70EXfQMINaeLYZ1famAaCjF4rf5YI+M5AwAg4QAAANdBmw5JqEFsmUwIT//98QAANjv+1mMcxTEiNZzCJ0sjCvYyug4+/UjXaLwIAjR5G5uV4eDku5e/bsFptRqgkm1Mddo/VwjrA7PbGFj5e6o71p5OsDVxpQ0AOt4INCO7D0r/hRarTQfbTttzY55hUTfTjthdlrz0yetL5lyQzbRNF/F1JyNw6GGw0PpucZSDZjXfsigjlr6nT+zC9ZJ2yJnCbLkUNbGavCpgwV2O9B0fkSYpRQHkZl/yl8dCz4D5ymYWrSlhPbvvFVhJJ0o5W8HyyxhbS4QccAAAALlBnyxFFSwj/wDTbwKTNY4Pz/5mkUxsuSvk+wBSukiBvYMa5o5rVi4iL2U3TBJdXiyEsk05iYabpffLmEl/E2IfyM/9+YINgcBXt7pbiVBjbnxG4SiK/27BW5jJFOrSgfmb6TgeYfD9naSS12MFYrcHVM7RlLy/yS5e09rFAxAHuH2+vc9E+ylKTi+yKTHRzlwqjH6sc8rD8WhZ0N3Mu9r+WcrpRuVq3p977msNvBeAybBP2xyD2ggGPAAAALQBn0t0R/8BUBc4URRj02Hf/GtagZuc6aACkOik/RpkaLIIiUPYYexZYSEuO5LfIbKtqc4DV8pMYXgbSbJ2AX9LoHgmmmdgASBEkB5A/gR9vP2ArsLR0Bj031QzujOB7L/AF7xrQj3N1R5VuUR2sN2rchCiInKg3vc0fL6hH1DmGMs3y0W8ArF9zLIFUmQoUKCkAXN0O5ajLRedI39ffd41iOkDFnf39tQRmGROPjmoQnIAR8EAAACcAZ9Nakf/AVDNcvm2RDDFNhOheIRXZHV9+Z9mm4J91QByg26RosXafnddNeCtoja+rm7P77XGlKXg0sWc4i+Kb7vA7xIqBs7uxhrIocKKpVV3fzRojSQ4R3OsbWhswPHuXtluDGi6g/BOGUdLTJ3R2Ey4fsSpTSalQT25Y3gIGHwxzWZUHRapxlFGHh4hBx08GnJCY2kYwbdpwAjZAAAA/EGbUkmoQWyZTAhf//6MsAACI9N57iFL5H/wAa/k2XQhDtvGCxSA7rPsKNxFklkqJvVL+Tu7JogthW967IlXSlE/ZNJ/uhPEgLC0+iZkB4n0xJYT8DLAXF4mnF+bzHvyjR3lN8mEGeJlrUonvfXXKh6mQvBeLAtPkEdZiOQycCmZNRtKT90lu+zAWn2V03kvfwnECnZdFatdSgSJweAIaokCUOZ4jgca7QC8pOpgzDqHz81/vpLqg5HCebg1k34TjEGO/uRVw4LeaRAyWJIRtpVabfTfNPaXW/mawQCknUjkpnMh2IzEjskQsJi4mR2PXlPgrIVMSlLvm6yk4QAAAKRBn3BFFSwj/wDTbwKTNY4Pz/5ltuW8P+lRa8DSABspx7H/MBAhSN6M36VVsY42ZIrwPNSuMOmPe4sj8JBce/qPd1cLRcHvNWSvv6hs6roR8VEHRXMqF7pbkTyH/Gp+kpqh1bESJdvPilIjertt3AUhoW9+EjUQtLKwbXtuki3lt+hzMFRrEjFrEuLAnS0OOxNddjkhdf/AGdanOn2tH5btI0BbQAAAAI4Bn490R/8BUBc4URRj0lWbuzXfHc9CClbERIc4MMpl8pfFzU+PzTY6aAFboTWKliePBsiXZigORdxnRTJZj5tJm5eEfZOZKTvFq65zJeYdy9XtUs1//TUR0E8RhMKjpIdBaYWXzaKbMT7I738VQ0j+7jrJffBCHUi6R7e03gB3K5gHNvAGsungoG8uAB0wAAAAdAGfkWpH/wFQzXL5tkQwVYIvNkCVbWyuC2OBn2gh+2nD/zamJQNXr73oMlOodjvTUi6d4eDwt9mEIuJarP/7pdADS4D5oe9vURk7ubJUnGfVgvGhinBGNGRqnP4PqaJbbwC7xjijd1Jn3zt/r6fiQE8XgAP9AAAA20GblkmoQWyZTAhX//44QAAH93/pGjN9avox7b41ADXafAY2RmPXVV+G23ArMBxuR6/3n2DqXngejW28jnJ4CBriqmb7h6zm+51O3tuuYSvSFgsOEGBfyVg4MqRK0is+syp3WvBsyL5JAudqInBCM7jlE0OJrcx7jZU+7G0R2fYjXf81aWlXTpssvEOiID1QQ5Q/JzRcjMfwwOSnmT6gHeGUO/zejy7JbSivtXO8ua1VuU+8OyK9TxTdGcn7euRXLdfTjn6bg0f0wbk5i07hjHylVWN3wGq7uoA4IAAAAK5Bn7RFFSwn/wCxecMuWePotudsLXOg9mJQo8AVWEdJdgXeSZ9Vh0XgVuETfooLtAYFH6XFeafkAulV3uZHHuiBUuywNfNMCyUrkKdtlZzOCFjvTae/ZE+mqBqWIq7nG8u09AiH/ll5nP2AwSs6m8ALCR8fiZJq4jJrqzFgokhB7J9yNSSbBR/4FU/SHfAlR2VdMb96lAOSZLlis+CwjM/WLkauQlW2Djj7wgZlhcQAAACGAZ/TdEf/AVAXOFEUY9JQpGRVQBRfvP2ruhTjjssibDmKAj4LnJ9plyvgzohLwUO/GeXhiAAcbCO0i1BB5UZydBElYp+nMUCdlwQKBbAQu4BRx5tdxzqh70B8ijrSdg4CWsiYpzmnRjAtaB8ZXRgr2Six3k+p+vPT/HzP4uUJ2eE3nVTQEDEAAAC5AZ/Vakf/AVDNcvm2RDBVMtvHv8p4ACjRxqoGDaBWHZcoivdKsGjNGD5/X0OxQUDWWdR58M7PxeBGn7tIGX1Z2iAXCTu6vvWbPdvzSPu4wArNn0HbVRTnH5MEahTL0c3gJxmDkVEyoLKGfjS1x+IRVoxndEx/GLR1lnfR7ofhAQBWwnCWP7N16wkY0jphRHDpJZtKODGsveJ6JGFM2f6chlmT8w6nuUMy+XwojOix9MYDCMY8NDeI7oAAAAEBQZvaSahBbJlMCEf//eEAABsd/2lABhuTaAGQA7NqAKAunyEQpmgkX3yr1DLpCiVv+SJvO+9GLUGaykvDipEaJKw3SXytbMV5gsxNdCaNus2tDa4bq9VXJrDF/UT+HAibkhHcJnB1T12duEDBFQVqgN8yDfZY32u61/ISmxzUgB6yJpeRv01iSvhg7aF3iwh9ch8LzCeN5DzIMFRYvgBzDnxLxlNRdK+FlkCIVyMR/kYHZcjPW4h5in6YWcAzu9zdhezvWni+apVbCXubMvEZJSl+WNKpDZt/FnDRWJyJJSRicjgqvkb1C77JYrfLfHurlloJvsFr5ufRlN4uctAAwIEAAACrQZ/4RRUsI/8A028CkzWOD8/+ZaPzc/ct6AEZDcjdTaHis8sMLUdDfFpHwqjN2elK7MBHISDGNjTZ8PUjSSszSoyC1Oule7f626Rm/ooQNO+YtW5XNG9F5dXifOK7vqxKmQC8Z7whq7DiDqn/9PhFnyxhHF6h297UxLvVh2d0LcL4hH0/mytD+tg6/hGD5vOK8gDHMAVabo0EW9yBXcuWUo2t++9f50yNABVRAAAAkgGeF3RH/wFQFzhRFGPSN9ycWP4NAABv6lGKqpohIxCyccVW0iPihZHxBZFcovEVDoZDHsOoW4lxOslIDKivDN+NjHF9yO75OljTWWxuj7nV+7rW4t9YE3ZGaWTvpAEsS+ZYJvPmyvD02xH33Wyz0Z0mFeffzx2x7a2QmRLqZaD5w7+bwy0BfN/AM8tNvgMisQpIAAAAnQGeGWpH/wFQzXL5tkQwLczkgB0iLx3xPMZCYXfN/ztJ0xQHwSF32L7HEFTSGg6LJEqP9TTKbdRWUwjBWZ2vB1Xr9h4IFSCuUrYzNHjuhEdjYJ/6Voio2cPGUdzeRuO04l7zR4LD4ThuuJbCoUty9fAI3wafqHjep+srAScsjeNnHSQkAZVPYu4aDYiqBuEET1VKbP8dg+HGxjk6D5kAAAC0QZodSahBbJlMCE///fEAAAdzf4jiXfPPIkmMOozoNMeAIOFbpVS419/11TiZkWxzNeusauImlB2NLgyC2I2KlCIImp36EaBSU7FhjBjeESq53cZzhIEECvrU+Q4zDcv5bTqIm5HEspVIh5g8oA/3H3vzXp/AdCmAQGkpwCnjgBC3PLHxNBuB+ghcj+3EOvbi9H2SrOcn89H7Y4FFveeNF+xRWgvnFKVvinIz8uumAuvJH0/wAAAAsUGeO0UVLCP/ANNvApM1jg/P/mVnWFNQaejcX6QakRsMqxpX9BD1FBSoFX/poALYVURBZ1GyhyKzbZOD4ve2ll/rcpzL2VebM6fBFjj3BRYdDM/qr+tJ0MSxZRprjKR8swlyuDjCtFhAERXbB9WxvKXXlo7EnWy9hElQ0uQFwbnzyFBSkTqiiVtYQJWykvG1OdHEjoR0mIXGbGGz3j4DOB9GezoK73hPWU/OtbD8H4ADewAAAH4BnlxqR/8BUM1y+bZEMCpNUSByC4l+YzPSVVqbvz/KicWRyQ/lwnmJwe6TT6RADWDF9evlhYgqISU33868Xf5i6C1xkSUSzlIyyJcs+B8+ZGy+gMNBYD5ntj8AfoKZA8MH2rsJQFDiXJ5JAF4MDfxr0RQYpluVvkGi4qgMCPkAAAEFQZpBSahBbJlMCE///fEAAAdHf9t444i/wLjShtcAeyl4TPYzkjLsFWEyFIVRC0vI/obMmI8k3F84vU1shQ8ceD37b+ioRtIyfy09Kj64Xy57VZuW0R5/pv/02z59rFfcEg2ARTt+yRPNUCtgFZThyOpZuif/e8cQE7I0JJ7MV44wXqrltuUkpUKdsv3pzj+8ttgtCHBi1BC0FzZZpec2W00zMKCb1FoO7YLQGgednot+gXnqTmJgiNEAG6op4qycHEdD5PFhZsF5YYB+LSagB5lvR3huxgduJ6GdMEKz6TOP28pGufb2pIYJ+7xWdVTdSzGOcbSvhq/LcOqCCfl6vPSHxe6AAAAApUGef0UVLCP/ANNvApM1jg/P/mVmi1tPaH2r7ThD97VHwJl7NvkxTe+g+SuTDfL61ocWhPGQAE6yIv1sVoeT8cExDRgY0ytzx7u/RDBj2iFtmQ9ZhM0939IIbtPAu/wyr03U8KV/D8ixNFAlxHuyORVyX6lJitoCfWO3L/TIAvtvEEOQ7d1g6tIDFr4/93MC2uxI39EkX3ug68up7HZcsQndHFCCvgAAAJQBnp50R/8BUBc4URRj0eowAHaSy4nES9VEphCrtvYx1n6vCIfmtkyg8zJVCsZ4AWtU6bpIDZa89atbEIrTm37Q6bo9xkX81Y0B588fxPoYJFUCmwMN+JzJysQ6445UY4tVeICbteAU5Nwvx5lUIStP8+FDhPWMVoig18tE3kezJGlRxQmQhnTkcH7/mtcEoeLA7gPzAAAAjAGegGpH/wFQzXL5tkQwGfaePV8X9+mAQRfKQzlKr+E3oboskaSQNGQfw59LG9vACauxTw4LVgyN/LqD3SUIUaZStipxdRFMABLfpwSvh9Ym4BW9P4iZZrxJunwq6fWYqki3A0s5g6Gly4gH8DOdGiiP9/KspdUT6eE09bJjxW/pNiU8HE5za4VsfGHTAAAA+EGahUmoQWyZTAhP//3xAAADAtnJ53q80GLSJUBU27cGjD3evjMXlK0hp0j4W+nZUo0hpIJ0Kp80W/6icJ0v/xUcfVdb/3Nukyoo9aV6KATCPHY2bsg6gSnt6rnMkRXuFvuZNSK+f2GGIqrF3VJcNyQqTpwBhf9RgNouCW9scoKmQ/febdEJy5Nd7UE1X8Dccnoe+iPyx2/L6tiLFoAVMRQl/owWTeDHvG6cCbyzIwwrH1/0+cX2dv9DKYRwCQTtjisJB5tIZHohTJdkH0kEYp45uow3aR1y6XgxqtHH/4nDaMbou2/7B6peSXN3c/83AigozGWSiw6ZAAAAtkGeo0UVLCP/ANNvApM1jg/P/mVJswyK6CUbwBvGtwNIAHG3tVUPq+akdjGPN+DksSt54TDVSVvnyOgwIWwSxDmS0jxnq98apRAZetYXp+bOJxrKY10pUJGED0kX16c5rfjQ2pvSn09PW1GOZNvnuCmRQf9+QTwHNKGrz7D/zkxAxFKpYB72zXx64zaWhWfKU7nhoaFQ3wma/X+PWIACHMCHouRXxBoyFo2Hqhz0j6m4+AX5kB+QAAAAkQGewnRH/wFQFzhRFGPRxt7cWB+JOkVHIAALVr//jfoylEfJ8e9U+T7vPbzDIgMuN1Ec2fEpZWIX9XBzSXKpAiiBZ6aRp1bU9tUcRN9f/Xll6N1uEbXrmxLEyb3E3T6dLINvpypABZ7NKdfYccBk8GGkwoYTX/fPo1oAL9MZdG5LDTADg/384bU4fwKNGesAGVEAAACwAZ7Eakf/AVDNcvm2RDAZ6tgburBCC1lASJqBxVACL9IbnpKQIoPukVFn6cExAsJb5gDyEUdreGXg+Qby+8fwDWAWmUVCPycu1vSpr8Fb9lXKwlYIZxNdf4cMPrO1vxqHe3s0MdSR9baxxjHsZX5XIPID6PhVbz0Hc7AUP9tLxvuaPli51D7whtTVNqPX44/a1zK3UWtpGpABdaMuiAwKGVhKcPdd8Ubbs5zgbq04HrEAAAC9QZrJSahBbJlMCE///fEAAAMCx8n2/KZItxpkwAG3ZluEsG/J0wn1JsAiorOS1EQgyLsHJv3ieP4uDHjXIYKzFdcXxdcZ8nkSreAkqB/6xJpsXUCEXchA/0BQu0J2q5aCDiRgm8pvQAACElN602N27LdXBFc19JR8uMWP9scD1oRVJyd/NbTfcDFYZDh9Idi4sr+xbHZso7u/6SlfPCBSPwrR2NC8D94aImE9fsq+0tqHSWsGQTgFDgBkSD0hAAAAs0Ge50UVLCP/ANNvApM1jg/P/mVMarv5IjADb6kmjxNmUU9ROpyokAQQLXwa/A4+FcdFZoG4PAnzuDMDcfcxgmuMK7+xpBQA+FCOTjrMjm5fHUtIDXbw1xDYppYyT5ILrzeeObmysQR2jkG6XIADX0ee4fGC5K7gFDygUOMVFisDoysfiZhivznAQaEVVUfbWcPSsfvtzKTUinFNRXCVun4r+KcHUwR4fbwszgienQLaACDhAAAAswGfBnRH/wFQFzhRFGPRyLejlx0wADZ8Mp+RozYwVp6kf/TXyVRTvzdXmvBMRgNT7dgySj1dyn9aK+D/ZCo7P+8D0/gs1690v7g5agDen4dHJCo/Dky7rLSZ/KrgMmHz121vWphNdOjiG1zXiOcrLS/Q+F+f0W5mwheFI9ePhYge4zs7gn+OrOVzIp2olymWPDBcAB5lQpXGQ0lbb6LE0YEycZl80CL8hi1tkT70s7i+AB3QAAAAogGfCGpH/wFQzXL5tkQwG1tL9cfaPy/+9rACHIrEwWP3feYj6SbiMFO3rweJpOT6jKt2V4gdbEi4RktuGNlpTQmJfo2Q/6x6M3VoVhs+U55lgEzaQlOsh1+rPf0vLdLvHnSXOIAMPr7UOPHZebB4Qzc1crqLp8rAuDA9GCgEMWU2y1fOOUlmpAij2IhKiWmzFv/7YKZ3fQvG2g10mSD0WAAMCAAAAORBmw1JqEFsmUwIT//98QAAAwM76br6vRW/5Xvo9j1AP3BUXe0Ygq+Ryf2R1SuNaxfAvbsXYp7UcsusEtdKBfeWJPKZIqrBb1ck54lWm7x0O7xaXrmztWXRZlVNKC6p3bCHdms9GFvur3uAuk7CbId6vRPwjtQZZpR+YZUKBJytDHTzt3iW2Abx/TDnEe0FQBVt4sqoCegbJhpk1BtRK95NqYUK8ExJ0X9XLshdOdTzIGMChwG7qEHX7I/Ow8h95knOGyHLNgwJ22y0gai+jA0oR4y1oaZjqKznHRVT6DOsa36+dH0AAACjQZ8rRRUsI/8A028CkzWOD8/+ZUx1eYInkKZA/cAvoElMzsahRvo4ALEAQizZlt6FS2w6NxD9kK2n5vcdC6CvWhVg91IH8lqQ18nXJ7HvVZc75a/VzllGRiJ7zv9pEdO1TbMZ52Z4/b6QqdzbAvYBcx6CAT7vll9ABlaVOpc37key4XABrNNX774WobVuTJ/x3IKcYTPqi+ven6HWV6xfVLABUwAAAIgBn0p0R/8BUBc4URRj0cnew119ABZyXPwz1TwuAhvGgiMWXz50O3jHkWXGP4IqLN79yWhlo75nAVWUKfWpoFZ23MSwjv3TXWGtVcV78M8Ag2DsCM85cVHL5ZYwxbALiUUNaZkQgMAAf4nYDMI5Tuv6jVSkY2U2ke0b+PPwveWOIU7L6C8wAA2YAAAAkAGfTGpH/wFQzXL5tkQwFBagJqZ8B8Q5BHNSpaagB/SbzXhyxCrKZ4KBdAxccfGqr37HAHO9/lw40IchqFXIH887LhOF8/maYSkAAIx0IPPfs5NhN3y4hj3o3TBdtw5ixOQd++wyncnyQhYe0Qfy8zZQf2zDkagImh+I+CyrN1Uh0Fkzq/WKaRYMuH3Xm8ACpwAAARZBm1FJqEFsmUwIT//98QAAAwEG6JtZcERLWFC/LADnw1LNj++EDlFduvx2uzgFg2q4G7NEgBvxr/SbpF5oYrjlGjf9rF/CDnreO0rGxAN8/ghhxlvQ4Z+Z1YwRcDmg3d7GWQIDJFr83fEoQtUHSXXwXoPH57DjrDdapzICYuzzt/zO1FcqzTNT5xji1PmHjQtLfYyXRfjl1fiAWqk5ncrTS65JaoRLIBe9ouEdtm8c0I7Cjav6Yq7QhpB4wokNf94mR/TysqaqSoMMnI5qdZ6AnMhG1vQ6EDXROVSKB8bfbrIyo9VK0zjCWIqI2b5hhnu9ErCMtMtGjla+do/H1+oGffe0UopDQA1JemRyh9i9IjBwKuDPgQAAAL5Bn29FFSwj/wDTbwKTNY4Pz/5lP2Qeng0DKvnxQAK5VNViZJtlWdkc2ygK8xHRg7auCU59Z5g4RD3SMUECg2SbY1iudGdi0MV6MTX1cChfcC49rt5cAVbcKoE6HNyrmt5ylk1bJDOa2b1p/6BcATedQnuSKxDJsUq6jPZV5+b9RQNXmvKKwPmV6bZpdr0irf8WyfBBBB8fGzKyh2/L5PjTB9WQrqzR5D8gep6731zF2IFPBa8xPhUh2/eWAAGzAAAAsgGfjnRH/wFQFzhRFGPRuX5eTVGJdVHUVAEItYCwExHNe4LlEZvpBkn+4/LlGhqzfRpGIand1Dmysk/ObWFNgtLI2QpsU+9SWFaSkG29VZzFmsjlMvE147AvFzngRjXqw2iMzjp92JmEuAq2lxy3tGPEkwpy/4oF0kX6MqwT2E7fGlxu/CKOcDblUQyCRLxykpMNFOOkmSXQo6bThcH+icxlDjhWZOgelUIZEsq4UzAAgYAAAADjAZ+Qakf/AVDNcvm2RDAUFqCf+TjdgATv4PX8cRdYS0Mjvvsr0P+GTu6y3ucyN+O+J5hr7gIF5qv0xFk7VpbSJktaQkWloIHkJQVHg/vhpH3VLpH1mKYPYME35rxDDtCGnTMvwXxQIL3ReeID+B4vmINs6P3M3BoVwiqdaEFFzG6XYfdl8F6wsNugASEgtxzyOBm8VJ56HboropQMerXQimLFR57Gv5HecQ7ONQtZNbNMlhnmURmq25BfuYMHTQxwMJbJzQqF5MH6prbnLPa4I6pePXAJJktZE+TtpD2HneEAAasAAADYQZuVSahBbJlMCE///fEAAAMA42/7cPeTtFW8wAK61f6mtL8sRYU2Gl/QoOKqZtD48YxaCn8y/wgHgeUgg90xE4V/fxbsT3A+JRPlL1yeHkdRR5mGy0jznH0BOBsqjWWbZOXoSczs870IYntALmfM1ycaiSaP4MfuTHGUiFSsYonuH8Okigod/4+oL+Sx95HFzqy7Ge5XClrCcu0sAS0o5NHp+RvWmQxJazbDlQ0PEMsYG9PykjWgYWyCsBL5daDfrsLhG1EU8Uw9TQube/WV4oUL16Sj5suvAAAAq0Gfs0UVLCP/ANNvApM1jg/P/mU/ZBcSaxDADb7kk5orOzhDNMjvZFr1lauEPdDJV8XLyJ+mazFJcInnRmtAeiFB2ykZv/SY5IqOke/2xCxJixsJg9CA+cSTCMS+/oKFU53NuF4aiCdUVumNTJLqWNSGDXTZTffN2YDOFX6ETVbvOCNnVHsxCk84TfhN2n4Ei6RsTeOe0OYZkyAYpbcfbqnnokbeVs+MuYAKmAAAAJsBn9J0R/8BUBc4URRj0bl+QgkJIALWW1J1NABC8PWLnI2ZTxjZ1FN5gdJak5Cls1kq7fbvc9vDCS4rVQKWZB20UfEtSgw6d18wLM1RludTeQmQBNmlaHYTV9qWFjTkybPdh40l/Trs2TytdFpZ0hKLNk3+mjqByD7lNw77pWe/V9ofWeJdDlvBFYsMxPzPnhJUESM2QXZxFgAakAAAAMkBn9RqR/8BUM1y+bZEMBQWlpR/1o38JGAIRawFgYNoHBnGGMoXqZ8TdhU4L89yeRGaeXhVTIjNGAKReDs387Atp3zMkP4TEcUC5B9Hl7pqroXA5THPbGtbpn/BrSNn9bYdQgVzV8vgVw+bdv1uyckec5Otv4tUJ7sX9tHELfAVYXLVA6CDS1o/7fltB1p1UsQ/UZC9D1Gsu5Jtt8/2nkuxRIje+RWmq5O4Ifwbz4elRjsN7puoQWZXgEg/LszKni0gG2X5pUIQDKkAAADLQZvZSahBbJlMCF///oywAAALf7mmd/5GwoLhFaDDBzFg4+AC4xIec6i6h6qMxhua/IkxNyuZpAfiobPURi+bX2OqPQlVeTDvpV6t403SM5zYLxL/hVJ8UH+GWRaFXJsvFy32RDlIQWKw2DqqptQnSla8DhDXN5Ehb0br71aRIEaSSy6a1puSl1itiCQ1NVTBJaHd4R/LAHcENjU+iMPj9/sHUrpzORK5nkdrGH2pMNwCoToV7RNa9h3aTJ0XUihxWhkbwzkoAcQVpVQAAACtQZ/3RRUsI/8A028CkzWOD8/+ZT9kB2fHk8vNe+QFCj3Js25zOK6iz/CPuN+AyAzqyzqQy96jYYd2VkUhs5wzhBuL7FdHoxuQqbNOcqQ5jQPjTllqajik3gR1PnHvOoMHAINkwVuvqgJ8vNo82MFtr+wTGKWVIKL8eIwnyAhLvyFl5B0mKXTl5nUj2yE4DXzceAAWLRV/175ETFZWoq/0VoYOSAjYCckBGpgARcEAAACuAZ4WdEf/AVAXOFEUY9G5fh3/LOADo1RjLLFBuuyFHUi/BCHJRhEr3UYB2NdPIXR3N5L/5c9BT+nfat5rzYmP64PM85Fq7LI5dsto9lKu8Flez/IcDu6WwkZDyHem+5vL7qx//r5xxnYS3HQlzQ7flifz/ATUzpVoKKib/u0o7TDk7k4FTwvwA/VO/DPRNAiXiBC/S4aB/ZQXm5y6gbIPCQlcOCGcgKXOzcwu0Y6ZAAAA2wGeGGpH/wFQzXL5tkQwFBaMsEbuW44i3oAcK0YubUIF7QdPcFLBEEr6stKUj6i2qtRAHFybGlNdtCNqYguBKiBNBh8fWDvvsigbKVdaz2ssizaa+2TZjuQ+uhmOIUjuLFmhmHxeV3W4K6SrXpU1PN9+0lI8YUY7KA5boX/IP5uBBaLhGrPXVU/xP994J9pjSOPAGfjNpDtT1y2emOH7UWW8r7vXRcoriG11tUy0iZ3sAeqhZIFj3peKhXbGiD/t2HnBhX/V8LH1BE885MnIW2vIT2u3ASrCEFSKSAAAAPBBmh1JqEFsmUwIV//+OEAAABDuibLx/nKf74FWYzXXKKLlyADjceVpBwOnCcw4FOI0agfOizWXQ4kVdrHkEpUzcyAPviA9xS/+yePXXcyDYeOgSogCG7nUH6nDyVFS71kfaY2yc/tw/Mi0nAGLCHsmi3SSHR9p0Tz6kKBC2jTST4Zlpml3Y6cFhgDSLh7rQcOW4EznKFN7MNPmktAsZTsQLpKZFRbJ/T7VK22RodQLL+XekHKSrKLYW3R17kYXHOogo94iaf/sK8v6r48P/m40RWfleW0If1eVF+6tEld4ZJBpk6TXUesX3rQby0JmfJ0AAADmQZ47RRUsI/8A028CkzWOD8/+ZT9kB2c6tFnJ2hIgAV//Ob0fvDxpo82tsdASD7Fm9njJKCsDHGzJFcFJKPFRcp5evSmPqulOFnCgkg+PRSbJSIXtRYtjbR3ez1MxruOkXvpFVRKuZx2jkQjORO0YBsnVUw8ePLiY7qyttkvm7ysDANwkTf5rbpcf0jfh7b6njzZQkrvhQ2mBLRr8mA8vgp0mr4MUIuBghX7JRHWZOL7bHxnGOgu0DMnwtU7oDt0pAkL1aOubN8z4gX5mSfwwk7DZ5nD+fYW4ZgcdPkDWISyT4MOkAZ8AAACfAZ5adEf/AVAXOFEUY9G5fhzKBtBVvcwDr6ANXoU/vSxCntrq4jQx/OHHgz+WEe9bFZdHvv+5yZIPmh729RGTu5slScZ9WC8aGLiYT3bMPBMLzpEf+ADUkitn4a5WCLJuh89GEXESuXq9g32sq1j0L9LuP+yDj8qOLSL4adfRPXertQTQi+hkgGf0IDG1NjUXynEH6leXahQIAqCQADehAAAArgGeXGpH/wFQzXL5tkQwFBaMsHwSB+BD3vN5FACJi750cF1CN13KUvAR9pG1cAqqnq8G3bKzyx0jZWUfjq8RAGnfzHUH7JRICvVRhYPe5tORAeaFlAztjts+6AC+SsMHu+H5V9tplu19MAkjYYtY5h4eAXfHVFP3nA0bwGbYkRv6hRX2pDCMKKhZhLN8xu5a9Byfqymia3xoXd9aZu9mVidTXDKg8XUoCW8W7EADwwAAASFBmkFJqEFsmUwIT//98QAAAwBUeeIACd7XO8OBgNdXPWB26hv9br59zyQDrvpobmbgeitLlcD1pbNUE2l6Qh3ei+jm3uViVrWVUxJB9I/6bv9UM/JyXK/mj0EV6JWTVa0LT31zYCGfqUrxtq+CnxVMpGbdb8Sj1LltE8wn8F/rtaQRSE3dXPLRew0JmoWoZ9YxPCDmcliDUlJI5ocpF7SlXFCtYI8nURT0trkzF5/ZsqE3wZqjnUeFalFLUohkh7oX4Ph0fdw5Aq2f7DEs12iLkOeeOedhXHJ6c7Qygd2UG+nVl9uqss0exGTB3iSGLThPuwkg+5iQohZTeQhZOuMwTuxRJVgmWdo5u119057HmBQ/Vit+fuhYUCkXWSEmkFQQAAAA/UGef0UVLCP/ANNvApM1jg/P/mU/ZAdnOrRhp8zyTtx69q2Qgbs8IohdAAICaar70a59igxO2BeRagPcfcu9/tdGuZu8GHQa1QSSxzgI7mGbL4YRX0mcVYWZ5ZPlNfhqOAXcw8sgZYAuan72s+b6wccJS0rSCmC+O8s/waQg6kRIrG0pQ6VXTk3Br5DiJcpi8kxIgbsbVoro2ZgB6GLTvB+S3qUfpnFlhLYILJ94NLfJgjMVeDp9IrFsN5scnlLm9s7rIyFMxEwATr6yPsjKTF94R6XfnEl1lKkn5eS/lfpGw73O8HiVEciYoF2a8XolAfQ81qNCkvt1QapYPSAAAAC5AZ6edEf/AVAXOFEUY9G5fhzJ7XWI/o91hF8q7eRxF4zFDxTQA4KvFyF4i+ybZg8tYdyYtdb34BKe4vbl9E9igI0jAF6kxxby03JHrglBALD2o8VuyX32H9KmK70wfXjiNZLR2fgj8HTD2grwFJ5/4ea7TIpamfe+DbPMbtCQNplcg7ZTH9A1/EA0rbZ1gzNJngjFZZWuq7LcaPWRykn6UbwwbkqBvIooXwq/yQfHXyC52gzj1PAAxYEAAACYAZ6Aakf/AVDNcvm2RDAUFoywddozq2ANqYF4OdandkGS2lcNHNzGshg2gay4kTBSmz5XP7rJ8t0uqYAsK4/eJf8KvKzKA4XcYbqYSTSWC/sZDq14fBkczzxvmDi1C18EAoRzkHwspls8ugUN7MJ0P+BVNrmhCf8XOq+rRL0uX1BBIwbDCFboPX3Kxh681lqHlPtxdBTuGpAAAAEYQZqFSahBbJlMCGf//p4QAAAIt8WMB3jcC+qXOMybhD8wjqldd7Ig74aNkME1VpphVsUXrulU2dQcXIA4JNxW+mzxw2ftoUuPVolfvzlHX2Zu9qE46f0ceM8vaJBdq5yNiMrc9n7/Ls6/NVyjFjt0GW6CaAddvDBB9eZ0Bi2Y5CoJ80MtetJi4h4/YKw1Eth91oTQFNzcAyUt5cyubnKHxPpVv06mnR8qudyeL1p6w1WjLjz5/tPqHSsELf0bQhYev1072VlhJ+2NJQcj4s+ImBSXplSuW8zlX5khfQjxE+ss9RZ9eE7Ame5j5eAU618h0yJ/r8SfsSV0/YuScdkPOueAT2N0YbPXPl7hk9awvO8oIo1gAS+OqQAAAOJBnqNFFSwj/wDTbwKTNY4Pz/5lP2QHZzq0Ycbra818ZYmAAKRfCt+fu//xRxTNV+z8YQTQFBfrgruTMJDC5KezcSpbIIEzBZME+2SNcAAC16mZB8FIMPdkpVM5LeGVdxRllH4jpfgBZlXtUcrnb0Sr7HFuoFxDnVatLGp9MbRAcRQ3DoUE48ZSzS95Qi3HcMHBQUOt2CiuTf3Luy4/t2MmHcrTxdVbqB0UyKfcPaoXNOcUXMuLiRYIgEpDFCPwHQcxUWkZ5xfv4Egi17uDvXSgdzEYf2LRL2+qkDFwcG2qSDAgAAAArwGewnRH/wFQFzhRFGPRuX4cye2plmf1YE0TryCIMilADj1pGpqxmagQTLAzG8XgSiEhkHr8UYBVd+5o8dC1MIJrLcbwc2sGCi7iJG7hwQnh32XModpsQI2a8/2yGYqyYW3t7wn8TB+uvFuCxy5865DeJzzw160yn1DxfdKuErBs2xfahuHtTxrLtnUN6lnohMrYLfRpE4gom8UO8WbX2ZcekOwTYoJDdRiHKwcgdUEAAACZAZ7Eakf/AVDNcvm2RDAUFoywdd1tOiWYzOCQYARe0P0CeFCUrkrT2P27srJPzm2NYyrhO6wBZpI1WPpP2W1HjmptiqYBgt178ZXXRux48aeYyoSdlg6Mcyq7JJQnFFMAaq91qc5h4IONKfJmPZGOv1FC/b1Yg6Jhu1amJN5BrhNh0DZqjStH2cUa/wf3wx/MmYgx3sRUnIPnAAAA8EGayUmoQWyZTAhn//6eEAAAAwGbpXDHkeD0i4F/YeAJhb8cwJyRvu/Lxqug0oyM3tct07xfig8BaqT4myM+TKnVOGNEW/IGUiDq8d31o6QVWZD9P2F+PiLcEuw/Y/ArkvSH6ZpVruZsc2qJqOdn3j3o9PeElGDIAaW2IgE4DEGzT5R2FG0FznE3KhCJ4ZPh8kbEYx8w1VPmuqg3K6jcg3t/Hg+PjG6AKtaIm6QALjDh7AJsuRVXw90WrUbB7uCM4qOy7aOwbashBIfBAzLeKNslfbDUh3Xeg359OzLPrWpGw+zfaNN+N/7XlwN27N+PawAAAJNBnudFFSwj/wDTbwKTNY4Pz/5lP2QHZzq0WcnnvxetUAQ5QC4AWsGqxJoLNxGNN/y+xaewbFgvtKf6bLYPR2i2zzWbXw69+poDX2CtwuruMGWAZez6ypFnGqBsQqilzRZ3xi0KyUHgqQpyVV+gTn8llZJDlxjEXGPwiWVIMQvH71lQxc7bl7iyqAUOttioieAAKCEAAACOAZ8GdEf/AVAXOFEUY9G5fhzJ7X7ORpx/0AFKd5Pls19bRfQUSiC5wOltvRsBX6Kb8AEsvN//HIYkFM5Z4ntl8r7Wx519RfGkT6btWpSx+vglTX2qaYnodEr8db/0YTT85ao4P7ZZqZQ/CRJOLNnLeUan1H4K4jz7ko26VBccYvArFgLyc/eMdnIfi14RcAAAAJQBnwhqR/8BUM1y+bZEMBQWjLB13HAWHWxHEkmFkkskxas8FEpzlpXwkTdCABMLykxMCbJCq61ODk5Mi4xU7VW9vLFTpQHp1XmSbONjn6wLxptF8KGCUdcgqH5JsQU8DonWfm9CAEJks1KBV27h4ThGZvpwmkbJnspYFCz/u+1I6lJzAxhD860Vnko+h3drOwWY7kOOAAAA3kGbDUmoQWyZTAhn//6eEAAAAwF15l0egdwGzTABfXkr1mWb0+i5niwKwUeRbpWLbWdCqI5pz4vQEJzb/qH0s7U2NnL1EATxmJYmyGDcjDzx/SgB1nKDLMZ7YDAgk8hNMmR1VIJau3fZrjKvhAFhUj3J2h7XAUZPWTA91WDJ5q8BDPlUlC6LPGLJyWe0y3Nn7i3SrYQO8FP7iz22JS7/l5ISGStXcgLV8mkoQf/RRnUr81w+gz0fuHi+dxv+7Xl3q62dXWCfTZ4LZr7p2N9ALKJAiZq7Te+iQJzUlOAVRQAAALFBnytFFSwj/wDTbwKTNY4Pz/5lP2QHZzq0WcnnrpLRuHNyABSw1gVMrZhXZM08Wj6b1OG2FUrrEP9yziRc8wUk0T0qTqgDcijHihEHEx1XqdHEyIxk1Qms4uBEE25DSAuzVQeD4tKwABsEAWXFvi9SepdC9CUPa3jHmPwvsrA9YuN6oAqNMSPWq5eEcO70mt7iwkae4xw1UockRjmLCsdNYhAHqcRcf51XQnMBB4EA8YAAAACGAZ9KdEf/AVAXOFEUY9G5fhzJ7X6ssKAb7SAHoAJlI3EsbIkoQoGm5BlfPGDhj3I2qq1x4+q4VXJQzHevkv4kNjR9Hyk8r9U80F26ZqGmkSRPKvDwnkrhntwmVyGyrZxgr7JDu/MdT9NiCvXmnQfZdcsPOfizpezJrotmizYRThBMgTCCDugAAACBAZ9Makf/AVDNcvm2RDAUFoywddxrMgWVUwwAi9ofm6vECmR+nMQx+03q7P07J+9bbq4g+H5VnVF/xpWYqv1Qk2EQwZjpomO06nJHrts89ENCSeTm7ckQ+Fwri8WPxB/Zin62xse0egSqHWb4DGGLgWbQqqRf4JKCOJW1ZjbrkCFhAAAA7kGbUUmoQWyZTAhn//6eEAAAAwFq9lw9RLnGZf7oxyfxKIxeBwnNbim1dCxwc4TGt0Qdn/poqSyoriN53a+FTKZD0zar9xfL31Uzc0uOdLLoU+HqAKj5kWztsF5ez3OzX1fgh0bBe1AHIFtPUJ0hDhn2HHyv6rFK/CHQCilfENWkzppbf05raLxM9v3KEi64Bsbr284ATv02MBuE9DuJhp+xm2W2ltiA5jQcu+3ARytA83vVHh+1ZYhioNx+KutkhothhGvXSb2l5rjr4gRTkGhuWU6qv9p05CiiKfhBxpDyx5jeP7bzgZIO/sA1JfkAAACTQZ9vRRUsI/8A028CkzWOD8/+ZT9kB2c6tFnJ56wG69vTgAOPYhApRN+vdKuyg4ZZCe6gxIVBigM3qMnwzBCjU3C7Ead5ujj0JENCbhv9DdCWOCSOyXXdca9VDV8hN8uy8DH/uXYYa4mNEFTTDPStaraPVmH/pH8r+DDOkGKQWXo1z8oRp9B25HqNeQRqE6LJucIXAAAAhQGfjnRH/wFQFzhRFGPRuX4cye1+p3UXFFCyEOUQACuT/OjfoYB3TItYrZ0VFim37Ztz55zvB+fees8/dsYpxQpw2FWPl20Sgs9o8Fh8J2OiqWWu//bCffaI17lP2wY1ZyjvHCYjd5BeUNrpG6dNyFvzY+eu13TxyheUXKPL57dUGtw0FbAAAACGAZ+Qakf/AVDNcvm2RDAUFoywddxnd2p7wAX914UREZvsGZDPOFWVI6+ucjYb6BkVSJEe0vuOixsaU120I+eiXQU1ZowDCmmdfGufpVmXp72rkZ0kBYtJ/GXo3HMZUFJOr7GIx+ifYxFXz7vFlvgCcR8eJsS6ngJ1kX2wBPcLfAw3op/YBiwAAADoQZuVSahBbJlMCGf//p4QAAADAIpu1r1jAE2i1kyBsFSIKBdHF11o72MD6YsfIEb8q02CGuvf/Cm2xs1kvS6YJxh+aqGvMqouxr/9HrEP+zUVm1D58pZS8q6K59PLjyBRpqodl1zCJIF99VMuwzR+5mtq0Rcb9P14jn4L7NUFJovLr5tcDxPw5/BWUdFUDb30xXPVR2JK5bfyjHldBV5uWAp8FXOJ9qqcMz7uCcUCiosA5lmgXC8bYFYG8e9q/KwOE1P7VLkIw3r2H85uFyeJhvQwwwr5pnqoD/PR1w3DTdd6oPnf+P1LMQAAAINBn7NFFSwj/wDTbwKTNY4Pz/5lP2QHZzq0WcnnahqcXx5A2RzjkYAHaEb/NIjkbNaoMvi52uYnw/DDl+lzhwKja4TMPi1xyUVCJp/mLcmL/f5W+hHpoH8ZKPBtrVa6kkcKGpHVXAvLUW+fgBG2KJ72R8FFZ9rANBivKDLeVbiFFnaLOAAAAHABn9J0R/8BUBc4URRj0bl+HMntfj+YQ8fyn9px6AAiDolXLRUbDOAAirB9kkCmSlmxcfYITjsUCnnASBPmtArjuEzoCspDzEswtBpybPUgeeHj26tpJMzLG+ucpNBlXX6oHmSNb4fC0t2YkH4g5YHHAAAAmQGf1GpH/wFQzXL5tkQwFBaMsHXcWqc6wAJ1g08VCmft6FRU/69vtnu4dvKhBem5ntj/QxaJX0mfzVjz16gjkOAk41gyV6km3tsdblf9GX4mdJtEaMsf37drRWlvKvBtHcwgk4f4WY70cMgSQ7ju4oQDkXWUuJjd8xkm9obeLEfDe2mx8DkkRZoxRYV9wf8SWkFtUkNTEybSywAAALVBm9lJqEFsmUwIZ//+nhAAAAMAi39ZoPbnnUE7HUsmcCCYA6/k92g77cjTx4qprENOJbNn3NuslItBMHanJi3NkSOoCEshOWdqVF3zf4MTAHFJtZsrQyq62XQtxW3gBXpGMontWv7TjfJ9870I/AggBaAzixl4SCkUFDVNuH8TyAKHGg5Awjdu6e2tOCEWGrU2cm2yUk+qcau7xm0PxHi63orKpZcKayUUDVTeHEpN/1r9ri66AAAAh0Gf90UVLCP/ANNvApM1jg/P/mU/ZAdnOrRZyedubGdcWM0P5qDZiXQBBgI7U1Hhs+SzdYNyEWNsmcC0e41gbuIIJzpqJNJTJ7Bhlb8Ip5qMds27tP6A7rDZmO+tXGbFI3uAk6SA5J+4s8O9mKYWKVhczZgoxIvpp1JcrSWG7rkckNEZsoIUkQAAAGEBnhZ0R/8BUBc4URRj0bl+HMntfj+dp8/X6iq6DJv8AG1EaWweI5sAnhpMBr4rjAKGgxUuqjAFAfJuRo4HhWBn1p4XoYgyuGZYwpJRo0/IX9e/d3XOU/ZOjz1QnNCglBlRAAAAeQGeGGpH/wFQzXL5tkQwFBaMsHXcW2brJBkOzouqAOYXoPL4al7tCGichnRRji6BLdCrNpCVTcKzGFmALQeJ/npbvNjXJz2wLidoEq6AEn+EOjzIHCBOnt57loC9BE75C/Uv4SbhLDYP0Rj3jgyxHSB2kIR/qjHNQtoAAACxQZodSahBbJlMCGf//p4QAAADAIt022pMeIvRiAdiduAEQWZnsw6PRMpxkptHIk5rNszqOsb1/UWv1NLRvqJOtM5Xs/BtzBZkzg8R83XB0GRFTEmejZZLXgXeWgunmsZ8PnDMM2YSSjees7BIxWT9QBq5IoUlEmLsNMVhtd/f/P0HfBmxSnQKRxDKr2nkVYABd4jsoaVBjYIv/FZTHZIOybI0aWe6G518o1ikNj/q+hOpAAAAdEGeO0UVLCP/ANNvApM1jg/P/mU/ZAdnOrRZyeduSGnfundp0YhpJIAF0yKOurTkUclntX5lwFHxzvgvX8P6vBxJ0sSxrm01EFOZ0maipom1v1EfaD9CbBPtD25thGCeqazeWM5XV0dflSPy1U/vmX3aoKuAAAAAgQGeWnRH/wFQFzhRFGPRuX4cye1+RxfqX0cOdL1z7V/oALqL0OBrK+T3eDJcLYtjjOC0QsxVs+t4vHR7MZOkZskXir4WDGQVXLUj5CfBA6cV25p0noPjrO7v8vmbc43gS3LDGrmNPS1XZexcGtR7b53HGDUIiRtVU+wWW14wEjeOOQAAAGABnlxqR/8BUM1y+bZEMBQWjLB13Ftm6p61dh0LAA1Tlswka8xvHnbsCg2kDZSGLmAgitnb82eKPnaam0dWG+yqzZ391xldvrseKmgqNUNetJF/puk53VxPLezAb80JxL0AAADZQZpBSahBbJlMCGf//p4QAAADADjeor29XH1mqYFSoylHDNfaXpukTe4wxrhS86d76cRdzcaBjU/yEw4ZuiBLdL31J2cIefr0m7+OoavRD7jObyG37fEZ9jdxfD9S7/jXI4fOOEsPriHZ8GSEbUvsQ4P/4DjVyG8BfBIHAwlAS4tEbnJCqUeyDBV95ybafiI68Mn8HB1lx/td/gXVETyF0hFF1oVvMTxQqVqL3CJwQ8SV6+hlNRADx8EdlRtkIzKccWAabbI0qF8IEBOupW6Fauyqv5ajdH5O4AAAAHtBnn9FFSwj/wDTbwKTNY4Pz/5lP2QHZzq0WcnnbkUsoRQC0PyXvYtt7AhYAVpvBh0wpz2VqBWKYx6djsj4J4oesFaksA5x/yY7uV1Z3KhajgK+jR3BtYC1X3tjewD+O2e+PpvPpiqXbinpekuyorkDsIBT7oezsNwoDugAAABzAZ6edEf/AVAXOFEUY9G5fhzJ7X5HF1wCQCFVgXg5dKxmAMUEPGUBZplwvhoNgpPjuoiXNCZ0OHZgGdB+/SvsPYqPk89I+iTHHUFgSWY/xKdMGMsEcrZXSnriExgjIKmIWxUwVkT4AGeTKL5S4YjhqChbQQAAAD8BnoBqR/8BUM1y+bZEMBQWjLB13FtmI4mhj5AmIyq5Oz4i6IAJmYqiAiwZ6l5/szMvgqqr6Q4jKDz307Ulge0AAADoQZqFSahBbJlMCGf//p4QAAADADYO3kYARsUqu02PiSLpzFh+o7B2gmhTozT05Em0M5QRs2PGY55KUqKC//v/E1PUDWotjQRTJKuRSP+1PFCkf9oz2UTsKUoLhwzJ2TeuIHpDqY3TUrKB64BMgt8B5eUsU8i+lIi42C6inlVzEShb9UHHVYagVmdQ9F/8gRmaRomQmrfFIDiSxl0Qm/fVlr4XxVAuFwvydSkBciWRpfFiNGN0w/QrjFLa9UoDpsy1/0C8hDBi7Yjs+adOBAjeE9cYI6kix/oI+sqoGSGQx3uePor+JOpHUQAAAH5BnqNFFSwj/wDTbwKTNY4Pz/5lP2QHZzq0Wcnnbkhfs0WkWsSlBsefiGR1JVMAAlqWYeUxVt/Iqt7LKzf98UobWwdPT6ZMMOUtdB54RclRYxXo/nZb+FfqfHQly3pnNuC2uqRpQHfYDoVwo5Che2xfUl8VXla+v7GvMv84gZUAAABrAZ7CdEf/AVAXOFEUY9G5fhzJ7X5HF1TDOt4p3pOfYAAOUIr41KdFACzdeLcpu8E/TclYZKOdkNlI4rze0U3JUKMeAgeF48RamUFGLrxrMabwKKgS7nQwceBeD0AawvIArrTgxu0jIuHgyoEAAABHAZ7Eakf/AVDNcvm2RDAUFoywddxbZucZK/HfPWyO4JFSk3ay+EwM4TMAEKYR2cu2m2yNGgLo3U27P3iSL2upCGYI1nFwHTEAAAEcQZrJSahBbJlMCGf//p4QAAADADYjhCBa2lCIAENskaUiZ4jQyQ4fqmXculbCTj9xkTX0Bu4JmVZ4ueKRlwjJQv9TwsHjT9bv+CAsHV3sqNuKRHclko+KTs9MOoaBmPZBbl+O3c6iBjQSR/rYGip9ZoUoySD/ONr2l/ECcT4VOCoC8OTNIhnWmtD83orX3khOmP38mwmMXBNzoD+opYy5IyI0k8dsDzTzAlRPdczfGgIIfJQbyfaWUtCv2lv6WoneCs8K4I7doXf61+quYc0Loprp1AJZDQqQ7vlqiIurAIyWvcuie01+c+UfCQAEvgCEf2qnjWcRr3iMqqyqCpm2FO2rksvDwQF7dAJmNDvWsLBesTYJHmccGQ9+1IEAAABWQZ7nRRUsI/8A028CkzWOD8/+ZT9kB2c6tFnJ525IUeTkE/jaWfTPUz0C98DJZl/FtF5WEVakwuBABrAPk3FbmKxUGp5jU9pD3XqIkyFzeLk/DV7sFJEAAAA9AZ8GdEf/AVAXOFEUY9G5fhzJ7X5HF9GY57pkxS8c7MAC2tTxOmkU++C8GBz7ZpAOXuaPZECxHGtwOcBvwAAAAFABnwhqR/8BUM1y+bZEMBQWjLB13Ftm5xkr8w3XnQAkaIhf3ZC4FG5DdXCvae74n9v1UBHdB35fmjrfX3jt8XlQXJkea6c1X83QwqmHhPYYsAAAANxBmw1JqEFsmUwIZ//+nhAAAAMAks5zgU0Acl911YKQ4+4XoQDFVID5NZuZaY0376NtczfjIH/CVbEKzgrcFckcdv26yAcLyKCs9TFXPAOSLP+3yHlMc017gVnqROEuh6XfiwLdMVaPkOU3ki0I+EyXPh5RZxWxVheJ2gENDMeXXehPGlGtsNv4H+OZN5KEV22Yxacj1oiXznz3QyOVbwThD+n6CK5Dr+tM5fePvuryh4ki6yZ4kBOMLXSusXE9p5wwjWa/wazXsUIccWbdKyUsrIjDfkFBeQFgdFQRAAAAUUGfK0UVLCP/ANNvApM1jg/P/mU/ZAdnOrRZyeduSFHqvnON279Ef5OAEecJezGdJAAh0i0Z65tz9WGxhqjI4WfknyH3sFiW1qaAW0BQs80HdAAAAF4Bn0p0R/8BUBc4URRj0bl+HMntfkcX0ZqX6fTelhEABKO2AAIlYpRYztQYUwqqfPpZ5AUrS8pSQvDA4BuKzXAiYBcdd/OWXG/TERgcgVDF4u9HH+nkjJRKWE81gNmAAAAANAGfTGpH/wFQzXL5tkQwFBaMsHXcW2bnGQ09oKkaAuIAUp3mUuZ4W0+GbEaSEEYM4v9AakEAAAD6QZtRSahBbJlMCGf//p4QAAADAJNEuCQAoi2BeZEm7AH9jmTeoZgNV5bSS4o4H2NaaceEZjLvsGwsi3zY5msn2Q39Q+kjmqXFf9MFSGzmu2UReP+JRp3CCFWG/v958g6rwu4Xqwy+uEv3a+1YKrFGtG014SA0y1VJrfYLcXskyXqqoDAUHmAn1qZ3JgB9C/towWonezQVfzPC/xwfN0i7s/NKgOthJNz4XQFHKem27wbO2BN8v9IqjVRs3cbD6zd48R3yHQkucpg/TyyTxtUFESK0G/fmSGW5dVX/MQaJqz1NM3ghBoFSDEmeEebKfCXRm35fWJn4GdmygQAAADxBn29FFSwj/wDTbwKTNY4Pz/5lP2QHZzq0WcnnbkkQYU+N8Sy4mjyiwaAdZf4jZtAxB4OAShDJTMrqGVEAAAAmAZ+OdEf/AVAXOFEUY9G5fhzJ7X5HF9GYzdzkTSHwn7O6iRaAD/AAAAAmAZ+Qakf/AVDNcvm2RDAUFoywddxbZteRC/4zMi446EU6xI3TAUEAAABCQZuVSahBbJlMCGf//p4QAAADABRnXCx/gdXL6jW0Ajr5rb0Ul5pme4kGIhfltzCu4Qs+YryUEhwLpMUeXMFH9X1hAAAALUGfs0UVLCP/ANNvApM1jg/P/mU/ZAdnOrRZyeduSBQFcFjZ04FZjOHjJgA0YAAAACIBn9J0R/8BUBc4URRj0bl+HMntfkcXVIq74qE2Ycj0AF5AAAAAIQGf1GpH/wFQzXL5tkQwFBaMsHXcW2bXkQv9Hr47tGAEXQAAABxBm9lJqEFsmUwIZ//+nhAAAAMABz0D1mS4HSBwAAAAKkGf90UVLCP/ANNvApM1jg/P/mU/ZAdnOrRZyeduSBQFcFOuvHDoJIAakQAAACEBnhZ0R/8BUBc4URRj0bl+HMntfkcXVIq71k3U1cEAd0EAAAAfAZ4Yakf/AVDNcvm2RDAUFoywddxbZteRC/i9p4ASMAAACBlliIIADv/+906/AptUwioDklcK9sqkJlm5UmsB8qYAAAMAAAMAAAMC2vR4kzvk1PE2AAADAQcAKGFTESEgFLG8KgSIkhcDjL8CGj/9Ah7ucAAgg/e8wYPkGwFBu7MoiIy8RXfOB1n0wUA00AE04YEktWMbcw0u5D8hpXaNjGjJXpdZE+pfNMOTmDzdRR7r/bmn2oCO7WyhPeBOYATSID+HkDnmX4UueH4vTS0LqGmci3aEciaoFFbU/5m6qz4d6+UosX8rIQhftB4iESvbs2ZkkMVU9sZEuZgoJFFsZRA7InSqTS7LQyYFNq4ZDbTO7T6btYfDKOVb13U+TMhd6q59B+shNVlDeaGTDmmJrV1Mp/uN2vR4qJbwV6XX2MHwrxddvOCW08wFyeM/0jo7/GQXJTBeOsUa5dEJhfUPb3rstt/c/Vg/ajoGq67YpEC45uHxU01tIWyB7apEpoXiNugg311mcsHOMZZak8nyHLm3ssoUgO9Q4cu7rtPVfCGsy9aySB3n9h+7XJkIbCbSlY5Lt+E9NArKsEpLNOtEj+4oTjtvtESman99JhexQwF/Hfuju5VURKsvHl58xWsMLEyJBLwS6RyDxG+degZX0Ml9DwrxoIoxKXzPsNzMU7zzjabVFQINEBtbQczuqZNJIOww13Qq3ZMrOBxIDTdYAdpGyL+r8vOWM4GoBGg/yAVCmQH6BJLDK4LAv25nWxy1ucviS3czWNIUZSymTqq3ZvAeeqPpfy0yGxYcjZzjvx6c9Qawvjq7l44Rw9TiPeP2XvD9bvLPNxxBibz1PzZ2rB5e3WoowtuLsXHhaZv2UaPGvfcKrDdfaPqangncLS2r0GmJH0mlcDRGSDZ7fCpEIa+M9pPLZWPX5pbRTZ6XxPysDV2eu4eECwNrL4To6FIn+bOPk6xpFAeTx4OUMzSnXh4vDWvZzLdyDif4+5pqRXgSYw3uvN8GzuUAFePeleaEWr1IeW0g9z1dkTwOGoyA1d+TUizKokajSXPdDwISQNySOqcsXiizJEFDrNlBZbwseFxhxvSxjVEHIoVeVgEttHNq3HG1966YB89fd1aH2HuZ3ht6OX0BqMcV6k7/A4ob7rsL9X3FPHAQBW3flYodPfZZRCl44Qb4UsjQiylJ1O/PoaGoQfZGCpPqCaSY2EQUTiB8KzOMvnuVM18r8Fzcwge5doFrYitwIP2zLLJ/VI8pxGuxbsQswYWaWMgqndDxgkxSPWg3wq9KLg//SRGlnE5dkO9drgs/8KjdSX6aS5hadMVT0SrnV+BTGZhS39eCrVO2rGdtncLA+9ojIw7/SJEd9HsjzYPLnsrHS5s0i5LAmpIRbaDu5/vKZnFiupYz1S4/hfO1xGRarKifEXoTl4pjHKhIvKA+DFV0GUxKN4xiVxRduw/Fr0FRh1wVgLiCiVrkhPat8dLI9iZx7FU3D176OM7nOyxy5Z+Pk2gyFno5GN5v406Vt4aVczEifENK+HAsjVUAFGdx3TPTHEZ1kpvj1G5lnO5uUifIl2qZEZVCGp2QK1juCEjKV42mJw1hBH1Fv2m6+o2ki+X7XMigO4KzJnIi3oUKLGRkSFtL/K8JpjWIkmiAsp0UghG9s98Bg1UXxs7PQherus/FsjaLP3NROiNRmKzoPFzznrL717cWtbE3PPDcO9HWieAPrGrsvpYHOg6yP250Prrh+Wc5CWeqEACn2p2BUzp4Vf3b2fNl21GEwQyWpaLV3Wwx71UFiveHVjHFF8oVPiqqOWNyPNU9h5em3ccJlizNOSfunCsPxmqIbj0mKaDE8sEqT5JtVO/VYGtWG5a6sCMtfnPUn4P3iU54BP4lGnl72ANJzGQh32OVpxveH5eEAbksnLNt6Hh7UZIglLGa2H5dKU9how/a6bQzYT/gP6eBiR/IZHUyEDoO+qd9LMZNQpFTZkC7ecKW43zROjfg+vd3EAmUhZ/aV4V2zeg34im6Sh3byiA5NlMD+3NfL/EEmVY//CxOK+gheop7FvFG00AfJjMiYy497y0UoNvs+pIoVDugQMzLTXqL58jgw3jz5eR0VCIMvApcq9Z9hn59Hp7ki0tNe5Ts7Gllc6k3NRUB0CX80MUzY/eitoq5WRYhMYfmvl2gHxv0WXzAfhyCTw2TspaF6H9fSWZkvQJzfD1kmAlODrS0g8nL9eYg2oYZR4kVVRwHJJwVqim/+UJRCaX1JAT1omxSVO1FDpDjF/1sQH1km2E4whHh0D1UHtATXmPUNfHgI/mVXB2btpx4vAZ5MHxHSo4o7dIT/rWZq9C3EmPNWitUEDmuKXE21qY+mFN9miHCEZJkIBYq+MlC2Q4cpz84uyNkPhteuQeVO6+ytU0H3X0mY0/+CV0/Co/Xkx5Ow9gYk4XAp2eKTgxpJKtklGCosqopE99b3iC5SJfrxhH0B1pidmm7Rwd58wojhqx2pyVcA/T9XsVwirZoNbMo05D5byc2JQW+mHMZ7q6/vg8/YvH5WqdI5/yFO5QIiOFHzrKHh/JKdDSb09ss6MYU+ZagNB/rE2SHefVPy4t7y2tlyc3sSfS5TrD55ZI10oF6cGEW90HKmhVYfPLIgaLu8rPAXzrjnw2Ofg7J9sNu3QuvuivC45J4GxVFg/nqeAZ82R5elPcj8YsVQDdy7B7qZHNkyS/+1TgwBNOmujrOjy4m2B74fNz5M5egfB3aGSsLV0DL79NqjDiAdx3dQ3LGYaf7TWvN5h/oT3cRfdf9Yt7mKTTAcCmAAAADAAADAZsAAAA3QZokbEL//oywAAADACEJVOAOYerwiF+msbNvydqH8s/FDODa+b5hOmAGPfsBXvowOa1Cm7XAgAAAABRBnkJ4j/8AAAMAENkViYL+DH03CQAAABQBnmF0R/8AAAMAENYchN7rKv/O/wAAABABnmNqR/8AAAMAAYiTwv+AAAAAF0GaaEmoQWiZTAhf//6MsAAAAwAAAwNCAAAAE0GehkURLCP/AAADAAD47hR+WwcAAAAQAZ6ldEf/AAADAAGHwn4igAAAABABnqdqR/8AAAMAAYiTwv+BAAAAF0GarEmoQWyZTAhf//6MsAAAAwAAAwNCAAAAE0GeykUVLCP/AAADAAD47hR+WwcAAAAQAZ7pdEf/AAADAAGHwn4igQAAABABnutqR/8AAAMAAYiTwv+BAAAAFkGa8EmoQWyZTAhX//44QAAAAwAADKkAAAATQZ8ORRUsI/8AAAMAAPjuFH5bBgAAABABny10R/8AAAMAAYfCfiKAAAAAEAGfL2pH/wAAAwABiJPC/4EAAAAWQZszSahBbJlMCP/8hAAAAwAAAwDAgAAAABNBn1FFFSwj/wAAAwAA+O4UflsGAAAAEAGfcmpH/wAAAwABiJPC/4EAAA+nbW9vdgAAAGxtdmhkAAAAAAAAAAAAAAAAAAAD6AAAFRgAAQAAAQAAAAAAAAAAAAAAAAEAAAAAAAAAAAAAAAAAAAABAAAAAAAAAAAAAAAAAABAAAAAAAAAAAAAAAAAAAAAAAAAAAAAAAAAAAAAAAAAAgAADtF0cmFrAAAAXHRraGQAAAADAAAAAAAAAAAAAAABAAAAAAAAFRgAAAAAAAAAAAAAAAAAAAAAAAEAAAAAAAAAAAAAAAAAAAABAAAAAAAAAAAAAAAAAABAAAAAAlgAAAGQAAAAAAAkZWR0cwAAABxlbHN0AAAAAAAAAAEAABUYAAACAAABAAAAAA5JbWRpYQAAACBtZGhkAAAAAAAAAAAAAAAAAAAyAAABDgBVxAAAAAAALWhkbHIAAAAAAAAAAHZpZGUAAAAAAAAAAAAAAABWaWRlb0hhbmRsZXIAAAAN9G1pbmYAAAAUdm1oZAAAAAEAAAAAAAAAAAAAACRkaW5mAAAAHGRyZWYAAAAAAAAAAQAAAAx1cmwgAAAAAQAADbRzdGJsAAAAsHN0c2QAAAAAAAAAAQAAAKBhdmMxAAAAAAAAAAEAAAAAAAAAAAAAAAAAAAAAAlgBkABIAAAASAAAAAAAAAABAAAAAAAAAAAAAAAAAAAAAAAAAAAAAAAAAAAAAAAAAAAAGP//AAAANmF2Y0MBZAAf/+EAGWdkAB+s2UCYM+XhAAADAAEAAAMAZA8YMZYBAAZo6+PLIsD9+PgAAAAAFGJ0cnQAAAAAAAEZKAABGSgAAAAYc3R0cwAAAAAAAAABAAABDgAAAQAAAAAYc3RzcwAAAAAAAAACAAAAAQAAAPsAAAhQY3R0cwAAAAAAAAEIAAAAAQAAAgAAAAABAAAFAAAAAAEAAAIAAAAAAQAAAAAAAAABAAABAAAAAAEAAAUAAAAAAQAAAgAAAAABAAAAAAAAAAEAAAEAAAAAAQAABQAAAAABAAACAAAAAAEAAAAAAAAAAQAAAQAAAAABAAAFAAAAAAEAAAIAAAAAAQAAAAAAAAABAAABAAAAAAEAAAUAAAAAAQAAAgAAAAABAAAAAAAAAAEAAAEAAAAAAQAABQAAAAABAAACAAAAAAEAAAAAAAAAAQAAAQAAAAABAAAFAAAAAAEAAAIAAAAAAQAAAAAAAAABAAABAAAAAAEAAAQAAAAAAgAAAQAAAAABAAAEAAAAAAIAAAEAAAAAAQAABAAAAAACAAABAAAAAAEAAAUAAAAAAQAAAgAAAAABAAAAAAAAAAEAAAEAAAAAAQAABQAAAAABAAACAAAAAAEAAAAAAAAAAQAAAQAAAAABAAAFAAAAAAEAAAIAAAAAAQAAAAAAAAABAAABAAAAAAEAAAMAAAAAAQAAAQAAAAABAAAFAAAAAAEAAAIAAAAAAQAAAAAAAAABAAABAAAAAAEAAAUAAAAAAQAAAgAAAAABAAAAAAAAAAEAAAEAAAAAAQAABQAAAAABAAACAAAAAAEAAAAAAAAAAQAAAQAAAAABAAAFAAAAAAEAAAIAAAAAAQAAAAAAAAABAAABAAAAAAEAAAUAAAAAAQAAAgAAAAABAAAAAAAAAAEAAAEAAAAAAQAABQAAAAABAAACAAAAAAEAAAAAAAAAAQAAAQAAAAABAAAFAAAAAAEAAAIAAAAAAQAAAAAAAAABAAABAAAAAAEAAAUAAAAAAQAAAgAAAAABAAAAAAAAAAEAAAEAAAAAAQAABQAAAAABAAACAAAAAAEAAAAAAAAAAQAAAQAAAAABAAAFAAAAAAEAAAIAAAAAAQAAAAAAAAABAAABAAAAAAEAAAUAAAAAAQAAAgAAAAABAAAAAAAAAAEAAAEAAAAAAQAABQAAAAABAAACAAAAAAEAAAAAAAAAAQAAAQAAAAABAAAEAAAAAAIAAAEAAAAAAQAABQAAAAABAAACAAAAAAEAAAAAAAAAAQAAAQAAAAABAAAFAAAAAAEAAAIAAAAAAQAAAAAAAAABAAABAAAAAAEAAAUAAAAAAQAAAgAAAAABAAAAAAAAAAEAAAEAAAAAAQAABQAAAAABAAACAAAAAAEAAAAAAAAAAQAAAQAAAAABAAAFAAAAAAEAAAIAAAAAAQAAAAAAAAABAAABAAAAAAEAAAUAAAAAAQAAAgAAAAABAAAAAAAAAAEAAAEAAAAAAQAABQAAAAABAAACAAAAAAEAAAAAAAAAAQAAAQAAAAABAAAFAAAAAAEAAAIAAAAAAQAAAAAAAAABAAABAAAAAAEAAAUAAAAAAQAAAgAAAAABAAAAAAAAAAEAAAEAAAAAAQAABQAAAAABAAACAAAAAAEAAAAAAAAAAQAAAQAAAAABAAAFAAAAAAEAAAIAAAAAAQAAAAAAAAABAAABAAAAAAEAAAUAAAAAAQAAAgAAAAABAAAAAAAAAAEAAAEAAAAAAQAABQAAAAABAAACAAAAAAEAAAAAAAAAAQAAAQAAAAABAAAEAAAAAAIAAAEAAAAAAQAABQAAAAABAAACAAAAAAEAAAAAAAAAAQAAAQAAAAABAAAFAAAAAAEAAAIAAAAAAQAAAAAAAAABAAABAAAAAAEAAAUAAAAAAQAAAgAAAAABAAAAAAAAAAEAAAEAAAAAAQAABQAAAAABAAACAAAAAAEAAAAAAAAAAQAAAQAAAAABAAAFAAAAAAEAAAIAAAAAAQAAAAAAAAABAAABAAAAAAEAAAUAAAAAAQAAAgAAAAABAAAAAAAAAAEAAAEAAAAAAQAABQAAAAABAAACAAAAAAEAAAAAAAAAAQAAAQAAAAABAAAFAAAAAAEAAAIAAAAAAQAAAAAAAAABAAABAAAAAAEAAAUAAAAAAQAAAgAAAAABAAAAAAAAAAEAAAEAAAAAAQAABQAAAAABAAACAAAAAAEAAAAAAAAAAQAAAQAAAAABAAAFAAAAAAEAAAIAAAAAAQAAAAAAAAABAAABAAAAAAEAAAUAAAAAAQAAAgAAAAABAAAAAAAAAAEAAAEAAAAAAQAABQAAAAABAAACAAAAAAEAAAAAAAAAAQAAAQAAAAABAAAFAAAAAAEAAAIAAAAAAQAAAAAAAAABAAABAAAAAAEAAAUAAAAAAQAAAgAAAAABAAAAAAAAAAEAAAEAAAAAAQAABQAAAAABAAACAAAAAAEAAAAAAAAAAQAAAQAAAAABAAAFAAAAAAEAAAIAAAAAAQAAAAAAAAABAAABAAAAAAEAAAUAAAAAAQAAAgAAAAABAAAAAAAAAAEAAAEAAAAAAQAABQAAAAABAAACAAAAAAEAAAAAAAAAAQAAAQAAAAABAAAFAAAAAAEAAAIAAAAAAQAAAAAAAAABAAABAAAAAAEAAAUAAAAAAQAAAgAAAAABAAAAAAAAAAEAAAEAAAAAAQAABQAAAAABAAACAAAAAAEAAAAAAAAAAQAAAQAAAAABAAAFAAAAAAEAAAIAAAAAAQAAAAAAAAABAAABAAAAAAEAAAIAAAAAAQAABQAAAAABAAACAAAAAAEAAAAAAAAAAQAAAQAAAAABAAAFAAAAAAEAAAIAAAAAAQAAAAAAAAABAAABAAAAAAEAAAUAAAAAAQAAAgAAAAABAAAAAAAAAAEAAAEAAAAAAQAABQAAAAABAAACAAAAAAEAAAAAAAAAAQAAAQAAAAABAAAEAAAAAAIAAAEAAAAAHHN0c2MAAAAAAAAAAQAAAAEAAAEOAAAAAQAABExzdHN6AAAAAAAAAAAAAAEOAAAJvAAAAOcAAABKAAAAQwAAADUAAADfAAAASgAAADcAAAA5AAAAigAAAEAAAAApAAAAJQAAAIYAAAA+AAAAIQAAADAAAACQAAAAUQAAACoAAAAxAAAAmgAAAEIAAAApAAAANAAAANgAAABVAAAALwAAADoAAACxAAAATwAAACUAAAFEAAAAXAAAAGAAAAFeAAAAogAAAK8AAAFUAAAAtgAAALMAAADWAAABtgAAAPUAAADEAAAApAAAAYIAAACYAAAAmgAAAJYAAAEyAAAApwAAATYAAADfAAAAoAAAALEAAAGDAAAAvgAAAKgAAACZAAABjgAAALEAAACNAAAAvwAAAV0AAAC4AAAAwgAAALgAAAFUAAAAkgAAALIAAACOAAABIgAAAKIAAACgAAAAoAAAAScAAADRAAAAvAAAAMEAAAGHAAAAxQAAAK0AAAC5AAABMAAAAMkAAADJAAAArgAAAWAAAADLAAAAxQAAAMMAAAGLAAAA6QAAANQAAAC0AAABQQAAANgAAACvAAAAqwAAAQ0AAADHAAAAsAAAATIAAAC/AAAAiwAAAIEAAAEbAAAAsQAAAIIAAACMAAABPgAAALwAAACWAAAAuQAAAR0AAACtAAAAxwAAAKQAAAEFAAAApwAAAH4AAACmAAABBgAAAMYAAACiAAAAnAAAAPMAAACnAAAAjgAAAKwAAAE4AAAA3QAAAL4AAAClAAABFgAAAMEAAAC4AAAAoQAAANsAAAC9AAAAuAAAAKAAAAEAAAAAqAAAAJIAAAB4AAAA3wAAALIAAACKAAAAvQAAAQUAAACvAAAAlgAAAKEAAAC4AAAAtQAAAIIAAAEJAAAAqQAAAJgAAACQAAAA/AAAALoAAACVAAAAtAAAAMEAAAC3AAAAtwAAAKYAAADoAAAApwAAAIwAAACUAAABGgAAAMIAAAC2AAAA5wAAANwAAACvAAAAnwAAAM0AAADPAAAAsQAAALIAAADfAAAA9AAAAOoAAACjAAAAsgAAASUAAAEBAAAAvQAAAJwAAAEcAAAA5gAAALMAAACdAAAA9AAAAJcAAACSAAAAmAAAAOIAAAC1AAAAigAAAIUAAADyAAAAlwAAAIkAAACKAAAA7AAAAIcAAAB0AAAAnQAAALkAAACLAAAAZQAAAH0AAAC1AAAAeAAAAIUAAABkAAAA3QAAAH8AAAB3AAAAQwAAAOwAAACCAAAAbwAAAEsAAAEgAAAAWgAAAEEAAABUAAAA4AAAAFUAAABiAAAAOAAAAP4AAABAAAAAKgAAACoAAABGAAAAMQAAACYAAAAlAAAAIAAAAC4AAAAlAAAAIwAACB0AAAA7AAAAGAAAABgAAAAUAAAAGwAAABcAAAAUAAAAFAAAABsAAAAXAAAAFAAAABQAAAAaAAAAFwAAABQAAAAUAAAAGgAAABcAAAAUAAAAFHN0Y28AAAAAAAAAAQAAADAAAABidWR0YQAAAFptZXRhAAAAAAAAACFoZGxyAAAAAAAAAABtZGlyYXBwbAAAAAAAAAAAAAAAAC1pbHN0AAAAJal0b28AAAAdZGF0YQAAAAEAAAAATGF2ZjU4Ljc2LjEwMA==\" type=\"video/mp4\">\n",
       " Your browser does not support the video tag.\n",
       " </video>"
      ],
      "text/plain": [
       "<IPython.core.display.Video object>"
      ]
     },
     "execution_count": 3,
     "metadata": {},
     "output_type": "execute_result"
    }
   ],
   "source": [
    "Video(Path().cwd()/'results'/'LunarLander-v2'/'video'/'test'/'ex4_dqn-episode-8.mp4',\n",
    "      embed=True, html_attributes=\"loop autoplay\") # Set html_attributes=\"controls\" for video control"
   ]
  },
  {
   "cell_type": "markdown",
   "id": "55896461",
   "metadata": {},
   "source": [
    "<a id='Q1'></a>\n",
    "<div class=\" alert alert-warning\">\n",
    "    <h3><b>Student Question 1.1</b> Considering Continuous Action Spaces (5 points) </h3> \n",
    "\n",
    "Can Q-learning be used directly in environments with continuous action spaces?\n",
    "    \n",
    "🔝\t<a href='#TOC'><b>Table of Contents</b></a>\n",
    "</div>\n"
   ]
  },
  {
   "cell_type": "markdown",
   "id": "961b8937",
   "metadata": {},
   "source": [
    "**One sentence**: the basic Q-learning cannot be directly applied to environments with continuous action spaces; to generalize, some techniques such as function approximation or discretization should be used.\n",
    "\n",
    "**Details**\n",
    "\n",
    "Q-learning is designed for discrete environment: a Q-table is maintained for each state-action pair.\n",
    "\n",
    "Two techniques to generalize out of discrete action spaces: </br>\n",
    "- function approximation: instead of using Q-table, we use a parametric approximation function as the policy (and/or) Q functions. e.g. Proximal policy optimization (PPO)\n",
    "- discretization: we divide the continuous action spaces into finite number of discrete actions. "
   ]
  },
  {
   "cell_type": "markdown",
   "id": "1395f3d1",
   "metadata": {},
   "source": [
    "<a id='Q2'></a>\n",
    "<div class=\" alert alert-warning\">\n",
    "    <h3><b>Student Question 1.2</b> Continuous Action Spaces Part 1 (15 points) </h3> \n",
    "\n",
    "1.Which steps of the algorithm would be difficult to compute in case of a continuous action space?\n",
    "    \n",
    "2.If any, what could be done to solve them?\n",
    "    \n",
    "    \n",
    "🔝\t<a href='#TOC'><b>Table of Contents</b></a>\n",
    "</div>\n"
   ]
  },
  {
   "cell_type": "markdown",
   "id": "b7481edc",
   "metadata": {},
   "source": [
    "**Exploration**: \n",
    "\n",
    "- in discreate action space, we can explore by randomly selecting an action, which is infeasible for a continuous space with infinite actions.\n",
    "- solution: add noise to selected action. \n",
    "\n",
    "**Action selection**: \n",
    "\n",
    "- in discrete action space, we can easily select the action with the highest Q-values. This is not feasible in continuous space. \n",
    "- solution: we can use a parameterized policy (e.g. neural networks, linear function) to output continuous actions based on the current state.\n",
    "\n",
    "**Q-value update**:\n",
    "\n",
    "- In discrete action spaces, we update each state-action pair, which is not feasible when it comes to a continous action space.\n",
    "- solution: use appoximated Q functions to estimate Q-values. \n",
    "\n",
    "Furthermore, some algorithm (e.g.PPO) only approximates the optimal policy without forming an approximated value function, then there is no need to bother with the Q-values-related issues mentioned above."
   ]
  },
  {
   "cell_type": "markdown",
   "id": "f10e680f",
   "metadata": {},
   "source": [
    "<a id='Q3'></a>\n",
    "<div class=\" alert alert-warning\">\n",
    "    <h3><b>Student Question 1.3</b> The Target Network (10 points) </h3> \n",
    "\n",
    "In DQN, we use an additional target network to calculate the target Q value.\n",
    "    \n",
    "1.Why we need an additional target network ? \n",
    "    \n",
    "2.Can we just use the same network (no an additional target network ) in calculating both Q(s,a) and maxa(Q(s′,·))? why or why not?\n",
    "    \n",
    "3.What will happen if we do not stop gradient of the target Q value?\n",
    "    \n",
    "🔝\t<a href='#TOC'><b>Table of Contents</b></a>\n",
    "</div>\n"
   ]
  },
  {
   "cell_type": "markdown",
   "id": "a897854c-9516-49e0-a5bd-dbc79e0dcd63",
   "metadata": {},
   "source": [
    "**Why we need an addtional target network?**\n",
    "\n",
    "The DQN is essentially a supervised learning method, the training can be instable and hard to converge when the target keeps changing. Keeping the target network for $C$ steps improves stability. \n",
    "\n",
    "**Can we just use the same network (no an additional target network ) in calculating both $Q(s,a)$ and $max_a(Q(s′,\\cdot))$? why or why not?**\n",
    "\n",
    "In the 'real' Deep Q-learning algorithm, no. Since we are updating the policy net per step, the target $max_a(Q(s′,\\cdot))$ will also keep changing all the time if we use only one network, and this can lead to instability as we just mentioned. \n",
    "\n",
    "In this implementation, however, we can actually use the same network since $C = 1$: we compute the MSE loss between the target $max_a(\\hat{Q}(s′,\\cdot))$ and $Q(s, a)$, perform a gradient descent step, and then update $\\hat{Q} = Q$ for every step. This makes policy net $Q$ and target net $\\hat{Q}$ always the same, then of course we can just use the same network. I guess that is the reason why the title for this task is *a (not-so)-deep Q-network*?\n",
    "\n",
    "**What will happen if we do not stop gradient of the target Q value?**\n",
    "\n",
    "the policy net and the target net will be optimized simultaneously, then we get two essentially identical nets. The target network setting will be meaningless."
   ]
  },
  {
   "cell_type": "markdown",
   "id": "4266d794-008d-4d2c-9a9e-0e18d9b6e354",
   "metadata": {
    "tags": []
   },
   "source": [
    "# 3. Submitting <a id='3.'></a>\n",
    "Ensure all tasks and questions (in ```ex4_dpn.ipynb``` and ```ex4_rbf.ipynb```) are answered and and that the necessary plots are saved in the appropriate locations. The relevant plots and files needed to be submitted for this assignment are:\n",
    "\n",
    "\n",
    "- Training performance plots:\n",
    "  - `cartpole_dqn.png`: Cartpole, training performance plots in terms of episode and episodic reward\n",
    "  - `lunarlander_dqn.png`: Lunarlander, training performance plots in terms of episode and episodic reward \n",
    "<br>\n",
    "<br>\n",
    "\n",
    "  \n",
    "\n",
    "- Model files:\n",
    "  - `dqn.pt`: Trained model\n",
    "\n",
    "\n",
    "Ensure the model files and plots are saved in correct paths:\n",
    "- ```results/CartPole-v1/cartpole_dqn``` Training result for Cartpole environment\n",
    "- ```results/CartPole-v1/model/dqn.pt``` Model for Cartpole environment\n",
    "- ```results/LunarLander-v2/lunarlander_dqn.png``` Training result for LunarLander environment\n",
    "- ```results/LunarLander-v2/model/dqn.pt``` Model for LunarLander environment\n",
    "\n",
    "\n",
    "<span style=\"color:red\"> **# IMPORTANT: DO NOT FORGET ANOTHER TASK IN ```ex4_rbf.ipynb```** </span>"
   ]
  },
  {
   "cell_type": "markdown",
   "id": "2ec40b02-69c6-401a-ad79-2f67a8a660e9",
   "metadata": {
    "tags": []
   },
   "source": [
    "## 3.1 Feedback <a id='3.1'></a>\n",
    "\n",
    "In order to help the staff of the course as well as the forthcoming students, it would be great if you could answer to the following questions in your submission:"
   ]
  },
  {
   "cell_type": "markdown",
   "id": "d0a8baf6-b860-4338-b655-b28ec4fac282",
   "metadata": {},
   "source": [
    "1) How much time did you spend solving this exercise? (change the ```hrs``` variable below to a floating point number representing the number of hours taken e.g. 5.43)"
   ]
  },
  {
   "cell_type": "code",
   "execution_count": null,
   "id": "ed94026d-ad80-4148-8e02-5bcfd4b33e98",
   "metadata": {
    "tags": []
   },
   "outputs": [],
   "source": [
    "hrs = 5"
   ]
  },
  {
   "cell_type": "markdown",
   "id": "732e1e56-4c4f-4bdf-95b3-f4efcc4c053a",
   "metadata": {},
   "source": [
    "2) Difficulty of each task/question from 1-5 (int or float)"
   ]
  },
  {
   "cell_type": "code",
   "execution_count": null,
   "id": "161f647d-4cf5-4cf8-abbf-1c0d285c5f40",
   "metadata": {
    "tags": []
   },
   "outputs": [],
   "source": [
    "T1 = 4   # Implementing DQN (10 points)\n",
    "Q1_1 = 3 # Question 1.1 Considering Continuous Action Spaces (5 points)\n",
    "Q1_2 = 3 # Question 1.2 Continuous Action Spaces Part 1 (15 points)\n",
    "Q1_3 = 3 # Question 1.3 The Target Network (10 points)"
   ]
  },
  {
   "cell_type": "markdown",
   "id": "4fb4a6d0-4ff1-4705-93af-493eed829e4e",
   "metadata": {},
   "source": [
    "3) How well did you understand the content of the task/question from 1-5? (int or float)"
   ]
  },
  {
   "cell_type": "code",
   "execution_count": null,
   "id": "eb003431-4a23-4350-86ec-34444a64ee9d",
   "metadata": {
    "tags": []
   },
   "outputs": [],
   "source": [
    "T1 = 5   # Implementing DQN (10 points)\n",
    "Q1_1 = 5 # Question 1.1 Considering Continuous Action Spaces (5 points)\n",
    "Q1_2 = 5 # Question 1.2 Continuous Action Spaces Part 1 (15 points)\n",
    "Q1_3 = 5 # Question 1.3 The Target Network (10 points)"
   ]
  },
  {
   "cell_type": "markdown",
   "id": "c2fa9a62-dcf9-41fe-8d56-a852b2582efa",
   "metadata": {},
   "source": [
    "4) General feedback. Consider questions like:\n",
    "\n",
    "    - Did the content of the lecture relate well with the assignment?\n",
    "    - To what extent did you find the material to be potentially useful for your research and studies?\n",
    "    \n",
    "Please share any additional feedback, suggestions, or comments you have about the lecture, assignment, or course content. Your input is valuable in helping us improve the learning experience."
   ]
  },
  {
   "cell_type": "markdown",
   "id": "77edf97b-6cd9-48a9-bbc9-a075e6c15abb",
   "metadata": {
    "tags": []
   },
   "source": [
    "- The content of the lecture relates well with the assignment; the DQN algorithm in the lecture slide is a good reference.\n",
    "- I find it quite useful. First of all, DQN is an interesting topic; the code template is well designed with good hints; and the question parts are also enlightening. \n",
    "- Additional feedback: </br>\n",
    "it would make the subtasks clearer and save some time on finding out the correct variable names and data type if some additional information about the name, data type and shape of function arguments and returns is provided. For example, the `get_action()` function here is supposed to return a `int`/`long` result; and `q_mean` in the `update()` function refers to the average of batch Q target values."
   ]
  },
  {
   "cell_type": "code",
   "execution_count": null,
   "id": "cde8c038",
   "metadata": {},
   "outputs": [],
   "source": []
  }
 ],
 "metadata": {
  "kernelspec": {
   "display_name": "Python 3",
   "language": "python",
   "name": "python3"
  },
  "language_info": {
   "codemirror_mode": {
    "name": "ipython",
    "version": 3
   },
   "file_extension": ".py",
   "mimetype": "text/x-python",
   "name": "python",
   "nbconvert_exporter": "python",
   "pygments_lexer": "ipython3",
   "version": "3.10.8"
  }
 },
 "nbformat": 4,
 "nbformat_minor": 5
}
