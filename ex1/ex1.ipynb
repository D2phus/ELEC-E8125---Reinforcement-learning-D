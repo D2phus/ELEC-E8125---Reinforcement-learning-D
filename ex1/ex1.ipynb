{
 "cells": [
  {
   "cell_type": "raw",
   "id": "df8ce51c",
   "metadata": {},
   "source": [
    "\n",
    "<div class=\"alert alert-block alert-info\">\n",
    "   <h2 align=\"center\"> <center><b> Reinforcement Learning Assignment 1 - The Reinforcement Learning Framework</b></center></h2>\n",
    "\n",
    "<br>\n",
    "<center><font size=\"3\">This notebook is a part of teaching material for ELEC-E8125</font></center>\n",
    "<center><font size=\"3\">Sep 4, 2023 - Nov 30, 2023</font></center>\n",
    "<center><font size=\"3\">Aalto University</font></center>\n",
    "</div>\n",
    "\n",
    "\n",
    "<a id='TOC'></a>\n",
    "\n",
    "<div class=\"alert alert-block alert-success\">\n",
    "    \n",
    "# Table of contents\n",
    "* <a href='#1.'> 1. Introduction </a>\n",
    "* <a href='#1.1'> 1.1 Learning Objectives </a>\n",
    "* <a href='#1.2'> 1.2 Code Structure & Files </a>\n",
    "* <a href='#2.'> 2. Cartpole</a>\n",
    "* <a href='#3.'> 3. Reacher</a>\n",
    "* <a href='#4.'> 4. Submitting </a>\n",
    "* <a href='#4.1'> 4.1 Feedback </a>\n",
    "* <a href='#5.'> References</a>\n",
    "\n",
    "<a href='#T1'><b>Student Task 1.</b> Training a Model for Simple Cartpole Environment (10 points)</a>\\\n",
    "<a href='#Q1'><b>Student Question 1.1</b> Learning (10 points)</a>\\\n",
    "<a href='#T2'><b>Student Task 2.</b> Investigating Training Performance (10 points) </a>\\\n",
    "<a href='#Q2'><b>Student Question 2.1</b> Analysis of Training Performance (15 points) </a>\\\n",
    "<a href='#Q3'><b>Student Question 2.2</b> Stochasticity (10 points) </a>\\\n",
    "<a href='#T3'><b>Student Task 3.</b> Reward Functions (20 points) </a>\\\n",
    "<a href='#T4'><b>Student Task 4.</b> Visualizing Behavior (10 points) </a>\\\n",
    "<a href='#Q4'><b>Student Question 4.1</b> Achieved Peformance (5 points)\\\n",
    "<a href='#Q5'><b>Student Question 4.2</b> Analysis of Behaviour (10 points)</a>\n",
    "    \n",
    "**Total Points:** 100"
   ]
  },
  {
   "cell_type": "markdown",
   "id": "44ab28e9",
   "metadata": {},
   "source": [
    "# 1. Introduction <a id='1.'></a>\n",
    "In this exercise we will take a first look at a reinforcement learning environment, its components and modify the reward function of a simple agent.\n",
    "\n",
    "In this notebook two environments are used: Cartpole and Reacher. The cartpole environment is taken from [OpenAI's Gym library](https://www.gymlibrary.dev/). The reacher environment is custom made (and defined in ```reacher.py```) but utilizes the Gym API.\n",
    "\n",
    "## 1.1 Learning Objectives: <a id='1.1'></a>\n",
    "- To become familiar with assignment structure and the agent-environment relationshp\n",
    "- To understand the effects of stochasticity\n",
    "- To understand and explore the effects of task definition\n",
    "\n",
    "## 1.2 Code Structure & Files <a id='1.2'></a>\n",
    "\n",
    "The ```train.py``` file instantiates the environment and the RL agent that acts in it. The ```agent.py``` file contains the implementation of a simple reinforcement learning agent; for the sake of this exercise, you can assume it to be a black box (you don’t need to understand how it works, although you are encouraged to study it in more detail). You don’t have to edit any other file other than ```ex1.ipynb``` to complete this exercise.\n",
    "```\n",
    "├───cfg                  # Config files for environments e.g. define the maximum number of steps in an episode.\n",
    "├───imgs                 # Images used in notebook\n",
    "├───results \n",
    "│   ├───logging          # Contains logged data\n",
    "│   ├───model            # Contains the policies learned\n",
    "│   └───video            # Contains videos for each environment\n",
    "│       └───CartPole-v0\n",
    "│       │  └───test      # Videos saved during testing\n",
    "│       │  └───train     # Videos saved during training\n",
    "│       └───SpinningReacher-v0\n",
    "│           └───test\n",
    "│           └───train\n",
    "├───wandb                # Data saved for wandb\n",
    "│   ex1.ipynb            # Main assignment file containing tasks <---------\n",
    "│   feedback.ipynb       # Please give feedback in here\n",
    "│   README.ipynb         # This file\n",
    "│   agent.py             # Contains functions that govern the policy\n",
    "│   reacher.py           # Defines the reacher environment\n",
    "│   train.py             # Contains training and testing functions\n",
    "│   utils.py             # Contains useful functions \n",
    "```"
   ]
  },
  {
   "cell_type": "markdown",
   "id": "100c1cfb",
   "metadata": {},
   "source": [
    "Please consult ```README.md``` for more details the assignments.\n",
    "\n",
    "The assignments use wandb to visualize data. You need to set Wandb up and login using the command below."
   ]
  },
  {
   "cell_type": "code",
   "execution_count": 1,
   "id": "27f593af-0a9c-4aab-8b9a-4d559c0dee63",
   "metadata": {
    "tags": []
   },
   "outputs": [],
   "source": [
    "import wandb\n",
    "from IPython.display import Video, display, HTML\n",
    "import random "
   ]
  },
  {
   "cell_type": "code",
   "execution_count": 2,
   "id": "5b418e8a",
   "metadata": {
    "tags": []
   },
   "outputs": [
    {
     "name": "stderr",
     "output_type": "stream",
     "text": [
      "Failed to detect the name of this notebook, you can set it manually with the WANDB_NOTEBOOK_NAME environment variable to enable code saving.\n",
      "\u001b[34m\u001b[1mwandb\u001b[0m: Currently logged in as: \u001b[33mxinyu-zhang\u001b[0m. Use \u001b[1m`wandb login --relogin`\u001b[0m to force relogin\n"
     ]
    },
    {
     "data": {
      "text/plain": [
       "True"
      ]
     },
     "execution_count": 2,
     "metadata": {},
     "output_type": "execute_result"
    }
   ],
   "source": [
    "wandb.login() # Insert API key here. You can get your API key from https://wandb.ai/authorize"
   ]
  },
  {
   "cell_type": "code",
   "execution_count": 3,
   "id": "c8cb8a88",
   "metadata": {
    "tags": []
   },
   "outputs": [],
   "source": [
    "from pathlib import Path # to find directory\n",
    "work_dir = Path().cwd()/'results'\n",
    "import os\n",
    "os.environ['WANDB_NOTEBOOK_NAME'] = str(Path().cwd()/'ex1.ipynb') # Detects notebook for wandb\n",
    "\n",
    "import train as t # for training\n",
    "import utils as u # helper functions\n",
    "\n",
    "import numpy as np # The numpy library can be used for math functions\n",
    "import torch # Used to manage policy and learning\n",
    "from IPython.display import Video, display # to display videos"
   ]
  },
  {
   "cell_type": "markdown",
   "id": "f5e36a57",
   "metadata": {
    "tags": []
   },
   "source": [
    "# 2. Cartpole <a id='2.'></a>\n",
    "\n",
    "The Cartpole environment consists of a cart and a pole mounted on top of it, as shown in Figure 1. The cart can move either to the left or to the right. The goal is to balance the pole in a vertical position in order to prevent it from falling down. The cart should also stay within limited distance from the center (trying to move outside screen boundaries is considered a failure).\n",
    "\n",
    "<figure>\n",
    "<img src=\"imgs/cartpole.png\" width=\"400px\">\n",
    "<figcaption style=\"text-align: center\"> Figure 1: The Cartpole environment  </figcaption>\n",
    "</figure>\n",
    "\n",
    "The state and the observation are four element vectors:\n",
    "\n",
    "$$\n",
    "o=s=\\left(\\begin{array}{c}\n",
    "x \\\\\n",
    "\\dot{x} \\\\\n",
    "\\theta \\\\\n",
    "\\dot{\\theta}\n",
    "\\end{array}\\right) \\text {, }\n",
    "$$\n",
    "\n",
    "where $x$ is the position of the cart, $\\dot{x}$ is its velocity, $\\theta$ is the angle of the pole w.r.t. the vertical axis, and $\\dot{\\theta}$ is the angular velocity of the pole.\n",
    "\n",
    "In the standard formulation, a reward of 1 is given for every timestep the pole remains balanced. Upon failing (the pole falls) or completing the task, an episode is finished.\n",
    "\n",
    "The training script will record videos of the agent’s learning progress during training, and the recorded videos are saved to ```results/video/CartPole-v0/train```. By default, the training information is saved to ```results/logging/CartPole-v0_logging.pkl``` as well as on cloud via wandb. When the training is finished, the models are saved to ```results/model/Cartpole-v0_params.pt```. The models can be tested by setting ```testing=true``` in ```cfg_args```, and if the models are saved to a different path, you can use ```model_path=<YOUR MODEL PATH>``` to indicate it. Videos of the agent’s behaviour during testing are saved to ```results/video/CartPole-v0/test```."
   ]
  },
  {
   "cell_type": "markdown",
   "id": "6d5bb7ba",
   "metadata": {
    "tags": []
   },
   "source": [
    "<a id='T1'></a>\n",
    "<div class=\" alert alert-warning\">\n",
    "    <h3><b>Student Task 1.</b> Training a Model for Simple Cartpole Environment (10 points) </h3> \n",
    "\n",
    "This task requires you to train a model for the cartpole environment with 100 timesteps per episode and then report the training plot using 'Weights \\& Biases'. Then test the model for 1000 timesteps and report average reward. To do this, you can simply run the code in the cells below. \n",
    "\n",
    "To see a full list of options that can be passed through ```cfg_args``` consult the configuation file found in ```cfg/```.\n",
    "\n",
    "- **1st:** setup 'Weights \\& Biases', check the README for help. \n",
    "- **2nd:** Run training over 100 steps per episode by using ```t.train``` function. See the cell below. \n",
    "- **3rd:** Export the training plot ```episodesep_reward``` from wandb (see ```README.md```) and attach below.\n",
    "- **4th:** Run testing over 1000 steps by using ```t.test``` function. See the cell below. See the cell below. Notice ```max_episode_steps``` parameter. \n",
    "- **5th:** Report the average reward after testing the model.\n",
    "    \n",
    "🔝\t<a href='#TOC'><b>Table of Contents</b></a>\n",
    "</div>\n"
   ]
  },
  {
   "cell_type": "code",
   "execution_count": null,
   "id": "e0481176",
   "metadata": {
    "scrolled": true,
    "tags": []
   },
   "outputs": [],
   "source": [
    "# train_episodes: 500\n",
    "# model is trained to balance for 100 steps\n",
    "t.train(cfg_path=Path().cwd()/'cfg'/'cartpole_v1.yaml', \n",
    "        cfg_args=dict(seed=1, max_episode_steps=100)) # < 5 mins"
   ]
  },
  {
   "cell_type": "markdown",
   "id": "1d967ec4",
   "metadata": {},
   "source": [
    "<figure>\n",
    "<img src=\"imgs/answers/exercise_1_task_1_0_training _plot.png\" width=\"500px\">\n",
    "<figcaption style=\"text-align: center\"> Figure 1.1: Training plot  </figcaption>\n",
    "</figure>"
   ]
  },
  {
   "cell_type": "markdown",
   "id": "b0230ba0",
   "metadata": {},
   "source": [
    "The command below will evaluate the trained model in 10 episodes and report the average reward (and episode length) for these 10 episodes."
   ]
  },
  {
   "cell_type": "code",
   "execution_count": 10,
   "id": "95418d8d",
   "metadata": {
    "tags": []
   },
   "outputs": [],
   "source": [
    "t.test(episodes=10, \n",
    "       cfg_path=Path().cwd()/'cfg'/'cartpole_v1.yaml', \n",
    "       cfg_args=dict(testing=True, seed=None, max_episode_steps=1000, use_wandb=False))"
   ]
  },
  {
   "cell_type": "markdown",
   "id": "18da8596",
   "metadata": {},
   "source": [
    "The logged information: \n",
    "```\n",
    "Numpy/Torch/Random Seed:  501\n",
    "Loading model from /notebooks/rl2023/ex1/results/model/CartPole-v1_params.pt ...\n",
    "Testing...\n",
    "Test ep reward: 137.0 seed: 88\n",
    "Test ep reward: 127.0 seed: 672\n",
    "Test ep reward: 131.0 seed: 680\n",
    "Test ep reward: 127.0 seed: 592\n",
    "Test ep reward: 135.0 seed: 481\n",
    "Test ep reward: 137.0 seed: 78\n",
    "Test ep reward: 147.0 seed: 735\n",
    "Test ep reward: 156.0 seed: 852\n",
    "Test ep reward: 132.0 seed: 694\n",
    "Test ep reward: 126.0 seed: 965\n",
    "Average test reward: 135.5 episode length: 135.5\n",
    "```\n",
    "The Average test reward is $135.5$. \n",
    "\n",
    "As we know a reward of $1$ is given for every time step the pole remains balanced, while upon falling or completing the task, the episode ends. The average reward and episode length imply that on average the trained model can only keep the pole balanced for $135.5$ steps over $1000$ steps."
   ]
  },
  {
   "cell_type": "markdown",
   "id": "65a689b7",
   "metadata": {},
   "source": [
    "The agent acting in the environment can be seen using the following command. Change the ```path``` to pick the episode you want to visualize. Bear in mind by default video saving for training is taken every 50 episodes."
   ]
  },
  {
   "cell_type": "code",
   "execution_count": 4,
   "id": "ee7bc0ff",
   "metadata": {
    "tags": []
   },
   "outputs": [
    {
     "name": "stdout",
     "output_type": "stream",
     "text": [
      "train/ ex1-episode-0.mp4\n"
     ]
    },
    {
     "data": {
      "text/html": [
       "<div style=\"width: 200px; height: 100px;; border: 1px solid #FF5733;\"><video loop autoplay  width=\"200\"  height=\"100\">\n",
       " <source src=\"data:video/mp4;base64,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\" type=\"video/mp4\">\n",
       " Your browser does not support the video tag.\n",
       " </video></div>"
      ],
      "text/plain": [
       "<IPython.core.display.HTML object>"
      ]
     },
     "metadata": {},
     "output_type": "display_data"
    },
    {
     "name": "stdout",
     "output_type": "stream",
     "text": [
      "train/ ex1-episode-50.mp4\n"
     ]
    },
    {
     "data": {
      "text/html": [
       "<div style=\"width: 200px; height: 100px;; border: 1px solid #FF5733;\"><video loop autoplay  width=\"200\"  height=\"100\">\n",
       " <source src=\"data:video/mp4;base64,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\" type=\"video/mp4\">\n",
       " Your browser does not support the video tag.\n",
       " </video></div>"
      ],
      "text/plain": [
       "<IPython.core.display.HTML object>"
      ]
     },
     "metadata": {},
     "output_type": "display_data"
    },
    {
     "name": "stdout",
     "output_type": "stream",
     "text": [
      "train/ ex1-episode-100.mp4\n"
     ]
    },
    {
     "data": {
      "text/html": [
       "<div style=\"width: 200px; height: 100px;; border: 1px solid #FF5733;\"><video loop autoplay  width=\"200\"  height=\"100\">\n",
       " <source src=\"data:video/mp4;base64,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\" type=\"video/mp4\">\n",
       " Your browser does not support the video tag.\n",
       " </video></div>"
      ],
      "text/plain": [
       "<IPython.core.display.HTML object>"
      ]
     },
     "metadata": {},
     "output_type": "display_data"
    },
    {
     "name": "stdout",
     "output_type": "stream",
     "text": [
      "train/ ex1-episode-150.mp4\n"
     ]
    },
    {
     "data": {
      "text/html": [
       "<div style=\"width: 200px; height: 100px;; border: 1px solid #FF5733;\"><video loop autoplay  width=\"200\"  height=\"100\">\n",
       " <source src=\"data:video/mp4;base64,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\" type=\"video/mp4\">\n",
       " Your browser does not support the video tag.\n",
       " </video></div>"
      ],
      "text/plain": [
       "<IPython.core.display.HTML object>"
      ]
     },
     "metadata": {},
     "output_type": "display_data"
    },
    {
     "name": "stdout",
     "output_type": "stream",
     "text": [
      "train/ ex1-episode-200.mp4\n"
     ]
    },
    {
     "data": {
      "text/html": [
       "<div style=\"width: 200px; height: 100px;; border: 1px solid #FF5733;\"><video loop autoplay  width=\"200\"  height=\"100\">\n",
       " <source src=\"data:video/mp4;base64,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\" type=\"video/mp4\">\n",
       " Your browser does not support the video tag.\n",
       " </video></div>"
      ],
      "text/plain": [
       "<IPython.core.display.HTML object>"
      ]
     },
     "metadata": {},
     "output_type": "display_data"
    },
    {
     "name": "stdout",
     "output_type": "stream",
     "text": [
      "train/ ex1-episode-250.mp4\n"
     ]
    },
    {
     "data": {
      "text/html": [
       "<div style=\"width: 200px; height: 100px;; border: 1px solid #FF5733;\"><video loop autoplay  width=\"200\"  height=\"100\">\n",
       " <source src=\"data:video/mp4;base64,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\" type=\"video/mp4\">\n",
       " Your browser does not support the video tag.\n",
       " </video></div>"
      ],
      "text/plain": [
       "<IPython.core.display.HTML object>"
      ]
     },
     "metadata": {},
     "output_type": "display_data"
    },
    {
     "name": "stdout",
     "output_type": "stream",
     "text": [
      "train/ ex1-episode-300.mp4\n"
     ]
    },
    {
     "data": {
      "text/html": [
       "<div style=\"width: 200px; height: 100px;; border: 1px solid #FF5733;\"><video loop autoplay  width=\"200\"  height=\"100\">\n",
       " <source src=\"data:video/mp4;base64,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\" type=\"video/mp4\">\n",
       " Your browser does not support the video tag.\n",
       " </video></div>"
      ],
      "text/plain": [
       "<IPython.core.display.HTML object>"
      ]
     },
     "metadata": {},
     "output_type": "display_data"
    },
    {
     "name": "stdout",
     "output_type": "stream",
     "text": [
      "train/ ex1-episode-350.mp4\n"
     ]
    },
    {
     "data": {
      "text/html": [
       "<div style=\"width: 200px; height: 100px;; border: 1px solid #FF5733;\"><video loop autoplay  width=\"200\"  height=\"100\">\n",
       " <source src=\"data:video/mp4;base64,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\" type=\"video/mp4\">\n",
       " Your browser does not support the video tag.\n",
       " </video></div>"
      ],
      "text/plain": [
       "<IPython.core.display.HTML object>"
      ]
     },
     "metadata": {},
     "output_type": "display_data"
    },
    {
     "name": "stdout",
     "output_type": "stream",
     "text": [
      "train/ ex1-episode-400.mp4\n"
     ]
    },
    {
     "data": {
      "text/html": [
       "<div style=\"width: 200px; height: 100px;; border: 1px solid #FF5733;\"><video loop autoplay  width=\"200\"  height=\"100\">\n",
       " <source src=\"data:video/mp4;base64,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\" type=\"video/mp4\">\n",
       " Your browser does not support the video tag.\n",
       " </video></div>"
      ],
      "text/plain": [
       "<IPython.core.display.HTML object>"
      ]
     },
     "metadata": {},
     "output_type": "display_data"
    },
    {
     "name": "stdout",
     "output_type": "stream",
     "text": [
      "train/ ex1-episode-450.mp4\n"
     ]
    },
    {
     "data": {
      "text/html": [
       "<div style=\"width: 200px; height: 100px;; border: 1px solid #FF5733;\"><video loop autoplay  width=\"200\"  height=\"100\">\n",
       " <source src=\"data:video/mp4;base64,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\" type=\"video/mp4\">\n",
       " Your browser does not support the video tag.\n",
       " </video></div>"
      ],
      "text/plain": [
       "<IPython.core.display.HTML object>"
      ]
     },
     "metadata": {},
     "output_type": "display_data"
    },
    {
     "name": "stdout",
     "output_type": "stream",
     "text": [
      "train/ ex1-episode-500.mp4\n"
     ]
    },
    {
     "data": {
      "text/html": [
       "<div style=\"width: 200px; height: 100px;; border: 1px solid #FF5733;\"><video loop autoplay  width=\"200\"  height=\"100\">\n",
       " <source src=\"data:video/mp4;base64,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\" type=\"video/mp4\">\n",
       " Your browser does not support the video tag.\n",
       " </video></div>"
      ],
      "text/plain": [
       "<IPython.core.display.HTML object>"
      ]
     },
     "metadata": {},
     "output_type": "display_data"
    }
   ],
   "source": [
    "# Train Result\n",
    "video_dir = work_dir/'video'/'CartPole-v1'/'train'\n",
    "\n",
    "# List all MP4 files in the directory\n",
    "mp4_files = [file for file in os.listdir(video_dir) if file.endswith(\".mp4\")]\n",
    "frame_colors = ['#FF5733', '#33FF57', '#5733FF', '#FFFF33', '#33FFFF', '#FF33FF']\n",
    "# Display each MP4 file\n",
    "for i, mp4_file in enumerate(mp4_files):\n",
    "    video_path = os.path.join(video_dir, mp4_file)\n",
    "    video = Video(video_path, embed=True, html_attributes=\"loop autoplay\", width=200, height=100)\n",
    "    frame_color = frame_colors[i % len(frame_colors)]\n",
    "    video_frame = HTML(f'<div style=\"width: 200px; height: 100px;; border: 1px solid #FF5733;\">{video._repr_html_()}</div>')\n",
    "    print(\"train/\",mp4_file)\n",
    "    display(video_frame)"
   ]
  },
  {
   "cell_type": "code",
   "execution_count": 5,
   "id": "47f0e835-79ad-47c7-9984-bfc705927d7b",
   "metadata": {
    "tags": []
   },
   "outputs": [
    {
     "name": "stdout",
     "output_type": "stream",
     "text": [
      "test/ ex1-episode-0.mp4\n"
     ]
    },
    {
     "data": {
      "text/html": [
       "<div style=\"width: 200px; height: 100px;; border: 1px solid #5733FF;\"><video loop autoplay  width=\"200\"  height=\"100\">\n",
       " <source src=\"data:video/mp4;base64,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\" type=\"video/mp4\">\n",
       " Your browser does not support the video tag.\n",
       " </video></div>"
      ],
      "text/plain": [
       "<IPython.core.display.HTML object>"
      ]
     },
     "metadata": {},
     "output_type": "display_data"
    },
    {
     "name": "stdout",
     "output_type": "stream",
     "text": [
      "test/ ex1-episode-1.mp4\n"
     ]
    },
    {
     "data": {
      "text/html": [
       "<div style=\"width: 200px; height: 100px;; border: 1px solid #5733FF;\"><video loop autoplay  width=\"200\"  height=\"100\">\n",
       " <source src=\"data:video/mp4;base64,AAAAIGZ0eXBpc29tAAACAGlzb21pc28yYXZjMW1wNDEAAAAIZnJlZQAANsJtZGF0AAACrwYF//+r3EXpvebZSLeWLNgg2SPu73gyNjQgLSBjb3JlIDE2NCByMzA5NSBiYWVlNDAwIC0gSC4yNjQvTVBFRy00IEFWQyBjb2RlYyAtIENvcHlsZWZ0IDIwMDMtMjAyMiAtIGh0dHA6Ly93d3cudmlkZW9sYW4ub3JnL3gyNjQuaHRtbCAtIG9wdGlvbnM6IGNhYmFjPTEgcmVmPTMgZGVibG9jaz0xOjA6MCBhbmFseXNlPTB4MzoweDExMyBtZT1oZXggc3VibWU9NyBwc3k9MSBwc3lfcmQ9MS4wMDowLjAwIG1peGVkX3JlZj0xIG1lX3JhbmdlPTE2IGNocm9tYV9tZT0xIHRyZWxsaXM9MSA4eDhkY3Q9MSBjcW09MCBkZWFkem9uZT0yMSwxMSBmYXN0X3Bza2lwPTEgY2hyb21hX3FwX29mZnNldD0tMiB0aHJlYWRzPTEyIGxvb2thaGVhZF90aHJlYWRzPTIgc2xpY2VkX3RocmVhZHM9MCBucj0wIGRlY2ltYXRlPTEgaW50ZXJsYWNlZD0wIGJsdXJheV9jb21wYXQ9MCBjb25zdHJhaW5lZF9pbnRyYT0wIGJmcmFtZXM9MyBiX3B5cmFtaWQ9MiBiX2FkYXB0PTEgYl9iaWFzPTAgZGlyZWN0PTEgd2VpZ2h0Yj0xIG9wZW5fZ29wPTAgd2VpZ2h0cD0yIGtleWludD0yNTAga2V5aW50X21pbj0yNSBzY2VuZWN1dD00MCBpbnRyYV9yZWZyZXNoPTAgcmNfbG9va2FoZWFkPTQwIHJjPWNyZiBtYnRyZWU9MSBjcmY9MjMuMCBxY29tcD0wLjYwIHFwbWluPTAgcXBtYXg9NjkgcXBzdGVwPTQgaXBfcmF0aW89MS40MCBhcT0xOjEuMDAAgAAAAflliIQAJ//+9bF8CmrJ84oM6DIu4Zckya62IuJtAMAVD7AAAAMAABMqliezICUal8AAABCQA1AfQZQeYiYqxUCV4g4JjdGAVR08dBqHUOFXxEwSDoEejttRrShwJfBAuG5GsZk0SOjeb464fkUYHVfVcP++rQbUMZtads5OqLvDqw2W9foi4MKGQsg9GMJHvrCzUUJ0ji6o8EylxYQCQLhkHRXbvw0HfsaIwG+YE1gug2zBwBDCOU+uJ3jep1LkalbvoT4iiX4T6nKwNrWTmO4y5OWPbyEYCP+AAPYImN6FkT/qxCvApMADnFNtuloksTPyCvh+AHYvgrzTM6DZ746n939msqT5AniJSAPBIyzLyeTaD4Td+T45xFiFKG/OI/sJh1tW6pydViwUmEjvoSG6rE+lg7Dd2GCujH4FTEVzAPKRWrqbhGkQpNH6UsF2ovaw+xcVKwWqeLJK8YsEm0zY3MZ8lSQCxQ1hBxeUGgqQOHG4SI4M8+vBp/A699oZrQCr9VJ18OvTAx5+Vapw6xnTj+nUAwYA3Xc1roWmhtEOhs7VeC1psUyrfp7A8k+uTG0V69tJR0vTuiiFB2FlzLhefcHq12MIAAAEb6UuC6ZXLi3Sb42+choTWaO3CytocGXblZYtTiPuyIyhz/cAENC9cAAAAwAAAwF/AAAAgkGaJGxCf/3xAAADAPP5n4hcrdlFYlox8qUpvcCqAAIcx+Q1C8FrpedhMCpCBxTIPz+X8vwUwKHscOQRWrNYLivpTc4nvIuihC8LWuD7lVxC2oyNsRrwZ+HkCtSMaVTiXlsrBTpP4wCqk7tNMyhGC9haAtHaSFztVa2Ty4e0IUQCXVYAAAA7QZ5CeIR/AAADAzh8RAA42sXpaMR0u0T9VHJ4sf2kH6T8MmScLuTW1o9Iyk88hz5VKGHrypFBiaaBr7cAAAAdAZ5hdEf/AAANNe8w76DTtcWx11zrBHq4pZ/7nf4AAAAgAZ5jakf/AAANN5DxhXQpObDiNG6uNJSAlYpvlPITbSsAAABDQZpoSahBaJlMCFf//jhAAAAl3uLiGaTW0u/7QhoC0B/eYChofm6ADXFdx0n4I8FBl7hPoJEVor3tlCQGylUe5y/vQQAAACdBnoZFESwj/wAACDFP6cODORUbM/AADdLD48aONWE1u+HqD3FubPkAAAAVAZ6ldEf/AAAE+FwWKFy7UQ/Wwk+BAAAAGwGep2pH/wAABPs01d7biGqCSBvo8OgkcJGTkgAAAFVBmqxJqEFsmUwIT//98QAAAwBfe0tQzoJv59i4ARTkwjtdK8Cw/mLveXMUMO5EZFsn5kiWifiNk5J4F8GZQTWaHyJtug1u6DFQvsl+oUSMrbbfzlJsAAAAHkGeykUVLCP/AAADAzkxzZhUjbCR3FVsu3x8nRR4MQAAAA4Bnul0R/8AAAMAAAMBqQAAABsBnutqR/8AAAMB5n/VSX8TcdX2dxiHhqcmO3AAAABmQZrwSahBbJlMCEf//eEAAAMBke6pcAKBM6cspQBUpRuuqXCOiDQO4JDZidinj05bIRdwycgCnz9yxOoYPGeaaLAcoIkPMCWtmyqvfiNVs9ufJzhdTPlreJGNWgABUeAg3huNKENpAAAAH0GfDkUVLCP/AAADAzkwebbiuafIW6889WkQEtKBnbMAAAAQAZ8tdEf/AAADALWhQ5wHVQAAABwBny9qR/8AAAUfMJZ7iS16zwJMEUoAexpDO8kwAAAAskGbNEmoQWyZTAhX//44QAABDZWrVE70AaUAAvNcLBapGrqr+xJXoY0BKJ2qxKO9yHMxagRGG6UaJ/1oGkwn5e2jmwtv0PNKSvmUlyXGyKnXpxQvbCFzSfrzveC0xWbUAgCAxRLcyybA1foGLIidff8SZMRD8QlDBqfjrdylWD7WAiVh12g6fQyn4uHPB1vKoEci0AUoL4cCZ9H2H4eUcOZ4FAMos1O0WSdPWVWkOMaTCTYAAABJQZ9SRRUsI/8AABa8Q823F72TXW//QgipsKdKi7RBU95wHxUXd14wUGmlT0ElcxxwPiKvAB+HdejyW+OjZdxa45Vm82AwJ7vbZwAAABgBn3F0R/8AAAUfy+6KCROLXra+In9A8UEAAAAfAZ9zakf/AAAjvwQnEtII4/CzR31KSc5jSK6f0T2AlQAAABlBm3hJqEFsmUwIT//98QAAAwBifTdfsAJHAAAASEGflkUVLCP/AAAIbXzSAnfitnZtcijHLZ2qml23imTbZqQXwA2vciyPdlsQ9dmMPYuVRBVzBw7aAWxflSmSqmq8PKSfhvE2zAAAAB8Bn7V0R/8AAA2F3TWYPZ4csTVuinWM+cZdMJYhlDZhAAAAHgGft2pH/wAADYSVLuKl6cj8aXtjYJM54M6fFBdswQAAAHpBm7xJqEFsmUwIV//+OEAAAGcMhXLoBH4FIv/CZTICCphv2I8g1dT2hWpxoQmJnUT2KNq4Ytz+BFiD6/ewWTyzVFGA1JwsuEpmUfFeaPVHfsuFHUiJvzyfG4eZh9KtwCL5c+3Mdm4nV/ERReA7VajFapnk9PG4ETfUVAAAACBBn9pFFSwj/wAACG8h5tuK8AY5fFRoSmjVQTLeKEckwQAAAA4Bn/l0R/8AAAMAAAMBqQAAABwBn/tqR/8AAA2ElSz3ElpmrhWUyXLDjtWBU5bNAAAAUkGb4EmoQWyZTAhP//3xAAADAAC+mU5Wm2v66Pcph4AThjMESXV+JMA2jM8lBHxClEuB99LgHrxG4LdOaYQCZeEeuvaag2GmBxH439jX12AkIMEAAAAZQZ4eRRUsI/8AAAMABnJoH33w8OkszaGnqgAAAA4Bnj10R/8AAAMAAAMBqQAAABcBnj9qR/8AAAMACj55DMFA9f72Qec9UQAAAE5BmiRJqEFsmUwIT//98QAAAwKfBR02S0KQek9AEYDgadFELGNh1Dw7r/s/N73G8NVPQanT4dliiUEPzXL+XgXAK3DW3N90r9yS04fB2QsAAAAqQZ5CRRUsI/8AABa8Q823F0GdMFWQizkNfszvb0tVwoGFDr8+YSA4UmDBAAAAGAGeYXRH/wAABSBqekJ5iZa3qCM/HYMUEAAAABgBnmNqR/8AACOxzAlvqW+xg9tfaDQQrYEAAAA1QZpoSahBbJlMCE///fEAAAMCn7q12w0ucQx2anAFUlSpIuaTN78lZPHS/Di/DNjR81COWoEAAAA4QZ6GRRUsI/8AABa8Q823FqScABxT8+gvOLBhSA1Y63KLZJb2Ro6OYVsixVPMbqodyJ9H7J6e2YEAAAAbAZ6ldEf/AAAFH8vtFTRgg2zZzvIgkbA6AmclAAAAGgGep2pH/wAAI78EJ+4HTwYfd+zAocwScjZgAAAAREGarEmoQWyZTAhP//3xAAADAp8FKhDgCMuDkMee947Ys418Bn02yZ05GsgXv9G8N9BN3DoHmOd7C/7lMyW1CGDgNymAAAAALkGeykUVLCP/AAAWvEPNtxXMrJlJPgdCi2Y9HZ32rBwAkhPRbH9H0t2m8+Xi7bkAAAAWAZ7pdEf/AAADAAo/tD2DegrjAbHiAgAAACsBnutqR/8AACOxzA1Hi22UDaQ/LuRP3haCqpLbp3iT1TbaDZkWxQjCKbZgAAAAMUGa8EmoQWyZTAhP//3xAAADAp+6tdsNLn4ABXiCJ9dzQFYn2gnKiO/eap6eOHh0ZKEAAAAfQZ8ORRUsI/8AABa8Q823FcysmUk+B0KKy4ee/9RyTQAAAA4Bny10R/8AAAMAAAMBqQAAAC0Bny9qR/8AACOxzA1Hei3184btDcfdzS4ofXALtZ9fhXwCABsOW+Alb+wC2YAAAABbQZs0SahBbJlMCE///fEAAAMCnvfYbkr32aAibcrKIioXzh5UaB7dWaNf2WFRD4WXKXEQAbDlCYTzmLM31zMYOtgrPgEfHuBt1BLnVvEGBdgYpFmIrO5Iedwc0AAAAC5Bn1JFFSwj/wAAFrMrtQTwTch8I7149LypAn2ec+j8FUuYjz8CAi/9PgkIGsqBAAAAMwGfcXRH/wAAI6v4XVbMI41hKttyFalkUTuuPqOAAtGedP6A90n1L4nvsULCjOaHFoRQQAAAABsBn3NqR/8AACOxzAlvqW+gdFVUBgKOcIwUaoIAAABDQZt4SahBbJlMCEf//eEAAAQTeCU6VApSV0U5cg26vPHbqO6SF86WTBN+p4U2MagP5TxsDkm+AVS2zrvlUcY2sZ/z1wAAAC5Bn5ZFFSwj/wAAFrU5jWItoTCAQfBud9u4qwIwriP0yjqygCoJFn9LECcndYOSAAAALQGftXRH/wAAI8M7YzTmB8rf+qXai7ZhUYebOG0zX6MKGQ3JB9agCM/XpOE7cQAAABsBn7dqR/8AACKyPK9USeBBKq4Xu2C48Ipf5bMAAABeQZu8SahBbJlMCEf//eEAAAQbompregaDVf0R/90NUr/LOOQkGc5ZYR2NxggU4hUcpAZh+muOQllFkngNzTDeJYHNzjTwUBpOGgsItBWLBcXjAKZtkdJn+keKjuHRMAAAACZBn9pFFSwj/wAAFrQ9z8rhQioDONKdNlRGYCJ1kI0iiudu52g5IQAAACIBn/l0R/8AACPDF2KvXdeBibMnDZl67A1gwOADKWcwXc+DAAAAIgGf+2pH/wAAIr8fjDe6NfYLe3bl+k/IChWlc4arSuZfU5MAAABJQZvgSahBbJlMCEf//eEAAAMD9U2ejSqhFFl9k9y5etQ9kwOuQ9e1NMiH6BfwFJOvIdYAyvWa+mmnSvA5AAADAB16FzXdV/5GEQAAACVBnh5FFSwj/wAAFiMsklGCgZUKZjCVSW/+LlWtaG+TwZ9HituAAAAAJQGePXRH/wAAIsM+DAg2R05Nfoa0+TlBiCIMg4NSZnMJoMNd4MAAAAAWAZ4/akf/AAAivxrOe94Jtl/s6OPpuQAAADpBmiRJqEFsmUwIT//98QAAAwKM9+aahTOex+fEg1EnwABruTOc9bS8Z99cgAbSFMAC69TtFTo6XGKoAAAAJ0GeQkUVLCP/AAAWIyySUYJbXCh8rAQ24zJxSg2k/XPudcEcB9Zm9QAAACEBnmF0R/8AACLDPg4mKGqhB6U+1j0RjRCiICToNkldBvQAAAAjAZ5jakf/AAAivxrNrkfXdPc+nCu6uxIOWPnrmMWAOjgG/ykAAABsQZpoSahBbJlMCE///fEAAAMCjPfeTagGvYkvcPpPuOJGJcdyAPgOF9ADkTTr11Yz+jYebOj33CN9ZTcHCJsc+v+Lq31SAV7PDWzAXh/zvd3Fc5gVlWFY2vaMEH0wloiNB1AxbZvoscFtqjpBAAAAO0GehkUVLCP/AAAWIyu1BkaIloorYo0jxWGvDv9bQIQLLp/5pk54DhEGFU/tBvhP4VSRUxYhR1RyS3mxAAAAIgGepXRH/wAAIsMXaKmzf0teVIHu17g7+lBb5aG9KAKbn5UAAAAlAZ6nakf/AAAiscwPdtzfJKZngYdBYoO11fFlXP/crz9CyLOPgAAAACpBmqxJqEFsmUwIT//98QAAAwKM995NoQmdnFMQ0e9sWiD5rNpuN/pUOzAAAAAoQZ7KRRUsI/8AABXflt1I1Kw5yFiYIVid9ZnMGrC02b+pYZ1R37E6YQAAABwBnul0R/8AACKr+Ft4Ep1oI4gRnrkaA90L8yt6AAAAHAGe62pH/wAAIrHMD3bcv8uqh1pRvsDpl0fL4hYAAAA5QZrwSahBbJlMCE///fEAAAMCjbgoWYaXOIItIiyiZN/T/D49IgZ0ANWomtBwPaS7rG6nZfPNZfeBAAAAKkGfDkUVLCP/AAAWIyu1Bbk4QAIL+7eyq9udXJ/le9EfbgUWc+l3npl5NwAAAB8Bny10R/8AACLAuN/BXpFlEfqB0DMW5+mVCkyss+OnAAAAJQGfL2pH/wAAIr8EJxLH/RIiZWVPMZ4ibmdhxUFmPAfDJtUDzpgAAABFQZs0SahBbJlMCE///fEAAAMCjPfYbkxdnknS3Bdu7zV7rDXGdPbjU3jAykYDod35IA42LCy3L24GNP5Ia7cRnX6OC7jpAAAAM0GfUkUVLCP/AAAWIytU73xFQABO6wYC1SEEx2I0OQbR5EcurCuJc1Bc00yjQbYPYKnZNwAAACUBn3F0R/8AACLDF1KEUEiHoYwOXONq24SPKd7HLPwyoiyD9pNgAAAAKQGfc2pH/wAAIrHMCW/BwsQ8LJa07AAFsVZFgQCvTp1qTiBBky0w5DpgAAAATUGbeEmoQWyZTAhH//3hAAADA/u/6mQwb+eYBimVowwPKzWnEKgA+Yi31xs1q1267sK4alAE83k9OznNH/tdItscObvHvluppNFWCZITAAAAKEGflkUVLCP/AAAWICB63pco9EcqjPrvkb0dcTliAG6nyTb9OegnHTAAAAAeAZ+1dEf/AAAiwLjfwV6RZRH6ge8kQ7i+Q2ZbrxUFAAAANwGft2pH/wAAIb8fhnj5WGt12HNC7xqSIocIFQ2gUUOINw0heQVqMy3F4oNEm/Z0z9NTCnXWELEAAABWQZu8SahBbJlMCEf//eEAAAMD4IMFYr7MDq4MoigAXPcT9+VJMWTv/ZYVI9GxQ9G5NsG1tQt1vVPFR3Ldcv7Bnh+MbW42YzO/yHuHbCwGRRqUB3GsC+AAAABBQZ/aRRUsI/8AABWTLIvEqoKJ28ANN5qQzqQy507hoXOec9Zv0wNRXlfUz0UIf2bm1lrIF+REAHh/Q1ga11NOIEEAAAAzAZ/5dEf/AAAhwLmNf1mdLiHJjlGw1w8fM+FXmjpXzEQKF/4jDlFnYKk6KnVZO/j0qeCAAAAAHAGf+2pH/wAAIb8aznveCbZil7ktKpxPHT/agccAAACPQZvgSahBbJlMCEf//eEAAAMD3zh/8JINhdVfxO4dAkTuQE3aFJGOntOmq5FQJ1MRF/MCRlB6CiXbNW2BaGYx8Gxjbu7dRhl1AzuDKceZRXExWTIVgRT5HfjeqmNzDT33PQxLQ7Ue4Aa9L+dSMFNBKR6n3Eeqtx7Tp5wbI4n4yOpEz/igJXxnDiDnBU6Sky0AAAArQZ4eRRUsI/8AABWSnwnO7MRHW4oOSP1hmdqXFVxfvFyhnRcVrLVASvQqQAAAACUBnj10R/8AACHDMvyDw733ZglB6f33uqCO61on3VzJtzZ9lgJeAAAAPgGeP2pH/wAAIa4xL9F5RSCk6FRG1ZsCAFmfldGoVSrKp75013XTHvNoHxAhU2xwEBmYZCFubtiOSk9NApWZAAAATUGaJEmoQWyZTAhH//3hAAADA+CDBRvNiG7IaG2WtZk3AsVYBclwBXpBI+awh3FDZXnrTxZAU9tKFAVpuJ8/1Y0XzG0LUhAOfhSJqtNAAAAAK0GeQkUVLCP/AAAVT5bO0ifedc2oazAAAup0nhtD0+x9uiY+9QBFPEzpE7cAAAAkAZ5hdEf/AAAhwxdoqbAAxI8BTl0XM/9xL0AAmkEG3f/bd/KMAAAAKgGeY2pH/wAAIa4xL9F5RSCk6eyaAEsM5OcNfoNR+I4OnklED3b/NSD2wQAAADZBmmhJqEFsmUwIR//94QAAAwPfOIGCceeu4Vyz4DMyrG3gfzBwW/MzcvD4CcJ3LBk/k2eonYUAAAAlQZ6GRRUsI/8AABWSnqi0WI3i5KqYD5hJ7Y1ElL1RqZCZkQZJRwAAACgBnqV0R/8AACHDF2ipyNUuVrEM42QNeFOwidzX19Sw7YmqWxhvvO2BAAAAIQGep2pH/wAAIa4xL9Iy06gQK1XJrUhHKqbsrZZPWcrjgAAAAJZBmqxJqEFsmUwIR//94QAAAwPgR8IKqCoUnO/xAxsHUCQIqzfkeehsyDTFLZrPca0P9lCUfe+4SwVN8vroJyuzPkGkMJYpz6ieYxuDQKUszOLPQSMJRCwwA/OT4wsIIqkwPw1/H2FU8LUSkjA0btMEMi6U7ZWFRfBWS8JTkyEBsq16/BCa1MixxEiVg/uozaqn3XpkmoAAAAAuQZ7KRRUsI/8AABWTK7UFuRxH6AUJhJMOdNs1SKe3OpUudrkCb047VQBMzOPlGQAAAC0Bnul0R/8AACGpz1TO1KqqzfHoYASO4kGrzRqkEvOK9AAmQUtBombxcVNIul4AAAAlAZ7rakf/AAAhvwQnYG3RsoT3/Mrt+L9SmXgP0MdBQ1kx2JntyQAAAHlBmvBJqEFsmUwIR//94QAAAwPlv+pmWG6f8ZTy/xZx4TmPUNije3XKLB8qEAcoIvU8mBpgbkCO0zp+zR2lZvoUFMWVueoHlVnQ+xFo6GzQI8OnL1ZKoguVX2RhWc0V87BwToxNB4KKKmnCWnRZzSCZKJ5miYgfrDkZAAAALUGfDkUVLCP/AAAVlSX9TKsOQVj1XuDgBTLLG0CYfUk2rli8SLl/ojD/n1TtgQAAACoBny10R/8AACGsFQ4L80gFas3DvQ5OG7WYaq1lAx0IH7FSOwO6sFR2uOEAAAAjAZ8vakf/AAAgrjMFGgu6mWle89s4xYRi2TPo+UZJByUkbjgAAACAQZszSahBbJlMCEf//eEAAAMDyTh/8JIHfNb/7WOyb78SVXcyuRogSBBTUqTQVi2beCaR8owxNIbcvtySGLVoltJcg++m8ahzxCNH11CMPC6rxhX5bzUuk7KJRbDW7t9hIu/p/Pun8xhMPZlV1u1qPJ+ygHJpcLd49yX4AQqObSIAAAArQZ9RRRUsI/8AABUCnwnO7MQ/Nqlpw7x4ZtvckF07xDciq38O+VZFlAPIqQAAACMBn3JqR/8AACCuMS/Rc5hhX8HS6m0dLcmcJIinf4ajy9EtxwAAADhBm3dJqEFsmUwIR//94QAAAwPJPqvt+c4sXrr6Bkwzwm65ropSlxFTODdTkl++5qf+vrk5FGdpQAAAACVBn5VFFSwj/wAAFQKeqLQ808GL5sKnrwAbnsPO95J3SURLtAOBAAAAJQGftHRH/wAAIMC438FekWUR+oHQ466CS3K3hrIlhmw/nYUdmYAAAAAvAZ+2akf/AAAgrjEv0XlDs822QGUnJBKHHfBzCPgBBeSV8u5qCnOlNFpOa4B6edkAAABUQZu7SahBbJlMCE///fEAAAMCabvaGLLYgqIgNherHUYqlnUkl6TOUBT2YCZQJzFD8vw/Y9hK/nLyYAXwLHt0Le9i2ex7ZFWnXNFQapPGVSd/gKpRAAAAOEGf2UUVLCP/AAAVAp3IWTO5qdWqz69yQ9d95+t98RLHxfiqG8AAhSxlApqOXU441fv/q/dXZbpgAAAAJAGf+HRH/wAAIMC438ClpbpJS18q5h6RmQA9xTJ+wc0dZE88oQAAAB8Bn/pqR/8AACCuMS/ReUOzzbZAZScgyzcI3agSRI+AAAAASkGb/0moQWyZTAhP//3xAAADAm3RNZdCQj20oi8uKG7hSNukAYyrnKhhpEoJ1LSjny/F5sPfvUYvdXN5DcCOClGY3n5l96OPUiOBAAAAJ0GeHUUVLCP/AAAVBSX9TKsOQVjtGlbOX3w1d4lVeGYiQcND78+90wAAACABnjx0R/8AACDAuN/BXpFlEgk7I+PFmlMNPtjaPtaeUAAAACcBnj5qR/8AAB+5qAgeC7s+Sr3AlDMCv0y2BPq2ywoWUXatP+XFgR8AAACGQZojSahBbJlMCE///fEAAAMCWopc7ErVYCksIq2IBJi4+Nmb1g3KT6+Vt3zfzQhPHsAA4O738SDl57qfrWerPVqov3qbseusRXy5y7cDsD8RROSb5bIDXVqYSJJEC8+SbWxU7wQX6wYDsuYbCH+zs2Bk4JJIwC9SYHH7YsXwJGVCmwnJ2IEAAAA5QZ5BRRUsI/8AABRynqi0PNPBi+bElAFTsN+KGP0g9TCyi5jwqRr5iVeqJOMM2fArSowTX8efGh7oAAAAKgGeYHRH/wAAH8jKbhJ9ep0W2X7kU+cPE4UaFHckk/AAN9Jgy94cW7T0wQAAACgBnmJqR/8AAB+5pn9S6MORbHbl9PvZSgbySBgYn3PgoL9gHL1ksO6AAAAAUUGaZ0moQWyZTAhH//3hAAADA7NCQZi3oQPV8R9XYdNGzZ3/dVlUvDD3khtnG2f0BHZKDouXtag6soYW2r/vx+j9ngmj3yJY+i6DbrMrBEmuGwAAACZBnoVFFSwj/wAAFHH9Lmlp9t/Bd7QIkw81q/cOlb8g+PSCFiZO6QAAACcBnqR0R/8AAB/ILKKkpq4kw1NwM2t2iKtPwCv3jBgt79CfY6MUd7UAAAAvAZ6makf/AAAfuacAj3dr8FmYSAWWe6oktzR0KU/KYTYSN3tmIl42Jo9AL90el20AAAA5QZqrSahBbJlMCE///fEAAAMCXdE1l3pCPkGkTOaTTaTIHyaVqgdmt5+GpEn9yVcoa3hNxFK2SRcwAAAAKkGeyUUVLCP/AAAUdSTirZdInJrmtud4ACIfHXI/XWDE2safTe9iYwvlmAAAACUBnuh0R/8AAB/IyXiZbQ2zb4S1orHXWzzlBkdhBmivia3JGpZhAAAAJAGe6mpH/wAAHwjt/0vKfqL8K0PouI8Nz2PmoaAlAGd0UCpKQAAAAF5Bmu9JqEFsmUwIT//98QAAAwJJvecddCEztA/31HfSYerdT+yD9h6ma6ENTGcXWAI1HgV6Ub8xQPa6qtyspa1rgHza+NtUPYOer1VW5kPyZBWtEhnGk6cSVIRcVqfQAAAAK0GfDUUVLCP/AAAT4f2RC15p4MXzYkoAqddmRL9xyDhF4Vq8nt0S6DahNjkAAAAoAZ8sdEf/AAAfGMpZFCtk1I7Tlc+yX93/zmNacB0R1qsexYQXbu/owQAAADABny5qR/8AAB8Jpn9R2kq4qPi9yFMJe5pwEPj8axhsU4TaWUWEqZ78BOQjmN8w9IEAAABoQZszSahBbJlMCE///fEAAAMCTdE18Oha5WAwAX99x+6uBwVTRdqCLsWvkFkBpe4yga/LzDKfMD0U+aVNY4TEbJ8YFgVUZFYvA+dNYe19e0ySZXv8Hmm2h9A7N7/jwHeZKdvXVpWQKvcAAAAsQZ9RRRUsI/8AABPrNpQj2h7Q996ONiBADd1LytDw/MRPTIRKa8xKXGwEmYAAAAAyAZ9wdEf/AAAfGCzgEaByqPrSAxvtz9FdYCppK6DErsGp4l9FABoyZnZVEM49OYRj1ekAAAAtAZ9yakf/AAAfDI2I6CQxqklWFXcMN4jYNfLknRf41RQATXHTonTiC6inCPuAAAAAcUGbd0moQWyZTAhP//3xAAADAjm/px10MG/OLf6bvtZijjQCAtWmiKa90S8O1AIDq4G+2uQz0b6w3jn3kvvEkTdr2OLcKLL3M9uMWINp/hFd4F43hxrmazbevdmU/hcLa75FqaoRJUZ8EVKKav4dhwyoAAAANEGflUUVLCP/AAATVeC77OWPZdCg5k9VEBoe1lBpXF2lXdeUjMzSX54DJWDLPkqNmVoDy8sAAAAmAZ+0dEf/AAAeaC0M5+qxkpjnxfWEvW3lQZtmLqT1UOl0fS1EiXYAAAAnAZ+2akf/AAAeWOzacN88MGJd+rc99WCpONtHRJ3Y8lZXjYlX7oCxAAAAPUGbu0moQWyZTAhP//3xAAADAj3RNZfqQj5Bm91d6PYK9EdAXktS/7qXoyJqCfRwa30cPQMVmZcX1FuRt+EAAAAjQZ/ZRRUsI/8AABNV4Mv/G2jhfy6GvYyXeUQbbd3WuXIcO0AAAAApAZ/4dEf/AAAeaCyipKauRHnEKiE3nxIszhuoyC6qo2SXlAX+PCbmNMEAAAAhAZ/6akf/AAAeZmdC3PdIjDu3zCPc062aMVSFYM3Yy6QCAAAAPkGb/0moQWyZTAhP//3xAAADAim/px10IT++ZcMyuNr2+RpLpfL3gDw8UAB0DpxCDU4mHfY7fey5VNEOg+0pAAAALEGeHUUVLCP/AAAS1eC77OGMGO775jUpojKTBFBCZccFs9iE+vTCeYn6JyOBAAAAKAGePHRH/wAAHbgtDOfqsZKZ+zU/8aBCFkHGvi4KJI2WU161zZkkd8wAAAAjAZ4+akf/AAAdqOzacN88MGJd+rc99NfLaHw4meWKQaecf4AAAABfQZojSahBbJlMCEf//eEAAAMDd7/qaPmG6f84cMZXItJZSXpDBmkYm2woNtCi4ojiirFVTLOxrsCABRX8Tq3lh9Twd38WZ3eSds7LrTruuIxLeGjYhxWoNn7cxFL2vhMAAAA+QZ5BRRUsI/8AABLV75MNicwjdBuHfCeiFqAHIU9j7IGiqXwK7rkVpUlcGnCWhP4obyc0UQ7G7c9F3n7IeOAAAAAjAZ5gdEf/AAAdpnJAjpE4N55jxQp3TkRKd4QrcHue6NpCG6EAAAAlAZ5iakf/AAAdrIkb/vAdGzUAHyRxnmE4kaItB2AroeeZhyMlHAAAAENBmmZJqEFsmUwIR//94QAAAwNeKD3PDEOxdgum8tez4y0LDPOMhCg3xeUsSN8p6uAE/tMqhNBAd1mZ4pOMlWGkWifXAAAAJ0GehEUVLCP/AAASXV9utGYO77iDnBQIzB0R+RjsOiTJm/xrPDVF/wAAAB8BnqVqR/8AABz47Npw3zwwYl37JzehQJRrSqviPUgtAAAARUGaqkmoQWyZTAhH//3hAAADA2O/6mj5hun/H87OydEGAReSECiZMC/lpZIpE9BsycPlv6aaj4MmFDOKuRJ2z+KMWgRONQAAACdBnshFFSwj/wAAEl08xeQx+Z+qPhIrcVS47+aSddLzL6YCScDgpAQAAAA+AZ7ndEf/AAAc9c4InZhBnLyNLco+ERUdlh315QIDXBju13TzLLCqghM0wOoeVuqOAclAB9sOG8BnSVsEn0gAAABGAZ7pakf/AAAc/IuwI6ssSvY2aJGzNlfMvZp4+xg6DpwM3bb1ULsss9VNUU/LsxBB48N9JSNLSgAThnqcapPzWR5ylqUAQQAAAIBBmu5JqEFsmUwIR//94QAAAwNPqGYzk7HVcBFtETojlo0AfmZzQaHi6nVeEYDpNJse9m/YJbgT9txjh2JfqDQx6rD3oqVgaStiIGa4kI56yvtGH80VfwnuoUoO0vKACntf2KMXGDyVE38hHUp6LUZVRFQcdfwYa82U3jJoQh0FwAAAAFJBnwxFFSwj/wAAEdXvlimrtxrOdqdZ1p8ABGSUG+Fz8o8bc3uAtnmgzPlGIRZzVHChV7libKOPpVgJM7ZKCgG7hhkHCcgPsMJ0PmstACnewiHgAAAALwGfK3RH/wAAHEXOCJ2JmDCxRzFMyLEQeCZrAUsIQFs0Nd5aEC0oE5skB1PzJBGBAAAAQAGfLWpH/wAAHEjtNr0cESCw1LSx+n2dWScP/rRon0KX2kHDlnneoHSwhru5x2zlzUUAX/cHP4yFfFqbGbtkhYEAAABnQZsxSahBbJlMCP/8hAAADO7/dOIMw6+GwrWj3xlNkQCZ1UnAEf2W+qMqEoV02NxSxGmYwEIkDMSoCtzgBaNp3y1sBI1zHfmaSEo/Zf7o9i+j5s2HjMOPODXdY/cAVoFMentfUj24gQAAACtBn09FFSwj/wAAEdfxQIQSErQb/ihS1thNUGtlt8AAEqda1ymuhN2MQTfAAAAAOAGfcGpH/wAAG5uDa3sopkALNFMCGRyEBU2mPFf087/cuRL0A9YkYzXyvRDOqnBQcLZrwjeqN35oAAAAVEGbckmoQWyZTAhP//3xAAADAftBt8G8lFM/swaF4WxllNOYaH7d8HiP3Gpztq05f25/TdqNG6nREBX8fY6juNOcSIm/8WUuhIEeoxJpsUPtsQoK7wAAAJRBm5ZJ4QpSZTAhH/3hAAADAzu/zjlguJqHhc6eV8wACZIuJ4eInLjb1kw+aFX0wSzDUQOEsFbtuHbSiikdFG6b6bxT1TJxT8EjjhnCb4JnuuHRS9u3VWxF0LBB7rK2nydSXfnNvAtX0Bq+MzL9OEzQ5PjB/mIBUyP/0rODEZh++36SbfBlQkLj8hYlsv2O2taFlydcAAAANUGftEU0TCP/AAARV/6NDR9OIZTMl3V6z8hcVcmfNKiNtEp/MXQEfAHbtIMGwrY2cH344YL0AAAANQGf03RH/wAAG6jE+e6KilAdvQXILayXUFszs48VuS+YKfGMMcADWBtJEyvzjUFIffBMTsHpAAAAKQGf1WpH/wAAGweXgnMh8rS6kRuyOFwitI48LXZ4RRzFVUO/qHcgCRSAAAAAeEGb2UmoQWiZTAhP//3xAAADAfLf9ZgKkI+N2cPnofQfUcLQu1y0qE9u1uzLK/oBCWIOjU9CSFMy32Tqs4VH839Peiy378bO6b8KjeK4EFC4oPDrQ6sx4CdgueB/SjYmlUJ8wc6wNDbArWdmkGnj5CPdLEMjxkpSWQAAAEBBn/dFESwj/wAAEN02lAM5kWcsEDxSV4oAThmdu522sxcxc7gPXpmvxCXSTcwp23fr7hcxsxWxkLXj2g+6DkfBAAAAQQGeGGpH/wAAGwd7M5Q3U5+TGoddZ65ySFRqX9PoSdcOhIgAXUEJYANJBwimGysW97dz2LxlU7elJ7X6YRXX1bR8AAAAPkGaHUmoQWyZTAhH//3hAAADAxO/6mmDhaHLdQffJ23RAjkWKqsZYoR49Cnpp4Y2PefH/szY8j6MsEbq4By1AAAAMkGeO0UVLCP/AAAQXUTzNfCzm/nP76lC4ZW1POPYZe7PL93sjyMo5sKAeoh0OnFtP1z8AAAAOQGeWnRH/wAAGmj3TE6gvtJ+psoFXPmKdREz/OSDOcx/h4H46YMvEs2dDbXLgMzZ0IlZHelLWN9x8QAAADkBnlxqR/8AABpbg4vw66cZXnyqznbODyAn3ytvgZh82htxrAz6ju2DmYixGzlJfmuoL7ghPe0HseEAAACDQZpASahBbJlMCP/8hAAAC5pl5ZbvqSAfi98IMrAhDXv/CLsHO7G9sG9iY1UjQggOrClEGbvXpk8B+8yAyZciWAOpyxcDBgsXGbDppmkAOZHZfpBWCvxd8QY+uWu02CPWn5Tv2X5ElqFjVoMyTVy9KzvPtfMvi/IxPx7+lFKbRJmOLNIAAAA+QZ5+RRUsI/8AAA/eXFgd9qcvg6hqcn6pMd1LavDZkk3AvRFuKN0axylJWR3PdO6Ge8IdtISXHfO00cjD3AIAAAA7AZ6fakf/AAAZu8ZYRIkIdzlbWRTbw9ycrcIs8s2EP7k/D0v9rPL447DfRWEA+AtyOWJPhmuibfsEE4EAAABBQZqBSahBbJlMCEf//eEAAAMC/7/qZlhcDQ+2PwFSH5aS5074nrRCa1ulWZLnzAviL/yvqOLWLoi4sYUK6LnKNKQAAABLQZqkSeEKUmUwIR/94QAAAwLmynx0xQb7q2btddf737+4nmcfmZhE1U+5yC+wP/g4J3a8nOQ22BUXiBvl7rl7Je0z3XrKVAb6PfT9AAAAKkGewkU0TCP/AAAPi31TUnEgZlVOgzbwEfa9WPOyNBpKmubp/FCedz0AYAAAACMBnuNqR/8AABkbxut7JyBatAZo3MBi/r7IDYB4JSkcedvoGQAAAHVBmuZJqEFomUwU8I/94QAAAwLrye5YtwVFAJqTJmVbOYIFTVkwcHzYniKcTs25NQet4Dv3JY56KvpQbARRwMiHbr+b4jH8+1utmBKvw2ns3bFZv5MOlmYcZbniEQ+OeeKfIjhvp3mnD4PsazMsclfF7neKRJUAAAAqAZ8Fakf/AAAZH2HlQPqnTLI2AW6RRFpV+2K7mKrj3aBjgt3zLohQ7g/hAAAAd0GbCUnhClJlMCP//IQAAAsfHLpzPdo4pWTbNyA0ANyLZfZ9qTm9WoWmoex8JhOYFlRKCgpQAF2jqahDFieLWu4NxuWOU7OS2P6dPSRgSljKPnNxpvOtx4wXUMORCmoNgOT3dsQLWMsN5/1K4WWKSZFjwBauI/0hAAAAKEGfJ0U0TCP/AAAPLlxVX93qYCaaR+7zrPAi1uohpV6ij9v/I7wXuhoAAAAqAZ9Iakf/AAAYe8cNUeomkK4Te9Aj44X98l+Sq5V294rC4e7WyXHJuQ9AAAAAX0GbSkmoQWiZTAhH//3hAAADAsLGFc8OK7Ts8vz3AW1fbLWUOfamQf7+MUCtlPbgGDQL+uUWmMC8djDpGL82KmPnSSAS6Mkxv2nSmdxyWYey3Fs+DHgWQANdzUBBoZbRAAAAfUGbbUnhClJlMCEf/eEAAAMCx8nuWYYgpAF/eckRI1ZN25jnpeLEa98YK8W8pH1+vSS0BNHKgvCkb5tKIh/UNmHbfFrA4yBsJP6Khf/uJgXiTl2cTBHZaHjgr9fkX4l3ShK+sSZCyuuvkPkN59B5BcprgpUJhlnFbyAYpUNwAAAAP0Gfi0U0TCP/AAAO24FsDACy/qBBQADjJETwEf+T9f4gra9V1qrCBbC3SZ2n+uKe1D3wZNfbQRijMUK/xLXNcAAAACgBn6xqR/8AABfnl6KDSMoSiUTyRMFi/hy4oFF3cwfilvvhAh/GmVyPAAAAbUGbr0moQWiZTBTwj/3hAAADArHTpALkL+e+1Tdrs/rVrT1l37L31x4YAtvRwwBVX6+fpn4JOzf5Fv+GaavmiacqED7yDQxo1533oh4psedL6zMHqEeQ6VRJY2/zhHXhILkG4ygOihpEsJc0Z4EAAAAnAZ/Oakf/AAAXQZhVdGi5LMRq2ItOBdS5yD68nABdBIMoTbve0BUxAAAASEGb0UnhClJlMFLCP/3hAAADArXJyHp8ppPh+lFTuwnM0M2qaENgJMmSpd5LnxhrSwSK8RFgdM+8oKaP+2Jgsl94TXaqiGB+DQAAAC4Bn/BqR/8AABdEtrYwFM+OyYVFkSYca7iQcjvEIOI2+xRU61EUn0CTgQ6NYB5eAAAAdEGb9UnhDomUwIV//jhAAACte1ss9W+z7Yp+rcsciDP+9epAAEGHZk5dxS5jz7GBX7jHnuTtpgITrfuq+FTtkuAysRjcPEhDPx530zQo9c5BgwGSlU26Ez4AOj6GnKMqnyYh7FQn2cishoUTCEUk0me78KlFAAAAfEGeE0UVPCP/AAAOJ+pAs0vsfnABbTcQpOKFqdZIFzUFaNyOwu1NWYv9TM999JGf3VfzatNlJGKsDnYvTmqCycta37cHkGV8MS2bOVZ0RUhHPAOdtTMnadEMn49ziWswVSBrRAqrxDWTJqX7grT26+7rOX5688uoNvFcafAAAABBAZ4ydEf/AAAWr4nsAEv2kjHy0SuzvwACznc+wa7GyzjmetHFVfsuZfLIzCv/E72ooSuLVvBalltsqzt72LIIQbAAAABLAZ40akf/AAAWJFEdp7fpHw24AFYhAI+SIsQjHNpVgPJsjrkO9sbGRUxXtHnQPREMJn3wIHqLwy6vYTYBXM37VCnTWNk8B9NVMkUPAAAAWEGaN0moQWiZTBTwj/3hAAADACLe6OhXHpfsG9mgISCNlnwQAmjxyTXm/LpGSlfaLw7bRPtiZ7C0GvgAmcNe447nQiMZ0OZAAj35lblq/WcF+czEvkCZ9IAAAAA9AZ5Wakf/AAADAS2G1sedRg1D5rNhiQpJVBIWvoAKHbtRh3H+UHka8LkMxxGF4R8aAplk9ujePC4u2KcFHwAAAENBmlhJ4QpSZTAj//yEAAADAAdH7vpWm5qIj/FQ7FwNkwAiDtQKBImVGPKxFEsrdBxRiRwALthC6gH51PtLXHpUGctdAAANF21vb3YAAABsbXZoZAAAAAAAAAAAAAAAAAAAA+gAABD0AAEAAAEAAAAAAAAAAAAAAAABAAAAAAAAAAAAAAAAAAAAAQAAAAAAAAAAAAAAAAAAQAAAAAAAAAAAAAAAAAAAAAAAAAAAAAAAAAAAAAAAAAIAAAxBdHJhawAAAFx0a2hkAAAAAwAAAAAAAAAAAAAAAQAAAAAAABD0AAAAAAAAAAAAAAAAAAAAAAABAAAAAAAAAAAAAAAAAAAAAQAAAAAAAAAAAAAAAAAAQAAAAAJYAAABkAAAAAAAJGVkdHMAAAAcZWxzdAAAAAAAAAABAAAQ9AAAAgAAAQAAAAALuW1kaWEAAAAgbWRoZAAAAAAAAAAAAAAAAAAAMgAAANkAVcQAAAAAAC1oZGxyAAAAAAAAAAB2aWRlAAAAAAAAAAAAAAAAVmlkZW9IYW5kbGVyAAAAC2RtaW5mAAAAFHZtaGQAAAABAAAAAAAAAAAAAAAkZGluZgAAABxkcmVmAAAAAAAAAAEAAAAMdXJsIAAAAAEAAAskc3RibAAAALBzdHNkAAAAAAAAAAEAAACgYXZjMQAAAAAAAAABAAAAAAAAAAAAAAAAAAAAAAJYAZAASAAAAEgAAAAAAAAAAQAAAAAAAAAAAAAAAAAAAAAAAAAAAAAAAAAAAAAAAAAAABj//wAAADZhdmNDAWQAH//hABlnZAAfrNlAmDPl4QAAAwABAAADAGQPGDGWAQAGaOvjyyLA/fj4AAAAABRidHJ0AAAAAAAAZOAAAGTgAAAAGHN0dHMAAAAAAAAAAQAAANkAAAEAAAAAFHN0c3MAAAAAAAAAAQAAAAEAAAaYY3R0cwAAAAAAAADRAAAAAQAAAgAAAAABAAAFAAAAAAEAAAIAAAAAAQAAAAAAAAABAAABAAAAAAEAAAUAAAAAAQAAAgAAAAABAAAAAAAAAAEAAAEAAAAAAQAABQAAAAABAAACAAAAAAEAAAAAAAAAAQAAAQAAAAABAAAFAAAAAAEAAAIAAAAAAQAAAAAAAAABAAABAAAAAAEAAAUAAAAAAQAAAgAAAAABAAAAAAAAAAEAAAEAAAAAAQAABQAAAAABAAACAAAAAAEAAAAAAAAAAQAAAQAAAAABAAAFAAAAAAEAAAIAAAAAAQAAAAAAAAABAAABAAAAAAEAAAUAAAAAAQAAAgAAAAABAAAAAAAAAAEAAAEAAAAAAQAABQAAAAABAAACAAAAAAEAAAAAAAAAAQAAAQAAAAABAAAFAAAAAAEAAAIAAAAAAQAAAAAAAAABAAABAAAAAAEAAAUAAAAAAQAAAgAAAAABAAAAAAAAAAEAAAEAAAAAAQAABQAAAAABAAACAAAAAAEAAAAAAAAAAQAAAQAAAAABAAAFAAAAAAEAAAIAAAAAAQAAAAAAAAABAAABAAAAAAEAAAUAAAAAAQAAAgAAAAABAAAAAAAAAAEAAAEAAAAAAQAABQAAAAABAAACAAAAAAEAAAAAAAAAAQAAAQAAAAABAAAFAAAAAAEAAAIAAAAAAQAAAAAAAAABAAABAAAAAAEAAAUAAAAAAQAAAgAAAAABAAAAAAAAAAEAAAEAAAAAAQAABQAAAAABAAACAAAAAAEAAAAAAAAAAQAAAQAAAAABAAAFAAAAAAEAAAIAAAAAAQAAAAAAAAABAAABAAAAAAEAAAUAAAAAAQAAAgAAAAABAAAAAAAAAAEAAAEAAAAAAQAABQAAAAABAAACAAAAAAEAAAAAAAAAAQAAAQAAAAABAAAFAAAAAAEAAAIAAAAAAQAAAAAAAAABAAABAAAAAAEAAAUAAAAAAQAAAgAAAAABAAAAAAAAAAEAAAEAAAAAAQAABQAAAAABAAACAAAAAAEAAAAAAAAAAQAAAQAAAAABAAAFAAAAAAEAAAIAAAAAAQAAAAAAAAABAAABAAAAAAEAAAUAAAAAAQAAAgAAAAABAAAAAAAAAAEAAAEAAAAAAQAABQAAAAABAAACAAAAAAEAAAAAAAAAAQAAAQAAAAABAAAFAAAAAAEAAAIAAAAAAQAAAAAAAAABAAABAAAAAAEAAAQAAAAAAgAAAQAAAAABAAAFAAAAAAEAAAIAAAAAAQAAAAAAAAABAAABAAAAAAEAAAUAAAAAAQAAAgAAAAABAAAAAAAAAAEAAAEAAAAAAQAABQAAAAABAAACAAAAAAEAAAAAAAAAAQAAAQAAAAABAAAFAAAAAAEAAAIAAAAAAQAAAAAAAAABAAABAAAAAAEAAAUAAAAAAQAAAgAAAAABAAAAAAAAAAEAAAEAAAAAAQAABQAAAAABAAACAAAAAAEAAAAAAAAAAQAAAQAAAAABAAAFAAAAAAEAAAIAAAAAAQAAAAAAAAABAAABAAAAAAEAAAUAAAAAAQAAAgAAAAABAAAAAAAAAAEAAAEAAAAAAQAABQAAAAABAAACAAAAAAEAAAAAAAAAAQAAAQAAAAABAAAFAAAAAAEAAAIAAAAAAQAAAAAAAAABAAABAAAAAAEAAAUAAAAAAQAAAgAAAAABAAAAAAAAAAEAAAEAAAAAAQAABQAAAAABAAACAAAAAAEAAAAAAAAAAQAAAQAAAAABAAAEAAAAAAIAAAEAAAAAAQAABQAAAAABAAACAAAAAAEAAAAAAAAAAQAAAQAAAAABAAAFAAAAAAEAAAIAAAAAAQAAAAAAAAABAAABAAAAAAEAAAQAAAAAAgAAAQAAAAABAAACAAAAAAEAAAUAAAAAAQAAAgAAAAABAAAAAAAAAAEAAAEAAAAAAQAABAAAAAACAAABAAAAAAEAAAUAAAAAAQAAAgAAAAABAAAAAAAAAAEAAAEAAAAAAQAABAAAAAACAAABAAAAAAEAAAIAAAAAAQAABAAAAAACAAABAAAAAAEAAAMAAAAAAQAAAQAAAAABAAAEAAAAAAIAAAEAAAAAAQAAAgAAAAABAAAEAAAAAAIAAAEAAAAAAQAAAwAAAAABAAABAAAAAAEAAAMAAAAAAQAAAQAAAAABAAAFAAAAAAEAAAIAAAAAAQAAAAAAAAABAAABAAAAAAEAAAMAAAAAAQAAAQAAAAABAAACAAAAABxzdHNjAAAAAAAAAAEAAAABAAAA2QAAAAEAAAN4c3RzegAAAAAAAAAAAAAA2QAABLAAAACGAAAAPwAAACEAAAAkAAAARwAAACsAAAAZAAAAHwAAAFkAAAAiAAAAEgAAAB8AAABqAAAAIwAAABQAAAAgAAAAtgAAAE0AAAAcAAAAIwAAAB0AAABMAAAAIwAAACIAAAB+AAAAJAAAABIAAAAgAAAAVgAAAB0AAAASAAAAGwAAAFIAAAAuAAAAHAAAABwAAAA5AAAAPAAAAB8AAAAeAAAASAAAADIAAAAaAAAALwAAADUAAAAjAAAAEgAAADEAAABfAAAAMgAAADcAAAAfAAAARwAAADIAAAAxAAAAHwAAAGIAAAAqAAAAJgAAACYAAABNAAAAKQAAACkAAAAaAAAAPgAAACsAAAAlAAAAJwAAAHAAAAA/AAAAJgAAACkAAAAuAAAALAAAACAAAAAgAAAAPQAAAC4AAAAjAAAAKQAAAEkAAAA3AAAAKQAAAC0AAABRAAAALAAAACIAAAA7AAAAWgAAAEUAAAA3AAAAIAAAAJMAAAAvAAAAKQAAAEIAAABRAAAALwAAACgAAAAuAAAAOgAAACkAAAAsAAAAJQAAAJoAAAAyAAAAMQAAACkAAAB9AAAAMQAAAC4AAAAnAAAAhAAAAC8AAAAnAAAAPAAAACkAAAApAAAAMwAAAFgAAAA8AAAAKAAAACMAAABOAAAAKwAAACQAAAArAAAAigAAAD0AAAAuAAAALAAAAFUAAAAqAAAAKwAAADMAAAA9AAAALgAAACkAAAAoAAAAYgAAAC8AAAAsAAAANAAAAGwAAAAwAAAANgAAADEAAAB1AAAAOAAAACoAAAArAAAAQQAAACcAAAAtAAAAJQAAAEIAAAAwAAAALAAAACcAAABjAAAAQgAAACcAAAApAAAARwAAACsAAAAjAAAASQAAACsAAABCAAAASgAAAIQAAABWAAAAMwAAAEQAAABrAAAALwAAADwAAABYAAAAmAAAADkAAAA5AAAALQAAAHwAAABEAAAARQAAAEIAAAA2AAAAPQAAAD0AAACHAAAAQgAAAD8AAABFAAAATwAAAC4AAAAnAAAAeQAAAC4AAAB7AAAALAAAAC4AAABjAAAAgQAAAEMAAAAsAAAAcQAAACsAAABMAAAAMgAAAHgAAACAAAAARQAAAE8AAABcAAAAQQAAAEcAAAAUc3RjbwAAAAAAAAABAAAAMAAAAGJ1ZHRhAAAAWm1ldGEAAAAAAAAAIWhkbHIAAAAAAAAAAG1kaXJhcHBsAAAAAAAAAAAAAAAALWlsc3QAAAAlqXRvbwAAAB1kYXRhAAAAAQAAAABMYXZmNTguNzYuMTAw\" type=\"video/mp4\">\n",
       " Your browser does not support the video tag.\n",
       " </video></div>"
      ],
      "text/plain": [
       "<IPython.core.display.HTML object>"
      ]
     },
     "metadata": {},
     "output_type": "display_data"
    },
    {
     "name": "stdout",
     "output_type": "stream",
     "text": [
      "test/ ex1-episode-2.mp4\n"
     ]
    },
    {
     "data": {
      "text/html": [
       "<div style=\"width: 200px; height: 100px;; border: 1px solid #5733FF;\"><video loop autoplay  width=\"200\"  height=\"100\">\n",
       " <source src=\"data:video/mp4;base64,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\" type=\"video/mp4\">\n",
       " Your browser does not support the video tag.\n",
       " </video></div>"
      ],
      "text/plain": [
       "<IPython.core.display.HTML object>"
      ]
     },
     "metadata": {},
     "output_type": "display_data"
    },
    {
     "name": "stdout",
     "output_type": "stream",
     "text": [
      "test/ ex1-episode-3.mp4\n"
     ]
    },
    {
     "data": {
      "text/html": [
       "<div style=\"width: 200px; height: 100px;; border: 1px solid #5733FF;\"><video loop autoplay  width=\"200\"  height=\"100\">\n",
       " <source src=\"data:video/mp4;base64,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\" type=\"video/mp4\">\n",
       " Your browser does not support the video tag.\n",
       " </video></div>"
      ],
      "text/plain": [
       "<IPython.core.display.HTML object>"
      ]
     },
     "metadata": {},
     "output_type": "display_data"
    },
    {
     "name": "stdout",
     "output_type": "stream",
     "text": [
      "test/ ex1-episode-4.mp4\n"
     ]
    },
    {
     "data": {
      "text/html": [
       "<div style=\"width: 200px; height: 100px;; border: 1px solid #5733FF;\"><video loop autoplay  width=\"200\"  height=\"100\">\n",
       " <source src=\"data:video/mp4;base64,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\" type=\"video/mp4\">\n",
       " Your browser does not support the video tag.\n",
       " </video></div>"
      ],
      "text/plain": [
       "<IPython.core.display.HTML object>"
      ]
     },
     "metadata": {},
     "output_type": "display_data"
    },
    {
     "name": "stdout",
     "output_type": "stream",
     "text": [
      "test/ ex1-episode-5.mp4\n"
     ]
    },
    {
     "data": {
      "text/html": [
       "<div style=\"width: 200px; height: 100px;; border: 1px solid #5733FF;\"><video loop autoplay  width=\"200\"  height=\"100\">\n",
       " <source src=\"data:video/mp4;base64,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\" type=\"video/mp4\">\n",
       " Your browser does not support the video tag.\n",
       " </video></div>"
      ],
      "text/plain": [
       "<IPython.core.display.HTML object>"
      ]
     },
     "metadata": {},
     "output_type": "display_data"
    },
    {
     "name": "stdout",
     "output_type": "stream",
     "text": [
      "test/ ex1-episode-6.mp4\n"
     ]
    },
    {
     "data": {
      "text/html": [
       "<div style=\"width: 200px; height: 100px;; border: 1px solid #5733FF;\"><video loop autoplay  width=\"200\"  height=\"100\">\n",
       " <source src=\"data:video/mp4;base64,AAAAIGZ0eXBpc29tAAACAGlzb21pc28yYXZjMW1wNDEAAAAIZnJlZQAANkdtZGF0AAACrwYF//+r3EXpvebZSLeWLNgg2SPu73gyNjQgLSBjb3JlIDE2NCByMzA5NSBiYWVlNDAwIC0gSC4yNjQvTVBFRy00IEFWQyBjb2RlYyAtIENvcHlsZWZ0IDIwMDMtMjAyMiAtIGh0dHA6Ly93d3cudmlkZW9sYW4ub3JnL3gyNjQuaHRtbCAtIG9wdGlvbnM6IGNhYmFjPTEgcmVmPTMgZGVibG9jaz0xOjA6MCBhbmFseXNlPTB4MzoweDExMyBtZT1oZXggc3VibWU9NyBwc3k9MSBwc3lfcmQ9MS4wMDowLjAwIG1peGVkX3JlZj0xIG1lX3JhbmdlPTE2IGNocm9tYV9tZT0xIHRyZWxsaXM9MSA4eDhkY3Q9MSBjcW09MCBkZWFkem9uZT0yMSwxMSBmYXN0X3Bza2lwPTEgY2hyb21hX3FwX29mZnNldD0tMiB0aHJlYWRzPTEyIGxvb2thaGVhZF90aHJlYWRzPTIgc2xpY2VkX3RocmVhZHM9MCBucj0wIGRlY2ltYXRlPTEgaW50ZXJsYWNlZD0wIGJsdXJheV9jb21wYXQ9MCBjb25zdHJhaW5lZF9pbnRyYT0wIGJmcmFtZXM9MyBiX3B5cmFtaWQ9MiBiX2FkYXB0PTEgYl9iaWFzPTAgZGlyZWN0PTEgd2VpZ2h0Yj0xIG9wZW5fZ29wPTAgd2VpZ2h0cD0yIGtleWludD0yNTAga2V5aW50X21pbj0yNSBzY2VuZWN1dD00MCBpbnRyYV9yZWZyZXNoPTAgcmNfbG9va2FoZWFkPTQwIHJjPWNyZiBtYnRyZWU9MSBjcmY9MjMuMCBxY29tcD0wLjYwIHFwbWluPTAgcXBtYXg9NjkgcXBzdGVwPTQgaXBfcmF0aW89MS40MCBhcT0xOjEuMDAAgAAAAgxliIQAJ//+9bF8CmrJ84oM6DIu4Zckya62IuJtAMAVD7AAAAMAABMqliezICUal8AAABCQA1AfQZQeYiYqxUCV4g4JjdGAVR1y3YAA8tPQA9noLq2U7OPEpQH5eU4uQzoFw2/+u0iAEd0z+4UqtA4YrJ9nJv7zH3Cb43omMMzx9MoHbVBLaFFJhtliVje8iA5D+6pHkK2T+46jFiFjsIgcKiD+t0AjIvI2WA7rcw69+ONZbegzxvVr6SonyZUOGoquiyJgyn3yvYfrPoTvDJUCSWQQ7HsCzkjqm2wEO8P5cb0/laqsGB4lNRjqIjUvEgTUOWAwN/7l6Nih13vlyGYRSQbpi1NTUVT598RWPoLseuziuZQwInW+Lm18T6IvZekY0D4j6GhV/7rq9fhiOpQne3r91FU9Fy+UHq4JNY7jgIC3PEBOK2gNdtltuj5n4OJCGVqlPopKYa4c8LpSUXUzXDGAypCT6QTkVYYEMamvgXGQXdX9wweJyX/9KlaznrOfUs3LFdJigRHT3FxzOvP8F9zCabnPh5ZfFk5ZIiE/g6lUHyUsutFa7QfFV02hL2jmuv1E0vhPBQe5CmN0lUr+DLfnZ0CBhb/YUtDxCFaikGC4C3HS8eE/ib7yMvVfTfQMrSY6tqLJZF0q4k8XPtOFKiSGIB/kSAAADwAAGiCgAAADAAADAAADAAC6gQAAAKdBmiRsQn/98QAAAwD4PwwmeaWg4/cB2qOyID2AeH5dyTkWLAf8tpk/Waajh9VMeuYjczGDFaEp2jJcTulFUJtUnkQO7bUq4W8J1wQsm2uRrcq40xpnJu1Hma0yPY+j70vR16HKXm7JqqXUy/2eUBiJ3h9mUJ407QDqUV1f2JEO9EowMpYe1JG1YfeHWbHfVInPfLTnv/GuRQP98mm1OxmzN1avelkFUAAAAElBnkJ4hH8AAAhr/aCbiiLXrfq9pQEAK/JtEqMYr928tdOXnBBR5psWlBtkmnZinIuEN/N/0JrYfVmE0PHEgfJEUxH72NY1OReRAAAAOgGeYXRH/wAAI8CW/yDmWHPBQH0Zao8ALeAPxtPNFKcU2N31qBLhpxH4eS/DzsyexprKmKBwVwWoPSAAAAAeAZ5jakf/AAANNJwEyhKZRf5g2UYz5bnRtoVtSkrZAAAAcEGaaEmoQWiZTAhP//3xAAADAPgFuvoNYowl+EPRICyFYKa9iWgALlyL4jsJEdY9N3dJE4AaNIYdy6G/PnyED40QKTuRzYev23jwmvXCDlgC/q55YMDoyD15pbG3FEkgXESZPqknRUPd9kmuWsZjkKEAAAAyQZ6GRREsI/8AAAhsCh5F5JjGStZoC3qI8ZgCIjVmu8690MI7yuZGp+7eoBep1A9aZ2cAAAAlAZ6ldEf/AAANfhSV9uOzwuYqtfR3XOtXZQrOeJKHQPn+HDKOOQAAAB4BnqdqR/8AAAMAv0nazcNMLoLX82hpdbw3W5t5y2YAAABhQZqsSahBbJlMCE///fEAAAMA+CLLL5VisvH3/AfmPq2Wjzgp+Za90MqAqLNcjqDNCwVBi1SRAUo7rmXnDLBHTSfB188JEB7oh2xKWYZdJSIpJCfoxVKcg919Q9BsKkX7OAAAAClBnspFFSwj/wAACCwKHxe556J88N8A/wUZX3S7jz676Xv3ebFauSouBQAAABsBnul0R/8AAA2F3TNrs+gXf6JkHhBv2P4nmDwAAAAbAZ7rakf/AAADAEd+iEHu4yrqdLDEEYrO5WQmAAAAcUGa8EmoQWyZTAhP//3xAAADAPj6AfxZ+NwK/0UuhdhsdsbUzJCNRw677sT//ZNKsvbaPDPsFQ97KEEzptLa1XpqlIixt7dkyFa6z0Lbou44xS3Qpo3JNz+0G3JHJXDKLN5/1rLeJ4/EG9+pMkrCPPGBAAAAI0GfDkUVLCP/AAAIa/rnxs39EyJP+v2uu3ttJhwQz/kmMlZhAAAAHgGfLXRH/wAADYXdL2BiVriYQdXamGyLY64W7Uhr3QAAABUBny9qR/8AAAUfl+KWzG+7r1tAR8AAAABPQZs0SahBbJlMCE///fEAAAMCnwUdP2A2Gyq2FncvjcCfGO7a4I6APPmOp94TxTAS3Srr0JtiB2qiKD5as7r+S4zMszhr2tvX6N+yyaV5qgAAAD1Bn1JFFSwj/wAAFrxDzbcWHSZd2bKvLHbRPXm84IjZaRLp3jLZ/+O0+44QGUFUZwER2qZMW8cGDEHvZIlRAAAAIAGfcXRH/wAABSCqqYE6DLwhXJhhwnykSQMAkEA8D9YqAAAAGwGfc2pH/wAAI78EJxLJaZq4VmtHWwpt0Qcy4AAAAE1Bm3hJqEFsmUwIR//94QAAAwCWmBD/d3uoA7aOJ1VAsDbIsOA3Adp0azHdeveCyT0Jc6KceTPwMF1PEs0T9rzlwWQqBCjxnLaXliHJ8QAAAB5Bn5ZFFSwj/wAAAwM4TWbta0vXHaDOxAQzSLuW1JMAAAAfAZ+1dEf/AAAFH8vuiggEBRvwSapJeXAwD00nfjtIwQAAABABn7dqR/8AAAMAGwk8KHTBAAAAP0GbvEmoQWyZTAhP//3xAAADAqC1AlPfNh2UmdjltAmwAGm+Dz483i+xPqPAF7jERwCz0sZZWF3kQtllWnR4GAAAAB5Bn9pFFSwj/wAAFrUrN2taXriig9Cq/V6+A+Oi2YEAAAArAZ/5dEf/AAAjq/he2D1f5+b05AGL2aFAZRJ94o3IDuyVDtnFghf3BE+WzAAAADUBn/tqR/8AAAUeSfpsntyRNCewIIIohRliVLW95VywmOeSYpAACGjxboeThHWUoawgUTv8cQAAAHFBm+BJqEFsmUwIT//98QAAAwKe995Npkr+TtC/AGRgXq6ADDKAAgB3AHpUg17YzTTRpjL0PL0Oxw+7CLyrBqTfx3gUR2FhLFdDJIKn7+a3Yr2/m6J5ZVtYPlM/SEujAQhVxZY1P6ICyaa2r6eKV0rkfwAAADRBnh5FFSwj/wAAFrMrtQW5OEACDnBI+awhwOy9L1e/jkzSDTnipZwbuRGqa5fD3IWcILZgAAAAGQGePXRH/wAAI6v4W3gSnTBtm6W8pcVEU3AAAAAdAZ4/akf/AAAjvwQnEslpmrhWUx8qO34vrY0EkmEAAABXQZokSahBbJlMCE///fEAAAMCnwUdP2ARlwdKY6g64TdSCg4EELlvthWjCsLw/un0s737X0Ia8qSgDk8P5ap50o983/2sHY27yfSVUuoQML204mT5QjWAAAAAI0GeQkUVLCP/AAAWvEPNtxXMrJlE8YUhL1JD6xEYad2E+aVHAAAAEAGeYXRH/wAAAwAZvCfYmYAAAAAxAZ5jakf/AAAjscwNRs81JABdQCAmNXpcaWFo2MRYhH+3zIzTyjwer4115oY1QUnbgQAAAIZBmmhJqEFsmUwIT//98QAAAwKe995Npa6SiRXiF10jK2boAOkKbt0n6hCy+ORQCZVVOI45KxLEISLdbnqOUzTJqJfS66JPCcofbLMAaQc3DIvgqft2cbpmVnF/szgKJryQhqVv27LdQDXV9HgULE0+hLBIFwnGfQwwiLhvDo6iZL5kWzVayQAAADNBnoZFFSwj/wAAFrMrtQTi1IGzOUEprkNm8XBDlM01eJPRqubwztUspOd25VXufofYYlUAAAAZAZ6ldEf/AAAjq/hbeBKdaCOIONX9oO9lDQAAACQBnqdqR/8AACOxzAlvqW/nrTOceArVzO+MKHDUG4CDTtP7O3AAAABWQZqsSahBbJlMCEf//eEAAAQTXbRw7Z8KwE2MuRjourQFWV7Cqi940R24gCciNccrhgPKoeGQPL4iqKFG/Bkj2rH7mSCGTeThEgzse00PTntraY1gp5sAAAAoQZ7KRRUsI/8AABazK7UFuRwxJAAHHUp5g/qnLFDwGq5y0s0GTyRyQQAAACMBnul0R/8AACPDF2KvZ+l0+aq53LxdUAl5ylocys+RfODtwAAAAC8BnutqR/8AACO/BCdgZCoi8LvhZP/oIPvWfaPwvpHJ2QojOmgxnarNfKqvclfZgAAAAGNBmvBJqEFsmUwIR//94QAABBuiamt6BqotcjuTevOG7e1h8B/hfiswlZzhXXxZz67E163iKqdL0XGKyc7ltfyL13nGuMZV5GyiqB29aJcaHey6JugcvyQuga3QT+2qtmJOnQkAAAAoQZ8ORRUsI/8AABa0Pc/K4LbzhriMoaDkeOuoDyaEpCjWkxZKMPhvBwAAACUBny10R/8AACPDF2KufUgpEckTQNN0KYMUq5TAZ4gpXjMLzyAhAAAAKwGfL2pH/wAAIr8fhOYT4ex6hGNEfz1FkETaWpHdW4/h3asGGYUID0dcTkgAAABrQZs0SahBbJlMCEf//eEAAAMD9U2ewVVDNWarOErmdAAN1gH0SA2xdbV2G3gX3tdHg7XBW54qNspMOyo+wlSp+5OnGeteM9AxQi3xvvk3amsT4EPhGEfsO263VuPpboe1ZFsWYvH1DU30XKAAAAAkQZ9SRRUsI/8AABYjLJJRgluFcfGicW+dkkxFalrBoMFUS0kxAAAAJwGfcXRH/wAAIsM7Y0bL1RZPW6GoD5d6BQJ5FbhJoUtgzewONp1JMAAAACoBn3NqR/8AACK/Gs5Ya8iYQX2dfwUFCi9odAushWOXFhHr0NrHmV0W7ZgAAAA5QZt4SahBbJlMCEf//eEAAAMD9U2ejSqZq3sahXBtjN7mY0kQKz/hBBCYeWIE3a3uinDyz5MAokRjAAAAKkGflkUVLCP/AAAWIyyLxKqCiQrKVhp6AATVAkszLDvNk/k6tVNqHSzegAAAACwBn7V0R/8AACLDMvyCK6I5tSza8SviEHbcbpACQ5/wfr9/9lyE9pb3R/biwQAAACoBn7dqR/8AACK/Gs5C8yPRob5nw80QrmchOoEkAJHO6G+05BV2JncZxYEAAABkQZu8SahBbJlMCE///fEAAAMCjPfeTagGvYkvcPnggEXb9mF0zGHKrACMaBKUt7RhyiqPoDsOlL27yQziwn2lglxzFKi5Hm4KFfW4MDzmWONuwttdhnKNB77CqX+EtcFcBcdLsAAAAC5Bn9pFFSwj/wAAFiMrtQW5HC/l0OIWnggEpngxCo9wuiQqT2rZ9AlzZDw1q7zZAAAAKwGf+XRH/wAAIsMXUoRQYCsKxmBzHj05RpeiwiSoxACXWulyxb/Tu2rud6AAAAAmAZ/7akf/AAAivwQnEsf9EibHS+0cdc/GqgSYYC2V4MfhTyYDrekAAAA6QZvgSahBbJlMCE///fEAAAMCjOlU1tCEzs4pglwJkRO14SE0QIbmB+Q8A45bX4EcLRofHCBj+Z3VWQAAAC9Bnh5FFSwj/wAAFd+WztLsrkKhD5iRrzqRPr0tuP1xPbegsZE8lzTfcSta72T8+AAAACQBnj10R/8AACKr+Ft4CJdmxJFMY0nE8WO7GmwbskOY91uKKdMAAAAoAZ4/akf/AAAivZWtuuJaQXLe/jnlMYg7yMcGPz75y41qhuw9wtMk2QAAAEJBmiRJqEFsmUwIT//98QAAAwKNuCjkefbi3eaqTPqrvNSVsPWfgPSC9bHN56jbL2k+tIDzSGfSwqPTk6mx/HUnAzgAAAArQZ5CRRUsI/8AABYjK7UFuRuUbxDX5NGgFRp3Y82WA+2YAYi4wsPMT3J4IQAAACABnmF0R/8AACLDF2ips39LXlSA98V7xOln+EkZ/UZ0wAAAACIBnmNqR/8AACK/BCcSzEF24DuHQT61Joe4Y+DF72wb8zphAAAAZUGaaEmoQWyZTAhH//3hAAADA/U4ejcpxNygAKHJOcuaU86qIxX8HY4/9ciN39TqFCW7oXsKvmQ8L5li/K/tZiZBUMGE927kqpHHt2/8vGFsifBsbjkS9m1ANEmJ5W2mifm+2q2BAAAAJ0GehkUVLCP/AAAWIyu1BbkcL+XQ3PAAHHRhGYcAyKicbwkq42ynTQAAADABnqV0R/8AACLAuN/Ay6QUf74EFqTDnD4u3ZIyVgAAm6YFR02uGNWT+1vHEiCHFJEAAAAuAZ6nakf/AAAivwQn2Mhi4NDLIiA9oAG60ufLGYcbAPmxrjY16VdWs7uSnEm7egAAAE9BmqxJqEFsmUwIR//94QAAAwP7v+rtgsN/PiZhMyuY+T0RoT1xa8obGhtVO3IgAIiJhgd8ZcS2W2X1TZJ0GNcRSxiDxQcDjvufAcDbGzZBAAAAOkGeykUVLCP/AAAWHjQK8V6DyQGtu7Gc5FaQPdtaYKWaTYBnpXDpe5gRWvvk3+lBudMTyjPJMZoE23sAAAAmAZ7pdEf/AAAiq/hdUSnkATqv+OEp9+A9WENX3c+O8eUF9cUgjJsAAAAkAZ7rakf/AAAhrjNCwm1e6DCrX2zfpznE6lmn+SLagA5EaMmwAAAAOkGa8EmoQWyZTAhH//3hAAADA99Nnpvur+Mm5ZCbTjFuzWhQQCOzfsvN0AsGj7jwcfWMBD44XMiWtIEAAAAoQZ8ORRUsI/8AABWTLIvEtRg6VdIAacw9eLK3tn71wHTe9zO1/DtVIQAAAB4Bny10R/8AACHDO2NGy9IysoNaB6nktpyEqzryp8EAAAAiAZ8vakf/AAAhsisFHpcJ9gQ87lFsdiZ9GaluiNS6KiCNnwAAAGBBmzRJqEFsmUwIT//98QAAAwJ66VTYNwR1MqthZ3L5DwJ508lXnzxUStGCxDV41Yxgn1WyfOBmpgQpn7DuhJzfCWbJBMZkrAU8V3k+TDtXLho8wHm50fqyW7I6x2CNzQgAAAAzQZ9SRRUsI/8AABWTK7UFuRwv5fNZgA+cIn9OKg8BB57IVhKFn7E6p6yWTDGInG6OHu2BAAAAJgGfcXRH/wAAIcC4+pvdep0W2XKMRoJS9Nr5DnhEfefUt8squOOAAAAAGwGfc2pH/wAAIbHMCW+pb7IVSPv8BijIPnedsAAAAGhBm3hJqEFsmUwIR//94QAAAwPfPqvt95+1ucYQKm8y8I0MIsrTAr9/leJwFI6wuE/NuNi187IdtoMiOaL3DM4h7cg/KhOhUaJfi257xP2F9NLpwH3059Xa52tB3/paUnLOobNbcBvJoQAAACpBn5ZFFSwj/wAAFZKeqLQuOf4uIarDhzovDfeaJUO/qB9bn1qUW1uC44AAAAAfAZ+1dEf/AAAhwLjfwV6RZRH6gdAzFufplQpMrLPjtwAAACIBn7dqR/8AACGuMS/S6AkRbHbl9PvZSDqGCfwrIXWSGNxxAAAAOEGbvEmoQWyZTAhH//3hAAADA984ejcqDcVyh4DOsuGruiZb3CfoUvg8j4F1zDBRPlNrtgwKq4BoAAAAIUGf2kUVLCP/AAAVkp7eNxtHC/l0Nexku5OB2WFmXcypRwAAACkBn/l0R/8AACHDF2ipxMHoKpmgMqlKEvpzZv/7jbZuYpfXCFg1KFp2wAAAAB8Bn/tqR/8AACGuMG++yWWsrhCR728W4rozjwp+FZRhAAAAg0Gb4EmoQWyZTAhH//3hAAADA+W/6u2Cw3T6oq9ADn3GtFn9qZHosLAQ5jM8Br33K9jDuFM765MYt7gsfhPaGfwKIfFxb8MfP8K7dBedhbHzYZJnrfpC03N6ZhCsKbfU0+21LomZMO7EZXdRUKeG3yWt5tAxg/oQyHgJhymhdxSt/fs/AAAAKUGeHkUVLCP/AAAVlD3PyuEwP55f8Wf9GbL7QBQAttWnAQUJgbOISCUYAAAAMgGePXRH/wAAIcC438AsSmFNDC/dOdFJEALcbm0ABaKq9EqOyRwbozVs4rLRJ0Bk30owAAAAKQGeP2pH/wAAIb8EK2gbhLWHnfsFr4Kzo3gamg+joQGyN4KXKqbaGeSBAAAAdEGaJEmoQWyZTAhP//3xAAADAmm739RGLbd3omwvPCudSwf0jbymM2zaoCW6uYTz/QCtjfnibE1XlYfgGs2jbtxLgdRipB1RJnM1wpnko2IUpZtOEYsQLRjT+IjuqL7pkVRJJNMj2CxdlThnBb1BVWICudUgAAAAMkGeQkUVLCP/AAAVAp9NsJesstncsxo+mBRPJ26y1iVtXLRkeACzzA96rcLuFnvKvCKhAAAAJQGeYXRH/wAAIMC5obxzhzTChL2J3Ld1FwB4mcspNOUwZOpecowAAAAlAZ5jakf/AAAgrjL6/RCM2OwMZeEEn1wAC2N7c4X/hqJ4XBVxwQAAAHJBmmhJqEFsmUwIT//98QAAAwJpu9x10Lx1SnG4Abm+nSu90UvLj2/DhivJSN2ymomo1iF7zruXkfZ8AX4ymA3dvJQBDVGzObfS5+2RsjuQtZRASK4resSHBJ3b96bCVo1QxGko5yjGmhUFh0dlxb/cBIEAAABEQZ6GRRUsI/8AABUDK7UFuZMYUwFkP2e5pat538HPBqlKMsjlUoRNY6mRLMPWcGjFjiwExELQALat8EZRqc9t05v8p2cAAAAmAZ6ldEf/AAAgwLjfwV6QyEMhwbCvxzKQNeDa5Y9fpvv04hEHO2EAAAAnAZ6nakf/AAAgscwJinPonbt2mdGXOQkecRTI1k26ngbpS09zb9tSAAAAUEGarEmoQWyZTAhP//3xAAADAmm9BocFLT3nmVr2kAHOyL6uZk4cR2NIrANygr4oqZbzqeZ0gbcMuv9bGS4FIHWtDdmLb7lUjpI076y1Dh8QAAAAK0GeykUVLCP/AAAVC19utGbGSxyy3htZwKf56vkGiswV+PuCn3uYBpm/W+EAAAAyAZ7pdEf/AAAgq/hcKRmoIyHswdrZqOiiNe1xJZYJEIjb8+JDjdMr+uK7ellvi+Gz7dMAAAA6AZ7rakf/AAAgrjBvvwOMI3lONYduzGgAZ7gExD8c/KuVJQgQZVVi9ukpXmCW31UAH76+cV7o6/Y7pgAAAE1BmvBJqEFsmUwIT//98QAAAwJt0TWW+Qj5BpEzmvl9oAiqvwGeiQHFgPxL6CNJQjnsr+QYUADOz8do0MzoTfgLL4nyyITnMW49Yc2xgQAAAC1Bnw5FFSwj/wAAFQYlJPih3TYkxmDS46TvOpiCFvVKylcj0UbqXFTgrALjdMEAAAAgAZ8tdEf/AAAgqc7Fk4V0NuStf6SIQtzo8o1s0LaZKsEAAAAjAZ8vakf/AAAgsehhc/EMd8W0/Ebuhz+h7p/9jNjxSzqKSVYAAACOQZs0SahBbJlMCE///fEAAAMCWluUFmGqGE8e3bd7xuQO/eic5YDOnAeUZNYuqfX/D2TUnOWDhuPOzhM4d0WRKAKHMYjhLrH3WXImSgKAITmP8iu6syH3BUy/fF0AXVF3Mss5GR0Jk8GDI545V8FJAroVZuVrMrkkViosQCU2dxWRdDJDJa5RILROJjLybAAAAC9Bn1JFFSwj/wAAFHH9v+iLbcinPpGbfDMkewtX8s4AVzFrpPhW2HJu7s401YoPKQAAACQBn3F0R/8AAB+26YBmLwNrBGIiiPhLCH88i8X7iOvsDMsE1dMAAAApAZ9zakf/AAAfuO02vQhg9PX5BbUXrCToJRw13NFVcqD4uHbZ84NA09MAAAB+QZt4SahBbJlMCEf//eEAAAMDs0JDCs8Sl0IAfAW57tz+iNi94i6cGsMj22wkdU1RKduwOGcB8/ZrUhup4imCRSAU/oDeiaqAbDvb9a4YYZnV+Lsab3xQHj1qnx56t+/K7INz8XwpQscYb1hS5YSM8bKaHtQRsCBYNt2CZ7GxAAAANUGflkUVLCP/AAAUci8I+r/xLySruVOkIGYDCb1M4EWULU08AjJe4SrEWMJmXmT0BGwHnTPQAAAAJwGftXRH/wAAH7boevryQl/oUcgMLoABbKPUV567vUhVxtmcj1oHgQAAADsBn7dqR/8AAB+47Ta9HZ4M9fwFUcM2QGt1VjFuAx/AmKZIcCdRrMip5cwC4gQlMwxkbVFeTomNWViAQQAAAGtBm7xJqEFsmUwIR//94QAAAwO5v+pnDBun4EJzjhA5fSauhumJv3uiCoAEyv6E1j0TNTVJxlYlB4oo8Bm67t0dkfHvBZSlJhT9tNq2UWNqES4jv6whtL9Jfdm4xPnl8cIDHJixVD2hNeG7/AAAAD9Bn9pFFSwj/wAAFHthXQSUxgTQTWZWGBvbRI8GkIPsUlBvG4feOvo+XoMoDsY10ILQPlgDZQAC2QI9RMct3dEAAAAqAZ/5dEf/AAAftuaDEEnKhv7iR9+5kVNrXwoyjiV1pBwzprymF8uAZaPaAAAAJwGf+2pH/wAAH7ynt6wpWiyqtU/ATnvVZYGJx3+U77SK9qOsSRCUgQAAAF5Bm/9JqEFsmUwIT//98QAAAwJKW5QWYapDNqMd+pGYOzsAlNJSdJHKfaymLsO8Sh5DO+mPDlpWbGX5dTeoiNYWa//ZKH2tjNE/O1Qm5v/GRmGTvtd4bHfM2wbb6TrBAAAALUGeHUUVLCP/AAAT619wy0Ty7hzYIBCR25nGmduXUAJLrjl+7V/sLdn0+9E9oAAAADoBnj5qR/8AAB8I7Ta9CMIvEoyKRix687tf7yhnmN6WXWX6e89U13i1uPiAEudNkpcs4Vh6WodKlB7YAAAAYkGaI0moQWyZTAhP//3xAAADAkpbvIXSoaKYA0EevL1tKU5JiZrPivCnJTLhml0isnwnOlNA7qWyPFoA5aaLafDajtlqKIstT89AmUO8uwq18i/CENwZuSghjgzp3PlWSVsTAAAAP0GeQUUVLCP/AAAT4i8I+r+hZSQjDdTdgWjl8RDSxVJq0Lv8Nst1//3udNFS5epGHekRoVDK8c2vQmF2jd77gAAAADEBnmB0R/8AAB8YLP8vFKYzN6ifl9ERa2bmcaYHMMkAvn/ueoAPj+0uNQFuEg8TtXTRAAAAIQGeYmpH/wAAHwjtNr0IYOzzbZAZSchH6/cg97SCFkqPwQAAAHZBmmdJqEFsmUwIR//94QAAAwOjv+poqTJzAANFr3tkTAJRfbrMj43CzEsGov9KiPtsezVZMYKEZsQQ8ovSZ+6ZqyLWPUKiHPGSwRrD6dqVbU8jCaLyT0lMkowpvrw9I8RjkvvaIKG5tRXDJxB3W38eds8xU66RAAAAP0GehUUVLCP/AAAT5SU4nBB4YlZQr2wL7NHJd4YTHrp0Y118zk/hk8AVtG91oyXtthJfyvevguOIc/1LPZm9IQAAACsBnqR0R/8AAB8IjY3LKzs4A+dMuQgqcfHoSyKxNxkS1IWtS48YkQOoP8mZAAAAKQGepmpH/wAAHljtisdlitHOCghNKo1fRR3O7b6YJjmjp6pkwfI/S5MxAAAAW0GaqUmoQWyZTBRMJ//98QAAAwI5u9x10ITitwdzf/53Uhg8KIBKe/f9qU7ou3I8ogvfBKhigPj94m7/358nuC6JCIOH1eZzhtkthy47hdvX9zXWFZVoFYtKSuAAAAAuAZ7Iakf/AAAeWOzacN88MGJsmjABT1KyP6I6dWrEXsGYsABOqVopxVas3vpd6AAAAFpBms1J4QpSZTAhP/3xAAADAj3RNZfqQj5BnyAAIiWvHv3OvbzMq1m+l91uro98zwrQ21HTrlDL/c5cCm8/AnnkRIYZyQMVS7NWn5wa4tKGzquX+DCnUDRWT3MAAAAkQZ7rRTRMI/8AABNV4Mv/G2jhfMhwPzonTK2qYte74GVarPmAAAAAMAGfCnRH/wAAHmgtAtxp5hdYAARuV0oebaEh4rjKuWTHjuvAzDfuModVG1vqwqGz0AAAACQBnwxqR/8AAB5ci7ARb5ztmx0IjzkVuINKc9XvXmNZIpcKp9sAAABhQZsRSahBaJlMCE///fEAAAMCKb/ycoBGS5stbhnPKu4nThUr75AAp+T7Ljm12q6F2QXsLEkCNZm5RKD9k62qtilnw/uvAPIwl5IwrVJqejG5rEgjLFkyk1dFzqjW/LipEQAAAChBny9FESwj/wAAEt02g0KJ8HxO8yi0ojrG/qqlEb6x6oB1S8STSIa7AAAAJwGfTnRH/wAAHbgtDOfqsSJ94HW5oSmFodSo1/3Ybjh9M32k+PkwwAAAADcBn1BqR/8AAB2o7YBySMLSpH5cixtpNs/eZqdXg/vKe/qyC6TZV6yb1AId21WGTGZJQec4NrW6AAAARkGbVUmoQWyZTAhH//3hAAADA3e/6tBlIRz9LL4PP9JKMsACZX+LOfHA4EWLxq8/uOXA5K6Ov8OAe/bG3ur+bMJp3ruLBQUAAAAnQZ9zRRUsI/8AABLdOGXk1Ll4Qb+osw+M6dyNVdUfP4n6WVLzg6f4AAAANQGfknRH/wAAHaZzFxUO0bLXNYQM4OqtaoU2cLEIPBTFGoRlkKQ7HPRACZG4RnXocuUDT2jgAAAAIwGflGpH/wAAHayLsCQH5Foz57sT8TUWJ4AJpjo1LCKPM7QXAAAAQEGbmUmoQWyZTAhP//3xAAADAhpcEs5hbLn64GSaS5Pz83R59X2J1a022Rdo5NAAQ2zTyWFfKtIXO3sXBamyVOAAAAAwQZ+3RRUsI/8AABJV75MNibaOF/L/g0HQHB+2ZnCd6Ea5L1/ROtS6gG3xwilptGQdAAAAKgGf1nRH/wAAHQduVU6b5teF2YhCVZWux6gEK0Ge9Nwljue3Q6hFofEkzQAAADMBn9hqR/8AABz47Ta9CLePa69q+2ruhVm28LOLDUpX9yRMHGHP/rDKyb0CABPYv6CodIAAAABrQZvdSahBbJlMCEf//eEAAAMDY7/qaRvNPG0Lfi3beZYOBcLXbxNn6h7OAUWlUmnqy5gH1NS0M3857WF1OATVtyo3gCea88iLv8x04XFLQZSHcu+5O5zMPmbSKXl9f/H6GE3gTPUluhsnb2UAAAA1QZ/7RRUsI/8AABJX/o0NH04eyL0xrNCAGjs7AoL+Uev11aAK41/6kEhsN9xaTA28XF37+DgAAAAiAZ4adEf/AAAc+IzO9wVtKIv5wODeW0jMJKGP2u9FlixGDwAAADUBnhxqR/8AABxI7NpwlcAxGQcf6wknZQJZfZauKPFfgguUt2M9rwv87daDw+ZTex5szH74YQAAAH9Bmh9JqEFsmUwUTCP//eEAAAMDSidGjkP9u/xW21vbsCS3CwwMc87tABUYR41aIA8orpzanG6tLiW7CDuWz//ws6McZANq+SOdIbaNQGTnPRePIc6nPj+WApM5zcB23xdhwB9Jl3FW32mrIw5T6uPHdfQRe8sBLtmWGJz8j+FAAAAAIQGePmpH/wAAHEgF9fDnSKWGpzIDKecd31UxUwv0y6z6HgAAAGRBmiJJ4QpSZTAhH/3hAAADA0+/6mjWzTxtDe6fZlG1YBg6l98TnySW6dmoVOn+Ygw6mSNNEf7IJp49BBAByi/WcB+TnLUPRgyeh0Oucix82nNmcwaS7hVVYy5RgLRdt/qwGvmBAAAALEGeQEU0TCP/AAAR1/5mBH00x1IGp6rY4aHS7xTZBFCwSbbNoxKMCgTAybBYAAAAKQGeYWpH/wAAG5uDa3smqnoVZKAaeq4uJY6qQWWNb/ZU1gU0se3+Qc3xAAAAR0GaZEmoQWiZTBTwn/3xAAADAfskT2fepPNyCWSPXmy6+Moqxj7+vCX03NWiz2TEyjbI+gK9jfMAQcT/9kk4Qz6trZps4f3gAAAAKgGeg2pH/wAAG5uDi/DnSKWGpzIFogAFr0PrvV3zBQq/hBnDCrPTkyJzSQAAAIhBmohJ4QpSZTAhH/3hAAADAzvoxCsFlxQvbMw69Vd+0qCn04BkWABSdrUvaCfd6D5+3RVFXVyMK60X0tjCOawvJTsAPv43mA8rlj/NGU3O6m7NnrSKb95PO2wTvd1mSPk4YxuxAN6gcpsxCAZlN/g4yvVmfbJHAYHjwe0N2JgI6Zpw5mFtImBnAAAAPUGepkU0TCP/AAARV/FAbM+YZb7NAPdKjs3j56d4urOtTE5iCle9tAtEvv5fAKOIU1A/7eKwmYCnNZfzmi8AAAAmAZ7FdEf/AAAbnBEHjhsfqsQ8OI9f0ov4THrUQ0hSz08gefg/ZFUAAAA3AZ7Hakf/AAAa+4Nrey1RtFui+89tUbLhcEAIe9wfdRCRnVf3JY0d1DSj/YQKLYWujWFA2q9EFQAAAKpBmsxJqEFomUwIR//94QAAAwMnv+rt1liqgGrlXwpJQYBWxuzePcinOI+JzKUFFnh3JEk+JO9gIZPs3iYJAAh9Ay+MpVLmJ36ZZmkPNcN8ReSCWUTtoBd5bTpNL7WFhioWcbdu78/zpkAD6cGrFKM2Mxoww1bMTIN9zW2fbWqwmrdjOLagw52KxC8NtMEcaZinFyrVazDLMRSh51IlrVWktGBxyqiXTw1bpAAAADdBnupFESwj/wAAENf+mWUfTHBNzyY6JjhmbEJo4AYxqM0YuKoQHQyZnAtpNpBaF9aqaWRqmyPhAAAAPgGfCXRH/wAAGwj3ep79MwNHBmrj8+1XkHUEszyS9NYJFKjV2Ie/KaCG+iU4NwieC9EVrGuVCwswySX7LlxwAAAAPQGfC2pH/wAAGmd7QkjE19gdGPv/Gd0Bg5dSkFEcxiBabQ+QRvDKENtExVJikFm5SUoboHMGaXuQpawi/+AAAABrQZsOSahBbJlMFEwn//3xAAADAeff9ZezGUAXDhw320jIoAUk9lj0IwPxkTtSsN/Pc5f5JZbkncXW2C/jqnS5DCFQyDdULoX7WtCiUi7vMDwstZmfXt6xXw1jvHrgJQ6P6J4IAg+9LPofE4EAAABEAZ8takf/AAAaW8cNUJrk6HyzH04yzoTjEcjsEs404jrB601W5lgpSrMUlcORKFHgg/jCAEPPpW81T0d438QKNRVdOfkAAABvQZsySeEKUmUwIR/94QAAAwL7OupV1GlfJEY6h1ApYngWAOxSAOa2c+YSHudH5UFiKZIYngY7dk9Z+YFKkt3dnucKb/oJ8gRrZwaTOIn13p0xKcNkAAPfKTHkzMikNSlo36f+G8nKRSI13ynK+87XAAAAQEGfUEU0TCP/AAAP44qwmO4dqkQlusfjcbkC81s/7TZstQT8DYglKStKtA2PAaGccrMr6u70hAEkARTO6L3UN+cAAAA0AZ9vdEf/AAAZyPdMTvmqL5Y7m43O/QsLO6w3AOFbOQ4XGfhw4Ot0X5JEPDBc2npkPY9E4AAAADkBn3FqR/8AABm7gte4EAgvW6b40nCN7qjtY1DW14GpRjZU76SiujZ1qc6hR7HSNt8UEQqXK2A1UE8AAABKQZt0SahBaJlMFPCP/eEAAAMC5slRzw4rtPEsCOumXamARvQzLL/fj22hb+QAAyO82NAJxTUotgDXL+/FyLJ86U3l4i6xJqF+KUAAAAAoAZ+Takf/AAAZG8cxszdZ/0G8JHQ+6qQnByYg+odMlA92Tha3xH5QOAAAAG5Bm5ZJ4QpSZTBSx//8hAAAC2ccvcCKRALqneUQ09leRceLevMlkLTOyjAKGlyiBS6++z0IkUuhmxBZwiBgjieDh6mdjyNiH0r3qxDrMq5b63o2XHhORMgghTX/QSEBYhwD4QupPYafgybEocw/+QAAACkBn7VqR/8AABknocVv3AzX+0zehmsdQZ9tQd1dqVW4f1HIrOJsebAxwAAAAHRBm7dJ4Q6JlMCEf/3hAAADAtTEpzw4r5JMqsD2y0TkYdAsyXCIC507R8cHNEaHsxB1I/JchDcTxw/ji/QM4KNOghUxbZJFqSepcDwfIOw5jsAiScCXdhMTy9NABZiXvAKRfmc9iCQsZia5AzrARdDTpbuATwAAAFJBm9pJ4Q8mUwIR//3hAAADAtnJ71JnMQopRWzg35TZo9453KNNJvsJBhT7BZGMVhlCBElTZJ7lBQGUtxGcY/ojQm13qJBXuXXvYm8hv2l+PEiBAAAAOUGf+EURPCP/AAAPM4FtKIiz4NwbfclMdbmpxs62VDQy2LmVjqNEGOBCG97Yu8gP7ujZZVVvV9jhcAAAACoBnhlqR/8AABiHl6KDhMH4PuAfUdmmoo+LFEt2rtu7nsgH6U5RVKl2TcEAAABvQZocSahBaJlMFPH//IQAAArCYSh2R+T2Ilmgc+XJ9kI9ombaVraj9Wz7G2yVVGzSLXVkyrfviZfxDCPeFNTOlzQkBiTkfAEDP3GliwF0DD3lZAy2t3gpV2OadBw1q1LKEfLrmnl3ki6yVqKBnmEgAAAALwGeO2pH/wAAF+eXlBGPdquihZBdNUAJL+MP0W0rKGhlCNJZiig839g0ShEkDtZzAAAAOEGaPUnhClJlMCP//IQAAArXHLppr28SZMRJGkAcFUtVFjLMZwU/N3RqBqtQOkovUvNLDKkZzephAAAAYEGaXknhDomUwIR//eEAAAMCsMXuSltcN6bfo35IC8pKHjEPErVl4zXrk+ykofboQ8yNCwsIR9OI0Tro89/8AGmHYjmLBXV5UGoi4BMRq2LZzXSZjvTIObYxxAG9xXE/4AAAAFpBmmBJ4Q8mUwURPCP//eEAAAMCtcnvFj0GuhAgCOrTIfMDO1xpuSNCppld+56tYv7Pz02wa7t0pm+RL6qCfSZzgIl8MOgmRmY8sCW5HIX6EB0r2qq35cGtxkAAAAA4AZ6fakf/AAAXQZhbs7L+kVUDIqnGTDgVPuXE+5tYYktFCFxHlAo6zfsY4wzJaihSwLULpkMZ8qEAAABJQZqCSeEPJlMFPCP//eEAAAMCnsnyUDorv/F5JC+ZyDE8j11ofUC0KgR/fHKGrxzk1C8g5KJSuQtXzmAlQgGZaaVd4g6O/DsOwAAAACABnqFqR/8AABaxmE388vW9n1xf5SVvt2IL1qr7rD2b4wAAAG5BmqVJ4Q8mUwIR//3hAAADAqPopCMFxRQgZQIoARkbE50Ryc0GU6Hb0sbPqZkakYrZAbiUmwl15hhsUT11hNFiFHxdWZmHgG2xZb+nGek08bYw6OYeMGuR7vOd3g05zaohDHfdvM8ny+Xy4H4KWAAAAE9BnsNFETwj/wAADiuBqydqNmqDMqPKRmX/TsKLu1kY/YPK/w9105AdkOEv0apxAvjZGHMzuPcFLt21MQNLWO1IyQ0MZprx/9r+Xclg63lBAAAAPQGe5GpH/wAAFrSXJ2c2OKRZ7rdzkEJEX1ljgPwAFMTS4/VOVSGHSdg2iqxwFW5YvRncKYmYrmgsY92vA3EAAABxQZrnSahBaJlMFPCf/fEAAAMAm3v6nNeizEx0EOW0UtGBIzR4AAgtQnRZFfYp62GyDpYa5SPOycSHiNxWG+Sr86KUWdd9CTXTCOPfkXKvkMUk1KD174nLZhVl6wx0aAoKhdDPZ/sabFXsU0GqgHj2IgcAAABPAZ8Gakf/AAAILDk9D4CDXWs8AFhf53cuNerY/ADPr6L0v5KxEBCmYhxciGTTB/DvDDKxBI6jyOnNzS5Xa/rb4t2bOtt6cLY5/I+KPDALZwAAAD1BmwlJ4QpSZTBSx//8hAAAAwATb8Y5V14OfbRm8M7gEAAmfapLJpS67885xhdER7rssCdbLQ7Gvkwpp0xAAAAAFwGfKGpH/wAAAwArKKC0CJKesRg4qx14AAAMe21vb3YAAABsbXZoZAAAAAAAAAAAAAAAAAAAA+gAAA/IAAEAAAEAAAAAAAAAAAAAAAABAAAAAAAAAAAAAAAAAAAAAQAAAAAAAAAAAAAAAAAAQAAAAAAAAAAAAAAAAAAAAAAAAAAAAAAAAAAAAAAAAAIAAAuldHJhawAAAFx0a2hkAAAAAwAAAAAAAAAAAAAAAQAAAAAAAA/IAAAAAAAAAAAAAAAAAAAAAAABAAAAAAAAAAAAAAAAAAAAAQAAAAAAAAAAAAAAAAAAQAAAAAJYAAABkAAAAAAAJGVkdHMAAAAcZWxzdAAAAAAAAAABAAAPyAAAAgAAAQAAAAALHW1kaWEAAAAgbWRoZAAAAAAAAAAAAAAAAAAAMgAAAMoAVcQAAAAAAC1oZGxyAAAAAAAAAAB2aWRlAAAAAAAAAAAAAAAAVmlkZW9IYW5kbGVyAAAACshtaW5mAAAAFHZtaGQAAAABAAAAAAAAAAAAAAAkZGluZgAAABxkcmVmAAAAAAAAAAEAAAAMdXJsIAAAAAEAAAqIc3RibAAAALBzdHNkAAAAAAAAAAEAAACgYXZjMQAAAAAAAAABAAAAAAAAAAAAAAAAAAAAAAJYAZAASAAAAEgAAAAAAAAAAQAAAAAAAAAAAAAAAAAAAAAAAAAAAAAAAAAAAAAAAAAAABj//wAAADZhdmNDAWQAH//hABlnZAAfrNlAmDPl4QAAAwABAAADAGQPGDGWAQAGaOvjyyLA/fj4AAAAABRidHJ0AAAAAAAAa2sAAGtrAAAAGHN0dHMAAAAAAAAAAQAAAMoAAAEAAAAAFHN0c3MAAAAAAAAAAQAAAAEAAAY4Y3R0cwAAAAAAAADFAAAAAQAAAgAAAAABAAAFAAAAAAEAAAIAAAAAAQAAAAAAAAABAAABAAAAAAEAAAUAAAAAAQAAAgAAAAABAAAAAAAAAAEAAAEAAAAAAQAABQAAAAABAAACAAAAAAEAAAAAAAAAAQAAAQAAAAABAAAFAAAAAAEAAAIAAAAAAQAAAAAAAAABAAABAAAAAAEAAAUAAAAAAQAAAgAAAAABAAAAAAAAAAEAAAEAAAAAAQAABQAAAAABAAACAAAAAAEAAAAAAAAAAQAAAQAAAAABAAAFAAAAAAEAAAIAAAAAAQAAAAAAAAABAAABAAAAAAEAAAUAAAAAAQAAAgAAAAABAAAAAAAAAAEAAAEAAAAAAQAABQAAAAABAAACAAAAAAEAAAAAAAAAAQAAAQAAAAABAAAFAAAAAAEAAAIAAAAAAQAAAAAAAAABAAABAAAAAAEAAAUAAAAAAQAAAgAAAAABAAAAAAAAAAEAAAEAAAAAAQAABQAAAAABAAACAAAAAAEAAAAAAAAAAQAAAQAAAAABAAAFAAAAAAEAAAIAAAAAAQAAAAAAAAABAAABAAAAAAEAAAUAAAAAAQAAAgAAAAABAAAAAAAAAAEAAAEAAAAAAQAABQAAAAABAAACAAAAAAEAAAAAAAAAAQAAAQAAAAABAAAFAAAAAAEAAAIAAAAAAQAAAAAAAAABAAABAAAAAAEAAAUAAAAAAQAAAgAAAAABAAAAAAAAAAEAAAEAAAAAAQAABQAAAAABAAACAAAAAAEAAAAAAAAAAQAAAQAAAAABAAAFAAAAAAEAAAIAAAAAAQAAAAAAAAABAAABAAAAAAEAAAUAAAAAAQAAAgAAAAABAAAAAAAAAAEAAAEAAAAAAQAABQAAAAABAAACAAAAAAEAAAAAAAAAAQAAAQAAAAABAAAFAAAAAAEAAAIAAAAAAQAAAAAAAAABAAABAAAAAAEAAAUAAAAAAQAAAgAAAAABAAAAAAAAAAEAAAEAAAAAAQAABQAAAAABAAACAAAAAAEAAAAAAAAAAQAAAQAAAAABAAAFAAAAAAEAAAIAAAAAAQAAAAAAAAABAAABAAAAAAEAAAUAAAAAAQAAAgAAAAABAAAAAAAAAAEAAAEAAAAAAQAABQAAAAABAAACAAAAAAEAAAAAAAAAAQAAAQAAAAABAAAFAAAAAAEAAAIAAAAAAQAAAAAAAAABAAABAAAAAAEAAAUAAAAAAQAAAgAAAAABAAAAAAAAAAEAAAEAAAAAAQAABQAAAAABAAACAAAAAAEAAAAAAAAAAQAAAQAAAAABAAAFAAAAAAEAAAIAAAAAAQAAAAAAAAABAAABAAAAAAEAAAQAAAAAAgAAAQAAAAABAAAFAAAAAAEAAAIAAAAAAQAAAAAAAAABAAABAAAAAAEAAAUAAAAAAQAAAgAAAAABAAAAAAAAAAEAAAEAAAAAAQAAAwAAAAABAAABAAAAAAEAAAUAAAAAAQAAAgAAAAABAAAAAAAAAAEAAAEAAAAAAQAABQAAAAABAAACAAAAAAEAAAAAAAAAAQAAAQAAAAABAAAFAAAAAAEAAAIAAAAAAQAAAAAAAAABAAABAAAAAAEAAAUAAAAAAQAAAgAAAAABAAAAAAAAAAEAAAEAAAAAAQAABQAAAAABAAACAAAAAAEAAAAAAAAAAQAAAQAAAAABAAADAAAAAAEAAAEAAAAAAQAABAAAAAACAAABAAAAAAEAAAMAAAAAAQAAAQAAAAABAAAFAAAAAAEAAAIAAAAAAQAAAAAAAAABAAABAAAAAAEAAAUAAAAAAQAAAgAAAAABAAAAAAAAAAEAAAEAAAAAAQAAAwAAAAABAAABAAAAAAEAAAUAAAAAAQAAAgAAAAABAAAAAAAAAAEAAAEAAAAAAQAAAwAAAAABAAABAAAAAAEAAAMAAAAAAQAAAQAAAAABAAACAAAAAAEAAAQAAAAAAgAAAQAAAAABAAADAAAAAAEAAAEAAAAAAgAAAgAAAAABAAADAAAAAAEAAAEAAAAAAQAAAwAAAAABAAABAAAAAAEAAAQAAAAAAgAAAQAAAAABAAADAAAAAAEAAAEAAAAAAQAAAwAAAAABAAABAAAAABxzdHNjAAAAAAAAAAEAAAABAAAAygAAAAEAAAM8c3RzegAAAAAAAAAAAAAAygAABMMAAACrAAAATQAAAD4AAAAiAAAAdAAAADYAAAApAAAAIgAAAGUAAAAtAAAAHwAAAB8AAAB1AAAAJwAAACIAAAAZAAAAUwAAAEEAAAAkAAAAHwAAAFEAAAAiAAAAIwAAABQAAABDAAAAIgAAAC8AAAA5AAAAdQAAADgAAAAdAAAAIQAAAFsAAAAnAAAAFAAAADUAAACKAAAANwAAAB0AAAAoAAAAWgAAACwAAAAnAAAAMwAAAGcAAAAsAAAAKQAAAC8AAABvAAAAKAAAACsAAAAuAAAAPQAAAC4AAAAwAAAALgAAAGgAAAAyAAAALwAAACoAAAA+AAAAMwAAACgAAAAsAAAARgAAAC8AAAAkAAAAJgAAAGkAAAArAAAANAAAADIAAABTAAAAPgAAACoAAAAoAAAAPgAAACwAAAAiAAAAJgAAAGQAAAA3AAAAKgAAAB8AAABsAAAALgAAACMAAAAmAAAAPAAAACUAAAAtAAAAIwAAAIcAAAAtAAAANgAAAC0AAAB4AAAANgAAACkAAAApAAAAdgAAAEgAAAAqAAAAKwAAAFQAAAAvAAAANgAAAD4AAABRAAAAMQAAACQAAAAnAAAAkgAAADMAAAAoAAAALQAAAIIAAAA5AAAAKwAAAD8AAABvAAAAQwAAAC4AAAArAAAAYgAAADEAAAA+AAAAZgAAAEMAAAA1AAAAJQAAAHoAAABDAAAALwAAAC0AAABfAAAAMgAAAF4AAAAoAAAANAAAACgAAABlAAAALAAAACsAAAA7AAAASgAAACsAAAA5AAAAJwAAAEQAAAA0AAAALgAAADcAAABvAAAAOQAAACYAAAA5AAAAgwAAACUAAABoAAAAMAAAAC0AAABLAAAALgAAAIwAAABBAAAAKgAAADsAAACuAAAAOwAAAEIAAABBAAAAbwAAAEgAAABzAAAARAAAADgAAAA9AAAATgAAACwAAAByAAAALQAAAHgAAABWAAAAPQAAAC4AAABzAAAAMwAAADwAAABkAAAAXgAAADwAAABNAAAAJAAAAHIAAABTAAAAQQAAAHUAAABTAAAAQQAAABsAAAAUc3RjbwAAAAAAAAABAAAAMAAAAGJ1ZHRhAAAAWm1ldGEAAAAAAAAAIWhkbHIAAAAAAAAAAG1kaXJhcHBsAAAAAAAAAAAAAAAALWlsc3QAAAAlqXRvbwAAAB1kYXRhAAAAAQAAAABMYXZmNTguNzYuMTAw\" type=\"video/mp4\">\n",
       " Your browser does not support the video tag.\n",
       " </video></div>"
      ],
      "text/plain": [
       "<IPython.core.display.HTML object>"
      ]
     },
     "metadata": {},
     "output_type": "display_data"
    },
    {
     "name": "stdout",
     "output_type": "stream",
     "text": [
      "test/ ex1-episode-7.mp4\n"
     ]
    },
    {
     "data": {
      "text/html": [
       "<div style=\"width: 200px; height: 100px;; border: 1px solid #5733FF;\"><video loop autoplay  width=\"200\"  height=\"100\">\n",
       " <source src=\"data:video/mp4;base64,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\" type=\"video/mp4\">\n",
       " Your browser does not support the video tag.\n",
       " </video></div>"
      ],
      "text/plain": [
       "<IPython.core.display.HTML object>"
      ]
     },
     "metadata": {},
     "output_type": "display_data"
    },
    {
     "name": "stdout",
     "output_type": "stream",
     "text": [
      "test/ ex1-episode-8.mp4\n"
     ]
    },
    {
     "data": {
      "text/html": [
       "<div style=\"width: 200px; height: 100px;; border: 1px solid #5733FF;\"><video loop autoplay  width=\"200\"  height=\"100\">\n",
       " <source src=\"data:video/mp4;base64,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\" type=\"video/mp4\">\n",
       " Your browser does not support the video tag.\n",
       " </video></div>"
      ],
      "text/plain": [
       "<IPython.core.display.HTML object>"
      ]
     },
     "metadata": {},
     "output_type": "display_data"
    },
    {
     "name": "stdout",
     "output_type": "stream",
     "text": [
      "test/ ex1-episode-9.mp4\n"
     ]
    },
    {
     "data": {
      "text/html": [
       "<div style=\"width: 200px; height: 100px;; border: 1px solid #5733FF;\"><video loop autoplay  width=\"200\"  height=\"100\">\n",
       " <source src=\"data:video/mp4;base64,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\" type=\"video/mp4\">\n",
       " Your browser does not support the video tag.\n",
       " </video></div>"
      ],
      "text/plain": [
       "<IPython.core.display.HTML object>"
      ]
     },
     "metadata": {},
     "output_type": "display_data"
    }
   ],
   "source": [
    "# Test Result\n",
    "\n",
    "video_dir = work_dir/'video'/'CartPole-v1'/'test'\n",
    "\n",
    "# List all MP4 files in the directory\n",
    "mp4_files = [file for file in os.listdir(video_dir) if file.endswith(\".mp4\")]\n",
    "frame_colors = ['#FF5733', '#33FF57', '#5733FF', '#FFFF33', '#33FFFF', '#FF33FF']\n",
    "# Display each MP4 file\n",
    "for i, mp4_file in enumerate(mp4_files):\n",
    "    video_path = os.path.join(video_dir, mp4_file)\n",
    "    video = Video(video_path, embed=True, html_attributes=\"loop autoplay\", width=200, height=100)\n",
    "    frame_color = frame_colors[i % len(frame_colors)]\n",
    "    video_frame = HTML(f'<div style=\"width: 200px; height: 100px;; border: 1px solid #5733FF;\">{video._repr_html_()}</div>')\n",
    "    print(\"test/\",mp4_file)\n",
    "    display(video_frame)"
   ]
  },
  {
   "cell_type": "markdown",
   "id": "b9298a34",
   "metadata": {
    "tags": []
   },
   "source": [
    "<a id='Q1'></a>\n",
    "<div class=\" alert alert-warning\">\n",
    "    <h3><b>Student Question 1.1</b> Learning (10 points) </h3> \n",
    "\n",
    "Test the trained model from Task 1 five times with different random seeds. Did the same model, trained to balance for 100 timesteps, learn to always balance the pole for 1000 timesteps? Why/why not?\n",
    "    \n",
    "🔝\t<a href='#TOC'><b>Table of Contents</b></a>\n",
    "</div>\n"
   ]
  },
  {
   "cell_type": "markdown",
   "id": "a72ae138-1c0f-4519-b381-330260600b5c",
   "metadata": {},
   "source": [
    "The testing random seed and average reward of each testing round is attached at the end of this cell. We can observe that even in the best round, the model can only balance the pole for an average of $205.3$ steps over $1000$ steps.\n",
    "\n",
    "This is because the trained model runs into states which it never met before during testing and fails to generalize. Besides, the better performance of some test cases imply that the corresponding environment is more similar to where the model got trained.\n",
    "```\n",
    "Numpy/Torch/Random Seed:  327\n",
    "Loading model from /notebooks/rl2023/ex1/results/model/CartPole-v1_params.pt ...\n",
    "Testing...\n",
    "Test ep reward: 167.0 seed: 452\n",
    "Test ep reward: 243.0 seed: 834\n",
    "Test ep reward: 208.0 seed: 885\n",
    "Test ep reward: 190.0 seed: 567\n",
    "Test ep reward: 180.0 seed: 429\n",
    "Test ep reward: 161.0 seed: 842\n",
    "Test ep reward: 164.0 seed: 121\n",
    "Test ep reward: 214.0 seed: 182\n",
    "Test ep reward: 175.0 seed: 601\n",
    "Test ep reward: 337.0 seed: 921\n",
    "Average test reward: 203.9 episode length: 203.9\n",
    "Numpy/Torch/Random Seed:  571\n",
    "Loading model from /notebooks/rl2023/ex1/results/model/CartPole-v1_params.pt ...\n",
    "Testing...\n",
    "Test ep reward: 174.0 seed: 490\n",
    "Test ep reward: 212.0 seed: 290\n",
    "Test ep reward: 247.0 seed: 442\n",
    "Test ep reward: 178.0 seed: 359\n",
    "Test ep reward: 168.0 seed: 999\n",
    "Test ep reward: 308.0 seed: 603\n",
    "Test ep reward: 176.0 seed: 977\n",
    "Test ep reward: 158.0 seed: 438\n",
    "Test ep reward: 162.0 seed: 219\n",
    "Test ep reward: 270.0 seed: 636\n",
    "Average test reward: 205.3 episode length: 205.3\n",
    "Numpy/Torch/Random Seed:  416\n",
    "Loading model from /notebooks/rl2023/ex1/results/model/CartPole-v1_params.pt ...\n",
    "Testing...\n",
    "Test ep reward: 188.0 seed: 973\n",
    "Test ep reward: 271.0 seed: 263\n",
    "Test ep reward: 154.0 seed: 317\n",
    "Test ep reward: 160.0 seed: 852\n",
    "Test ep reward: 171.0 seed: 386\n",
    "Test ep reward: 174.0 seed: 138\n",
    "Test ep reward: 174.0 seed: 285\n",
    "Test ep reward: 178.0 seed: 359\n",
    "Test ep reward: 190.0 seed: 300\n",
    "Test ep reward: 185.0 seed: 160\n",
    "Average test reward: 184.5 episode length: 184.5\n",
    "Numpy/Torch/Random Seed:  204\n",
    "Loading model from /notebooks/rl2023/ex1/results/model/CartPole-v1_params.pt ...\n",
    "Testing...\n",
    "Test ep reward: 230.0 seed: 66\n",
    "Test ep reward: 171.0 seed: 765\n",
    "Test ep reward: 170.0 seed: 246\n",
    "Test ep reward: 183.0 seed: 270\n",
    "Test ep reward: 181.0 seed: 998\n",
    "Test ep reward: 184.0 seed: 539\n",
    "Test ep reward: 182.0 seed: 605\n",
    "Test ep reward: 166.0 seed: 515\n",
    "Test ep reward: 167.0 seed: 183\n",
    "Test ep reward: 159.0 seed: 770\n",
    "Average test reward: 179.3 episode length: 179.3\n",
    "Numpy/Torch/Random Seed:  941\n",
    "Loading model from /notebooks/rl2023/ex1/results/model/CartPole-v1_params.pt ...\n",
    "Testing...\n",
    "Test ep reward: 199.0 seed: 585\n",
    "Test ep reward: 190.0 seed: 875\n",
    "Test ep reward: 179.0 seed: 641\n",
    "Test ep reward: 175.0 seed: 755\n",
    "Test ep reward: 226.0 seed: 27\n",
    "Test ep reward: 166.0 seed: 109\n",
    "Test ep reward: 165.0 seed: 465\n",
    "Test ep reward: 239.0 seed: 726\n",
    "Test ep reward: 190.0 seed: 567\n",
    "Test ep reward: 189.0 seed: 909\n",
    "Average test reward: 191.8 episode length: 191.8\n",
    "```"
   ]
  },
  {
   "cell_type": "code",
   "execution_count": 1,
   "id": "782e19aa-a33f-4570-a563-67dc819ce893",
   "metadata": {
    "collapsed": true,
    "jp-MarkdownHeadingCollapsed": true,
    "jupyter": {
     "outputs_hidden": true
    },
    "tags": []
   },
   "outputs": [
    {
     "ename": "NameError",
     "evalue": "name 't' is not defined",
     "output_type": "error",
     "traceback": [
      "\u001b[0;31m---------------------------------------------------------------------------\u001b[0m",
      "\u001b[0;31mNameError\u001b[0m                                 Traceback (most recent call last)",
      "Cell \u001b[0;32mIn[1], line 2\u001b[0m\n\u001b[1;32m      1\u001b[0m \u001b[38;5;28;01mfor\u001b[39;00m _ \u001b[38;5;129;01min\u001b[39;00m \u001b[38;5;28mrange\u001b[39m(\u001b[38;5;241m5\u001b[39m): \u001b[38;5;66;03m# 5 episodes\u001b[39;00m\n\u001b[0;32m----> 2\u001b[0m     \u001b[43mt\u001b[49m\u001b[38;5;241m.\u001b[39mtest(episodes\u001b[38;5;241m=\u001b[39m\u001b[38;5;241m10\u001b[39m, \n\u001b[1;32m      3\u001b[0m            cfg_path\u001b[38;5;241m=\u001b[39mPath()\u001b[38;5;241m.\u001b[39mcwd()\u001b[38;5;241m/\u001b[39m\u001b[38;5;124m'\u001b[39m\u001b[38;5;124mcfg\u001b[39m\u001b[38;5;124m'\u001b[39m\u001b[38;5;241m/\u001b[39m\u001b[38;5;124m'\u001b[39m\u001b[38;5;124mcartpole_v1.yaml\u001b[39m\u001b[38;5;124m'\u001b[39m, \n\u001b[1;32m      4\u001b[0m            cfg_args\u001b[38;5;241m=\u001b[39m\u001b[38;5;28mdict\u001b[39m(testing\u001b[38;5;241m=\u001b[39m\u001b[38;5;28;01mTrue\u001b[39;00m, seed\u001b[38;5;241m=\u001b[39m\u001b[38;5;28;01mNone\u001b[39;00m, max_episode_steps\u001b[38;5;241m=\u001b[39m\u001b[38;5;241m1000\u001b[39m, use_wandb\u001b[38;5;241m=\u001b[39m\u001b[38;5;28;01mFalse\u001b[39;00m))\n",
      "\u001b[0;31mNameError\u001b[0m: name 't' is not defined"
     ]
    }
   ],
   "source": [
    "for _ in range(5): # 5 episodes\n",
    "    t.test(episodes=10, \n",
    "           cfg_path=Path().cwd()/'cfg'/'cartpole_v1.yaml', \n",
    "           cfg_args=dict(testing=True, seed=None, max_episode_steps=1000, use_wandb=False))"
   ]
  },
  {
   "cell_type": "markdown",
   "id": "9f3b5ed9",
   "metadata": {},
   "source": [
    "<a id='T2'></a>\n",
    "<div class=\" alert alert-warning\">\n",
    "    <h3><b>Student Task 2.</b> Investigating Training Performance (10 points) </h3> \n",
    "\n",
    "Repeat the experiment in Task 1 five times, each time training the model from scratch with 100 timesteps and testing it for 1000 timesteps. Use a different seed number for each training/testing cycle. You can use the box below to write a small script to do this. Use the result textbox below to report the average test reward for each repeat. \n",
    "    \n",
    "🔝\t<a href='#TOC'><b>Table of Contents</b></a>\n",
    "</div>"
   ]
  },
  {
   "cell_type": "markdown",
   "id": "5f15cc05",
   "metadata": {},
   "source": [
    "The average test reward for each training/testing cycle are attached at the end of the cell. \n",
    "\n",
    "When testing each model, two different strategies are used: 10 episodes with different random seeds, and 1 episode with seed $2023$. \n",
    "```\n",
    "Test ep reward: 131.0 seed: 923\n",
    "Test ep reward: 127.0 seed: 78\n",
    "Test ep reward: 135.0 seed: 135\n",
    "Test ep reward: 125.0 seed: 463\n",
    "Test ep reward: 125.0 seed: 810\n",
    "Test ep reward: 122.0 seed: 833\n",
    "Test ep reward: 119.0 seed: 161\n",
    "Test ep reward: 129.0 seed: 21\n",
    "Test ep reward: 132.0 seed: 748\n",
    "Test ep reward: 127.0 seed: 180\n",
    "Average test reward: 127.2 episode length: 127.2\n",
    "Test ep reward: 112.0 seed: 2023\n",
    "Average test reward: 112.0 episode length: 112.0\n",
    "\n",
    "Test ep reward: 140.0 seed: 174\n",
    "Test ep reward: 139.0 seed: 381\n",
    "Test ep reward: 122.0 seed: 876\n",
    "Test ep reward: 120.0 seed: 626\n",
    "Test ep reward: 131.0 seed: 799\n",
    "Test ep reward: 125.0 seed: 897\n",
    "Test ep reward: 135.0 seed: 219\n",
    "Test ep reward: 121.0 seed: 296\n",
    "Test ep reward: 121.0 seed: 628\n",
    "Test ep reward: 124.0 seed: 270\n",
    "Average test reward: 127.8 episode length: 127.8\n",
    "Test ep reward: 113.0 seed: 2023\n",
    "Average test reward: 113.0 episode length: 113.0\n",
    "\n",
    "Test ep reward: 136.0 seed: 822\n",
    "Test ep reward: 122.0 seed: 319\n",
    "Test ep reward: 124.0 seed: 775\n",
    "Test ep reward: 126.0 seed: 433\n",
    "Test ep reward: 123.0 seed: 962\n",
    "Test ep reward: 124.0 seed: 103\n",
    "Test ep reward: 131.0 seed: 724\n",
    "Test ep reward: 133.0 seed: 78\n",
    "Test ep reward: 138.0 seed: 987\n",
    "Test ep reward: 129.0 seed: 161\n",
    "Average test reward: 128.6 episode length: 128.6\n",
    "Test ep reward: 121.0 seed: 2023\n",
    "Average test reward: 121.0 episode length: 121.0\n",
    "\n",
    "Test ep reward: 163.0 seed: 675\n",
    "Test ep reward: 211.0 seed: 336\n",
    "Test ep reward: 161.0 seed: 904\n",
    "Test ep reward: 154.0 seed: 935\n",
    "Test ep reward: 187.0 seed: 641\n",
    "Test ep reward: 163.0 seed: 552\n",
    "Test ep reward: 168.0 seed: 615\n",
    "Test ep reward: 163.0 seed: 911\n",
    "Test ep reward: 152.0 seed: 910\n",
    "Test ep reward: 167.0 seed: 305\n",
    "Average test reward: 168.9 episode length: 168.9\n",
    "Test ep reward: 149.0 seed: 2023\n",
    "Average test reward: 149.0 episode length: 149.0\n",
    "\n",
    "Test ep reward: 122.0 seed: 822\n",
    "Test ep reward: 110.0 seed: 319\n",
    "Test ep reward: 110.0 seed: 775\n",
    "Test ep reward: 111.0 seed: 433\n",
    "Test ep reward: 108.0 seed: 962\n",
    "Test ep reward: 109.0 seed: 103\n",
    "Test ep reward: 115.0 seed: 724\n",
    "Test ep reward: 119.0 seed: 78\n",
    "Test ep reward: 121.0 seed: 987\n",
    "Test ep reward: 111.0 seed: 161\n",
    "Average test reward: 113.6 episode length: 113.6\n",
    "Test ep reward: 106.0 seed: 2023\n",
    "Average test reward: 106.0 episode length: 106.0\n",
    "```"
   ]
  },
  {
   "cell_type": "code",
   "execution_count": 12,
   "id": "aa8b9768",
   "metadata": {
    "collapsed": true,
    "jupyter": {
     "outputs_hidden": true
    },
    "scrolled": true,
    "tags": []
   },
   "outputs": [
    {
     "name": "stdout",
     "output_type": "stream",
     "text": [
      "Numpy/Torch/Random Seed:  530\n"
     ]
    },
    {
     "data": {
      "text/html": [
       "Changes to your `wandb` environment variables will be ignored because your `wandb` session has already started. For more information on how to modify your settings with `wandb.init()` arguments, please refer to <a href='https://wandb.me/wandb-init' target=\"_blank\">the W&B docs</a>."
      ],
      "text/plain": [
       "<IPython.core.display.HTML object>"
      ]
     },
     "metadata": {},
     "output_type": "display_data"
    },
    {
     "data": {
      "text/html": [
       "Finishing last run (ID:par63pun) before initializing another..."
      ],
      "text/plain": [
       "<IPython.core.display.HTML object>"
      ]
     },
     "metadata": {},
     "output_type": "display_data"
    },
    {
     "data": {
      "text/html": [
       "Waiting for W&B process to finish... <strong style=\"color:green\">(success).</strong>"
      ],
      "text/plain": [
       "<IPython.core.display.HTML object>"
      ]
     },
     "metadata": {},
     "output_type": "display_data"
    },
    {
     "data": {
      "application/vnd.jupyter.widget-view+json": {
       "model_id": "0d68136968d14330b7e698cef41ae860",
       "version_major": 2,
       "version_minor": 0
      },
      "text/plain": [
       "VBox(children=(Label(value='0.004 MB of 0.004 MB uploaded (0.000 MB deduped)\\r'), FloatProgress(value=1.0, max…"
      ]
     },
     "metadata": {},
     "output_type": "display_data"
    },
    {
     "data": {
      "text/html": [
       "<style>\n",
       "    table.wandb td:nth-child(1) { padding: 0 10px; text-align: left ; width: auto;} td:nth-child(2) {text-align: left ; width: 100%}\n",
       "    .wandb-row { display: flex; flex-direction: row; flex-wrap: wrap; justify-content: flex-start; width: 100% }\n",
       "    .wandb-col { display: flex; flex-direction: column; flex-basis: 100%; flex: 1; padding: 10px; }\n",
       "    </style>\n",
       "<div class=\"wandb-row\"><div class=\"wandb-col\"><h3>Run history:</h3><br/><table class=\"wandb\"><tr><td>ep_reward</td><td>▁▂▁▂▃▂▃▁▂▅▁▁▂▂▁▃▃▁▂▆▆▆█▇████████████████</td></tr><tr><td>episodes</td><td>▁▁▁▁▂▂▂▂▂▃▃▃▃▃▃▄▄▄▄▄▅▅▅▅▅▅▆▆▆▆▆▇▇▇▇▇▇███</td></tr><tr><td>num_updates</td><td>▁▁▁▁▁▁▁▁▁▁▁▁▁▁▁█▁▁▁▁▁▁▁▁█▁▁▁▁▁▁▁▁▁▁▁▁▁▁▁</td></tr><tr><td>timesteps</td><td>▁▂▁▂▃▂▃▁▂▅▁▁▂▂▁▃▃▁▂▆▆▆█▇████████████████</td></tr></table><br/></div><div class=\"wandb-col\"><h3>Run summary:</h3><br/><table class=\"wandb\"><tr><td>ep_reward</td><td>100.0</td></tr><tr><td>episodes</td><td>407</td></tr><tr><td>num_updates</td><td>0</td></tr><tr><td>timesteps</td><td>100</td></tr></table><br/></div></div>"
      ],
      "text/plain": [
       "<IPython.core.display.HTML object>"
      ]
     },
     "metadata": {},
     "output_type": "display_data"
    },
    {
     "data": {
      "text/html": [
       " View run <strong style=\"color:#cdcd00\">ex1-CartPole-v1-None-1694944246</strong> at: <a href='https://wandb.ai/xinyu-zhang/rl_aalto/runs/par63pun' target=\"_blank\">https://wandb.ai/xinyu-zhang/rl_aalto/runs/par63pun</a><br/>Synced 6 W&B file(s), 0 media file(s), 0 artifact file(s) and 0 other file(s)"
      ],
      "text/plain": [
       "<IPython.core.display.HTML object>"
      ]
     },
     "metadata": {},
     "output_type": "display_data"
    },
    {
     "data": {
      "text/html": [
       "Find logs at: <code>./wandb/run-20230917_125046-par63pun/logs</code>"
      ],
      "text/plain": [
       "<IPython.core.display.HTML object>"
      ]
     },
     "metadata": {},
     "output_type": "display_data"
    },
    {
     "data": {
      "text/html": [
       "Successfully finished last run (ID:par63pun). Initializing new run:<br/>"
      ],
      "text/plain": [
       "<IPython.core.display.HTML object>"
      ]
     },
     "metadata": {},
     "output_type": "display_data"
    },
    {
     "data": {
      "application/vnd.jupyter.widget-view+json": {
       "model_id": "eafa55c381b64967b903fdc6a36e67da",
       "version_major": 2,
       "version_minor": 0
      },
      "text/plain": [
       "VBox(children=(Label(value='Waiting for wandb.init()...\\r'), FloatProgress(value=0.01666865808268388, max=1.0)…"
      ]
     },
     "metadata": {},
     "output_type": "display_data"
    },
    {
     "data": {
      "text/html": [
       "wandb version 0.15.10 is available!  To upgrade, please run:\n",
       " $ pip install wandb --upgrade"
      ],
      "text/plain": [
       "<IPython.core.display.HTML object>"
      ]
     },
     "metadata": {},
     "output_type": "display_data"
    },
    {
     "data": {
      "text/html": [
       "Tracking run with wandb version 0.15.9"
      ],
      "text/plain": [
       "<IPython.core.display.HTML object>"
      ]
     },
     "metadata": {},
     "output_type": "display_data"
    },
    {
     "data": {
      "text/html": [
       "Run data is saved locally in <code>/notebooks/rl2023/ex1/wandb/run-20230917_125537-fgdutfcp</code>"
      ],
      "text/plain": [
       "<IPython.core.display.HTML object>"
      ]
     },
     "metadata": {},
     "output_type": "display_data"
    },
    {
     "data": {
      "text/html": [
       "Syncing run <strong><a href='https://wandb.ai/xinyu-zhang/rl_aalto/runs/fgdutfcp' target=\"_blank\">ex1-CartPole-v1-None-1694944537</a></strong> to <a href='https://wandb.ai/xinyu-zhang/rl_aalto' target=\"_blank\">Weights & Biases</a> (<a href='https://wandb.me/run' target=\"_blank\">docs</a>)<br/>"
      ],
      "text/plain": [
       "<IPython.core.display.HTML object>"
      ]
     },
     "metadata": {},
     "output_type": "display_data"
    },
    {
     "data": {
      "text/html": [
       " View project at <a href='https://wandb.ai/xinyu-zhang/rl_aalto' target=\"_blank\">https://wandb.ai/xinyu-zhang/rl_aalto</a>"
      ],
      "text/plain": [
       "<IPython.core.display.HTML object>"
      ]
     },
     "metadata": {},
     "output_type": "display_data"
    },
    {
     "data": {
      "text/html": [
       " View run at <a href='https://wandb.ai/xinyu-zhang/rl_aalto/runs/fgdutfcp' target=\"_blank\">https://wandb.ai/xinyu-zhang/rl_aalto/runs/fgdutfcp</a>"
      ],
      "text/plain": [
       "<IPython.core.display.HTML object>"
      ]
     },
     "metadata": {},
     "output_type": "display_data"
    },
    {
     "name": "stderr",
     "output_type": "stream",
     "text": [
      "/opt/software/lib/python3.10/site-packages/gymnasium/wrappers/record_video.py:94: UserWarning: \u001b[33mWARN: Overwriting existing videos at /notebooks/rl2023/ex1/results/video/CartPole-v1/train folder (try specifying a different `video_folder` for the `RecordVideo` wrapper if this is not desired)\u001b[0m\n",
      "  logger.warn(\n"
     ]
    },
    {
     "name": "stdout",
     "output_type": "stream",
     "text": [
      "Configuration Settings: {'exp_name': 'ex1', 'seed': None, 'env_name': 'CartPole-v1', 'max_episode_steps': 100, 'train_episodes': 500, 'batch_size': 64, 'min_update_samples': 2000, 'testing': False, 'model_path': 'default', 'save_video': True, 'save_model': True, 'save_logging': True, 'silent': False, 'use_wandb': True, 'run_suffix': 0}\n",
      "Training device: cpu\n",
      "Observation space dimensions: 4\n",
      "Action space dimensions: 2\n",
      "\n",
      "Episode 0 finished. Total reward: 41.0 (41 timesteps)\n",
      "Episode 1 finished. Total reward: 34.0 (34 timesteps)\n",
      "Episode 2 finished. Total reward: 14.0 (14 timesteps)\n",
      "Episode 3 finished. Total reward: 23.0 (23 timesteps)\n",
      "Episode 4 finished. Total reward: 50.0 (50 timesteps)\n",
      "Episode 5 finished. Total reward: 34.0 (34 timesteps)\n",
      "Episode 6 finished. Total reward: 47.0 (47 timesteps)\n",
      "Episode 7 finished. Total reward: 21.0 (21 timesteps)\n",
      "Episode 8 finished. Total reward: 14.0 (14 timesteps)\n",
      "Episode 9 finished. Total reward: 36.0 (36 timesteps)\n",
      "Episode 10 finished. Total reward: 20.0 (20 timesteps)\n",
      "Episode 11 finished. Total reward: 11.0 (11 timesteps)\n",
      "Episode 12 finished. Total reward: 41.0 (41 timesteps)\n",
      "Episode 13 finished. Total reward: 38.0 (38 timesteps)\n",
      "Episode 14 finished. Total reward: 14.0 (14 timesteps)\n",
      "Episode 15 finished. Total reward: 13.0 (13 timesteps)\n",
      "Episode 16 finished. Total reward: 15.0 (15 timesteps)\n",
      "Episode 17 finished. Total reward: 69.0 (69 timesteps)\n",
      "Episode 18 finished. Total reward: 20.0 (20 timesteps)\n",
      "Episode 19 finished. Total reward: 15.0 (15 timesteps)\n",
      "Episode 20 finished. Total reward: 13.0 (13 timesteps)\n",
      "Episode 21 finished. Total reward: 38.0 (38 timesteps)\n",
      "Episode 22 finished. Total reward: 39.0 (39 timesteps)\n",
      "Episode 23 finished. Total reward: 16.0 (16 timesteps)\n",
      "Episode 24 finished. Total reward: 14.0 (14 timesteps)\n",
      "Episode 25 finished. Total reward: 76.0 (76 timesteps)\n",
      "Episode 26 finished. Total reward: 40.0 (40 timesteps)\n",
      "Episode 27 finished. Total reward: 63.0 (63 timesteps)\n",
      "Episode 28 finished. Total reward: 25.0 (25 timesteps)\n",
      "Episode 29 finished. Total reward: 8.0 (8 timesteps)\n",
      "Episode 30 finished. Total reward: 13.0 (13 timesteps)\n",
      "Episode 31 finished. Total reward: 15.0 (15 timesteps)\n",
      "Episode 32 finished. Total reward: 11.0 (11 timesteps)\n",
      "Episode 33 finished. Total reward: 40.0 (40 timesteps)\n",
      "Episode 34 finished. Total reward: 10.0 (10 timesteps)\n",
      "Episode 35 finished. Total reward: 13.0 (13 timesteps)\n",
      "Episode 36 finished. Total reward: 29.0 (29 timesteps)\n",
      "Episode 37 finished. Total reward: 54.0 (54 timesteps)\n",
      "Episode 38 finished. Total reward: 10.0 (10 timesteps)\n",
      "Episode 39 finished. Total reward: 17.0 (17 timesteps)\n",
      "Episode 40 finished. Total reward: 17.0 (17 timesteps)\n",
      "Episode 41 finished. Total reward: 14.0 (14 timesteps)\n",
      "Episode 42 finished. Total reward: 21.0 (21 timesteps)\n",
      "Episode 43 finished. Total reward: 15.0 (15 timesteps)\n",
      "Episode 44 finished. Total reward: 11.0 (11 timesteps)\n",
      "Episode 45 finished. Total reward: 14.0 (14 timesteps)\n",
      "Episode 46 finished. Total reward: 29.0 (29 timesteps)\n",
      "Episode 47 finished. Total reward: 32.0 (32 timesteps)\n",
      "Episode 48 finished. Total reward: 14.0 (14 timesteps)\n",
      "Episode 49 finished. Total reward: 14.0 (14 timesteps)\n",
      "Episode 50 finished. Total reward: 17.0 (17 timesteps)\n",
      "Episode 51 finished. Total reward: 10.0 (10 timesteps)\n",
      "Episode 52 finished. Total reward: 83.0 (83 timesteps)\n",
      "Episode 53 finished. Total reward: 24.0 (24 timesteps)\n",
      "Episode 54 finished. Total reward: 12.0 (12 timesteps)\n",
      "Episode 55 finished. Total reward: 20.0 (20 timesteps)\n",
      "Episode 56 finished. Total reward: 18.0 (18 timesteps)\n",
      "Episode 57 finished. Total reward: 17.0 (17 timesteps)\n",
      "Episode 58 finished. Total reward: 10.0 (10 timesteps)\n",
      "Episode 59 finished. Total reward: 30.0 (30 timesteps)\n",
      "Episode 60 finished. Total reward: 21.0 (21 timesteps)\n",
      "Episode 61 finished. Total reward: 43.0 (43 timesteps)\n",
      "Episode 62 finished. Total reward: 16.0 (16 timesteps)\n",
      "Episode 63 finished. Total reward: 12.0 (12 timesteps)\n",
      "Episode 64 finished. Total reward: 37.0 (37 timesteps)\n",
      "Episode 65 finished. Total reward: 16.0 (16 timesteps)\n",
      "Episode 66 finished. Total reward: 17.0 (17 timesteps)\n",
      "Episode 67 finished. Total reward: 14.0 (14 timesteps)\n",
      "Episode 68 finished. Total reward: 24.0 (24 timesteps)\n",
      "Episode 69 finished. Total reward: 39.0 (39 timesteps)\n",
      "Episode 70 finished. Total reward: 15.0 (15 timesteps)\n",
      "Episode 71 finished. Total reward: 16.0 (16 timesteps)\n",
      "Episode 72 finished. Total reward: 19.0 (19 timesteps)\n",
      "Episode 73 finished. Total reward: 9.0 (9 timesteps)\n",
      "Episode 74 finished. Total reward: 11.0 (11 timesteps)\n",
      "Episode 75 finished. Total reward: 33.0 (33 timesteps)\n",
      "Episode 76 finished. Total reward: 14.0 (14 timesteps)\n",
      "Episode 77 finished. Total reward: 56.0 (56 timesteps)\n",
      "Episode 78 finished. Total reward: 16.0 (16 timesteps)\n",
      "Episode 79 finished. Total reward: 13.0 (13 timesteps)\n",
      "Updating the policy...\n",
      "Updating finished!\n",
      "Episode 80 finished. Total reward: 37.0 (37 timesteps)\n",
      "Episode 81 finished. Total reward: 21.0 (21 timesteps)\n",
      "Episode 82 finished. Total reward: 24.0 (24 timesteps)\n",
      "Episode 83 finished. Total reward: 16.0 (16 timesteps)\n",
      "Episode 84 finished. Total reward: 21.0 (21 timesteps)\n",
      "Episode 85 finished. Total reward: 25.0 (25 timesteps)\n",
      "Episode 86 finished. Total reward: 18.0 (18 timesteps)\n",
      "Episode 87 finished. Total reward: 10.0 (10 timesteps)\n",
      "Episode 88 finished. Total reward: 23.0 (23 timesteps)\n",
      "Episode 89 finished. Total reward: 41.0 (41 timesteps)\n",
      "Episode 90 finished. Total reward: 29.0 (29 timesteps)\n",
      "Episode 91 finished. Total reward: 15.0 (15 timesteps)\n",
      "Episode 92 finished. Total reward: 25.0 (25 timesteps)\n",
      "Episode 93 finished. Total reward: 50.0 (50 timesteps)\n",
      "Episode 94 finished. Total reward: 14.0 (14 timesteps)\n",
      "Episode 95 finished. Total reward: 100.0 (100 timesteps)\n",
      "Episode 96 finished. Total reward: 11.0 (11 timesteps)\n",
      "Episode 97 finished. Total reward: 17.0 (17 timesteps)\n",
      "Episode 98 finished. Total reward: 40.0 (40 timesteps)\n",
      "Episode 99 finished. Total reward: 29.0 (29 timesteps)\n",
      "Episode 100 finished. Total reward: 39.0 (39 timesteps)\n",
      "Episode 101 finished. Total reward: 22.0 (22 timesteps)\n",
      "Episode 102 finished. Total reward: 15.0 (15 timesteps)\n",
      "Episode 103 finished. Total reward: 17.0 (17 timesteps)\n",
      "Episode 104 finished. Total reward: 20.0 (20 timesteps)\n",
      "Episode 105 finished. Total reward: 13.0 (13 timesteps)\n",
      "Episode 106 finished. Total reward: 49.0 (49 timesteps)\n",
      "Episode 107 finished. Total reward: 28.0 (28 timesteps)\n",
      "Episode 108 finished. Total reward: 15.0 (15 timesteps)\n",
      "Episode 109 finished. Total reward: 43.0 (43 timesteps)\n",
      "Episode 110 finished. Total reward: 44.0 (44 timesteps)\n",
      "Episode 111 finished. Total reward: 21.0 (21 timesteps)\n",
      "Episode 112 finished. Total reward: 11.0 (11 timesteps)\n",
      "Episode 113 finished. Total reward: 24.0 (24 timesteps)\n",
      "Episode 114 finished. Total reward: 49.0 (49 timesteps)\n",
      "Episode 115 finished. Total reward: 16.0 (16 timesteps)\n",
      "Episode 116 finished. Total reward: 12.0 (12 timesteps)\n",
      "Episode 117 finished. Total reward: 47.0 (47 timesteps)\n",
      "Episode 118 finished. Total reward: 67.0 (67 timesteps)\n",
      "Episode 119 finished. Total reward: 48.0 (48 timesteps)\n",
      "Episode 120 finished. Total reward: 14.0 (14 timesteps)\n",
      "Episode 121 finished. Total reward: 35.0 (35 timesteps)\n",
      "Episode 122 finished. Total reward: 22.0 (22 timesteps)\n",
      "Episode 123 finished. Total reward: 29.0 (29 timesteps)\n",
      "Episode 124 finished. Total reward: 57.0 (57 timesteps)\n",
      "Episode 125 finished. Total reward: 15.0 (15 timesteps)\n",
      "Episode 126 finished. Total reward: 62.0 (62 timesteps)\n",
      "Episode 127 finished. Total reward: 19.0 (19 timesteps)\n",
      "Episode 128 finished. Total reward: 17.0 (17 timesteps)\n",
      "Episode 129 finished. Total reward: 51.0 (51 timesteps)\n",
      "Episode 130 finished. Total reward: 46.0 (46 timesteps)\n",
      "Episode 131 finished. Total reward: 15.0 (15 timesteps)\n",
      "Episode 132 finished. Total reward: 17.0 (17 timesteps)\n",
      "Episode 133 finished. Total reward: 18.0 (18 timesteps)\n",
      "Episode 134 finished. Total reward: 52.0 (52 timesteps)\n",
      "Episode 135 finished. Total reward: 24.0 (24 timesteps)\n",
      "Episode 136 finished. Total reward: 12.0 (12 timesteps)\n",
      "Episode 137 finished. Total reward: 15.0 (15 timesteps)\n",
      "Episode 138 finished. Total reward: 60.0 (60 timesteps)\n",
      "Episode 139 finished. Total reward: 35.0 (35 timesteps)\n",
      "Episode 140 finished. Total reward: 15.0 (15 timesteps)\n",
      "Episode 141 finished. Total reward: 69.0 (69 timesteps)\n",
      "Episode 142 finished. Total reward: 27.0 (27 timesteps)\n",
      "Episode 143 finished. Total reward: 29.0 (29 timesteps)\n",
      "Episode 144 finished. Total reward: 15.0 (15 timesteps)\n",
      "Episode 145 finished. Total reward: 13.0 (13 timesteps)\n",
      "Episode 146 finished. Total reward: 49.0 (49 timesteps)\n",
      "Episode 147 finished. Total reward: 20.0 (20 timesteps)\n",
      "Updating the policy...\n",
      "Updating finished!\n",
      "Episode 148 finished. Total reward: 19.0 (19 timesteps)\n",
      "Episode 149 finished. Total reward: 41.0 (41 timesteps)\n",
      "Episode 150 finished. Total reward: 71.0 (71 timesteps)\n",
      "Episode 151 finished. Total reward: 27.0 (27 timesteps)\n",
      "Episode 152 finished. Total reward: 38.0 (38 timesteps)\n",
      "Episode 153 finished. Total reward: 46.0 (46 timesteps)\n",
      "Episode 154 finished. Total reward: 52.0 (52 timesteps)\n",
      "Episode 155 finished. Total reward: 44.0 (44 timesteps)\n",
      "Episode 156 finished. Total reward: 24.0 (24 timesteps)\n",
      "Episode 157 finished. Total reward: 23.0 (23 timesteps)\n",
      "Episode 158 finished. Total reward: 48.0 (48 timesteps)\n",
      "Episode 159 finished. Total reward: 100.0 (100 timesteps)\n",
      "Episode 160 finished. Total reward: 61.0 (61 timesteps)\n",
      "Episode 161 finished. Total reward: 32.0 (32 timesteps)\n",
      "Episode 162 finished. Total reward: 100.0 (100 timesteps)\n",
      "Episode 163 finished. Total reward: 20.0 (20 timesteps)\n",
      "Episode 164 finished. Total reward: 38.0 (38 timesteps)\n",
      "Episode 165 finished. Total reward: 20.0 (20 timesteps)\n",
      "Episode 166 finished. Total reward: 31.0 (31 timesteps)\n",
      "Episode 167 finished. Total reward: 75.0 (75 timesteps)\n",
      "Episode 168 finished. Total reward: 41.0 (41 timesteps)\n",
      "Episode 169 finished. Total reward: 31.0 (31 timesteps)\n",
      "Episode 170 finished. Total reward: 43.0 (43 timesteps)\n",
      "Episode 171 finished. Total reward: 21.0 (21 timesteps)\n",
      "Episode 172 finished. Total reward: 17.0 (17 timesteps)\n",
      "Episode 173 finished. Total reward: 37.0 (37 timesteps)\n",
      "Episode 174 finished. Total reward: 22.0 (22 timesteps)\n",
      "Episode 175 finished. Total reward: 38.0 (38 timesteps)\n",
      "Episode 176 finished. Total reward: 31.0 (31 timesteps)\n",
      "Episode 177 finished. Total reward: 11.0 (11 timesteps)\n",
      "Episode 178 finished. Total reward: 12.0 (12 timesteps)\n",
      "Episode 179 finished. Total reward: 36.0 (36 timesteps)\n",
      "Episode 180 finished. Total reward: 35.0 (35 timesteps)\n",
      "Episode 181 finished. Total reward: 63.0 (63 timesteps)\n",
      "Episode 182 finished. Total reward: 36.0 (36 timesteps)\n",
      "Episode 183 finished. Total reward: 10.0 (10 timesteps)\n",
      "Episode 184 finished. Total reward: 35.0 (35 timesteps)\n",
      "Episode 185 finished. Total reward: 16.0 (16 timesteps)\n",
      "Episode 186 finished. Total reward: 48.0 (48 timesteps)\n",
      "Episode 187 finished. Total reward: 56.0 (56 timesteps)\n",
      "Episode 188 finished. Total reward: 35.0 (35 timesteps)\n",
      "Episode 189 finished. Total reward: 21.0 (21 timesteps)\n",
      "Episode 190 finished. Total reward: 33.0 (33 timesteps)\n",
      "Episode 191 finished. Total reward: 22.0 (22 timesteps)\n",
      "Episode 192 finished. Total reward: 49.0 (49 timesteps)\n",
      "Episode 193 finished. Total reward: 35.0 (35 timesteps)\n",
      "Episode 194 finished. Total reward: 34.0 (34 timesteps)\n",
      "Episode 195 finished. Total reward: 43.0 (43 timesteps)\n",
      "Episode 196 finished. Total reward: 78.0 (78 timesteps)\n",
      "Episode 197 finished. Total reward: 16.0 (16 timesteps)\n",
      "Episode 198 finished. Total reward: 29.0 (29 timesteps)\n",
      "Updating the policy...\n",
      "Updating finished!\n",
      "Episode 199 finished. Total reward: 70.0 (70 timesteps)\n",
      "Episode 200 finished. Total reward: 85.0 (85 timesteps)\n",
      "Episode 201 finished. Total reward: 100.0 (100 timesteps)\n",
      "Episode 202 finished. Total reward: 100.0 (100 timesteps)\n",
      "Episode 203 finished. Total reward: 24.0 (24 timesteps)\n",
      "Episode 204 finished. Total reward: 45.0 (45 timesteps)\n",
      "Episode 205 finished. Total reward: 82.0 (82 timesteps)\n",
      "Episode 206 finished. Total reward: 100.0 (100 timesteps)\n",
      "Episode 207 finished. Total reward: 19.0 (19 timesteps)\n",
      "Episode 208 finished. Total reward: 100.0 (100 timesteps)\n",
      "Episode 209 finished. Total reward: 100.0 (100 timesteps)\n",
      "Episode 210 finished. Total reward: 100.0 (100 timesteps)\n",
      "Episode 211 finished. Total reward: 100.0 (100 timesteps)\n",
      "Episode 212 finished. Total reward: 86.0 (86 timesteps)\n",
      "Episode 213 finished. Total reward: 100.0 (100 timesteps)\n",
      "Episode 214 finished. Total reward: 15.0 (15 timesteps)\n",
      "Episode 215 finished. Total reward: 100.0 (100 timesteps)\n",
      "Episode 216 finished. Total reward: 59.0 (59 timesteps)\n",
      "Episode 217 finished. Total reward: 49.0 (49 timesteps)\n",
      "Episode 218 finished. Total reward: 100.0 (100 timesteps)\n",
      "Episode 219 finished. Total reward: 100.0 (100 timesteps)\n",
      "Episode 220 finished. Total reward: 15.0 (15 timesteps)\n",
      "Episode 221 finished. Total reward: 40.0 (40 timesteps)\n",
      "Episode 222 finished. Total reward: 94.0 (94 timesteps)\n",
      "Episode 223 finished. Total reward: 100.0 (100 timesteps)\n",
      "Episode 224 finished. Total reward: 14.0 (14 timesteps)\n",
      "Episode 225 finished. Total reward: 85.0 (85 timesteps)\n",
      "Updating the policy...\n",
      "Updating finished!\n",
      "Episode 226 finished. Total reward: 100.0 (100 timesteps)\n",
      "Episode 227 finished. Total reward: 100.0 (100 timesteps)\n",
      "Episode 228 finished. Total reward: 100.0 (100 timesteps)\n",
      "Episode 229 finished. Total reward: 100.0 (100 timesteps)\n",
      "Episode 230 finished. Total reward: 100.0 (100 timesteps)\n",
      "Episode 231 finished. Total reward: 97.0 (97 timesteps)\n",
      "Episode 232 finished. Total reward: 100.0 (100 timesteps)\n",
      "Episode 233 finished. Total reward: 100.0 (100 timesteps)\n",
      "Episode 234 finished. Total reward: 38.0 (38 timesteps)\n",
      "Episode 235 finished. Total reward: 100.0 (100 timesteps)\n",
      "Episode 236 finished. Total reward: 100.0 (100 timesteps)\n",
      "Episode 237 finished. Total reward: 47.0 (47 timesteps)\n",
      "Episode 238 finished. Total reward: 100.0 (100 timesteps)\n",
      "Episode 239 finished. Total reward: 16.0 (16 timesteps)\n",
      "Episode 240 finished. Total reward: 81.0 (81 timesteps)\n",
      "Episode 241 finished. Total reward: 25.0 (25 timesteps)\n",
      "Episode 242 finished. Total reward: 100.0 (100 timesteps)\n",
      "Episode 243 finished. Total reward: 17.0 (17 timesteps)\n",
      "Episode 244 finished. Total reward: 26.0 (26 timesteps)\n",
      "Episode 245 finished. Total reward: 100.0 (100 timesteps)\n",
      "Episode 246 finished. Total reward: 100.0 (100 timesteps)\n",
      "Episode 247 finished. Total reward: 49.0 (49 timesteps)\n",
      "Episode 248 finished. Total reward: 41.0 (41 timesteps)\n",
      "Episode 249 finished. Total reward: 100.0 (100 timesteps)\n",
      "Episode 250 finished. Total reward: 100.0 (100 timesteps)\n",
      "Episode 251 finished. Total reward: 58.0 (58 timesteps)\n",
      "Updating the policy...\n",
      "Updating finished!\n",
      "Episode 252 finished. Total reward: 100.0 (100 timesteps)\n",
      "Episode 253 finished. Total reward: 100.0 (100 timesteps)\n",
      "Episode 254 finished. Total reward: 100.0 (100 timesteps)\n",
      "Episode 255 finished. Total reward: 23.0 (23 timesteps)\n",
      "Episode 256 finished. Total reward: 100.0 (100 timesteps)\n",
      "Episode 257 finished. Total reward: 100.0 (100 timesteps)\n",
      "Episode 258 finished. Total reward: 100.0 (100 timesteps)\n",
      "Episode 259 finished. Total reward: 86.0 (86 timesteps)\n",
      "Episode 260 finished. Total reward: 100.0 (100 timesteps)\n",
      "Episode 261 finished. Total reward: 100.0 (100 timesteps)\n",
      "Episode 262 finished. Total reward: 100.0 (100 timesteps)\n",
      "Episode 263 finished. Total reward: 100.0 (100 timesteps)\n",
      "Episode 264 finished. Total reward: 100.0 (100 timesteps)\n",
      "Episode 265 finished. Total reward: 41.0 (41 timesteps)\n",
      "Episode 266 finished. Total reward: 100.0 (100 timesteps)\n",
      "Episode 267 finished. Total reward: 100.0 (100 timesteps)\n",
      "Episode 268 finished. Total reward: 100.0 (100 timesteps)\n",
      "Episode 269 finished. Total reward: 100.0 (100 timesteps)\n",
      "Episode 270 finished. Total reward: 45.0 (45 timesteps)\n",
      "Episode 271 finished. Total reward: 100.0 (100 timesteps)\n",
      "Episode 272 finished. Total reward: 100.0 (100 timesteps)\n",
      "Episode 273 finished. Total reward: 100.0 (100 timesteps)\n",
      "Updating the policy...\n",
      "Updating finished!\n",
      "Episode 274 finished. Total reward: 100.0 (100 timesteps)\n",
      "Episode 275 finished. Total reward: 100.0 (100 timesteps)\n",
      "Episode 276 finished. Total reward: 83.0 (83 timesteps)\n",
      "Episode 277 finished. Total reward: 100.0 (100 timesteps)\n",
      "Episode 278 finished. Total reward: 100.0 (100 timesteps)\n",
      "Episode 279 finished. Total reward: 100.0 (100 timesteps)\n",
      "Episode 280 finished. Total reward: 100.0 (100 timesteps)\n",
      "Episode 281 finished. Total reward: 46.0 (46 timesteps)\n",
      "Episode 282 finished. Total reward: 100.0 (100 timesteps)\n",
      "Episode 283 finished. Total reward: 51.0 (51 timesteps)\n",
      "Episode 284 finished. Total reward: 100.0 (100 timesteps)\n",
      "Episode 285 finished. Total reward: 100.0 (100 timesteps)\n",
      "Episode 286 finished. Total reward: 100.0 (100 timesteps)\n",
      "Episode 287 finished. Total reward: 99.0 (99 timesteps)\n",
      "Episode 288 finished. Total reward: 33.0 (33 timesteps)\n",
      "Episode 289 finished. Total reward: 100.0 (100 timesteps)\n",
      "Episode 290 finished. Total reward: 100.0 (100 timesteps)\n",
      "Episode 291 finished. Total reward: 100.0 (100 timesteps)\n",
      "Episode 292 finished. Total reward: 100.0 (100 timesteps)\n",
      "Episode 293 finished. Total reward: 41.0 (41 timesteps)\n",
      "Episode 294 finished. Total reward: 100.0 (100 timesteps)\n",
      "Episode 295 finished. Total reward: 100.0 (100 timesteps)\n",
      "Episode 296 finished. Total reward: 100.0 (100 timesteps)\n",
      "Updating the policy...\n",
      "Updating finished!\n",
      "Episode 297 finished. Total reward: 100.0 (100 timesteps)\n",
      "Episode 298 finished. Total reward: 100.0 (100 timesteps)\n",
      "Episode 299 finished. Total reward: 100.0 (100 timesteps)\n",
      "Episode 300 finished. Total reward: 100.0 (100 timesteps)\n",
      "Episode 301 finished. Total reward: 100.0 (100 timesteps)\n",
      "Episode 302 finished. Total reward: 100.0 (100 timesteps)\n",
      "Episode 303 finished. Total reward: 100.0 (100 timesteps)\n",
      "Episode 304 finished. Total reward: 100.0 (100 timesteps)\n",
      "Episode 305 finished. Total reward: 100.0 (100 timesteps)\n",
      "Episode 306 finished. Total reward: 100.0 (100 timesteps)\n",
      "Episode 307 finished. Total reward: 100.0 (100 timesteps)\n",
      "Episode 308 finished. Total reward: 100.0 (100 timesteps)\n",
      "Episode 309 finished. Total reward: 100.0 (100 timesteps)\n",
      "Episode 310 finished. Total reward: 100.0 (100 timesteps)\n",
      "Episode 311 finished. Total reward: 100.0 (100 timesteps)\n",
      "Episode 312 finished. Total reward: 100.0 (100 timesteps)\n",
      "Episode 313 finished. Total reward: 20.0 (20 timesteps)\n",
      "Episode 314 finished. Total reward: 100.0 (100 timesteps)\n",
      "Episode 315 finished. Total reward: 100.0 (100 timesteps)\n",
      "Episode 316 finished. Total reward: 100.0 (100 timesteps)\n",
      "Episode 317 finished. Total reward: 100.0 (100 timesteps)\n",
      "Updating the policy...\n",
      "Updating finished!\n",
      "Episode 318 finished. Total reward: 100.0 (100 timesteps)\n",
      "Episode 319 finished. Total reward: 100.0 (100 timesteps)\n",
      "Episode 320 finished. Total reward: 100.0 (100 timesteps)\n",
      "Episode 321 finished. Total reward: 100.0 (100 timesteps)\n",
      "Episode 322 finished. Total reward: 100.0 (100 timesteps)\n",
      "Episode 323 finished. Total reward: 100.0 (100 timesteps)\n",
      "Episode 324 finished. Total reward: 100.0 (100 timesteps)\n",
      "Episode 325 finished. Total reward: 100.0 (100 timesteps)\n",
      "Episode 326 finished. Total reward: 100.0 (100 timesteps)\n",
      "Episode 327 finished. Total reward: 100.0 (100 timesteps)\n",
      "Episode 328 finished. Total reward: 100.0 (100 timesteps)\n",
      "Episode 329 finished. Total reward: 100.0 (100 timesteps)\n",
      "Episode 330 finished. Total reward: 100.0 (100 timesteps)\n",
      "Episode 331 finished. Total reward: 100.0 (100 timesteps)\n",
      "Episode 332 finished. Total reward: 100.0 (100 timesteps)\n",
      "Episode 333 finished. Total reward: 100.0 (100 timesteps)\n",
      "Episode 334 finished. Total reward: 100.0 (100 timesteps)\n",
      "Episode 335 finished. Total reward: 100.0 (100 timesteps)\n",
      "Episode 336 finished. Total reward: 100.0 (100 timesteps)\n",
      "Episode 337 finished. Total reward: 100.0 (100 timesteps)\n",
      "Updating the policy...\n",
      "Updating finished!\n",
      "Episode 338 finished. Total reward: 100.0 (100 timesteps)\n",
      "Episode 339 finished. Total reward: 78.0 (78 timesteps)\n",
      "Episode 340 finished. Total reward: 43.0 (43 timesteps)\n",
      "Episode 341 finished. Total reward: 61.0 (61 timesteps)\n",
      "Episode 342 finished. Total reward: 62.0 (62 timesteps)\n",
      "Episode 343 finished. Total reward: 100.0 (100 timesteps)\n",
      "Episode 344 finished. Total reward: 100.0 (100 timesteps)\n",
      "Episode 345 finished. Total reward: 100.0 (100 timesteps)\n",
      "Episode 346 finished. Total reward: 100.0 (100 timesteps)\n",
      "Episode 347 finished. Total reward: 94.0 (94 timesteps)\n",
      "Episode 348 finished. Total reward: 100.0 (100 timesteps)\n",
      "Episode 349 finished. Total reward: 100.0 (100 timesteps)\n",
      "Episode 350 finished. Total reward: 100.0 (100 timesteps)\n",
      "Episode 351 finished. Total reward: 100.0 (100 timesteps)\n",
      "Episode 352 finished. Total reward: 79.0 (79 timesteps)\n",
      "Episode 353 finished. Total reward: 73.0 (73 timesteps)\n",
      "Episode 354 finished. Total reward: 95.0 (95 timesteps)\n",
      "Episode 355 finished. Total reward: 100.0 (100 timesteps)\n",
      "Episode 356 finished. Total reward: 100.0 (100 timesteps)\n",
      "Episode 357 finished. Total reward: 100.0 (100 timesteps)\n",
      "Episode 358 finished. Total reward: 100.0 (100 timesteps)\n",
      "Episode 359 finished. Total reward: 100.0 (100 timesteps)\n",
      "Updating the policy...\n",
      "Updating finished!\n",
      "Episode 360 finished. Total reward: 100.0 (100 timesteps)\n",
      "Episode 361 finished. Total reward: 100.0 (100 timesteps)\n",
      "Episode 362 finished. Total reward: 99.0 (99 timesteps)\n",
      "Episode 363 finished. Total reward: 100.0 (100 timesteps)\n",
      "Episode 364 finished. Total reward: 100.0 (100 timesteps)\n",
      "Episode 365 finished. Total reward: 100.0 (100 timesteps)\n",
      "Episode 366 finished. Total reward: 100.0 (100 timesteps)\n",
      "Episode 367 finished. Total reward: 100.0 (100 timesteps)\n",
      "Episode 368 finished. Total reward: 100.0 (100 timesteps)\n",
      "Episode 369 finished. Total reward: 100.0 (100 timesteps)\n",
      "Episode 370 finished. Total reward: 100.0 (100 timesteps)\n",
      "Episode 371 finished. Total reward: 100.0 (100 timesteps)\n",
      "Episode 372 finished. Total reward: 100.0 (100 timesteps)\n",
      "Episode 373 finished. Total reward: 100.0 (100 timesteps)\n",
      "Episode 374 finished. Total reward: 100.0 (100 timesteps)\n",
      "Episode 375 finished. Total reward: 100.0 (100 timesteps)\n",
      "Episode 376 finished. Total reward: 100.0 (100 timesteps)\n",
      "Episode 377 finished. Total reward: 100.0 (100 timesteps)\n",
      "Episode 378 finished. Total reward: 95.0 (95 timesteps)\n",
      "Episode 379 finished. Total reward: 100.0 (100 timesteps)\n",
      "Updating the policy...\n",
      "Updating finished!\n",
      "Episode 380 finished. Total reward: 100.0 (100 timesteps)\n",
      "Episode 381 finished. Total reward: 100.0 (100 timesteps)\n",
      "Episode 382 finished. Total reward: 91.0 (91 timesteps)\n",
      "Episode 383 finished. Total reward: 100.0 (100 timesteps)\n",
      "Episode 384 finished. Total reward: 100.0 (100 timesteps)\n",
      "Episode 385 finished. Total reward: 100.0 (100 timesteps)\n",
      "Episode 386 finished. Total reward: 100.0 (100 timesteps)\n",
      "Episode 387 finished. Total reward: 100.0 (100 timesteps)\n",
      "Episode 388 finished. Total reward: 100.0 (100 timesteps)\n",
      "Episode 389 finished. Total reward: 96.0 (96 timesteps)\n",
      "Episode 390 finished. Total reward: 100.0 (100 timesteps)\n",
      "Episode 391 finished. Total reward: 100.0 (100 timesteps)\n",
      "Episode 392 finished. Total reward: 100.0 (100 timesteps)\n",
      "Episode 393 finished. Total reward: 100.0 (100 timesteps)\n",
      "Episode 394 finished. Total reward: 100.0 (100 timesteps)\n",
      "Episode 395 finished. Total reward: 100.0 (100 timesteps)\n",
      "Episode 396 finished. Total reward: 100.0 (100 timesteps)\n",
      "Episode 397 finished. Total reward: 100.0 (100 timesteps)\n",
      "Episode 398 finished. Total reward: 100.0 (100 timesteps)\n",
      "Episode 399 finished. Total reward: 100.0 (100 timesteps)\n",
      "Updating the policy...\n",
      "Updating finished!\n",
      "Episode 400 finished. Total reward: 100.0 (100 timesteps)\n",
      "Episode 401 finished. Total reward: 100.0 (100 timesteps)\n",
      "Episode 402 finished. Total reward: 29.0 (29 timesteps)\n",
      "Episode 403 finished. Total reward: 100.0 (100 timesteps)\n",
      "Episode 404 finished. Total reward: 100.0 (100 timesteps)\n",
      "Episode 405 finished. Total reward: 100.0 (100 timesteps)\n",
      "Episode 406 finished. Total reward: 100.0 (100 timesteps)\n",
      "Episode 407 finished. Total reward: 100.0 (100 timesteps)\n",
      "Episode 408 finished. Total reward: 100.0 (100 timesteps)\n",
      "Episode 409 finished. Total reward: 100.0 (100 timesteps)\n",
      "Episode 410 finished. Total reward: 100.0 (100 timesteps)\n",
      "Episode 411 finished. Total reward: 100.0 (100 timesteps)\n",
      "Episode 412 finished. Total reward: 100.0 (100 timesteps)\n",
      "Episode 413 finished. Total reward: 100.0 (100 timesteps)\n",
      "Episode 414 finished. Total reward: 20.0 (20 timesteps)\n",
      "Episode 415 finished. Total reward: 100.0 (100 timesteps)\n",
      "Episode 416 finished. Total reward: 99.0 (99 timesteps)\n",
      "Episode 417 finished. Total reward: 100.0 (100 timesteps)\n",
      "Episode 418 finished. Total reward: 100.0 (100 timesteps)\n",
      "Episode 419 finished. Total reward: 17.0 (17 timesteps)\n",
      "Episode 420 finished. Total reward: 100.0 (100 timesteps)\n",
      "Episode 421 finished. Total reward: 100.0 (100 timesteps)\n",
      "Updating the policy...\n",
      "Updating finished!\n",
      "Episode 422 finished. Total reward: 100.0 (100 timesteps)\n",
      "Episode 423 finished. Total reward: 100.0 (100 timesteps)\n",
      "Episode 424 finished. Total reward: 65.0 (65 timesteps)\n",
      "Episode 425 finished. Total reward: 100.0 (100 timesteps)\n",
      "Episode 426 finished. Total reward: 100.0 (100 timesteps)\n",
      "Episode 427 finished. Total reward: 100.0 (100 timesteps)\n",
      "Episode 428 finished. Total reward: 100.0 (100 timesteps)\n",
      "Episode 429 finished. Total reward: 100.0 (100 timesteps)\n",
      "Episode 430 finished. Total reward: 100.0 (100 timesteps)\n",
      "Episode 431 finished. Total reward: 100.0 (100 timesteps)\n",
      "Episode 432 finished. Total reward: 100.0 (100 timesteps)\n",
      "Episode 433 finished. Total reward: 100.0 (100 timesteps)\n",
      "Episode 434 finished. Total reward: 100.0 (100 timesteps)\n",
      "Episode 435 finished. Total reward: 100.0 (100 timesteps)\n",
      "Episode 436 finished. Total reward: 49.0 (49 timesteps)\n",
      "Episode 437 finished. Total reward: 100.0 (100 timesteps)\n",
      "Episode 438 finished. Total reward: 100.0 (100 timesteps)\n",
      "Episode 439 finished. Total reward: 100.0 (100 timesteps)\n",
      "Episode 440 finished. Total reward: 100.0 (100 timesteps)\n",
      "Episode 441 finished. Total reward: 100.0 (100 timesteps)\n",
      "Episode 442 finished. Total reward: 100.0 (100 timesteps)\n",
      "Episode 443 finished. Total reward: 49.0 (49 timesteps)\n",
      "Updating the policy...\n",
      "Updating finished!\n",
      "Episode 444 finished. Total reward: 100.0 (100 timesteps)\n",
      "Episode 445 finished. Total reward: 100.0 (100 timesteps)\n",
      "Episode 446 finished. Total reward: 100.0 (100 timesteps)\n",
      "Episode 447 finished. Total reward: 100.0 (100 timesteps)\n",
      "Episode 448 finished. Total reward: 100.0 (100 timesteps)\n",
      "Episode 449 finished. Total reward: 100.0 (100 timesteps)\n",
      "Episode 450 finished. Total reward: 100.0 (100 timesteps)\n",
      "Episode 451 finished. Total reward: 100.0 (100 timesteps)\n",
      "Episode 452 finished. Total reward: 100.0 (100 timesteps)\n",
      "Episode 453 finished. Total reward: 100.0 (100 timesteps)\n",
      "Episode 454 finished. Total reward: 100.0 (100 timesteps)\n",
      "Episode 455 finished. Total reward: 100.0 (100 timesteps)\n",
      "Episode 456 finished. Total reward: 100.0 (100 timesteps)\n",
      "Episode 457 finished. Total reward: 100.0 (100 timesteps)\n",
      "Episode 458 finished. Total reward: 100.0 (100 timesteps)\n",
      "Episode 459 finished. Total reward: 100.0 (100 timesteps)\n",
      "Episode 460 finished. Total reward: 100.0 (100 timesteps)\n",
      "Episode 461 finished. Total reward: 100.0 (100 timesteps)\n",
      "Episode 462 finished. Total reward: 100.0 (100 timesteps)\n",
      "Episode 463 finished. Total reward: 100.0 (100 timesteps)\n",
      "Updating the policy...\n",
      "Updating finished!\n",
      "Episode 464 finished. Total reward: 60.0 (60 timesteps)\n",
      "Episode 465 finished. Total reward: 100.0 (100 timesteps)\n",
      "Episode 466 finished. Total reward: 100.0 (100 timesteps)\n",
      "Episode 467 finished. Total reward: 21.0 (21 timesteps)\n",
      "Episode 468 finished. Total reward: 44.0 (44 timesteps)\n",
      "Episode 469 finished. Total reward: 95.0 (95 timesteps)\n",
      "Episode 470 finished. Total reward: 47.0 (47 timesteps)\n",
      "Episode 471 finished. Total reward: 100.0 (100 timesteps)\n",
      "Episode 472 finished. Total reward: 100.0 (100 timesteps)\n",
      "Episode 473 finished. Total reward: 100.0 (100 timesteps)\n",
      "Episode 474 finished. Total reward: 100.0 (100 timesteps)\n",
      "Episode 475 finished. Total reward: 100.0 (100 timesteps)\n",
      "Episode 476 finished. Total reward: 100.0 (100 timesteps)\n",
      "Episode 477 finished. Total reward: 100.0 (100 timesteps)\n",
      "Episode 478 finished. Total reward: 100.0 (100 timesteps)\n",
      "Episode 479 finished. Total reward: 99.0 (99 timesteps)\n",
      "Episode 480 finished. Total reward: 100.0 (100 timesteps)\n",
      "Episode 481 finished. Total reward: 56.0 (56 timesteps)\n",
      "Episode 482 finished. Total reward: 100.0 (100 timesteps)\n",
      "Episode 483 finished. Total reward: 78.0 (78 timesteps)\n",
      "Episode 484 finished. Total reward: 31.0 (31 timesteps)\n",
      "Episode 485 finished. Total reward: 69.0 (69 timesteps)\n",
      "Episode 486 finished. Total reward: 87.0 (87 timesteps)\n",
      "Episode 487 finished. Total reward: 75.0 (75 timesteps)\n",
      "Updating the policy...\n",
      "Updating finished!\n",
      "Episode 488 finished. Total reward: 100.0 (100 timesteps)\n",
      "Episode 489 finished. Total reward: 100.0 (100 timesteps)\n",
      "Episode 490 finished. Total reward: 100.0 (100 timesteps)\n",
      "Episode 491 finished. Total reward: 100.0 (100 timesteps)\n",
      "Episode 492 finished. Total reward: 100.0 (100 timesteps)\n",
      "Episode 493 finished. Total reward: 100.0 (100 timesteps)\n",
      "Episode 494 finished. Total reward: 100.0 (100 timesteps)\n",
      "Episode 495 finished. Total reward: 100.0 (100 timesteps)\n",
      "Episode 496 finished. Total reward: 100.0 (100 timesteps)\n",
      "Episode 497 finished. Total reward: 100.0 (100 timesteps)\n",
      "Episode 498 finished. Total reward: 100.0 (100 timesteps)\n",
      "Episode 499 finished. Total reward: 100.0 (100 timesteps)\n",
      "Episode 500 finished. Total reward: 100.0 (100 timesteps)\n",
      "Model saved to /notebooks/rl2023/ex1/results/model/CartPole-v1_params.pt\n",
      "------Training finished.------\n",
      "Numpy/Torch/Random Seed:  726\n",
      "Loading model from /notebooks/rl2023/ex1/results/model/CartPole-v1_params.pt ...\n",
      "Testing...\n"
     ]
    },
    {
     "name": "stderr",
     "output_type": "stream",
     "text": [
      "/opt/software/lib/python3.10/site-packages/gymnasium/wrappers/record_video.py:94: UserWarning: \u001b[33mWARN: Overwriting existing videos at /notebooks/rl2023/ex1/results/video/CartPole-v1/test folder (try specifying a different `video_folder` for the `RecordVideo` wrapper if this is not desired)\u001b[0m\n",
      "  logger.warn(\n"
     ]
    },
    {
     "name": "stdout",
     "output_type": "stream",
     "text": [
      "Test ep reward: 131.0 seed: 923\n",
      "Test ep reward: 127.0 seed: 78\n",
      "Test ep reward: 135.0 seed: 135\n",
      "Test ep reward: 125.0 seed: 463\n",
      "Test ep reward: 125.0 seed: 810\n",
      "Test ep reward: 122.0 seed: 833\n",
      "Test ep reward: 119.0 seed: 161\n",
      "Test ep reward: 129.0 seed: 21\n",
      "Test ep reward: 132.0 seed: 748\n",
      "Test ep reward: 127.0 seed: 180\n",
      "Average test reward: 127.2 episode length: 127.2\n",
      "Numpy/Torch/Random Seed:  2023\n",
      "Loading model from /notebooks/rl2023/ex1/results/model/CartPole-v1_params.pt ...\n",
      "Testing...\n",
      "Test ep reward: 112.0 seed: 2023\n",
      "Average test reward: 112.0 episode length: 112.0\n",
      "Numpy/Torch/Random Seed:  856\n"
     ]
    },
    {
     "data": {
      "text/html": [
       "Changes to your `wandb` environment variables will be ignored because your `wandb` session has already started. For more information on how to modify your settings with `wandb.init()` arguments, please refer to <a href='https://wandb.me/wandb-init' target=\"_blank\">the W&B docs</a>."
      ],
      "text/plain": [
       "<IPython.core.display.HTML object>"
      ]
     },
     "metadata": {},
     "output_type": "display_data"
    },
    {
     "data": {
      "text/html": [
       "Finishing last run (ID:fgdutfcp) before initializing another..."
      ],
      "text/plain": [
       "<IPython.core.display.HTML object>"
      ]
     },
     "metadata": {},
     "output_type": "display_data"
    },
    {
     "data": {
      "text/html": [
       "Waiting for W&B process to finish... <strong style=\"color:green\">(success).</strong>"
      ],
      "text/plain": [
       "<IPython.core.display.HTML object>"
      ]
     },
     "metadata": {},
     "output_type": "display_data"
    },
    {
     "data": {
      "application/vnd.jupyter.widget-view+json": {
       "model_id": "20983f9516c1485084236fd770d76298",
       "version_major": 2,
       "version_minor": 0
      },
      "text/plain": [
       "VBox(children=(Label(value='0.004 MB of 0.004 MB uploaded (0.000 MB deduped)\\r'), FloatProgress(value=1.0, max…"
      ]
     },
     "metadata": {},
     "output_type": "display_data"
    },
    {
     "data": {
      "text/html": [
       "<style>\n",
       "    table.wandb td:nth-child(1) { padding: 0 10px; text-align: left ; width: auto;} td:nth-child(2) {text-align: left ; width: 100%}\n",
       "    .wandb-row { display: flex; flex-direction: row; flex-wrap: wrap; justify-content: flex-start; width: 100% }\n",
       "    .wandb-col { display: flex; flex-direction: column; flex-basis: 100%; flex: 1; padding: 10px; }\n",
       "    </style>\n",
       "<div class=\"wandb-row\"><div class=\"wandb-col\"><h3>Run history:</h3><br/><table class=\"wandb\"><tr><td>ep_reward</td><td>▂▁▅▂▁▁▁▁▂▁▂▃▄▆▃▂▂██▂▂████████████▂████▆█</td></tr><tr><td>episodes</td><td>▁▁▁▂▂▂▂▂▂▃▃▃▃▃▄▄▄▄▄▄▅▅▅▅▅▅▆▆▆▆▆▇▇▇▇▇▇███</td></tr><tr><td>num_updates</td><td>▁▁▁▁▁▁▁▁▁▁▁▁▁▁▁▁▁▁▁▁▁▁▁▁▁▁▁▁▁▁▁▁▁▁▁▁▁▁▁▁</td></tr><tr><td>timesteps</td><td>▂▁▅▂▁▁▁▁▂▁▂▃▄▆▃▂▂██▂▂████████████▂████▆█</td></tr></table><br/></div><div class=\"wandb-col\"><h3>Run summary:</h3><br/><table class=\"wandb\"><tr><td>ep_reward</td><td>100.0</td></tr><tr><td>episodes</td><td>500</td></tr><tr><td>num_updates</td><td>0</td></tr><tr><td>timesteps</td><td>100</td></tr></table><br/></div></div>"
      ],
      "text/plain": [
       "<IPython.core.display.HTML object>"
      ]
     },
     "metadata": {},
     "output_type": "display_data"
    },
    {
     "data": {
      "text/html": [
       " View run <strong style=\"color:#cdcd00\">ex1-CartPole-v1-None-1694944537</strong> at: <a href='https://wandb.ai/xinyu-zhang/rl_aalto/runs/fgdutfcp' target=\"_blank\">https://wandb.ai/xinyu-zhang/rl_aalto/runs/fgdutfcp</a><br/>Synced 6 W&B file(s), 0 media file(s), 0 artifact file(s) and 0 other file(s)"
      ],
      "text/plain": [
       "<IPython.core.display.HTML object>"
      ]
     },
     "metadata": {},
     "output_type": "display_data"
    },
    {
     "data": {
      "text/html": [
       "Find logs at: <code>./wandb/run-20230917_125537-fgdutfcp/logs</code>"
      ],
      "text/plain": [
       "<IPython.core.display.HTML object>"
      ]
     },
     "metadata": {},
     "output_type": "display_data"
    },
    {
     "data": {
      "text/html": [
       "Successfully finished last run (ID:fgdutfcp). Initializing new run:<br/>"
      ],
      "text/plain": [
       "<IPython.core.display.HTML object>"
      ]
     },
     "metadata": {},
     "output_type": "display_data"
    },
    {
     "data": {
      "application/vnd.jupyter.widget-view+json": {
       "model_id": "0c050f0a25cd474b89d8636c1227704c",
       "version_major": 2,
       "version_minor": 0
      },
      "text/plain": [
       "VBox(children=(Label(value='Waiting for wandb.init()...\\r'), FloatProgress(value=0.01666946423550447, max=1.0)…"
      ]
     },
     "metadata": {},
     "output_type": "display_data"
    },
    {
     "data": {
      "text/html": [
       "wandb version 0.15.10 is available!  To upgrade, please run:\n",
       " $ pip install wandb --upgrade"
      ],
      "text/plain": [
       "<IPython.core.display.HTML object>"
      ]
     },
     "metadata": {},
     "output_type": "display_data"
    },
    {
     "data": {
      "text/html": [
       "Tracking run with wandb version 0.15.9"
      ],
      "text/plain": [
       "<IPython.core.display.HTML object>"
      ]
     },
     "metadata": {},
     "output_type": "display_data"
    },
    {
     "data": {
      "text/html": [
       "Run data is saved locally in <code>/notebooks/rl2023/ex1/wandb/run-20230917_125946-dmj8ioxr</code>"
      ],
      "text/plain": [
       "<IPython.core.display.HTML object>"
      ]
     },
     "metadata": {},
     "output_type": "display_data"
    },
    {
     "data": {
      "text/html": [
       "Syncing run <strong><a href='https://wandb.ai/xinyu-zhang/rl_aalto/runs/dmj8ioxr' target=\"_blank\">ex1-CartPole-v1-None-1694944786</a></strong> to <a href='https://wandb.ai/xinyu-zhang/rl_aalto' target=\"_blank\">Weights & Biases</a> (<a href='https://wandb.me/run' target=\"_blank\">docs</a>)<br/>"
      ],
      "text/plain": [
       "<IPython.core.display.HTML object>"
      ]
     },
     "metadata": {},
     "output_type": "display_data"
    },
    {
     "data": {
      "text/html": [
       " View project at <a href='https://wandb.ai/xinyu-zhang/rl_aalto' target=\"_blank\">https://wandb.ai/xinyu-zhang/rl_aalto</a>"
      ],
      "text/plain": [
       "<IPython.core.display.HTML object>"
      ]
     },
     "metadata": {},
     "output_type": "display_data"
    },
    {
     "data": {
      "text/html": [
       " View run at <a href='https://wandb.ai/xinyu-zhang/rl_aalto/runs/dmj8ioxr' target=\"_blank\">https://wandb.ai/xinyu-zhang/rl_aalto/runs/dmj8ioxr</a>"
      ],
      "text/plain": [
       "<IPython.core.display.HTML object>"
      ]
     },
     "metadata": {},
     "output_type": "display_data"
    },
    {
     "name": "stdout",
     "output_type": "stream",
     "text": [
      "Configuration Settings: {'exp_name': 'ex1', 'seed': None, 'env_name': 'CartPole-v1', 'max_episode_steps': 100, 'train_episodes': 500, 'batch_size': 64, 'min_update_samples': 2000, 'testing': False, 'model_path': 'default', 'save_video': True, 'save_model': True, 'save_logging': True, 'silent': False, 'use_wandb': True, 'run_suffix': 0}\n",
      "Training device: cpu\n",
      "Observation space dimensions: 4\n",
      "Action space dimensions: 2\n",
      "\n",
      "Episode 0 finished. Total reward: 18.0 (18 timesteps)\n",
      "Episode 1 finished. Total reward: 22.0 (22 timesteps)\n",
      "Episode 2 finished. Total reward: 8.0 (8 timesteps)\n",
      "Episode 3 finished. Total reward: 48.0 (48 timesteps)\n",
      "Episode 4 finished. Total reward: 12.0 (12 timesteps)\n",
      "Episode 5 finished. Total reward: 18.0 (18 timesteps)\n",
      "Episode 6 finished. Total reward: 34.0 (34 timesteps)\n",
      "Episode 7 finished. Total reward: 15.0 (15 timesteps)\n",
      "Episode 8 finished. Total reward: 46.0 (46 timesteps)\n",
      "Episode 9 finished. Total reward: 25.0 (25 timesteps)\n",
      "Episode 10 finished. Total reward: 20.0 (20 timesteps)\n",
      "Episode 11 finished. Total reward: 14.0 (14 timesteps)\n",
      "Episode 12 finished. Total reward: 15.0 (15 timesteps)\n",
      "Episode 13 finished. Total reward: 38.0 (38 timesteps)\n",
      "Episode 14 finished. Total reward: 29.0 (29 timesteps)\n",
      "Episode 15 finished. Total reward: 24.0 (24 timesteps)\n",
      "Episode 16 finished. Total reward: 26.0 (26 timesteps)\n",
      "Episode 17 finished. Total reward: 19.0 (19 timesteps)\n",
      "Episode 18 finished. Total reward: 34.0 (34 timesteps)\n",
      "Episode 19 finished. Total reward: 17.0 (17 timesteps)\n",
      "Episode 20 finished. Total reward: 10.0 (10 timesteps)\n",
      "Episode 21 finished. Total reward: 25.0 (25 timesteps)\n",
      "Episode 22 finished. Total reward: 14.0 (14 timesteps)\n",
      "Episode 23 finished. Total reward: 13.0 (13 timesteps)\n",
      "Episode 24 finished. Total reward: 15.0 (15 timesteps)\n",
      "Episode 25 finished. Total reward: 24.0 (24 timesteps)\n",
      "Episode 26 finished. Total reward: 34.0 (34 timesteps)\n",
      "Episode 27 finished. Total reward: 82.0 (82 timesteps)\n",
      "Episode 28 finished. Total reward: 27.0 (27 timesteps)\n",
      "Episode 29 finished. Total reward: 52.0 (52 timesteps)\n",
      "Episode 30 finished. Total reward: 17.0 (17 timesteps)\n",
      "Episode 31 finished. Total reward: 14.0 (14 timesteps)\n",
      "Episode 32 finished. Total reward: 10.0 (10 timesteps)\n",
      "Episode 33 finished. Total reward: 15.0 (15 timesteps)\n",
      "Episode 34 finished. Total reward: 23.0 (23 timesteps)\n",
      "Episode 35 finished. Total reward: 32.0 (32 timesteps)\n",
      "Episode 36 finished. Total reward: 18.0 (18 timesteps)\n",
      "Episode 37 finished. Total reward: 18.0 (18 timesteps)\n",
      "Episode 38 finished. Total reward: 10.0 (10 timesteps)\n",
      "Episode 39 finished. Total reward: 23.0 (23 timesteps)\n",
      "Episode 40 finished. Total reward: 30.0 (30 timesteps)\n",
      "Episode 41 finished. Total reward: 12.0 (12 timesteps)\n",
      "Episode 42 finished. Total reward: 23.0 (23 timesteps)\n",
      "Episode 43 finished. Total reward: 20.0 (20 timesteps)\n",
      "Episode 44 finished. Total reward: 15.0 (15 timesteps)\n",
      "Episode 45 finished. Total reward: 21.0 (21 timesteps)\n",
      "Episode 46 finished. Total reward: 16.0 (16 timesteps)\n",
      "Episode 47 finished. Total reward: 20.0 (20 timesteps)\n",
      "Episode 48 finished. Total reward: 33.0 (33 timesteps)\n",
      "Episode 49 finished. Total reward: 27.0 (27 timesteps)\n",
      "Episode 50 finished. Total reward: 16.0 (16 timesteps)\n",
      "Episode 51 finished. Total reward: 22.0 (22 timesteps)\n",
      "Episode 52 finished. Total reward: 16.0 (16 timesteps)\n",
      "Episode 53 finished. Total reward: 24.0 (24 timesteps)\n",
      "Episode 54 finished. Total reward: 21.0 (21 timesteps)\n",
      "Episode 55 finished. Total reward: 22.0 (22 timesteps)\n",
      "Episode 56 finished. Total reward: 28.0 (28 timesteps)\n",
      "Episode 57 finished. Total reward: 11.0 (11 timesteps)\n",
      "Episode 58 finished. Total reward: 17.0 (17 timesteps)\n",
      "Episode 59 finished. Total reward: 24.0 (24 timesteps)\n",
      "Episode 60 finished. Total reward: 22.0 (22 timesteps)\n",
      "Episode 61 finished. Total reward: 40.0 (40 timesteps)\n",
      "Episode 62 finished. Total reward: 48.0 (48 timesteps)\n",
      "Episode 63 finished. Total reward: 18.0 (18 timesteps)\n",
      "Episode 64 finished. Total reward: 36.0 (36 timesteps)\n",
      "Episode 65 finished. Total reward: 11.0 (11 timesteps)\n",
      "Episode 66 finished. Total reward: 24.0 (24 timesteps)\n",
      "Episode 67 finished. Total reward: 43.0 (43 timesteps)\n",
      "Episode 68 finished. Total reward: 26.0 (26 timesteps)\n",
      "Episode 69 finished. Total reward: 20.0 (20 timesteps)\n",
      "Episode 70 finished. Total reward: 14.0 (14 timesteps)\n",
      "Episode 71 finished. Total reward: 20.0 (20 timesteps)\n",
      "Episode 72 finished. Total reward: 17.0 (17 timesteps)\n",
      "Episode 73 finished. Total reward: 11.0 (11 timesteps)\n",
      "Episode 74 finished. Total reward: 29.0 (29 timesteps)\n",
      "Episode 75 finished. Total reward: 13.0 (13 timesteps)\n",
      "Episode 76 finished. Total reward: 15.0 (15 timesteps)\n",
      "Episode 77 finished. Total reward: 13.0 (13 timesteps)\n",
      "Episode 78 finished. Total reward: 16.0 (16 timesteps)\n",
      "Episode 79 finished. Total reward: 12.0 (12 timesteps)\n",
      "Episode 80 finished. Total reward: 30.0 (30 timesteps)\n",
      "Episode 81 finished. Total reward: 31.0 (31 timesteps)\n",
      "Episode 82 finished. Total reward: 16.0 (16 timesteps)\n",
      "Episode 83 finished. Total reward: 17.0 (17 timesteps)\n",
      "Episode 84 finished. Total reward: 14.0 (14 timesteps)\n",
      "Episode 85 finished. Total reward: 21.0 (21 timesteps)\n",
      "Episode 86 finished. Total reward: 32.0 (32 timesteps)\n",
      "Episode 87 finished. Total reward: 12.0 (12 timesteps)\n",
      "Updating the policy...\n",
      "Updating finished!\n",
      "Episode 88 finished. Total reward: 20.0 (20 timesteps)\n",
      "Episode 89 finished. Total reward: 93.0 (93 timesteps)\n",
      "Episode 90 finished. Total reward: 22.0 (22 timesteps)\n",
      "Episode 91 finished. Total reward: 56.0 (56 timesteps)\n",
      "Episode 92 finished. Total reward: 44.0 (44 timesteps)\n",
      "Episode 93 finished. Total reward: 12.0 (12 timesteps)\n",
      "Episode 94 finished. Total reward: 32.0 (32 timesteps)\n",
      "Episode 95 finished. Total reward: 15.0 (15 timesteps)\n",
      "Episode 96 finished. Total reward: 12.0 (12 timesteps)\n",
      "Episode 97 finished. Total reward: 42.0 (42 timesteps)\n",
      "Episode 98 finished. Total reward: 27.0 (27 timesteps)\n",
      "Episode 99 finished. Total reward: 22.0 (22 timesteps)\n",
      "Episode 100 finished. Total reward: 14.0 (14 timesteps)\n",
      "Episode 101 finished. Total reward: 10.0 (10 timesteps)\n",
      "Episode 102 finished. Total reward: 24.0 (24 timesteps)\n",
      "Episode 103 finished. Total reward: 55.0 (55 timesteps)\n",
      "Episode 104 finished. Total reward: 12.0 (12 timesteps)\n",
      "Episode 105 finished. Total reward: 22.0 (22 timesteps)\n",
      "Episode 106 finished. Total reward: 23.0 (23 timesteps)\n",
      "Episode 107 finished. Total reward: 31.0 (31 timesteps)\n",
      "Episode 108 finished. Total reward: 70.0 (70 timesteps)\n",
      "Episode 109 finished. Total reward: 9.0 (9 timesteps)\n",
      "Episode 110 finished. Total reward: 65.0 (65 timesteps)\n",
      "Episode 111 finished. Total reward: 17.0 (17 timesteps)\n",
      "Episode 112 finished. Total reward: 24.0 (24 timesteps)\n",
      "Episode 113 finished. Total reward: 19.0 (19 timesteps)\n",
      "Episode 114 finished. Total reward: 30.0 (30 timesteps)\n",
      "Episode 115 finished. Total reward: 12.0 (12 timesteps)\n",
      "Episode 116 finished. Total reward: 11.0 (11 timesteps)\n",
      "Episode 117 finished. Total reward: 19.0 (19 timesteps)\n",
      "Episode 118 finished. Total reward: 20.0 (20 timesteps)\n",
      "Episode 119 finished. Total reward: 57.0 (57 timesteps)\n",
      "Episode 120 finished. Total reward: 18.0 (18 timesteps)\n",
      "Episode 121 finished. Total reward: 14.0 (14 timesteps)\n",
      "Episode 122 finished. Total reward: 31.0 (31 timesteps)\n",
      "Episode 123 finished. Total reward: 19.0 (19 timesteps)\n",
      "Episode 124 finished. Total reward: 21.0 (21 timesteps)\n",
      "Episode 125 finished. Total reward: 10.0 (10 timesteps)\n",
      "Episode 126 finished. Total reward: 28.0 (28 timesteps)\n",
      "Episode 127 finished. Total reward: 12.0 (12 timesteps)\n",
      "Episode 128 finished. Total reward: 63.0 (63 timesteps)\n",
      "Episode 129 finished. Total reward: 70.0 (70 timesteps)\n",
      "Episode 130 finished. Total reward: 19.0 (19 timesteps)\n",
      "Episode 131 finished. Total reward: 31.0 (31 timesteps)\n",
      "Episode 132 finished. Total reward: 20.0 (20 timesteps)\n",
      "Episode 133 finished. Total reward: 21.0 (21 timesteps)\n",
      "Episode 134 finished. Total reward: 18.0 (18 timesteps)\n",
      "Episode 135 finished. Total reward: 25.0 (25 timesteps)\n",
      "Episode 136 finished. Total reward: 96.0 (96 timesteps)\n",
      "Episode 137 finished. Total reward: 39.0 (39 timesteps)\n",
      "Episode 138 finished. Total reward: 58.0 (58 timesteps)\n",
      "Episode 139 finished. Total reward: 15.0 (15 timesteps)\n",
      "Episode 140 finished. Total reward: 25.0 (25 timesteps)\n",
      "Episode 141 finished. Total reward: 21.0 (21 timesteps)\n",
      "Episode 142 finished. Total reward: 16.0 (16 timesteps)\n",
      "Episode 143 finished. Total reward: 33.0 (33 timesteps)\n",
      "Episode 144 finished. Total reward: 27.0 (27 timesteps)\n",
      "Episode 145 finished. Total reward: 21.0 (21 timesteps)\n",
      "Episode 146 finished. Total reward: 31.0 (31 timesteps)\n",
      "Episode 147 finished. Total reward: 25.0 (25 timesteps)\n",
      "Episode 148 finished. Total reward: 19.0 (19 timesteps)\n",
      "Episode 149 finished. Total reward: 48.0 (48 timesteps)\n",
      "Episode 150 finished. Total reward: 18.0 (18 timesteps)\n",
      "Episode 151 finished. Total reward: 63.0 (63 timesteps)\n",
      "Episode 152 finished. Total reward: 18.0 (18 timesteps)\n",
      "Updating the policy...\n",
      "Updating finished!\n",
      "Episode 153 finished. Total reward: 100.0 (100 timesteps)\n",
      "Episode 154 finished. Total reward: 28.0 (28 timesteps)\n",
      "Episode 155 finished. Total reward: 97.0 (97 timesteps)\n",
      "Episode 156 finished. Total reward: 68.0 (68 timesteps)\n",
      "Episode 157 finished. Total reward: 17.0 (17 timesteps)\n",
      "Episode 158 finished. Total reward: 100.0 (100 timesteps)\n",
      "Episode 159 finished. Total reward: 47.0 (47 timesteps)\n",
      "Episode 160 finished. Total reward: 37.0 (37 timesteps)\n",
      "Episode 161 finished. Total reward: 32.0 (32 timesteps)\n",
      "Episode 162 finished. Total reward: 100.0 (100 timesteps)\n",
      "Episode 163 finished. Total reward: 31.0 (31 timesteps)\n",
      "Episode 164 finished. Total reward: 18.0 (18 timesteps)\n",
      "Episode 165 finished. Total reward: 13.0 (13 timesteps)\n",
      "Episode 166 finished. Total reward: 16.0 (16 timesteps)\n",
      "Episode 167 finished. Total reward: 53.0 (53 timesteps)\n",
      "Episode 168 finished. Total reward: 53.0 (53 timesteps)\n",
      "Episode 169 finished. Total reward: 17.0 (17 timesteps)\n",
      "Episode 170 finished. Total reward: 100.0 (100 timesteps)\n",
      "Episode 171 finished. Total reward: 70.0 (70 timesteps)\n",
      "Episode 172 finished. Total reward: 18.0 (18 timesteps)\n",
      "Episode 173 finished. Total reward: 37.0 (37 timesteps)\n",
      "Episode 174 finished. Total reward: 45.0 (45 timesteps)\n",
      "Episode 175 finished. Total reward: 38.0 (38 timesteps)\n",
      "Episode 176 finished. Total reward: 77.0 (77 timesteps)\n",
      "Episode 177 finished. Total reward: 24.0 (24 timesteps)\n",
      "Episode 178 finished. Total reward: 10.0 (10 timesteps)\n",
      "Episode 179 finished. Total reward: 65.0 (65 timesteps)\n",
      "Episode 180 finished. Total reward: 85.0 (85 timesteps)\n",
      "Episode 181 finished. Total reward: 100.0 (100 timesteps)\n",
      "Episode 182 finished. Total reward: 100.0 (100 timesteps)\n",
      "Episode 183 finished. Total reward: 52.0 (52 timesteps)\n",
      "Episode 184 finished. Total reward: 20.0 (20 timesteps)\n",
      "Episode 185 finished. Total reward: 79.0 (79 timesteps)\n",
      "Episode 186 finished. Total reward: 16.0 (16 timesteps)\n",
      "Episode 187 finished. Total reward: 27.0 (27 timesteps)\n",
      "Episode 188 finished. Total reward: 100.0 (100 timesteps)\n",
      "Episode 189 finished. Total reward: 100.0 (100 timesteps)\n",
      "Episode 190 finished. Total reward: 79.0 (79 timesteps)\n",
      "Updating the policy...\n",
      "Updating finished!\n",
      "Episode 191 finished. Total reward: 100.0 (100 timesteps)\n",
      "Episode 192 finished. Total reward: 100.0 (100 timesteps)\n",
      "Episode 193 finished. Total reward: 48.0 (48 timesteps)\n",
      "Episode 194 finished. Total reward: 39.0 (39 timesteps)\n",
      "Episode 195 finished. Total reward: 100.0 (100 timesteps)\n",
      "Episode 196 finished. Total reward: 100.0 (100 timesteps)\n",
      "Episode 197 finished. Total reward: 10.0 (10 timesteps)\n",
      "Episode 198 finished. Total reward: 100.0 (100 timesteps)\n",
      "Episode 199 finished. Total reward: 100.0 (100 timesteps)\n",
      "Episode 200 finished. Total reward: 100.0 (100 timesteps)\n",
      "Episode 201 finished. Total reward: 40.0 (40 timesteps)\n",
      "Episode 202 finished. Total reward: 100.0 (100 timesteps)\n",
      "Episode 203 finished. Total reward: 100.0 (100 timesteps)\n",
      "Episode 204 finished. Total reward: 25.0 (25 timesteps)\n",
      "Episode 205 finished. Total reward: 51.0 (51 timesteps)\n",
      "Episode 206 finished. Total reward: 84.0 (84 timesteps)\n",
      "Episode 207 finished. Total reward: 100.0 (100 timesteps)\n",
      "Episode 208 finished. Total reward: 47.0 (47 timesteps)\n",
      "Episode 209 finished. Total reward: 91.0 (91 timesteps)\n",
      "Episode 210 finished. Total reward: 54.0 (54 timesteps)\n",
      "Episode 211 finished. Total reward: 100.0 (100 timesteps)\n",
      "Episode 212 finished. Total reward: 23.0 (23 timesteps)\n",
      "Episode 213 finished. Total reward: 100.0 (100 timesteps)\n",
      "Episode 214 finished. Total reward: 23.0 (23 timesteps)\n",
      "Episode 215 finished. Total reward: 100.0 (100 timesteps)\n",
      "Episode 216 finished. Total reward: 21.0 (21 timesteps)\n",
      "Episode 217 finished. Total reward: 94.0 (94 timesteps)\n",
      "Episode 218 finished. Total reward: 51.0 (51 timesteps)\n",
      "Updating the policy...\n",
      "Updating finished!\n",
      "Episode 219 finished. Total reward: 100.0 (100 timesteps)\n",
      "Episode 220 finished. Total reward: 81.0 (81 timesteps)\n",
      "Episode 221 finished. Total reward: 52.0 (52 timesteps)\n",
      "Episode 222 finished. Total reward: 36.0 (36 timesteps)\n",
      "Episode 223 finished. Total reward: 100.0 (100 timesteps)\n",
      "Episode 224 finished. Total reward: 97.0 (97 timesteps)\n",
      "Episode 225 finished. Total reward: 100.0 (100 timesteps)\n",
      "Episode 226 finished. Total reward: 78.0 (78 timesteps)\n",
      "Episode 227 finished. Total reward: 100.0 (100 timesteps)\n",
      "Episode 228 finished. Total reward: 100.0 (100 timesteps)\n",
      "Episode 229 finished. Total reward: 100.0 (100 timesteps)\n",
      "Episode 230 finished. Total reward: 100.0 (100 timesteps)\n",
      "Episode 231 finished. Total reward: 61.0 (61 timesteps)\n",
      "Episode 232 finished. Total reward: 100.0 (100 timesteps)\n",
      "Episode 233 finished. Total reward: 18.0 (18 timesteps)\n",
      "Episode 234 finished. Total reward: 100.0 (100 timesteps)\n",
      "Episode 235 finished. Total reward: 100.0 (100 timesteps)\n",
      "Episode 236 finished. Total reward: 22.0 (22 timesteps)\n",
      "Episode 237 finished. Total reward: 100.0 (100 timesteps)\n",
      "Episode 238 finished. Total reward: 71.0 (71 timesteps)\n",
      "Episode 239 finished. Total reward: 100.0 (100 timesteps)\n",
      "Episode 240 finished. Total reward: 100.0 (100 timesteps)\n",
      "Episode 241 finished. Total reward: 100.0 (100 timesteps)\n",
      "Updating the policy...\n",
      "Updating finished!\n",
      "Episode 242 finished. Total reward: 100.0 (100 timesteps)\n",
      "Episode 243 finished. Total reward: 100.0 (100 timesteps)\n",
      "Episode 244 finished. Total reward: 100.0 (100 timesteps)\n",
      "Episode 245 finished. Total reward: 95.0 (95 timesteps)\n",
      "Episode 246 finished. Total reward: 100.0 (100 timesteps)\n",
      "Episode 247 finished. Total reward: 100.0 (100 timesteps)\n",
      "Episode 248 finished. Total reward: 100.0 (100 timesteps)\n",
      "Episode 249 finished. Total reward: 100.0 (100 timesteps)\n",
      "Episode 250 finished. Total reward: 100.0 (100 timesteps)\n",
      "Episode 251 finished. Total reward: 100.0 (100 timesteps)\n",
      "Episode 252 finished. Total reward: 87.0 (87 timesteps)\n",
      "Episode 253 finished. Total reward: 81.0 (81 timesteps)\n",
      "Episode 254 finished. Total reward: 100.0 (100 timesteps)\n",
      "Episode 255 finished. Total reward: 100.0 (100 timesteps)\n",
      "Episode 256 finished. Total reward: 100.0 (100 timesteps)\n",
      "Episode 257 finished. Total reward: 100.0 (100 timesteps)\n",
      "Episode 258 finished. Total reward: 100.0 (100 timesteps)\n",
      "Episode 259 finished. Total reward: 100.0 (100 timesteps)\n",
      "Episode 260 finished. Total reward: 82.0 (82 timesteps)\n",
      "Episode 261 finished. Total reward: 44.0 (44 timesteps)\n",
      "Episode 262 finished. Total reward: 100.0 (100 timesteps)\n",
      "Updating the policy...\n",
      "Updating finished!\n",
      "Episode 263 finished. Total reward: 100.0 (100 timesteps)\n",
      "Episode 264 finished. Total reward: 100.0 (100 timesteps)\n",
      "Episode 265 finished. Total reward: 100.0 (100 timesteps)\n",
      "Episode 266 finished. Total reward: 100.0 (100 timesteps)\n",
      "Episode 267 finished. Total reward: 84.0 (84 timesteps)\n",
      "Episode 268 finished. Total reward: 45.0 (45 timesteps)\n",
      "Episode 269 finished. Total reward: 100.0 (100 timesteps)\n",
      "Episode 270 finished. Total reward: 100.0 (100 timesteps)\n",
      "Episode 271 finished. Total reward: 100.0 (100 timesteps)\n",
      "Episode 272 finished. Total reward: 100.0 (100 timesteps)\n",
      "Episode 273 finished. Total reward: 60.0 (60 timesteps)\n",
      "Episode 274 finished. Total reward: 100.0 (100 timesteps)\n",
      "Episode 275 finished. Total reward: 100.0 (100 timesteps)\n",
      "Episode 276 finished. Total reward: 52.0 (52 timesteps)\n",
      "Episode 277 finished. Total reward: 100.0 (100 timesteps)\n",
      "Episode 278 finished. Total reward: 100.0 (100 timesteps)\n",
      "Episode 279 finished. Total reward: 100.0 (100 timesteps)\n",
      "Episode 280 finished. Total reward: 100.0 (100 timesteps)\n",
      "Episode 281 finished. Total reward: 100.0 (100 timesteps)\n",
      "Episode 282 finished. Total reward: 100.0 (100 timesteps)\n",
      "Episode 283 finished. Total reward: 100.0 (100 timesteps)\n",
      "Episode 284 finished. Total reward: 100.0 (100 timesteps)\n",
      "Updating the policy...\n",
      "Updating finished!\n",
      "Episode 285 finished. Total reward: 100.0 (100 timesteps)\n",
      "Episode 286 finished. Total reward: 100.0 (100 timesteps)\n",
      "Episode 287 finished. Total reward: 100.0 (100 timesteps)\n",
      "Episode 288 finished. Total reward: 100.0 (100 timesteps)\n",
      "Episode 289 finished. Total reward: 100.0 (100 timesteps)\n",
      "Episode 290 finished. Total reward: 100.0 (100 timesteps)\n",
      "Episode 291 finished. Total reward: 100.0 (100 timesteps)\n",
      "Episode 292 finished. Total reward: 100.0 (100 timesteps)\n",
      "Episode 293 finished. Total reward: 100.0 (100 timesteps)\n",
      "Episode 294 finished. Total reward: 100.0 (100 timesteps)\n",
      "Episode 295 finished. Total reward: 100.0 (100 timesteps)\n",
      "Episode 296 finished. Total reward: 100.0 (100 timesteps)\n",
      "Episode 297 finished. Total reward: 100.0 (100 timesteps)\n",
      "Episode 298 finished. Total reward: 100.0 (100 timesteps)\n",
      "Episode 299 finished. Total reward: 100.0 (100 timesteps)\n",
      "Episode 300 finished. Total reward: 100.0 (100 timesteps)\n",
      "Episode 301 finished. Total reward: 100.0 (100 timesteps)\n",
      "Episode 302 finished. Total reward: 100.0 (100 timesteps)\n",
      "Episode 303 finished. Total reward: 100.0 (100 timesteps)\n",
      "Episode 304 finished. Total reward: 100.0 (100 timesteps)\n",
      "Updating the policy...\n",
      "Updating finished!\n",
      "Episode 305 finished. Total reward: 100.0 (100 timesteps)\n",
      "Episode 306 finished. Total reward: 100.0 (100 timesteps)\n",
      "Episode 307 finished. Total reward: 100.0 (100 timesteps)\n",
      "Episode 308 finished. Total reward: 100.0 (100 timesteps)\n",
      "Episode 309 finished. Total reward: 100.0 (100 timesteps)\n",
      "Episode 310 finished. Total reward: 100.0 (100 timesteps)\n",
      "Episode 311 finished. Total reward: 100.0 (100 timesteps)\n",
      "Episode 312 finished. Total reward: 100.0 (100 timesteps)\n",
      "Episode 313 finished. Total reward: 100.0 (100 timesteps)\n",
      "Episode 314 finished. Total reward: 100.0 (100 timesteps)\n",
      "Episode 315 finished. Total reward: 100.0 (100 timesteps)\n",
      "Episode 316 finished. Total reward: 100.0 (100 timesteps)\n",
      "Episode 317 finished. Total reward: 100.0 (100 timesteps)\n",
      "Episode 318 finished. Total reward: 100.0 (100 timesteps)\n",
      "Episode 319 finished. Total reward: 100.0 (100 timesteps)\n",
      "Episode 320 finished. Total reward: 58.0 (58 timesteps)\n",
      "Episode 321 finished. Total reward: 100.0 (100 timesteps)\n",
      "Episode 322 finished. Total reward: 100.0 (100 timesteps)\n",
      "Episode 323 finished. Total reward: 100.0 (100 timesteps)\n",
      "Episode 324 finished. Total reward: 100.0 (100 timesteps)\n",
      "Episode 325 finished. Total reward: 100.0 (100 timesteps)\n",
      "Updating the policy...\n",
      "Updating finished!\n",
      "Episode 326 finished. Total reward: 13.0 (13 timesteps)\n",
      "Episode 327 finished. Total reward: 100.0 (100 timesteps)\n",
      "Episode 328 finished. Total reward: 100.0 (100 timesteps)\n",
      "Episode 329 finished. Total reward: 100.0 (100 timesteps)\n",
      "Episode 330 finished. Total reward: 100.0 (100 timesteps)\n",
      "Episode 331 finished. Total reward: 100.0 (100 timesteps)\n",
      "Episode 332 finished. Total reward: 100.0 (100 timesteps)\n",
      "Episode 333 finished. Total reward: 100.0 (100 timesteps)\n",
      "Episode 334 finished. Total reward: 100.0 (100 timesteps)\n",
      "Episode 335 finished. Total reward: 100.0 (100 timesteps)\n",
      "Episode 336 finished. Total reward: 100.0 (100 timesteps)\n",
      "Episode 337 finished. Total reward: 100.0 (100 timesteps)\n",
      "Episode 338 finished. Total reward: 100.0 (100 timesteps)\n",
      "Episode 339 finished. Total reward: 100.0 (100 timesteps)\n",
      "Episode 340 finished. Total reward: 100.0 (100 timesteps)\n",
      "Episode 341 finished. Total reward: 100.0 (100 timesteps)\n",
      "Episode 342 finished. Total reward: 100.0 (100 timesteps)\n",
      "Episode 343 finished. Total reward: 100.0 (100 timesteps)\n",
      "Episode 344 finished. Total reward: 100.0 (100 timesteps)\n",
      "Episode 345 finished. Total reward: 100.0 (100 timesteps)\n",
      "Updating the policy...\n",
      "Updating finished!\n",
      "Episode 346 finished. Total reward: 100.0 (100 timesteps)\n",
      "Episode 347 finished. Total reward: 22.0 (22 timesteps)\n",
      "Episode 348 finished. Total reward: 100.0 (100 timesteps)\n",
      "Episode 349 finished. Total reward: 100.0 (100 timesteps)\n",
      "Episode 350 finished. Total reward: 100.0 (100 timesteps)\n",
      "Episode 351 finished. Total reward: 100.0 (100 timesteps)\n",
      "Episode 352 finished. Total reward: 100.0 (100 timesteps)\n",
      "Episode 353 finished. Total reward: 100.0 (100 timesteps)\n",
      "Episode 354 finished. Total reward: 100.0 (100 timesteps)\n",
      "Episode 355 finished. Total reward: 100.0 (100 timesteps)\n",
      "Episode 356 finished. Total reward: 100.0 (100 timesteps)\n",
      "Episode 357 finished. Total reward: 100.0 (100 timesteps)\n",
      "Episode 358 finished. Total reward: 100.0 (100 timesteps)\n",
      "Episode 359 finished. Total reward: 36.0 (36 timesteps)\n",
      "Episode 360 finished. Total reward: 22.0 (22 timesteps)\n",
      "Episode 361 finished. Total reward: 100.0 (100 timesteps)\n",
      "Episode 362 finished. Total reward: 100.0 (100 timesteps)\n",
      "Episode 363 finished. Total reward: 100.0 (100 timesteps)\n",
      "Episode 364 finished. Total reward: 100.0 (100 timesteps)\n",
      "Episode 365 finished. Total reward: 100.0 (100 timesteps)\n",
      "Episode 366 finished. Total reward: 73.0 (73 timesteps)\n",
      "Episode 367 finished. Total reward: 100.0 (100 timesteps)\n",
      "Episode 368 finished. Total reward: 20.0 (20 timesteps)\n",
      "Episode 369 finished. Total reward: 100.0 (100 timesteps)\n",
      "Updating the policy...\n",
      "Updating finished!\n",
      "Episode 370 finished. Total reward: 100.0 (100 timesteps)\n",
      "Episode 371 finished. Total reward: 100.0 (100 timesteps)\n",
      "Episode 372 finished. Total reward: 100.0 (100 timesteps)\n",
      "Episode 373 finished. Total reward: 100.0 (100 timesteps)\n",
      "Episode 374 finished. Total reward: 100.0 (100 timesteps)\n",
      "Episode 375 finished. Total reward: 100.0 (100 timesteps)\n",
      "Episode 376 finished. Total reward: 100.0 (100 timesteps)\n",
      "Episode 377 finished. Total reward: 100.0 (100 timesteps)\n",
      "Episode 378 finished. Total reward: 100.0 (100 timesteps)\n",
      "Episode 379 finished. Total reward: 100.0 (100 timesteps)\n",
      "Episode 380 finished. Total reward: 100.0 (100 timesteps)\n",
      "Episode 381 finished. Total reward: 100.0 (100 timesteps)\n",
      "Episode 382 finished. Total reward: 100.0 (100 timesteps)\n",
      "Episode 383 finished. Total reward: 100.0 (100 timesteps)\n",
      "Episode 384 finished. Total reward: 100.0 (100 timesteps)\n",
      "Episode 385 finished. Total reward: 100.0 (100 timesteps)\n",
      "Episode 386 finished. Total reward: 100.0 (100 timesteps)\n",
      "Episode 387 finished. Total reward: 100.0 (100 timesteps)\n",
      "Episode 388 finished. Total reward: 100.0 (100 timesteps)\n",
      "Episode 389 finished. Total reward: 100.0 (100 timesteps)\n",
      "Updating the policy...\n",
      "Updating finished!\n",
      "Episode 390 finished. Total reward: 100.0 (100 timesteps)\n",
      "Episode 391 finished. Total reward: 100.0 (100 timesteps)\n",
      "Episode 392 finished. Total reward: 100.0 (100 timesteps)\n",
      "Episode 393 finished. Total reward: 100.0 (100 timesteps)\n",
      "Episode 394 finished. Total reward: 100.0 (100 timesteps)\n",
      "Episode 395 finished. Total reward: 100.0 (100 timesteps)\n",
      "Episode 396 finished. Total reward: 100.0 (100 timesteps)\n",
      "Episode 397 finished. Total reward: 100.0 (100 timesteps)\n",
      "Episode 398 finished. Total reward: 100.0 (100 timesteps)\n",
      "Episode 399 finished. Total reward: 100.0 (100 timesteps)\n",
      "Episode 400 finished. Total reward: 100.0 (100 timesteps)\n",
      "Episode 401 finished. Total reward: 100.0 (100 timesteps)\n",
      "Episode 402 finished. Total reward: 100.0 (100 timesteps)\n",
      "Episode 403 finished. Total reward: 100.0 (100 timesteps)\n",
      "Episode 404 finished. Total reward: 28.0 (28 timesteps)\n",
      "Episode 405 finished. Total reward: 100.0 (100 timesteps)\n",
      "Episode 406 finished. Total reward: 100.0 (100 timesteps)\n",
      "Episode 407 finished. Total reward: 100.0 (100 timesteps)\n",
      "Episode 408 finished. Total reward: 100.0 (100 timesteps)\n",
      "Episode 409 finished. Total reward: 100.0 (100 timesteps)\n",
      "Updating the policy...\n",
      "Updating finished!\n",
      "Episode 410 finished. Total reward: 100.0 (100 timesteps)\n",
      "Episode 411 finished. Total reward: 100.0 (100 timesteps)\n",
      "Episode 412 finished. Total reward: 100.0 (100 timesteps)\n",
      "Episode 413 finished. Total reward: 29.0 (29 timesteps)\n",
      "Episode 414 finished. Total reward: 100.0 (100 timesteps)\n",
      "Episode 415 finished. Total reward: 100.0 (100 timesteps)\n",
      "Episode 416 finished. Total reward: 100.0 (100 timesteps)\n",
      "Episode 417 finished. Total reward: 100.0 (100 timesteps)\n",
      "Episode 418 finished. Total reward: 100.0 (100 timesteps)\n",
      "Episode 419 finished. Total reward: 100.0 (100 timesteps)\n",
      "Episode 420 finished. Total reward: 100.0 (100 timesteps)\n",
      "Episode 421 finished. Total reward: 100.0 (100 timesteps)\n",
      "Episode 422 finished. Total reward: 100.0 (100 timesteps)\n",
      "Episode 423 finished. Total reward: 100.0 (100 timesteps)\n",
      "Episode 424 finished. Total reward: 100.0 (100 timesteps)\n",
      "Episode 425 finished. Total reward: 100.0 (100 timesteps)\n",
      "Episode 426 finished. Total reward: 100.0 (100 timesteps)\n",
      "Episode 427 finished. Total reward: 100.0 (100 timesteps)\n",
      "Episode 428 finished. Total reward: 100.0 (100 timesteps)\n",
      "Episode 429 finished. Total reward: 100.0 (100 timesteps)\n",
      "Episode 430 finished. Total reward: 100.0 (100 timesteps)\n",
      "Updating the policy...\n",
      "Updating finished!\n",
      "Episode 431 finished. Total reward: 94.0 (94 timesteps)\n",
      "Episode 432 finished. Total reward: 100.0 (100 timesteps)\n",
      "Episode 433 finished. Total reward: 100.0 (100 timesteps)\n",
      "Episode 434 finished. Total reward: 100.0 (100 timesteps)\n",
      "Episode 435 finished. Total reward: 100.0 (100 timesteps)\n",
      "Episode 436 finished. Total reward: 100.0 (100 timesteps)\n",
      "Episode 437 finished. Total reward: 100.0 (100 timesteps)\n",
      "Episode 438 finished. Total reward: 100.0 (100 timesteps)\n",
      "Episode 439 finished. Total reward: 100.0 (100 timesteps)\n",
      "Episode 440 finished. Total reward: 100.0 (100 timesteps)\n",
      "Episode 441 finished. Total reward: 100.0 (100 timesteps)\n",
      "Episode 442 finished. Total reward: 100.0 (100 timesteps)\n",
      "Episode 443 finished. Total reward: 100.0 (100 timesteps)\n",
      "Episode 444 finished. Total reward: 100.0 (100 timesteps)\n",
      "Episode 445 finished. Total reward: 100.0 (100 timesteps)\n",
      "Episode 446 finished. Total reward: 100.0 (100 timesteps)\n",
      "Episode 447 finished. Total reward: 100.0 (100 timesteps)\n",
      "Episode 448 finished. Total reward: 100.0 (100 timesteps)\n",
      "Episode 449 finished. Total reward: 100.0 (100 timesteps)\n",
      "Episode 450 finished. Total reward: 100.0 (100 timesteps)\n",
      "Updating the policy...\n",
      "Updating finished!\n",
      "Episode 451 finished. Total reward: 100.0 (100 timesteps)\n",
      "Episode 452 finished. Total reward: 99.0 (99 timesteps)\n",
      "Episode 453 finished. Total reward: 100.0 (100 timesteps)\n",
      "Episode 454 finished. Total reward: 100.0 (100 timesteps)\n",
      "Episode 455 finished. Total reward: 100.0 (100 timesteps)\n",
      "Episode 456 finished. Total reward: 23.0 (23 timesteps)\n",
      "Episode 457 finished. Total reward: 100.0 (100 timesteps)\n",
      "Episode 458 finished. Total reward: 100.0 (100 timesteps)\n",
      "Episode 459 finished. Total reward: 100.0 (100 timesteps)\n",
      "Episode 460 finished. Total reward: 100.0 (100 timesteps)\n",
      "Episode 461 finished. Total reward: 100.0 (100 timesteps)\n",
      "Episode 462 finished. Total reward: 100.0 (100 timesteps)\n",
      "Episode 463 finished. Total reward: 100.0 (100 timesteps)\n",
      "Episode 464 finished. Total reward: 100.0 (100 timesteps)\n",
      "Episode 465 finished. Total reward: 100.0 (100 timesteps)\n",
      "Episode 466 finished. Total reward: 100.0 (100 timesteps)\n",
      "Episode 467 finished. Total reward: 100.0 (100 timesteps)\n",
      "Episode 468 finished. Total reward: 32.0 (32 timesteps)\n",
      "Episode 469 finished. Total reward: 100.0 (100 timesteps)\n",
      "Episode 470 finished. Total reward: 100.0 (100 timesteps)\n",
      "Episode 471 finished. Total reward: 100.0 (100 timesteps)\n",
      "Episode 472 finished. Total reward: 100.0 (100 timesteps)\n",
      "Updating the policy...\n",
      "Updating finished!\n",
      "Episode 473 finished. Total reward: 100.0 (100 timesteps)\n",
      "Episode 474 finished. Total reward: 100.0 (100 timesteps)\n",
      "Episode 475 finished. Total reward: 100.0 (100 timesteps)\n",
      "Episode 476 finished. Total reward: 100.0 (100 timesteps)\n",
      "Episode 477 finished. Total reward: 32.0 (32 timesteps)\n",
      "Episode 478 finished. Total reward: 100.0 (100 timesteps)\n",
      "Episode 479 finished. Total reward: 100.0 (100 timesteps)\n",
      "Episode 480 finished. Total reward: 92.0 (92 timesteps)\n",
      "Episode 481 finished. Total reward: 100.0 (100 timesteps)\n",
      "Episode 482 finished. Total reward: 100.0 (100 timesteps)\n",
      "Episode 483 finished. Total reward: 100.0 (100 timesteps)\n",
      "Episode 484 finished. Total reward: 100.0 (100 timesteps)\n",
      "Episode 485 finished. Total reward: 100.0 (100 timesteps)\n",
      "Episode 486 finished. Total reward: 100.0 (100 timesteps)\n",
      "Episode 487 finished. Total reward: 100.0 (100 timesteps)\n",
      "Episode 488 finished. Total reward: 100.0 (100 timesteps)\n",
      "Episode 489 finished. Total reward: 100.0 (100 timesteps)\n",
      "Episode 490 finished. Total reward: 100.0 (100 timesteps)\n",
      "Episode 491 finished. Total reward: 100.0 (100 timesteps)\n",
      "Episode 492 finished. Total reward: 100.0 (100 timesteps)\n",
      "Updating the policy...\n",
      "Updating finished!\n",
      "Episode 493 finished. Total reward: 100.0 (100 timesteps)\n",
      "Episode 494 finished. Total reward: 100.0 (100 timesteps)\n",
      "Episode 495 finished. Total reward: 100.0 (100 timesteps)\n",
      "Episode 496 finished. Total reward: 100.0 (100 timesteps)\n",
      "Episode 497 finished. Total reward: 100.0 (100 timesteps)\n",
      "Episode 498 finished. Total reward: 100.0 (100 timesteps)\n",
      "Episode 499 finished. Total reward: 100.0 (100 timesteps)\n",
      "Episode 500 finished. Total reward: 100.0 (100 timesteps)\n",
      "Model saved to /notebooks/rl2023/ex1/results/model/CartPole-v1_params.pt\n",
      "------Training finished.------\n",
      "Numpy/Torch/Random Seed:  186\n",
      "Loading model from /notebooks/rl2023/ex1/results/model/CartPole-v1_params.pt ...\n",
      "Testing...\n",
      "Test ep reward: 140.0 seed: 174\n",
      "Test ep reward: 139.0 seed: 381\n",
      "Test ep reward: 122.0 seed: 876\n",
      "Test ep reward: 120.0 seed: 626\n",
      "Test ep reward: 131.0 seed: 799\n",
      "Test ep reward: 125.0 seed: 897\n",
      "Test ep reward: 135.0 seed: 219\n",
      "Test ep reward: 121.0 seed: 296\n",
      "Test ep reward: 121.0 seed: 628\n",
      "Test ep reward: 124.0 seed: 270\n",
      "Average test reward: 127.8 episode length: 127.8\n",
      "Numpy/Torch/Random Seed:  2023\n",
      "Loading model from /notebooks/rl2023/ex1/results/model/CartPole-v1_params.pt ...\n",
      "Testing...\n",
      "Test ep reward: 113.0 seed: 2023\n",
      "Average test reward: 113.0 episode length: 113.0\n",
      "Numpy/Torch/Random Seed:  856\n"
     ]
    },
    {
     "data": {
      "text/html": [
       "Changes to your `wandb` environment variables will be ignored because your `wandb` session has already started. For more information on how to modify your settings with `wandb.init()` arguments, please refer to <a href='https://wandb.me/wandb-init' target=\"_blank\">the W&B docs</a>."
      ],
      "text/plain": [
       "<IPython.core.display.HTML object>"
      ]
     },
     "metadata": {},
     "output_type": "display_data"
    },
    {
     "data": {
      "text/html": [
       "Finishing last run (ID:dmj8ioxr) before initializing another..."
      ],
      "text/plain": [
       "<IPython.core.display.HTML object>"
      ]
     },
     "metadata": {},
     "output_type": "display_data"
    },
    {
     "data": {
      "text/html": [
       "Waiting for W&B process to finish... <strong style=\"color:green\">(success).</strong>"
      ],
      "text/plain": [
       "<IPython.core.display.HTML object>"
      ]
     },
     "metadata": {},
     "output_type": "display_data"
    },
    {
     "data": {
      "application/vnd.jupyter.widget-view+json": {
       "model_id": "9afc87f59ce54ef4a1b63bb7edc7ae5d",
       "version_major": 2,
       "version_minor": 0
      },
      "text/plain": [
       "VBox(children=(Label(value='0.004 MB of 0.004 MB uploaded (0.000 MB deduped)\\r'), FloatProgress(value=1.0, max…"
      ]
     },
     "metadata": {},
     "output_type": "display_data"
    },
    {
     "data": {
      "text/html": [
       "<style>\n",
       "    table.wandb td:nth-child(1) { padding: 0 10px; text-align: left ; width: auto;} td:nth-child(2) {text-align: left ; width: 100%}\n",
       "    .wandb-row { display: flex; flex-direction: row; flex-wrap: wrap; justify-content: flex-start; width: 100% }\n",
       "    .wandb-col { display: flex; flex-direction: column; flex-basis: 100%; flex: 1; padding: 10px; }\n",
       "    </style>\n",
       "<div class=\"wandb-row\"><div class=\"wandb-col\"><h3>Run history:</h3><br/><table class=\"wandb\"><tr><td>ep_reward</td><td>▄▂▇▂▂▁▁▅▄▁▁▁█▄▅███▅██▇██████▃███████████</td></tr><tr><td>episodes</td><td>▁▁▁▂▂▂▂▂▂▃▃▃▃▃▄▄▄▄▄▄▅▅▅▅▅▅▆▆▆▆▆▇▇▇▇▇▇███</td></tr><tr><td>num_updates</td><td>▁▁▁▁▁▁▁▁▁▁▁▁▁▁▁█▁█▁▁▁▁▁▁▁▁▁▁▁▁▁▁▁▁▁▁▁▁▁▁</td></tr><tr><td>timesteps</td><td>▄▂▇▂▂▁▁▅▄▁▁▁█▄▅███▅██▇██████▃███████████</td></tr></table><br/></div><div class=\"wandb-col\"><h3>Run summary:</h3><br/><table class=\"wandb\"><tr><td>ep_reward</td><td>100.0</td></tr><tr><td>episodes</td><td>500</td></tr><tr><td>num_updates</td><td>0</td></tr><tr><td>timesteps</td><td>100</td></tr></table><br/></div></div>"
      ],
      "text/plain": [
       "<IPython.core.display.HTML object>"
      ]
     },
     "metadata": {},
     "output_type": "display_data"
    },
    {
     "data": {
      "text/html": [
       " View run <strong style=\"color:#cdcd00\">ex1-CartPole-v1-None-1694944786</strong> at: <a href='https://wandb.ai/xinyu-zhang/rl_aalto/runs/dmj8ioxr' target=\"_blank\">https://wandb.ai/xinyu-zhang/rl_aalto/runs/dmj8ioxr</a><br/>Synced 6 W&B file(s), 0 media file(s), 0 artifact file(s) and 0 other file(s)"
      ],
      "text/plain": [
       "<IPython.core.display.HTML object>"
      ]
     },
     "metadata": {},
     "output_type": "display_data"
    },
    {
     "data": {
      "text/html": [
       "Find logs at: <code>./wandb/run-20230917_125946-dmj8ioxr/logs</code>"
      ],
      "text/plain": [
       "<IPython.core.display.HTML object>"
      ]
     },
     "metadata": {},
     "output_type": "display_data"
    },
    {
     "data": {
      "text/html": [
       "Successfully finished last run (ID:dmj8ioxr). Initializing new run:<br/>"
      ],
      "text/plain": [
       "<IPython.core.display.HTML object>"
      ]
     },
     "metadata": {},
     "output_type": "display_data"
    },
    {
     "data": {
      "application/vnd.jupyter.widget-view+json": {
       "model_id": "40832eac36c543faae8b87431b6d3a5b",
       "version_major": 2,
       "version_minor": 0
      },
      "text/plain": [
       "VBox(children=(Label(value='Waiting for wandb.init()...\\r'), FloatProgress(value=0.016669737175107002, max=1.0…"
      ]
     },
     "metadata": {},
     "output_type": "display_data"
    },
    {
     "data": {
      "text/html": [
       "wandb version 0.15.10 is available!  To upgrade, please run:\n",
       " $ pip install wandb --upgrade"
      ],
      "text/plain": [
       "<IPython.core.display.HTML object>"
      ]
     },
     "metadata": {},
     "output_type": "display_data"
    },
    {
     "data": {
      "text/html": [
       "Tracking run with wandb version 0.15.9"
      ],
      "text/plain": [
       "<IPython.core.display.HTML object>"
      ]
     },
     "metadata": {},
     "output_type": "display_data"
    },
    {
     "data": {
      "text/html": [
       "Run data is saved locally in <code>/notebooks/rl2023/ex1/wandb/run-20230917_130403-ddk2aeud</code>"
      ],
      "text/plain": [
       "<IPython.core.display.HTML object>"
      ]
     },
     "metadata": {},
     "output_type": "display_data"
    },
    {
     "data": {
      "text/html": [
       "Syncing run <strong><a href='https://wandb.ai/xinyu-zhang/rl_aalto/runs/ddk2aeud' target=\"_blank\">ex1-CartPole-v1-None-1694945043</a></strong> to <a href='https://wandb.ai/xinyu-zhang/rl_aalto' target=\"_blank\">Weights & Biases</a> (<a href='https://wandb.me/run' target=\"_blank\">docs</a>)<br/>"
      ],
      "text/plain": [
       "<IPython.core.display.HTML object>"
      ]
     },
     "metadata": {},
     "output_type": "display_data"
    },
    {
     "data": {
      "text/html": [
       " View project at <a href='https://wandb.ai/xinyu-zhang/rl_aalto' target=\"_blank\">https://wandb.ai/xinyu-zhang/rl_aalto</a>"
      ],
      "text/plain": [
       "<IPython.core.display.HTML object>"
      ]
     },
     "metadata": {},
     "output_type": "display_data"
    },
    {
     "data": {
      "text/html": [
       " View run at <a href='https://wandb.ai/xinyu-zhang/rl_aalto/runs/ddk2aeud' target=\"_blank\">https://wandb.ai/xinyu-zhang/rl_aalto/runs/ddk2aeud</a>"
      ],
      "text/plain": [
       "<IPython.core.display.HTML object>"
      ]
     },
     "metadata": {},
     "output_type": "display_data"
    },
    {
     "name": "stdout",
     "output_type": "stream",
     "text": [
      "Configuration Settings: {'exp_name': 'ex1', 'seed': None, 'env_name': 'CartPole-v1', 'max_episode_steps': 100, 'train_episodes': 500, 'batch_size': 64, 'min_update_samples': 2000, 'testing': False, 'model_path': 'default', 'save_video': True, 'save_model': True, 'save_logging': True, 'silent': False, 'use_wandb': True, 'run_suffix': 0}\n",
      "Training device: cpu\n",
      "Observation space dimensions: 4\n",
      "Action space dimensions: 2\n",
      "\n",
      "Episode 0 finished. Total reward: 16.0 (16 timesteps)\n",
      "Episode 1 finished. Total reward: 33.0 (33 timesteps)\n",
      "Episode 2 finished. Total reward: 20.0 (20 timesteps)\n",
      "Episode 3 finished. Total reward: 56.0 (56 timesteps)\n",
      "Episode 4 finished. Total reward: 28.0 (28 timesteps)\n",
      "Episode 5 finished. Total reward: 24.0 (24 timesteps)\n",
      "Episode 6 finished. Total reward: 36.0 (36 timesteps)\n",
      "Episode 7 finished. Total reward: 28.0 (28 timesteps)\n",
      "Episode 8 finished. Total reward: 27.0 (27 timesteps)\n",
      "Episode 9 finished. Total reward: 11.0 (11 timesteps)\n",
      "Episode 10 finished. Total reward: 15.0 (15 timesteps)\n",
      "Episode 11 finished. Total reward: 24.0 (24 timesteps)\n",
      "Episode 12 finished. Total reward: 20.0 (20 timesteps)\n",
      "Episode 13 finished. Total reward: 11.0 (11 timesteps)\n",
      "Episode 14 finished. Total reward: 10.0 (10 timesteps)\n",
      "Episode 15 finished. Total reward: 21.0 (21 timesteps)\n",
      "Episode 16 finished. Total reward: 11.0 (11 timesteps)\n",
      "Episode 17 finished. Total reward: 20.0 (20 timesteps)\n",
      "Episode 18 finished. Total reward: 16.0 (16 timesteps)\n",
      "Episode 19 finished. Total reward: 64.0 (64 timesteps)\n",
      "Episode 20 finished. Total reward: 24.0 (24 timesteps)\n",
      "Episode 21 finished. Total reward: 16.0 (16 timesteps)\n",
      "Episode 22 finished. Total reward: 13.0 (13 timesteps)\n",
      "Episode 23 finished. Total reward: 13.0 (13 timesteps)\n",
      "Episode 24 finished. Total reward: 17.0 (17 timesteps)\n",
      "Episode 25 finished. Total reward: 16.0 (16 timesteps)\n",
      "Episode 26 finished. Total reward: 20.0 (20 timesteps)\n",
      "Episode 27 finished. Total reward: 13.0 (13 timesteps)\n",
      "Episode 28 finished. Total reward: 19.0 (19 timesteps)\n",
      "Episode 29 finished. Total reward: 14.0 (14 timesteps)\n",
      "Episode 30 finished. Total reward: 50.0 (50 timesteps)\n",
      "Episode 31 finished. Total reward: 19.0 (19 timesteps)\n",
      "Episode 32 finished. Total reward: 27.0 (27 timesteps)\n",
      "Episode 33 finished. Total reward: 24.0 (24 timesteps)\n",
      "Episode 34 finished. Total reward: 15.0 (15 timesteps)\n",
      "Episode 35 finished. Total reward: 30.0 (30 timesteps)\n",
      "Episode 36 finished. Total reward: 11.0 (11 timesteps)\n",
      "Episode 37 finished. Total reward: 22.0 (22 timesteps)\n",
      "Episode 38 finished. Total reward: 15.0 (15 timesteps)\n",
      "Episode 39 finished. Total reward: 15.0 (15 timesteps)\n",
      "Episode 40 finished. Total reward: 26.0 (26 timesteps)\n",
      "Episode 41 finished. Total reward: 26.0 (26 timesteps)\n",
      "Episode 42 finished. Total reward: 39.0 (39 timesteps)\n",
      "Episode 43 finished. Total reward: 19.0 (19 timesteps)\n",
      "Episode 44 finished. Total reward: 37.0 (37 timesteps)\n",
      "Episode 45 finished. Total reward: 19.0 (19 timesteps)\n",
      "Episode 46 finished. Total reward: 17.0 (17 timesteps)\n",
      "Episode 47 finished. Total reward: 9.0 (9 timesteps)\n",
      "Episode 48 finished. Total reward: 19.0 (19 timesteps)\n",
      "Episode 49 finished. Total reward: 22.0 (22 timesteps)\n",
      "Episode 50 finished. Total reward: 19.0 (19 timesteps)\n",
      "Episode 51 finished. Total reward: 14.0 (14 timesteps)\n",
      "Episode 52 finished. Total reward: 33.0 (33 timesteps)\n",
      "Episode 53 finished. Total reward: 19.0 (19 timesteps)\n",
      "Episode 54 finished. Total reward: 10.0 (10 timesteps)\n",
      "Episode 55 finished. Total reward: 14.0 (14 timesteps)\n",
      "Episode 56 finished. Total reward: 12.0 (12 timesteps)\n",
      "Episode 57 finished. Total reward: 38.0 (38 timesteps)\n",
      "Episode 58 finished. Total reward: 19.0 (19 timesteps)\n",
      "Episode 59 finished. Total reward: 13.0 (13 timesteps)\n",
      "Episode 60 finished. Total reward: 11.0 (11 timesteps)\n",
      "Episode 61 finished. Total reward: 12.0 (12 timesteps)\n",
      "Episode 62 finished. Total reward: 23.0 (23 timesteps)\n",
      "Episode 63 finished. Total reward: 13.0 (13 timesteps)\n",
      "Episode 64 finished. Total reward: 47.0 (47 timesteps)\n",
      "Episode 65 finished. Total reward: 18.0 (18 timesteps)\n",
      "Episode 66 finished. Total reward: 28.0 (28 timesteps)\n",
      "Episode 67 finished. Total reward: 19.0 (19 timesteps)\n",
      "Episode 68 finished. Total reward: 13.0 (13 timesteps)\n",
      "Episode 69 finished. Total reward: 13.0 (13 timesteps)\n",
      "Episode 70 finished. Total reward: 20.0 (20 timesteps)\n",
      "Episode 71 finished. Total reward: 18.0 (18 timesteps)\n",
      "Episode 72 finished. Total reward: 23.0 (23 timesteps)\n",
      "Episode 73 finished. Total reward: 16.0 (16 timesteps)\n",
      "Episode 74 finished. Total reward: 24.0 (24 timesteps)\n",
      "Episode 75 finished. Total reward: 18.0 (18 timesteps)\n",
      "Episode 76 finished. Total reward: 14.0 (14 timesteps)\n",
      "Episode 77 finished. Total reward: 22.0 (22 timesteps)\n",
      "Episode 78 finished. Total reward: 16.0 (16 timesteps)\n",
      "Episode 79 finished. Total reward: 63.0 (63 timesteps)\n",
      "Episode 80 finished. Total reward: 17.0 (17 timesteps)\n",
      "Episode 81 finished. Total reward: 11.0 (11 timesteps)\n",
      "Episode 82 finished. Total reward: 13.0 (13 timesteps)\n",
      "Episode 83 finished. Total reward: 9.0 (9 timesteps)\n",
      "Episode 84 finished. Total reward: 22.0 (22 timesteps)\n",
      "Episode 85 finished. Total reward: 17.0 (17 timesteps)\n",
      "Episode 86 finished. Total reward: 34.0 (34 timesteps)\n",
      "Episode 87 finished. Total reward: 20.0 (20 timesteps)\n",
      "Episode 88 finished. Total reward: 25.0 (25 timesteps)\n",
      "Episode 89 finished. Total reward: 11.0 (11 timesteps)\n",
      "Episode 90 finished. Total reward: 15.0 (15 timesteps)\n",
      "Episode 91 finished. Total reward: 15.0 (15 timesteps)\n",
      "Episode 92 finished. Total reward: 12.0 (12 timesteps)\n",
      "Episode 93 finished. Total reward: 11.0 (11 timesteps)\n",
      "Updating the policy...\n",
      "Updating finished!\n",
      "Episode 94 finished. Total reward: 100.0 (100 timesteps)\n",
      "Episode 95 finished. Total reward: 23.0 (23 timesteps)\n",
      "Episode 96 finished. Total reward: 38.0 (38 timesteps)\n",
      "Episode 97 finished. Total reward: 42.0 (42 timesteps)\n",
      "Episode 98 finished. Total reward: 38.0 (38 timesteps)\n",
      "Episode 99 finished. Total reward: 15.0 (15 timesteps)\n",
      "Episode 100 finished. Total reward: 17.0 (17 timesteps)\n",
      "Episode 101 finished. Total reward: 45.0 (45 timesteps)\n",
      "Episode 102 finished. Total reward: 13.0 (13 timesteps)\n",
      "Episode 103 finished. Total reward: 76.0 (76 timesteps)\n",
      "Episode 104 finished. Total reward: 15.0 (15 timesteps)\n",
      "Episode 105 finished. Total reward: 24.0 (24 timesteps)\n",
      "Episode 106 finished. Total reward: 20.0 (20 timesteps)\n",
      "Episode 107 finished. Total reward: 40.0 (40 timesteps)\n",
      "Episode 108 finished. Total reward: 28.0 (28 timesteps)\n",
      "Episode 109 finished. Total reward: 23.0 (23 timesteps)\n",
      "Episode 110 finished. Total reward: 50.0 (50 timesteps)\n",
      "Episode 111 finished. Total reward: 26.0 (26 timesteps)\n",
      "Episode 112 finished. Total reward: 16.0 (16 timesteps)\n",
      "Episode 113 finished. Total reward: 49.0 (49 timesteps)\n",
      "Episode 114 finished. Total reward: 14.0 (14 timesteps)\n",
      "Episode 115 finished. Total reward: 79.0 (79 timesteps)\n",
      "Episode 116 finished. Total reward: 28.0 (28 timesteps)\n",
      "Episode 117 finished. Total reward: 10.0 (10 timesteps)\n",
      "Episode 118 finished. Total reward: 34.0 (34 timesteps)\n",
      "Episode 119 finished. Total reward: 11.0 (11 timesteps)\n",
      "Episode 120 finished. Total reward: 32.0 (32 timesteps)\n",
      "Episode 121 finished. Total reward: 16.0 (16 timesteps)\n",
      "Episode 122 finished. Total reward: 39.0 (39 timesteps)\n",
      "Episode 123 finished. Total reward: 21.0 (21 timesteps)\n",
      "Episode 124 finished. Total reward: 14.0 (14 timesteps)\n",
      "Episode 125 finished. Total reward: 58.0 (58 timesteps)\n",
      "Episode 126 finished. Total reward: 32.0 (32 timesteps)\n",
      "Episode 127 finished. Total reward: 47.0 (47 timesteps)\n",
      "Episode 128 finished. Total reward: 34.0 (34 timesteps)\n",
      "Episode 129 finished. Total reward: 37.0 (37 timesteps)\n",
      "Episode 130 finished. Total reward: 56.0 (56 timesteps)\n",
      "Episode 131 finished. Total reward: 28.0 (28 timesteps)\n",
      "Episode 132 finished. Total reward: 13.0 (13 timesteps)\n",
      "Episode 133 finished. Total reward: 24.0 (24 timesteps)\n",
      "Episode 134 finished. Total reward: 27.0 (27 timesteps)\n",
      "Episode 135 finished. Total reward: 73.0 (73 timesteps)\n",
      "Episode 136 finished. Total reward: 46.0 (46 timesteps)\n",
      "Episode 137 finished. Total reward: 14.0 (14 timesteps)\n",
      "Episode 138 finished. Total reward: 41.0 (41 timesteps)\n",
      "Episode 139 finished. Total reward: 75.0 (75 timesteps)\n",
      "Episode 140 finished. Total reward: 25.0 (25 timesteps)\n",
      "Episode 141 finished. Total reward: 37.0 (37 timesteps)\n",
      "Episode 142 finished. Total reward: 33.0 (33 timesteps)\n",
      "Episode 143 finished. Total reward: 74.0 (74 timesteps)\n",
      "Episode 144 finished. Total reward: 23.0 (23 timesteps)\n",
      "Episode 145 finished. Total reward: 14.0 (14 timesteps)\n",
      "Episode 146 finished. Total reward: 55.0 (55 timesteps)\n",
      "Episode 147 finished. Total reward: 13.0 (13 timesteps)\n",
      "Episode 148 finished. Total reward: 11.0 (11 timesteps)\n",
      "Episode 149 finished. Total reward: 23.0 (23 timesteps)\n",
      "Episode 150 finished. Total reward: 15.0 (15 timesteps)\n",
      "Episode 151 finished. Total reward: 23.0 (23 timesteps)\n",
      "Episode 152 finished. Total reward: 23.0 (23 timesteps)\n",
      "Episode 153 finished. Total reward: 19.0 (19 timesteps)\n",
      "Updating the policy...\n",
      "Updating finished!\n",
      "Episode 154 finished. Total reward: 63.0 (63 timesteps)\n",
      "Episode 155 finished. Total reward: 50.0 (50 timesteps)\n",
      "Episode 156 finished. Total reward: 60.0 (60 timesteps)\n",
      "Episode 157 finished. Total reward: 61.0 (61 timesteps)\n",
      "Episode 158 finished. Total reward: 21.0 (21 timesteps)\n",
      "Episode 159 finished. Total reward: 12.0 (12 timesteps)\n",
      "Episode 160 finished. Total reward: 20.0 (20 timesteps)\n",
      "Episode 161 finished. Total reward: 46.0 (46 timesteps)\n",
      "Episode 162 finished. Total reward: 18.0 (18 timesteps)\n",
      "Episode 163 finished. Total reward: 67.0 (67 timesteps)\n",
      "Episode 164 finished. Total reward: 75.0 (75 timesteps)\n",
      "Episode 165 finished. Total reward: 19.0 (19 timesteps)\n",
      "Episode 166 finished. Total reward: 90.0 (90 timesteps)\n",
      "Episode 167 finished. Total reward: 40.0 (40 timesteps)\n",
      "Episode 168 finished. Total reward: 22.0 (22 timesteps)\n",
      "Episode 169 finished. Total reward: 65.0 (65 timesteps)\n",
      "Episode 170 finished. Total reward: 45.0 (45 timesteps)\n",
      "Episode 171 finished. Total reward: 27.0 (27 timesteps)\n",
      "Episode 172 finished. Total reward: 73.0 (73 timesteps)\n",
      "Episode 173 finished. Total reward: 44.0 (44 timesteps)\n",
      "Episode 174 finished. Total reward: 71.0 (71 timesteps)\n",
      "Episode 175 finished. Total reward: 33.0 (33 timesteps)\n",
      "Episode 176 finished. Total reward: 20.0 (20 timesteps)\n",
      "Episode 177 finished. Total reward: 22.0 (22 timesteps)\n",
      "Episode 178 finished. Total reward: 83.0 (83 timesteps)\n",
      "Episode 179 finished. Total reward: 37.0 (37 timesteps)\n",
      "Episode 180 finished. Total reward: 33.0 (33 timesteps)\n",
      "Episode 181 finished. Total reward: 45.0 (45 timesteps)\n",
      "Episode 182 finished. Total reward: 19.0 (19 timesteps)\n",
      "Episode 183 finished. Total reward: 30.0 (30 timesteps)\n",
      "Episode 184 finished. Total reward: 23.0 (23 timesteps)\n",
      "Episode 185 finished. Total reward: 75.0 (75 timesteps)\n",
      "Episode 186 finished. Total reward: 89.0 (89 timesteps)\n",
      "Episode 187 finished. Total reward: 71.0 (71 timesteps)\n",
      "Episode 188 finished. Total reward: 100.0 (100 timesteps)\n",
      "Episode 189 finished. Total reward: 65.0 (65 timesteps)\n",
      "Episode 190 finished. Total reward: 27.0 (27 timesteps)\n",
      "Episode 191 finished. Total reward: 100.0 (100 timesteps)\n",
      "Episode 192 finished. Total reward: 84.0 (84 timesteps)\n",
      "Episode 193 finished. Total reward: 12.0 (12 timesteps)\n",
      "Episode 194 finished. Total reward: 41.0 (41 timesteps)\n",
      "Episode 195 finished. Total reward: 21.0 (21 timesteps)\n",
      "Updating the policy...\n",
      "Updating finished!\n",
      "Episode 196 finished. Total reward: 58.0 (58 timesteps)\n",
      "Episode 197 finished. Total reward: 72.0 (72 timesteps)\n",
      "Episode 198 finished. Total reward: 100.0 (100 timesteps)\n",
      "Episode 199 finished. Total reward: 79.0 (79 timesteps)\n",
      "Episode 200 finished. Total reward: 92.0 (92 timesteps)\n",
      "Episode 201 finished. Total reward: 72.0 (72 timesteps)\n",
      "Episode 202 finished. Total reward: 100.0 (100 timesteps)\n",
      "Episode 203 finished. Total reward: 100.0 (100 timesteps)\n",
      "Episode 204 finished. Total reward: 12.0 (12 timesteps)\n",
      "Episode 205 finished. Total reward: 100.0 (100 timesteps)\n",
      "Episode 206 finished. Total reward: 77.0 (77 timesteps)\n",
      "Episode 207 finished. Total reward: 35.0 (35 timesteps)\n",
      "Episode 208 finished. Total reward: 37.0 (37 timesteps)\n",
      "Episode 209 finished. Total reward: 100.0 (100 timesteps)\n",
      "Episode 210 finished. Total reward: 27.0 (27 timesteps)\n",
      "Episode 211 finished. Total reward: 20.0 (20 timesteps)\n",
      "Episode 212 finished. Total reward: 30.0 (30 timesteps)\n",
      "Episode 213 finished. Total reward: 27.0 (27 timesteps)\n",
      "Episode 214 finished. Total reward: 79.0 (79 timesteps)\n",
      "Episode 215 finished. Total reward: 30.0 (30 timesteps)\n",
      "Episode 216 finished. Total reward: 31.0 (31 timesteps)\n",
      "Episode 217 finished. Total reward: 100.0 (100 timesteps)\n",
      "Episode 218 finished. Total reward: 100.0 (100 timesteps)\n",
      "Episode 219 finished. Total reward: 100.0 (100 timesteps)\n",
      "Episode 220 finished. Total reward: 57.0 (57 timesteps)\n",
      "Episode 221 finished. Total reward: 75.0 (75 timesteps)\n",
      "Episode 222 finished. Total reward: 25.0 (25 timesteps)\n",
      "Episode 223 finished. Total reward: 80.0 (80 timesteps)\n",
      "Episode 224 finished. Total reward: 62.0 (62 timesteps)\n",
      "Episode 225 finished. Total reward: 100.0 (100 timesteps)\n",
      "Updating the policy...\n",
      "Updating finished!\n",
      "Episode 226 finished. Total reward: 48.0 (48 timesteps)\n",
      "Episode 227 finished. Total reward: 100.0 (100 timesteps)\n",
      "Episode 228 finished. Total reward: 78.0 (78 timesteps)\n",
      "Episode 229 finished. Total reward: 54.0 (54 timesteps)\n",
      "Episode 230 finished. Total reward: 35.0 (35 timesteps)\n",
      "Episode 231 finished. Total reward: 28.0 (28 timesteps)\n",
      "Episode 232 finished. Total reward: 100.0 (100 timesteps)\n",
      "Episode 233 finished. Total reward: 100.0 (100 timesteps)\n",
      "Episode 234 finished. Total reward: 46.0 (46 timesteps)\n",
      "Updating finished!\n",
      "Episode 492 finished. Total reward: 100.0 (100 timesteps)\n",
      "Episode 493 finished. Total reward: 100.0 (100 timesteps)\n",
      "Episode 494 finished. Total reward: 100.0 (100 timesteps)\n",
      "Episode 495 finished. Total reward: 100.0 (100 timesteps)\n",
      "Episode 496 finished. Total reward: 100.0 (100 timesteps)\n",
      "Episode 497 finished. Total reward: 100.0 (100 timesteps)\n",
      "Episode 498 finished. Total reward: 100.0 (100 timesteps)\n",
      "Episode 499 finished. Total reward: 100.0 (100 timesteps)\n",
      "Episode 500 finished. Total reward: 100.0 (100 timesteps)\n",
      "Model saved to /notebooks/rl2023/ex1/results/model/CartPole-v1_params.pt\n",
      "------Training finished.------\n",
      "Numpy/Torch/Random Seed:  26\n",
      "Loading model from /notebooks/rl2023/ex1/results/model/CartPole-v1_params.pt ...\n",
      "Testing...\n",
      "Test ep reward: 136.0 seed: 822\n",
      "Test ep reward: 122.0 seed: 319\n",
      "Test ep reward: 124.0 seed: 775\n",
      "Test ep reward: 126.0 seed: 433\n",
      "Test ep reward: 123.0 seed: 962\n",
      "Test ep reward: 124.0 seed: 103\n",
      "Test ep reward: 131.0 seed: 724\n",
      "Test ep reward: 133.0 seed: 78\n",
      "Test ep reward: 138.0 seed: 987\n",
      "Test ep reward: 129.0 seed: 161\n",
      "Average test reward: 128.6 episode length: 128.6\n",
      "Numpy/Torch/Random Seed:  2023\n",
      "Loading model from /notebooks/rl2023/ex1/results/model/CartPole-v1_params.pt ...\n",
      "Testing...\n",
      "Test ep reward: 121.0 seed: 2023\n",
      "Average test reward: 121.0 episode length: 121.0\n",
      "Numpy/Torch/Random Seed:  856\n"
     ]
    },
    {
     "data": {
      "text/html": [
       "Changes to your `wandb` environment variables will be ignored because your `wandb` session has already started. For more information on how to modify your settings with `wandb.init()` arguments, please refer to <a href='https://wandb.me/wandb-init' target=\"_blank\">the W&B docs</a>."
      ],
      "text/plain": [
       "<IPython.core.display.HTML object>"
      ]
     },
     "metadata": {},
     "output_type": "display_data"
    },
    {
     "data": {
      "text/html": [
       "Finishing last run (ID:ddk2aeud) before initializing another..."
      ],
      "text/plain": [
       "<IPython.core.display.HTML object>"
      ]
     },
     "metadata": {},
     "output_type": "display_data"
    },
    {
     "data": {
      "text/html": [
       "Waiting for W&B process to finish... <strong style=\"color:green\">(success).</strong>"
      ],
      "text/plain": [
       "<IPython.core.display.HTML object>"
      ]
     },
     "metadata": {},
     "output_type": "display_data"
    },
    {
     "data": {
      "application/vnd.jupyter.widget-view+json": {
       "model_id": "b474771796174164aeb257dc5dcea877",
       "version_major": 2,
       "version_minor": 0
      },
      "text/plain": [
       "VBox(children=(Label(value='0.004 MB of 0.004 MB uploaded (0.000 MB deduped)\\r'), FloatProgress(value=1.0, max…"
      ]
     },
     "metadata": {},
     "output_type": "display_data"
    },
    {
     "data": {
      "text/html": [
       "<style>\n",
       "    table.wandb td:nth-child(1) { padding: 0 10px; text-align: left ; width: auto;} td:nth-child(2) {text-align: left ; width: 100%}\n",
       "    .wandb-row { display: flex; flex-direction: row; flex-wrap: wrap; justify-content: flex-start; width: 100% }\n",
       "    .wandb-col { display: flex; flex-direction: column; flex-basis: 100%; flex: 1; padding: 10px; }\n",
       "    </style>\n",
       "<div class=\"wandb-row\"><div class=\"wandb-col\"><h3>Run history:</h3><br/><table class=\"wandb\"><tr><td>ep_reward</td><td>▄▂▁▁▁▁▅▁▆▆▄▆▄▃▃███▂█▄██▂██▅█▁██████▁████</td></tr><tr><td>episodes</td><td>▁▁▁▂▂▂▂▂▂▃▃▃▃▃▄▄▄▄▄▄▅▅▅▅▅▅▆▆▆▆▆▇▇▇▇▇▇███</td></tr><tr><td>num_updates</td><td>▁▁▁▁▁▁▁▁▁▁▁▁▁▁▁▁▁▁▁▁▁▁▁▁▁▁▁▁▁▁▁▁▁▁▁▁▁▁▁▁</td></tr><tr><td>timesteps</td><td>▄▂▁▁▁▁▅▁▆▆▄▆▄▃▃███▂█▄██▂██▅█▁██████▁████</td></tr></table><br/></div><div class=\"wandb-col\"><h3>Run summary:</h3><br/><table class=\"wandb\"><tr><td>ep_reward</td><td>100.0</td></tr><tr><td>episodes</td><td>500</td></tr><tr><td>num_updates</td><td>0</td></tr><tr><td>timesteps</td><td>100</td></tr></table><br/></div></div>"
      ],
      "text/plain": [
       "<IPython.core.display.HTML object>"
      ]
     },
     "metadata": {},
     "output_type": "display_data"
    },
    {
     "data": {
      "text/html": [
       " View run <strong style=\"color:#cdcd00\">ex1-CartPole-v1-None-1694945043</strong> at: <a href='https://wandb.ai/xinyu-zhang/rl_aalto/runs/ddk2aeud' target=\"_blank\">https://wandb.ai/xinyu-zhang/rl_aalto/runs/ddk2aeud</a><br/>Synced 6 W&B file(s), 0 media file(s), 0 artifact file(s) and 0 other file(s)"
      ],
      "text/plain": [
       "<IPython.core.display.HTML object>"
      ]
     },
     "metadata": {},
     "output_type": "display_data"
    },
    {
     "data": {
      "text/html": [
       "Find logs at: <code>./wandb/run-20230917_130403-ddk2aeud/logs</code>"
      ],
      "text/plain": [
       "<IPython.core.display.HTML object>"
      ]
     },
     "metadata": {},
     "output_type": "display_data"
    },
    {
     "data": {
      "text/html": [
       "Successfully finished last run (ID:ddk2aeud). Initializing new run:<br/>"
      ],
      "text/plain": [
       "<IPython.core.display.HTML object>"
      ]
     },
     "metadata": {},
     "output_type": "display_data"
    },
    {
     "data": {
      "application/vnd.jupyter.widget-view+json": {
       "model_id": "21e74f5e134d4ad8920af9ffaa896d0d",
       "version_major": 2,
       "version_minor": 0
      },
      "text/plain": [
       "VBox(children=(Label(value='Waiting for wandb.init()...\\r'), FloatProgress(value=0.016669476156433424, max=1.0…"
      ]
     },
     "metadata": {},
     "output_type": "display_data"
    },
    {
     "name": "stdout",
     "output_type": "stream",
     "text": [
      "Updating finished!\n",
      "Episode 360 finished. Total reward: 100.0 (100 timesteps)\n",
      "Episode 361 finished. Total reward: 100.0 (100 timesteps)\n",
      "Episode 362 finished. Total reward: 100.0 (100 timesteps)\n",
      "Episode 363 finished. Total reward: 100.0 (100 timesteps)\n",
      "Episode 364 finished. Total reward: 100.0 (100 timesteps)\n",
      "Episode 365 finished. Total reward: 100.0 (100 timesteps)\n",
      "Episode 366 finished. Total reward: 100.0 (100 timesteps)\n",
      "Episode 367 finished. Total reward: 100.0 (100 timesteps)\n",
      "Episode 368 finished. Total reward: 95.0 (95 timesteps)\n",
      "Episode 369 finished. Total reward: 100.0 (100 timesteps)\n",
      "Episode 370 finished. Total reward: 100.0 (100 timesteps)\n",
      "Episode 371 finished. Total reward: 100.0 (100 timesteps)\n",
      "Episode 372 finished. Total reward: 100.0 (100 timesteps)\n",
      "Episode 373 finished. Total reward: 100.0 (100 timesteps)\n",
      "Episode 374 finished. Total reward: 100.0 (100 timesteps)\n",
      "Episode 375 finished. Total reward: 100.0 (100 timesteps)\n",
      "Episode 376 finished. Total reward: 100.0 (100 timesteps)\n",
      "Episode 377 finished. Total reward: 100.0 (100 timesteps)\n",
      "Episode 378 finished. Total reward: 100.0 (100 timesteps)\n",
      "Episode 379 finished. Total reward: 86.0 (86 timesteps)\n",
      "Updating the policy...\n",
      "Updating finished!\n",
      "Episode 380 finished. Total reward: 100.0 (100 timesteps)\n",
      "Episode 381 finished. Total reward: 100.0 (100 timesteps)\n",
      "Episode 382 finished. Total reward: 100.0 (100 timesteps)\n",
      "Episode 383 finished. Total reward: 100.0 (100 timesteps)\n",
      "Episode 384 finished. Total reward: 100.0 (100 timesteps)\n",
      "Episode 385 finished. Total reward: 100.0 (100 timesteps)\n",
      "Episode 386 finished. Total reward: 100.0 (100 timesteps)\n",
      "Episode 387 finished. Total reward: 100.0 (100 timesteps)\n",
      "Episode 388 finished. Total reward: 100.0 (100 timesteps)\n",
      "Episode 389 finished. Total reward: 100.0 (100 timesteps)\n",
      "Episode 390 finished. Total reward: 100.0 (100 timesteps)\n",
      "Episode 391 finished. Total reward: 100.0 (100 timesteps)\n",
      "Episode 392 finished. Total reward: 99.0 (99 timesteps)\n",
      "Episode 393 finished. Total reward: 100.0 (100 timesteps)\n",
      "Episode 394 finished. Total reward: 100.0 (100 timesteps)\n",
      "Episode 395 finished. Total reward: 100.0 (100 timesteps)\n",
      "Episode 396 finished. Total reward: 100.0 (100 timesteps)\n",
      "Episode 397 finished. Total reward: 100.0 (100 timesteps)\n",
      "Episode 398 finished. Total reward: 100.0 (100 timesteps)\n",
      "Episode 399 finished. Total reward: 100.0 (100 timesteps)\n",
      "Updating the policy...\n",
      "Updating finished!\n",
      "Episode 400 finished. Total reward: 100.0 (100 timesteps)\n",
      "Episode 401 finished. Total reward: 100.0 (100 timesteps)\n",
      "Episode 402 finished. Total reward: 100.0 (100 timesteps)\n",
      "Episode 403 finished. Total reward: 100.0 (100 timesteps)\n",
      "Episode 404 finished. Total reward: 100.0 (100 timesteps)\n",
      "Episode 405 finished. Total reward: 100.0 (100 timesteps)\n",
      "Episode 406 finished. Total reward: 100.0 (100 timesteps)\n",
      "Episode 407 finished. Total reward: 100.0 (100 timesteps)\n",
      "Episode 408 finished. Total reward: 100.0 (100 timesteps)\n",
      "Episode 409 finished. Total reward: 100.0 (100 timesteps)\n",
      "Episode 410 finished. Total reward: 100.0 (100 timesteps)\n",
      "Episode 411 finished. Total reward: 100.0 (100 timesteps)\n",
      "Episode 412 finished. Total reward: 100.0 (100 timesteps)\n",
      "Episode 413 finished. Total reward: 100.0 (100 timesteps)\n",
      "Episode 414 finished. Total reward: 100.0 (100 timesteps)\n",
      "Episode 415 finished. Total reward: 100.0 (100 timesteps)\n",
      "Episode 416 finished. Total reward: 100.0 (100 timesteps)\n",
      "Episode 417 finished. Total reward: 100.0 (100 timesteps)\n",
      "Episode 418 finished. Total reward: 100.0 (100 timesteps)\n",
      "Episode 419 finished. Total reward: 100.0 (100 timesteps)\n",
      "Updating the policy...\n",
      "Updating finished!\n",
      "Episode 420 finished. Total reward: 70.0 (70 timesteps)\n",
      "Episode 421 finished. Total reward: 24.0 (24 timesteps)\n",
      "Episode 422 finished. Total reward: 50.0 (50 timesteps)\n",
      "Episode 423 finished. Total reward: 100.0 (100 timesteps)\n",
      "Episode 424 finished. Total reward: 100.0 (100 timesteps)\n",
      "Episode 425 finished. Total reward: 54.0 (54 timesteps)\n",
      "Episode 426 finished. Total reward: 25.0 (25 timesteps)\n",
      "Episode 427 finished. Total reward: 23.0 (23 timesteps)\n",
      "Episode 428 finished. Total reward: 67.0 (67 timesteps)\n",
      "Episode 429 finished. Total reward: 69.0 (69 timesteps)\n",
      "Episode 430 finished. Total reward: 100.0 (100 timesteps)\n",
      "Episode 431 finished. Total reward: 17.0 (17 timesteps)\n",
      "Episode 432 finished. Total reward: 92.0 (92 timesteps)\n",
      "Episode 433 finished. Total reward: 100.0 (100 timesteps)\n",
      "Episode 434 finished. Total reward: 38.0 (38 timesteps)\n",
      "Episode 435 finished. Total reward: 100.0 (100 timesteps)\n",
      "Episode 436 finished. Total reward: 30.0 (30 timesteps)\n",
      "Episode 437 finished. Total reward: 66.0 (66 timesteps)\n",
      "Episode 438 finished. Total reward: 41.0 (41 timesteps)\n",
      "Episode 439 finished. Total reward: 100.0 (100 timesteps)\n",
      "Episode 440 finished. Total reward: 13.0 (13 timesteps)\n",
      "Episode 441 finished. Total reward: 48.0 (48 timesteps)\n",
      "Episode 442 finished. Total reward: 100.0 (100 timesteps)\n",
      "Episode 443 finished. Total reward: 10.0 (10 timesteps)\n",
      "Episode 444 finished. Total reward: 29.0 (29 timesteps)\n",
      "Episode 445 finished. Total reward: 25.0 (25 timesteps)\n",
      "Episode 446 finished. Total reward: 21.0 (21 timesteps)\n",
      "Episode 447 finished. Total reward: 17.0 (17 timesteps)\n",
      "Episode 448 finished. Total reward: 50.0 (50 timesteps)\n",
      "Episode 449 finished. Total reward: 100.0 (100 timesteps)\n",
      "Episode 450 finished. Total reward: 38.0 (38 timesteps)\n",
      "Episode 451 finished. Total reward: 30.0 (30 timesteps)\n",
      "Episode 452 finished. Total reward: 63.0 (63 timesteps)\n",
      "Episode 453 finished. Total reward: 13.0 (13 timesteps)\n",
      "Episode 454 finished. Total reward: 12.0 (12 timesteps)\n",
      "Episode 455 finished. Total reward: 44.0 (44 timesteps)\n",
      "Episode 456 finished. Total reward: 29.0 (29 timesteps)\n",
      "Episode 457 finished. Total reward: 20.0 (20 timesteps)\n",
      "Episode 458 finished. Total reward: 100.0 (100 timesteps)\n",
      "Updating the policy...\n",
      "Updating finished!\n",
      "Episode 459 finished. Total reward: 100.0 (100 timesteps)\n",
      "Episode 460 finished. Total reward: 100.0 (100 timesteps)\n",
      "Episode 461 finished. Total reward: 47.0 (47 timesteps)\n",
      "Episode 462 finished. Total reward: 100.0 (100 timesteps)\n",
      "Episode 463 finished. Total reward: 34.0 (34 timesteps)\n",
      "Episode 464 finished. Total reward: 100.0 (100 timesteps)\n",
      "Episode 465 finished. Total reward: 100.0 (100 timesteps)\n",
      "Episode 466 finished. Total reward: 27.0 (27 timesteps)\n",
      "Episode 467 finished. Total reward: 100.0 (100 timesteps)\n",
      "Episode 468 finished. Total reward: 100.0 (100 timesteps)\n",
      "Episode 469 finished. Total reward: 100.0 (100 timesteps)\n",
      "Episode 470 finished. Total reward: 16.0 (16 timesteps)\n",
      "Episode 471 finished. Total reward: 100.0 (100 timesteps)\n",
      "Episode 472 finished. Total reward: 100.0 (100 timesteps)\n",
      "Episode 473 finished. Total reward: 100.0 (100 timesteps)\n",
      "Episode 474 finished. Total reward: 100.0 (100 timesteps)\n",
      "Episode 475 finished. Total reward: 100.0 (100 timesteps)\n",
      "Episode 476 finished. Total reward: 100.0 (100 timesteps)\n",
      "Episode 477 finished. Total reward: 100.0 (100 timesteps)\n",
      "Episode 478 finished. Total reward: 100.0 (100 timesteps)\n",
      "Episode 479 finished. Total reward: 90.0 (90 timesteps)\n",
      "Episode 480 finished. Total reward: 100.0 (100 timesteps)\n",
      "Updating the policy...\n",
      "Updating finished!\n",
      "Episode 481 finished. Total reward: 100.0 (100 timesteps)\n",
      "Episode 482 finished. Total reward: 19.0 (19 timesteps)\n",
      "Episode 483 finished. Total reward: 100.0 (100 timesteps)\n",
      "Episode 484 finished. Total reward: 100.0 (100 timesteps)\n",
      "Episode 485 finished. Total reward: 19.0 (19 timesteps)\n",
      "Episode 486 finished. Total reward: 100.0 (100 timesteps)\n",
      "Episode 487 finished. Total reward: 68.0 (68 timesteps)\n",
      "Episode 488 finished. Total reward: 100.0 (100 timesteps)\n",
      "Episode 489 finished. Total reward: 100.0 (100 timesteps)\n",
      "Episode 490 finished. Total reward: 46.0 (46 timesteps)\n",
      "Episode 491 finished. Total reward: 100.0 (100 timesteps)\n",
      "Episode 492 finished. Total reward: 100.0 (100 timesteps)\n",
      "Episode 493 finished. Total reward: 100.0 (100 timesteps)\n",
      "Episode 494 finished. Total reward: 100.0 (100 timesteps)\n",
      "Episode 495 finished. Total reward: 100.0 (100 timesteps)\n",
      "Episode 496 finished. Total reward: 100.0 (100 timesteps)\n",
      "Episode 497 finished. Total reward: 100.0 (100 timesteps)\n",
      "Episode 498 finished. Total reward: 100.0 (100 timesteps)\n",
      "Episode 499 finished. Total reward: 100.0 (100 timesteps)\n",
      "Episode 500 finished. Total reward: 100.0 (100 timesteps)\n",
      "Model saved to /notebooks/rl2023/ex1/results/model/CartPole-v1_params.pt\n",
      "------Training finished.------\n",
      "Numpy/Torch/Random Seed:  478\n",
      "Loading model from /notebooks/rl2023/ex1/results/model/CartPole-v1_params.pt ...\n",
      "Testing...\n",
      "Test ep reward: 163.0 seed: 675\n",
      "Test ep reward: 211.0 seed: 336\n",
      "Test ep reward: 161.0 seed: 904\n",
      "Test ep reward: 154.0 seed: 935\n",
      "Test ep reward: 187.0 seed: 641\n",
      "Test ep reward: 163.0 seed: 552\n",
      "Test ep reward: 168.0 seed: 615\n",
      "Test ep reward: 163.0 seed: 911\n",
      "Test ep reward: 152.0 seed: 910\n",
      "Test ep reward: 167.0 seed: 305\n",
      "Average test reward: 168.9 episode length: 168.9\n",
      "Numpy/Torch/Random Seed:  2023\n",
      "Loading model from /notebooks/rl2023/ex1/results/model/CartPole-v1_params.pt ...\n",
      "Testing...\n",
      "Test ep reward: 149.0 seed: 2023\n",
      "Average test reward: 149.0 episode length: 149.0\n",
      "Numpy/Torch/Random Seed:  856\n"
     ]
    },
    {
     "data": {
      "text/html": [
       "Changes to your `wandb` environment variables will be ignored because your `wandb` session has already started. For more information on how to modify your settings with `wandb.init()` arguments, please refer to <a href='https://wandb.me/wandb-init' target=\"_blank\">the W&B docs</a>."
      ],
      "text/plain": [
       "<IPython.core.display.HTML object>"
      ]
     },
     "metadata": {},
     "output_type": "display_data"
    },
    {
     "data": {
      "text/html": [
       "Finishing last run (ID:12b68q6c) before initializing another..."
      ],
      "text/plain": [
       "<IPython.core.display.HTML object>"
      ]
     },
     "metadata": {},
     "output_type": "display_data"
    },
    {
     "data": {
      "text/html": [
       "Waiting for W&B process to finish... <strong style=\"color:green\">(success).</strong>"
      ],
      "text/plain": [
       "<IPython.core.display.HTML object>"
      ]
     },
     "metadata": {},
     "output_type": "display_data"
    },
    {
     "data": {
      "application/vnd.jupyter.widget-view+json": {
       "model_id": "7b60ac2508674e6dbbbd3810ac73e307",
       "version_major": 2,
       "version_minor": 0
      },
      "text/plain": [
       "VBox(children=(Label(value='0.004 MB of 0.038 MB uploaded (0.000 MB deduped)\\r'), FloatProgress(value=0.103622…"
      ]
     },
     "metadata": {},
     "output_type": "display_data"
    },
    {
     "data": {
      "text/html": [
       "<style>\n",
       "    table.wandb td:nth-child(1) { padding: 0 10px; text-align: left ; width: auto;} td:nth-child(2) {text-align: left ; width: 100%}\n",
       "    .wandb-row { display: flex; flex-direction: row; flex-wrap: wrap; justify-content: flex-start; width: 100% }\n",
       "    .wandb-col { display: flex; flex-direction: column; flex-basis: 100%; flex: 1; padding: 10px; }\n",
       "    </style>\n",
       "<div class=\"wandb-row\"><div class=\"wandb-col\"><h3>Run history:</h3><br/><table class=\"wandb\"><tr><td>ep_reward</td><td>▂▁▁▁▁▁▂▂▂▁▂▄▂▁▆▃▆█▇▂▃▆██▃██████████▂████</td></tr><tr><td>episodes</td><td>▁▁▁▂▂▂▂▂▂▃▃▃▃▃▄▄▄▄▄▄▅▅▅▅▅▅▆▆▆▆▆▇▇▇▇▇▇███</td></tr><tr><td>num_updates</td><td>▁▁▁▁▁▁▁▁▁▁▁▁▁▁▁▁▁▁▁▁▁▁▁▁▁▁▁▁▁▁▁▁▁▁▁▁█▁▁▁</td></tr><tr><td>timesteps</td><td>▂▁▁▁▁▁▂▂▂▁▂▄▂▁▆▃▆█▇▂▃▆██▃██████████▂████</td></tr></table><br/></div><div class=\"wandb-col\"><h3>Run summary:</h3><br/><table class=\"wandb\"><tr><td>ep_reward</td><td>100.0</td></tr><tr><td>episodes</td><td>500</td></tr><tr><td>num_updates</td><td>0</td></tr><tr><td>timesteps</td><td>100</td></tr></table><br/></div></div>"
      ],
      "text/plain": [
       "<IPython.core.display.HTML object>"
      ]
     },
     "metadata": {},
     "output_type": "display_data"
    },
    {
     "data": {
      "text/html": [
       " View run <strong style=\"color:#cdcd00\">ex1-CartPole-v1-None-1694945287</strong> at: <a href='https://wandb.ai/xinyu-zhang/rl_aalto/runs/12b68q6c' target=\"_blank\">https://wandb.ai/xinyu-zhang/rl_aalto/runs/12b68q6c</a><br/>Synced 6 W&B file(s), 0 media file(s), 0 artifact file(s) and 0 other file(s)"
      ],
      "text/plain": [
       "<IPython.core.display.HTML object>"
      ]
     },
     "metadata": {},
     "output_type": "display_data"
    },
    {
     "data": {
      "text/html": [
       "Find logs at: <code>./wandb/run-20230917_130807-12b68q6c/logs</code>"
      ],
      "text/plain": [
       "<IPython.core.display.HTML object>"
      ]
     },
     "metadata": {},
     "output_type": "display_data"
    },
    {
     "data": {
      "text/html": [
       "Successfully finished last run (ID:12b68q6c). Initializing new run:<br/>"
      ],
      "text/plain": [
       "<IPython.core.display.HTML object>"
      ]
     },
     "metadata": {},
     "output_type": "display_data"
    },
    {
     "data": {
      "application/vnd.jupyter.widget-view+json": {
       "model_id": "055b645c16c04d669b0d24dfdff1a325",
       "version_major": 2,
       "version_minor": 0
      },
      "text/plain": [
       "VBox(children=(Label(value='Waiting for wandb.init()...\\r'), FloatProgress(value=0.016669688497980437, max=1.0…"
      ]
     },
     "metadata": {},
     "output_type": "display_data"
    },
    {
     "data": {
      "text/html": [
       "wandb version 0.15.10 is available!  To upgrade, please run:\n",
       " $ pip install wandb --upgrade"
      ],
      "text/plain": [
       "<IPython.core.display.HTML object>"
      ]
     },
     "metadata": {},
     "output_type": "display_data"
    },
    {
     "data": {
      "text/html": [
       "Tracking run with wandb version 0.15.9"
      ],
      "text/plain": [
       "<IPython.core.display.HTML object>"
      ]
     },
     "metadata": {},
     "output_type": "display_data"
    },
    {
     "data": {
      "text/html": [
       "Run data is saved locally in <code>/notebooks/rl2023/ex1/wandb/run-20230917_131200-ht7w233z</code>"
      ],
      "text/plain": [
       "<IPython.core.display.HTML object>"
      ]
     },
     "metadata": {},
     "output_type": "display_data"
    },
    {
     "data": {
      "text/html": [
       "Syncing run <strong><a href='https://wandb.ai/xinyu-zhang/rl_aalto/runs/ht7w233z' target=\"_blank\">ex1-CartPole-v1-None-1694945520</a></strong> to <a href='https://wandb.ai/xinyu-zhang/rl_aalto' target=\"_blank\">Weights & Biases</a> (<a href='https://wandb.me/run' target=\"_blank\">docs</a>)<br/>"
      ],
      "text/plain": [
       "<IPython.core.display.HTML object>"
      ]
     },
     "metadata": {},
     "output_type": "display_data"
    },
    {
     "data": {
      "text/html": [
       " View project at <a href='https://wandb.ai/xinyu-zhang/rl_aalto' target=\"_blank\">https://wandb.ai/xinyu-zhang/rl_aalto</a>"
      ],
      "text/plain": [
       "<IPython.core.display.HTML object>"
      ]
     },
     "metadata": {},
     "output_type": "display_data"
    },
    {
     "data": {
      "text/html": [
       " View run at <a href='https://wandb.ai/xinyu-zhang/rl_aalto/runs/ht7w233z' target=\"_blank\">https://wandb.ai/xinyu-zhang/rl_aalto/runs/ht7w233z</a>"
      ],
      "text/plain": [
       "<IPython.core.display.HTML object>"
      ]
     },
     "metadata": {},
     "output_type": "display_data"
    },
    {
     "name": "stdout",
     "output_type": "stream",
     "text": [
      "Configuration Settings: {'exp_name': 'ex1', 'seed': None, 'env_name': 'CartPole-v1', 'max_episode_steps': 100, 'train_episodes': 500, 'batch_size': 64, 'min_update_samples': 2000, 'testing': False, 'model_path': 'default', 'save_video': True, 'save_model': True, 'save_logging': True, 'silent': False, 'use_wandb': True, 'run_suffix': 0}\n",
      "Training device: cpu\n",
      "Observation space dimensions: 4\n",
      "Action space dimensions: 2\n",
      "\n",
      "Episode 0 finished. Total reward: 20.0 (20 timesteps)\n",
      "Episode 1 finished. Total reward: 23.0 (23 timesteps)\n",
      "Episode 2 finished. Total reward: 18.0 (18 timesteps)\n",
      "Episode 3 finished. Total reward: 18.0 (18 timesteps)\n",
      "Episode 4 finished. Total reward: 12.0 (12 timesteps)\n",
      "Episode 5 finished. Total reward: 29.0 (29 timesteps)\n",
      "Episode 6 finished. Total reward: 15.0 (15 timesteps)\n",
      "Episode 7 finished. Total reward: 12.0 (12 timesteps)\n",
      "Episode 8 finished. Total reward: 53.0 (53 timesteps)\n",
      "Episode 9 finished. Total reward: 12.0 (12 timesteps)\n",
      "Episode 10 finished. Total reward: 28.0 (28 timesteps)\n",
      "Episode 11 finished. Total reward: 12.0 (12 timesteps)\n",
      "Episode 12 finished. Total reward: 25.0 (25 timesteps)\n",
      "Episode 13 finished. Total reward: 11.0 (11 timesteps)\n",
      "Episode 14 finished. Total reward: 20.0 (20 timesteps)\n",
      "Episode 15 finished. Total reward: 47.0 (47 timesteps)\n",
      "Episode 16 finished. Total reward: 20.0 (20 timesteps)\n",
      "Episode 17 finished. Total reward: 11.0 (11 timesteps)\n",
      "Episode 18 finished. Total reward: 18.0 (18 timesteps)\n",
      "Episode 19 finished. Total reward: 32.0 (32 timesteps)\n",
      "Episode 20 finished. Total reward: 51.0 (51 timesteps)\n",
      "Episode 21 finished. Total reward: 41.0 (41 timesteps)\n",
      "Episode 22 finished. Total reward: 15.0 (15 timesteps)\n",
      "Episode 23 finished. Total reward: 11.0 (11 timesteps)\n",
      "Episode 24 finished. Total reward: 48.0 (48 timesteps)\n",
      "Episode 25 finished. Total reward: 33.0 (33 timesteps)\n",
      "Episode 26 finished. Total reward: 32.0 (32 timesteps)\n",
      "Episode 27 finished. Total reward: 11.0 (11 timesteps)\n",
      "Episode 28 finished. Total reward: 14.0 (14 timesteps)\n",
      "Episode 29 finished. Total reward: 34.0 (34 timesteps)\n",
      "Episode 30 finished. Total reward: 29.0 (29 timesteps)\n",
      "Episode 31 finished. Total reward: 21.0 (21 timesteps)\n",
      "Episode 32 finished. Total reward: 16.0 (16 timesteps)\n",
      "Episode 33 finished. Total reward: 25.0 (25 timesteps)\n",
      "Episode 34 finished. Total reward: 10.0 (10 timesteps)\n",
      "Episode 35 finished. Total reward: 17.0 (17 timesteps)\n",
      "Episode 36 finished. Total reward: 23.0 (23 timesteps)\n",
      "Episode 37 finished. Total reward: 13.0 (13 timesteps)\n",
      "Episode 38 finished. Total reward: 14.0 (14 timesteps)\n",
      "Episode 39 finished. Total reward: 21.0 (21 timesteps)\n",
      "Episode 40 finished. Total reward: 100.0 (100 timesteps)\n",
      "Episode 41 finished. Total reward: 13.0 (13 timesteps)\n",
      "Episode 42 finished. Total reward: 21.0 (21 timesteps)\n",
      "Episode 43 finished. Total reward: 15.0 (15 timesteps)\n",
      "Episode 44 finished. Total reward: 14.0 (14 timesteps)\n",
      "Episode 45 finished. Total reward: 19.0 (19 timesteps)\n",
      "Episode 46 finished. Total reward: 54.0 (54 timesteps)\n",
      "Episode 47 finished. Total reward: 25.0 (25 timesteps)\n",
      "Episode 48 finished. Total reward: 17.0 (17 timesteps)\n",
      "Episode 49 finished. Total reward: 13.0 (13 timesteps)\n",
      "Episode 50 finished. Total reward: 15.0 (15 timesteps)\n",
      "Episode 51 finished. Total reward: 15.0 (15 timesteps)\n",
      "Episode 52 finished. Total reward: 26.0 (26 timesteps)\n",
      "Episode 53 finished. Total reward: 22.0 (22 timesteps)\n",
      "Episode 54 finished. Total reward: 12.0 (12 timesteps)\n",
      "Episode 55 finished. Total reward: 23.0 (23 timesteps)\n",
      "Episode 56 finished. Total reward: 12.0 (12 timesteps)\n",
      "Episode 57 finished. Total reward: 23.0 (23 timesteps)\n",
      "Episode 58 finished. Total reward: 18.0 (18 timesteps)\n",
      "Episode 59 finished. Total reward: 15.0 (15 timesteps)\n",
      "Episode 60 finished. Total reward: 12.0 (12 timesteps)\n",
      "Episode 61 finished. Total reward: 22.0 (22 timesteps)\n",
      "Episode 62 finished. Total reward: 33.0 (33 timesteps)\n",
      "Episode 63 finished. Total reward: 19.0 (19 timesteps)\n",
      "Episode 64 finished. Total reward: 30.0 (30 timesteps)\n",
      "Episode 65 finished. Total reward: 28.0 (28 timesteps)\n",
      "Episode 66 finished. Total reward: 16.0 (16 timesteps)\n",
      "Episode 67 finished. Total reward: 36.0 (36 timesteps)\n",
      "Episode 68 finished. Total reward: 59.0 (59 timesteps)\n",
      "Episode 69 finished. Total reward: 22.0 (22 timesteps)\n",
      "Episode 70 finished. Total reward: 14.0 (14 timesteps)\n",
      "Episode 71 finished. Total reward: 20.0 (20 timesteps)\n",
      "Episode 72 finished. Total reward: 15.0 (15 timesteps)\n",
      "Episode 73 finished. Total reward: 11.0 (11 timesteps)\n",
      "Episode 74 finished. Total reward: 21.0 (21 timesteps)\n",
      "Episode 75 finished. Total reward: 9.0 (9 timesteps)\n",
      "Episode 76 finished. Total reward: 17.0 (17 timesteps)\n",
      "Episode 77 finished. Total reward: 11.0 (11 timesteps)\n",
      "Episode 78 finished. Total reward: 11.0 (11 timesteps)\n",
      "Episode 79 finished. Total reward: 36.0 (36 timesteps)\n",
      "Episode 80 finished. Total reward: 13.0 (13 timesteps)\n",
      "Episode 81 finished. Total reward: 23.0 (23 timesteps)\n",
      "Episode 82 finished. Total reward: 21.0 (21 timesteps)\n",
      "Episode 83 finished. Total reward: 11.0 (11 timesteps)\n",
      "Episode 84 finished. Total reward: 27.0 (27 timesteps)\n",
      "Episode 85 finished. Total reward: 11.0 (11 timesteps)\n",
      "Episode 86 finished. Total reward: 18.0 (18 timesteps)\n",
      "Episode 87 finished. Total reward: 30.0 (30 timesteps)\n",
      "Updating the policy...\n",
      "Updating finished!\n",
      "Episode 88 finished. Total reward: 32.0 (32 timesteps)\n",
      "Episode 89 finished. Total reward: 38.0 (38 timesteps)\n",
      "Episode 90 finished. Total reward: 39.0 (39 timesteps)\n",
      "Episode 91 finished. Total reward: 26.0 (26 timesteps)\n",
      "Episode 92 finished. Total reward: 15.0 (15 timesteps)\n",
      "Episode 93 finished. Total reward: 31.0 (31 timesteps)\n",
      "Episode 94 finished. Total reward: 34.0 (34 timesteps)\n",
      "Episode 95 finished. Total reward: 45.0 (45 timesteps)\n",
      "Episode 96 finished. Total reward: 30.0 (30 timesteps)\n",
      "Episode 97 finished. Total reward: 24.0 (24 timesteps)\n",
      "Episode 98 finished. Total reward: 25.0 (25 timesteps)\n",
      "Episode 99 finished. Total reward: 13.0 (13 timesteps)\n",
      "Episode 100 finished. Total reward: 100.0 (100 timesteps)\n",
      "Episode 101 finished. Total reward: 16.0 (16 timesteps)\n",
      "Episode 102 finished. Total reward: 51.0 (51 timesteps)\n",
      "Episode 103 finished. Total reward: 26.0 (26 timesteps)\n",
      "Episode 104 finished. Total reward: 49.0 (49 timesteps)\n",
      "Episode 105 finished. Total reward: 50.0 (50 timesteps)\n",
      "Episode 106 finished. Total reward: 25.0 (25 timesteps)\n",
      "Episode 107 finished. Total reward: 12.0 (12 timesteps)\n",
      "Episode 108 finished. Total reward: 48.0 (48 timesteps)\n",
      "Episode 109 finished. Total reward: 35.0 (35 timesteps)\n",
      "Episode 110 finished. Total reward: 42.0 (42 timesteps)\n",
      "Episode 111 finished. Total reward: 26.0 (26 timesteps)\n",
      "Episode 112 finished. Total reward: 15.0 (15 timesteps)\n",
      "Episode 113 finished. Total reward: 19.0 (19 timesteps)\n",
      "Episode 114 finished. Total reward: 66.0 (66 timesteps)\n",
      "Episode 115 finished. Total reward: 14.0 (14 timesteps)\n",
      "Episode 116 finished. Total reward: 41.0 (41 timesteps)\n",
      "Episode 117 finished. Total reward: 19.0 (19 timesteps)\n",
      "Episode 118 finished. Total reward: 11.0 (11 timesteps)\n",
      "Episode 119 finished. Total reward: 25.0 (25 timesteps)\n",
      "Episode 120 finished. Total reward: 55.0 (55 timesteps)\n",
      "Episode 121 finished. Total reward: 12.0 (12 timesteps)\n",
      "Episode 122 finished. Total reward: 22.0 (22 timesteps)\n",
      "Episode 123 finished. Total reward: 11.0 (11 timesteps)\n",
      "Episode 124 finished. Total reward: 17.0 (17 timesteps)\n",
      "Episode 125 finished. Total reward: 48.0 (48 timesteps)\n",
      "Episode 126 finished. Total reward: 36.0 (36 timesteps)\n",
      "Episode 127 finished. Total reward: 17.0 (17 timesteps)\n",
      "Episode 128 finished. Total reward: 41.0 (41 timesteps)\n",
      "Episode 129 finished. Total reward: 13.0 (13 timesteps)\n",
      "Episode 130 finished. Total reward: 19.0 (19 timesteps)\n",
      "Episode 131 finished. Total reward: 56.0 (56 timesteps)\n",
      "Episode 132 finished. Total reward: 70.0 (70 timesteps)\n",
      "Episode 133 finished. Total reward: 17.0 (17 timesteps)\n",
      "Episode 134 finished. Total reward: 28.0 (28 timesteps)\n",
      "Episode 135 finished. Total reward: 88.0 (88 timesteps)\n",
      "Episode 136 finished. Total reward: 65.0 (65 timesteps)\n",
      "Episode 137 finished. Total reward: 19.0 (19 timesteps)\n",
      "Episode 138 finished. Total reward: 25.0 (25 timesteps)\n",
      "Episode 139 finished. Total reward: 27.0 (27 timesteps)\n",
      "Episode 140 finished. Total reward: 24.0 (24 timesteps)\n",
      "Episode 141 finished. Total reward: 25.0 (25 timesteps)\n",
      "Episode 142 finished. Total reward: 59.0 (59 timesteps)\n",
      "Episode 143 finished. Total reward: 12.0 (12 timesteps)\n",
      "Episode 144 finished. Total reward: 14.0 (14 timesteps)\n",
      "Episode 145 finished. Total reward: 10.0 (10 timesteps)\n",
      "Episode 146 finished. Total reward: 32.0 (32 timesteps)\n",
      "Episode 147 finished. Total reward: 15.0 (15 timesteps)\n",
      "Episode 148 finished. Total reward: 14.0 (14 timesteps)\n",
      "Episode 149 finished. Total reward: 30.0 (30 timesteps)\n",
      "Episode 150 finished. Total reward: 18.0 (18 timesteps)\n",
      "Updating the policy...\n",
      "Updating finished!\n",
      "Episode 151 finished. Total reward: 66.0 (66 timesteps)\n",
      "Episode 152 finished. Total reward: 30.0 (30 timesteps)\n",
      "Episode 153 finished. Total reward: 20.0 (20 timesteps)\n",
      "Episode 154 finished. Total reward: 28.0 (28 timesteps)\n",
      "Episode 155 finished. Total reward: 17.0 (17 timesteps)\n",
      "Episode 156 finished. Total reward: 73.0 (73 timesteps)\n",
      "Episode 157 finished. Total reward: 15.0 (15 timesteps)\n",
      "Episode 158 finished. Total reward: 11.0 (11 timesteps)\n",
      "Episode 159 finished. Total reward: 18.0 (18 timesteps)\n",
      "Episode 160 finished. Total reward: 44.0 (44 timesteps)\n",
      "Episode 161 finished. Total reward: 51.0 (51 timesteps)\n",
      "Episode 162 finished. Total reward: 20.0 (20 timesteps)\n",
      "Episode 163 finished. Total reward: 100.0 (100 timesteps)\n",
      "Episode 164 finished. Total reward: 100.0 (100 timesteps)\n",
      "Episode 165 finished. Total reward: 30.0 (30 timesteps)\n",
      "Episode 166 finished. Total reward: 28.0 (28 timesteps)\n",
      "Episode 167 finished. Total reward: 65.0 (65 timesteps)\n",
      "Episode 168 finished. Total reward: 11.0 (11 timesteps)\n",
      "Episode 169 finished. Total reward: 46.0 (46 timesteps)\n",
      "Episode 170 finished. Total reward: 16.0 (16 timesteps)\n",
      "Episode 171 finished. Total reward: 81.0 (81 timesteps)\n",
      "Episode 172 finished. Total reward: 46.0 (46 timesteps)\n",
      "Episode 173 finished. Total reward: 26.0 (26 timesteps)\n",
      "Episode 174 finished. Total reward: 25.0 (25 timesteps)\n",
      "Episode 175 finished. Total reward: 14.0 (14 timesteps)\n",
      "Episode 176 finished. Total reward: 34.0 (34 timesteps)\n",
      "Episode 177 finished. Total reward: 25.0 (25 timesteps)\n",
      "Episode 178 finished. Total reward: 21.0 (21 timesteps)\n",
      "Episode 179 finished. Total reward: 100.0 (100 timesteps)\n",
      "Episode 180 finished. Total reward: 20.0 (20 timesteps)\n",
      "Episode 181 finished. Total reward: 30.0 (30 timesteps)\n",
      "Episode 182 finished. Total reward: 82.0 (82 timesteps)\n",
      "Episode 183 finished. Total reward: 33.0 (33 timesteps)\n",
      "Episode 184 finished. Total reward: 34.0 (34 timesteps)\n",
      "Episode 185 finished. Total reward: 19.0 (19 timesteps)\n",
      "Episode 186 finished. Total reward: 95.0 (95 timesteps)\n",
      "Episode 187 finished. Total reward: 31.0 (31 timesteps)\n",
      "Episode 188 finished. Total reward: 54.0 (54 timesteps)\n",
      "Episode 189 finished. Total reward: 30.0 (30 timesteps)\n",
      "Episode 190 finished. Total reward: 100.0 (100 timesteps)\n",
      "Episode 191 finished. Total reward: 27.0 (27 timesteps)\n",
      "Episode 192 finished. Total reward: 22.0 (22 timesteps)\n",
      "Episode 193 finished. Total reward: 34.0 (34 timesteps)\n",
      "Episode 194 finished. Total reward: 100.0 (100 timesteps)\n",
      "Episode 195 finished. Total reward: 69.0 (69 timesteps)\n",
      "Episode 196 finished. Total reward: 14.0 (14 timesteps)\n",
      "Updating the policy...\n",
      "Updating finished!\n",
      "Episode 197 finished. Total reward: 88.0 (88 timesteps)\n",
      "Episode 198 finished. Total reward: 30.0 (30 timesteps)\n",
      "Episode 199 finished. Total reward: 100.0 (100 timesteps)\n",
      "Episode 200 finished. Total reward: 65.0 (65 timesteps)\n",
      "Episode 201 finished. Total reward: 44.0 (44 timesteps)\n",
      "Episode 202 finished. Total reward: 37.0 (37 timesteps)\n",
      "Episode 203 finished. Total reward: 18.0 (18 timesteps)\n",
      "Episode 204 finished. Total reward: 97.0 (97 timesteps)\n",
      "Episode 205 finished. Total reward: 28.0 (28 timesteps)\n",
      "Episode 206 finished. Total reward: 24.0 (24 timesteps)\n",
      "Episode 207 finished. Total reward: 100.0 (100 timesteps)\n",
      "Episode 208 finished. Total reward: 66.0 (66 timesteps)\n",
      "Episode 209 finished. Total reward: 45.0 (45 timesteps)\n",
      "Episode 210 finished. Total reward: 100.0 (100 timesteps)\n",
      "Episode 211 finished. Total reward: 81.0 (81 timesteps)\n",
      "Episode 212 finished. Total reward: 100.0 (100 timesteps)\n",
      "Episode 213 finished. Total reward: 64.0 (64 timesteps)\n",
      "Episode 214 finished. Total reward: 35.0 (35 timesteps)\n",
      "Episode 215 finished. Total reward: 20.0 (20 timesteps)\n",
      "Episode 216 finished. Total reward: 59.0 (59 timesteps)\n",
      "Episode 217 finished. Total reward: 82.0 (82 timesteps)\n",
      "Episode 218 finished. Total reward: 21.0 (21 timesteps)\n",
      "Episode 219 finished. Total reward: 100.0 (100 timesteps)\n",
      "Episode 220 finished. Total reward: 20.0 (20 timesteps)\n",
      "Episode 221 finished. Total reward: 100.0 (100 timesteps)\n",
      "Episode 222 finished. Total reward: 43.0 (43 timesteps)\n",
      "Episode 223 finished. Total reward: 100.0 (100 timesteps)\n",
      "Episode 224 finished. Total reward: 100.0 (100 timesteps)\n",
      "Episode 225 finished. Total reward: 22.0 (22 timesteps)\n",
      "Episode 226 finished. Total reward: 82.0 (82 timesteps)\n",
      "Episode 227 finished. Total reward: 44.0 (44 timesteps)\n",
      "Episode 228 finished. Total reward: 41.0 (41 timesteps)\n",
      "Episode 229 finished. Total reward: 42.0 (42 timesteps)\n",
      "Episode 230 finished. Total reward: 82.0 (82 timesteps)\n",
      "Updating the policy...\n",
      "Updating finished!\n",
      "Episode 231 finished. Total reward: 100.0 (100 timesteps)\n",
      "Episode 232 finished. Total reward: 85.0 (85 timesteps)\n",
      "Episode 233 finished. Total reward: 47.0 (47 timesteps)\n",
      "Episode 234 finished. Total reward: 39.0 (39 timesteps)\n",
      "Episode 235 finished. Total reward: 100.0 (100 timesteps)\n",
      "Episode 236 finished. Total reward: 100.0 (100 timesteps)\n",
      "Episode 237 finished. Total reward: 100.0 (100 timesteps)\n",
      "Episode 238 finished. Total reward: 82.0 (82 timesteps)\n",
      "Episode 239 finished. Total reward: 51.0 (51 timesteps)\n",
      "Episode 240 finished. Total reward: 100.0 (100 timesteps)\n",
      "Episode 241 finished. Total reward: 100.0 (100 timesteps)\n",
      "Episode 242 finished. Total reward: 100.0 (100 timesteps)\n",
      "Episode 243 finished. Total reward: 99.0 (99 timesteps)\n",
      "Episode 244 finished. Total reward: 100.0 (100 timesteps)\n",
      "Episode 245 finished. Total reward: 22.0 (22 timesteps)\n",
      "Episode 246 finished. Total reward: 100.0 (100 timesteps)\n",
      "Episode 247 finished. Total reward: 100.0 (100 timesteps)\n",
      "Episode 248 finished. Total reward: 23.0 (23 timesteps)\n",
      "Episode 249 finished. Total reward: 90.0 (90 timesteps)\n",
      "Episode 250 finished. Total reward: 78.0 (78 timesteps)\n",
      "Episode 251 finished. Total reward: 100.0 (100 timesteps)\n",
      "Episode 252 finished. Total reward: 100.0 (100 timesteps)\n",
      "Episode 253 finished. Total reward: 100.0 (100 timesteps)\n",
      "Updating the policy...\n",
      "Updating finished!\n",
      "Episode 254 finished. Total reward: 100.0 (100 timesteps)\n",
      "Episode 255 finished. Total reward: 100.0 (100 timesteps)\n",
      "Episode 256 finished. Total reward: 100.0 (100 timesteps)\n",
      "Episode 257 finished. Total reward: 100.0 (100 timesteps)\n",
      "Episode 258 finished. Total reward: 100.0 (100 timesteps)\n",
      "Episode 259 finished. Total reward: 100.0 (100 timesteps)\n",
      "Episode 260 finished. Total reward: 100.0 (100 timesteps)\n",
      "Episode 261 finished. Total reward: 100.0 (100 timesteps)\n",
      "Episode 262 finished. Total reward: 100.0 (100 timesteps)\n",
      "Episode 263 finished. Total reward: 100.0 (100 timesteps)\n",
      "Episode 264 finished. Total reward: 100.0 (100 timesteps)\n",
      "Episode 265 finished. Total reward: 63.0 (63 timesteps)\n",
      "Episode 266 finished. Total reward: 100.0 (100 timesteps)\n",
      "Episode 267 finished. Total reward: 100.0 (100 timesteps)\n",
      "Episode 268 finished. Total reward: 100.0 (100 timesteps)\n",
      "Episode 269 finished. Total reward: 100.0 (100 timesteps)\n",
      "Episode 270 finished. Total reward: 100.0 (100 timesteps)\n",
      "Episode 271 finished. Total reward: 30.0 (30 timesteps)\n",
      "Episode 272 finished. Total reward: 100.0 (100 timesteps)\n",
      "Episode 273 finished. Total reward: 95.0 (95 timesteps)\n",
      "Episode 274 finished. Total reward: 100.0 (100 timesteps)\n",
      "Episode 275 finished. Total reward: 100.0 (100 timesteps)\n",
      "Updating the policy...\n",
      "Updating finished!\n",
      "Episode 276 finished. Total reward: 31.0 (31 timesteps)\n",
      "Episode 277 finished. Total reward: 100.0 (100 timesteps)\n",
      "Episode 278 finished. Total reward: 100.0 (100 timesteps)\n",
      "Episode 279 finished. Total reward: 100.0 (100 timesteps)\n",
      "Episode 280 finished. Total reward: 58.0 (58 timesteps)\n",
      "Episode 281 finished. Total reward: 100.0 (100 timesteps)\n",
      "Episode 282 finished. Total reward: 100.0 (100 timesteps)\n",
      "Episode 283 finished. Total reward: 100.0 (100 timesteps)\n",
      "Episode 284 finished. Total reward: 54.0 (54 timesteps)\n",
      "Episode 285 finished. Total reward: 100.0 (100 timesteps)\n",
      "Episode 286 finished. Total reward: 46.0 (46 timesteps)\n",
      "Episode 287 finished. Total reward: 100.0 (100 timesteps)\n",
      "Episode 288 finished. Total reward: 100.0 (100 timesteps)\n",
      "Episode 289 finished. Total reward: 100.0 (100 timesteps)\n",
      "Episode 290 finished. Total reward: 40.0 (40 timesteps)\n",
      "Episode 291 finished. Total reward: 100.0 (100 timesteps)\n",
      "Episode 292 finished. Total reward: 100.0 (100 timesteps)\n",
      "Episode 293 finished. Total reward: 100.0 (100 timesteps)\n",
      "Episode 294 finished. Total reward: 100.0 (100 timesteps)\n",
      "Episode 295 finished. Total reward: 100.0 (100 timesteps)\n",
      "Episode 296 finished. Total reward: 100.0 (100 timesteps)\n",
      "Episode 297 finished. Total reward: 100.0 (100 timesteps)\n",
      "Updating the policy...\n",
      "Updating finished!\n",
      "Episode 298 finished. Total reward: 100.0 (100 timesteps)\n",
      "Episode 299 finished. Total reward: 100.0 (100 timesteps)\n",
      "Episode 300 finished. Total reward: 100.0 (100 timesteps)\n",
      "Episode 301 finished. Total reward: 100.0 (100 timesteps)\n",
      "Episode 302 finished. Total reward: 100.0 (100 timesteps)\n",
      "Episode 303 finished. Total reward: 100.0 (100 timesteps)\n",
      "Episode 304 finished. Total reward: 100.0 (100 timesteps)\n",
      "Episode 305 finished. Total reward: 100.0 (100 timesteps)\n",
      "Episode 306 finished. Total reward: 100.0 (100 timesteps)\n",
      "Episode 307 finished. Total reward: 100.0 (100 timesteps)\n",
      "Episode 308 finished. Total reward: 100.0 (100 timesteps)\n",
      "Episode 309 finished. Total reward: 44.0 (44 timesteps)\n",
      "Episode 310 finished. Total reward: 100.0 (100 timesteps)\n",
      "Episode 311 finished. Total reward: 100.0 (100 timesteps)\n",
      "Episode 312 finished. Total reward: 100.0 (100 timesteps)\n",
      "Episode 313 finished. Total reward: 100.0 (100 timesteps)\n",
      "Episode 314 finished. Total reward: 100.0 (100 timesteps)\n",
      "Episode 315 finished. Total reward: 100.0 (100 timesteps)\n",
      "Episode 316 finished. Total reward: 100.0 (100 timesteps)\n",
      "Episode 317 finished. Total reward: 100.0 (100 timesteps)\n",
      "Episode 318 finished. Total reward: 100.0 (100 timesteps)\n",
      "Updating the policy...\n",
      "Updating finished!\n",
      "Episode 319 finished. Total reward: 100.0 (100 timesteps)\n",
      "Episode 320 finished. Total reward: 100.0 (100 timesteps)\n",
      "Episode 321 finished. Total reward: 100.0 (100 timesteps)\n",
      "Episode 322 finished. Total reward: 100.0 (100 timesteps)\n",
      "Episode 323 finished. Total reward: 100.0 (100 timesteps)\n",
      "Episode 324 finished. Total reward: 100.0 (100 timesteps)\n",
      "Episode 325 finished. Total reward: 100.0 (100 timesteps)\n",
      "Episode 326 finished. Total reward: 100.0 (100 timesteps)\n",
      "Episode 327 finished. Total reward: 100.0 (100 timesteps)\n",
      "Episode 328 finished. Total reward: 100.0 (100 timesteps)\n",
      "Episode 329 finished. Total reward: 100.0 (100 timesteps)\n",
      "Episode 330 finished. Total reward: 100.0 (100 timesteps)\n",
      "Episode 331 finished. Total reward: 100.0 (100 timesteps)\n",
      "Episode 332 finished. Total reward: 100.0 (100 timesteps)\n",
      "Episode 333 finished. Total reward: 100.0 (100 timesteps)\n",
      "Episode 334 finished. Total reward: 30.0 (30 timesteps)\n",
      "Episode 335 finished. Total reward: 100.0 (100 timesteps)\n",
      "Episode 336 finished. Total reward: 100.0 (100 timesteps)\n",
      "Episode 337 finished. Total reward: 100.0 (100 timesteps)\n",
      "Episode 338 finished. Total reward: 100.0 (100 timesteps)\n",
      "Episode 339 finished. Total reward: 38.0 (38 timesteps)\n",
      "Updating the policy...\n",
      "Updating finished!\n",
      "Episode 340 finished. Total reward: 100.0 (100 timesteps)\n",
      "Episode 341 finished. Total reward: 100.0 (100 timesteps)\n",
      "Episode 342 finished. Total reward: 100.0 (100 timesteps)\n",
      "Episode 343 finished. Total reward: 100.0 (100 timesteps)\n",
      "Episode 344 finished. Total reward: 100.0 (100 timesteps)\n",
      "Episode 345 finished. Total reward: 100.0 (100 timesteps)\n",
      "Episode 346 finished. Total reward: 100.0 (100 timesteps)\n",
      "Episode 347 finished. Total reward: 100.0 (100 timesteps)\n",
      "Episode 348 finished. Total reward: 100.0 (100 timesteps)\n",
      "Episode 349 finished. Total reward: 100.0 (100 timesteps)\n",
      "Episode 350 finished. Total reward: 100.0 (100 timesteps)\n",
      "Episode 351 finished. Total reward: 100.0 (100 timesteps)\n",
      "Episode 352 finished. Total reward: 100.0 (100 timesteps)\n",
      "Episode 353 finished. Total reward: 100.0 (100 timesteps)\n",
      "Episode 354 finished. Total reward: 100.0 (100 timesteps)\n",
      "Episode 355 finished. Total reward: 100.0 (100 timesteps)\n",
      "Episode 356 finished. Total reward: 100.0 (100 timesteps)\n",
      "Episode 357 finished. Total reward: 100.0 (100 timesteps)\n",
      "Episode 358 finished. Total reward: 69.0 (69 timesteps)\n",
      "Episode 359 finished. Total reward: 100.0 (100 timesteps)\n",
      "Updating the policy...\n",
      "Updating finished!\n",
      "Episode 360 finished. Total reward: 100.0 (100 timesteps)\n",
      "Episode 361 finished. Total reward: 26.0 (26 timesteps)\n",
      "Episode 362 finished. Total reward: 100.0 (100 timesteps)\n",
      "Episode 363 finished. Total reward: 100.0 (100 timesteps)\n",
      "Episode 364 finished. Total reward: 100.0 (100 timesteps)\n",
      "Episode 365 finished. Total reward: 100.0 (100 timesteps)\n",
      "Episode 366 finished. Total reward: 100.0 (100 timesteps)\n",
      "Episode 367 finished. Total reward: 100.0 (100 timesteps)\n",
      "Episode 368 finished. Total reward: 23.0 (23 timesteps)\n",
      "Episode 369 finished. Total reward: 100.0 (100 timesteps)\n",
      "Episode 370 finished. Total reward: 100.0 (100 timesteps)\n",
      "Episode 371 finished. Total reward: 100.0 (100 timesteps)\n",
      "Episode 372 finished. Total reward: 100.0 (100 timesteps)\n",
      "Episode 373 finished. Total reward: 100.0 (100 timesteps)\n",
      "Episode 374 finished. Total reward: 25.0 (25 timesteps)\n",
      "Episode 375 finished. Total reward: 91.0 (91 timesteps)\n",
      "Episode 376 finished. Total reward: 100.0 (100 timesteps)\n",
      "Episode 377 finished. Total reward: 100.0 (100 timesteps)\n",
      "Episode 378 finished. Total reward: 100.0 (100 timesteps)\n",
      "Episode 379 finished. Total reward: 100.0 (100 timesteps)\n",
      "Episode 380 finished. Total reward: 92.0 (92 timesteps)\n",
      "Episode 381 finished. Total reward: 100.0 (100 timesteps)\n",
      "Episode 382 finished. Total reward: 100.0 (100 timesteps)\n",
      "Updating the policy...\n",
      "Updating finished!\n",
      "Episode 383 finished. Total reward: 100.0 (100 timesteps)\n",
      "Episode 384 finished. Total reward: 100.0 (100 timesteps)\n",
      "Episode 385 finished. Total reward: 100.0 (100 timesteps)\n",
      "Episode 386 finished. Total reward: 100.0 (100 timesteps)\n",
      "Episode 387 finished. Total reward: 100.0 (100 timesteps)\n",
      "Episode 388 finished. Total reward: 100.0 (100 timesteps)\n",
      "Episode 389 finished. Total reward: 100.0 (100 timesteps)\n",
      "Episode 390 finished. Total reward: 100.0 (100 timesteps)\n",
      "Episode 391 finished. Total reward: 100.0 (100 timesteps)\n",
      "Episode 392 finished. Total reward: 100.0 (100 timesteps)\n",
      "Episode 393 finished. Total reward: 100.0 (100 timesteps)\n",
      "Episode 394 finished. Total reward: 100.0 (100 timesteps)\n",
      "Episode 395 finished. Total reward: 100.0 (100 timesteps)\n",
      "Episode 396 finished. Total reward: 100.0 (100 timesteps)\n",
      "Episode 397 finished. Total reward: 100.0 (100 timesteps)\n",
      "Episode 398 finished. Total reward: 100.0 (100 timesteps)\n",
      "Episode 399 finished. Total reward: 100.0 (100 timesteps)\n",
      "Episode 400 finished. Total reward: 100.0 (100 timesteps)\n",
      "Episode 401 finished. Total reward: 100.0 (100 timesteps)\n",
      "Episode 402 finished. Total reward: 100.0 (100 timesteps)\n",
      "Updating the policy...\n",
      "Updating finished!\n",
      "Episode 403 finished. Total reward: 100.0 (100 timesteps)\n",
      "Episode 404 finished. Total reward: 100.0 (100 timesteps)\n",
      "Episode 405 finished. Total reward: 100.0 (100 timesteps)\n",
      "Episode 406 finished. Total reward: 100.0 (100 timesteps)\n",
      "Episode 407 finished. Total reward: 95.0 (95 timesteps)\n",
      "Episode 408 finished. Total reward: 31.0 (31 timesteps)\n",
      "Episode 409 finished. Total reward: 100.0 (100 timesteps)\n",
      "Episode 410 finished. Total reward: 100.0 (100 timesteps)\n",
      "Episode 411 finished. Total reward: 100.0 (100 timesteps)\n",
      "Episode 412 finished. Total reward: 100.0 (100 timesteps)\n",
      "Episode 413 finished. Total reward: 21.0 (21 timesteps)\n",
      "Episode 414 finished. Total reward: 94.0 (94 timesteps)\n",
      "Episode 415 finished. Total reward: 100.0 (100 timesteps)\n",
      "Episode 416 finished. Total reward: 100.0 (100 timesteps)\n",
      "Episode 417 finished. Total reward: 100.0 (100 timesteps)\n",
      "Episode 418 finished. Total reward: 100.0 (100 timesteps)\n",
      "Episode 419 finished. Total reward: 100.0 (100 timesteps)\n",
      "Episode 420 finished. Total reward: 100.0 (100 timesteps)\n",
      "Episode 421 finished. Total reward: 100.0 (100 timesteps)\n",
      "Episode 422 finished. Total reward: 100.0 (100 timesteps)\n",
      "Episode 423 finished. Total reward: 100.0 (100 timesteps)\n",
      "Episode 424 finished. Total reward: 100.0 (100 timesteps)\n",
      "Updating the policy...\n",
      "Updating finished!\n",
      "Episode 425 finished. Total reward: 100.0 (100 timesteps)\n",
      "Episode 426 finished. Total reward: 100.0 (100 timesteps)\n",
      "Episode 427 finished. Total reward: 100.0 (100 timesteps)\n",
      "Episode 428 finished. Total reward: 14.0 (14 timesteps)\n",
      "Episode 429 finished. Total reward: 100.0 (100 timesteps)\n",
      "Episode 430 finished. Total reward: 100.0 (100 timesteps)\n",
      "Episode 431 finished. Total reward: 100.0 (100 timesteps)\n",
      "Episode 432 finished. Total reward: 100.0 (100 timesteps)\n",
      "Episode 433 finished. Total reward: 100.0 (100 timesteps)\n",
      "Episode 434 finished. Total reward: 100.0 (100 timesteps)\n",
      "Episode 435 finished. Total reward: 100.0 (100 timesteps)\n",
      "Episode 436 finished. Total reward: 100.0 (100 timesteps)\n",
      "Episode 437 finished. Total reward: 100.0 (100 timesteps)\n",
      "Episode 438 finished. Total reward: 100.0 (100 timesteps)\n",
      "Episode 439 finished. Total reward: 100.0 (100 timesteps)\n",
      "Episode 440 finished. Total reward: 100.0 (100 timesteps)\n",
      "Episode 441 finished. Total reward: 100.0 (100 timesteps)\n",
      "Episode 442 finished. Total reward: 100.0 (100 timesteps)\n",
      "Episode 443 finished. Total reward: 100.0 (100 timesteps)\n",
      "Episode 444 finished. Total reward: 100.0 (100 timesteps)\n",
      "Updating the policy...\n",
      "Updating finished!\n",
      "Episode 445 finished. Total reward: 100.0 (100 timesteps)\n",
      "Episode 446 finished. Total reward: 22.0 (22 timesteps)\n",
      "Episode 447 finished. Total reward: 100.0 (100 timesteps)\n",
      "Episode 448 finished. Total reward: 100.0 (100 timesteps)\n",
      "Episode 449 finished. Total reward: 96.0 (96 timesteps)\n",
      "Episode 450 finished. Total reward: 84.0 (84 timesteps)\n",
      "Episode 451 finished. Total reward: 100.0 (100 timesteps)\n",
      "Episode 452 finished. Total reward: 22.0 (22 timesteps)\n",
      "Episode 453 finished. Total reward: 100.0 (100 timesteps)\n",
      "Episode 454 finished. Total reward: 23.0 (23 timesteps)\n",
      "Episode 455 finished. Total reward: 100.0 (100 timesteps)\n",
      "Episode 456 finished. Total reward: 100.0 (100 timesteps)\n",
      "Episode 457 finished. Total reward: 28.0 (28 timesteps)\n",
      "Episode 458 finished. Total reward: 100.0 (100 timesteps)\n",
      "Episode 459 finished. Total reward: 100.0 (100 timesteps)\n",
      "Episode 460 finished. Total reward: 100.0 (100 timesteps)\n",
      "Episode 461 finished. Total reward: 100.0 (100 timesteps)\n",
      "Episode 462 finished. Total reward: 100.0 (100 timesteps)\n",
      "Episode 463 finished. Total reward: 100.0 (100 timesteps)\n",
      "Episode 464 finished. Total reward: 100.0 (100 timesteps)\n",
      "Episode 465 finished. Total reward: 82.0 (82 timesteps)\n",
      "Episode 466 finished. Total reward: 100.0 (100 timesteps)\n",
      "Episode 467 finished. Total reward: 88.0 (88 timesteps)\n",
      "Episode 468 finished. Total reward: 100.0 (100 timesteps)\n",
      "Updating the policy...\n",
      "Updating finished!\n",
      "Episode 469 finished. Total reward: 100.0 (100 timesteps)\n",
      "Episode 470 finished. Total reward: 100.0 (100 timesteps)\n",
      "Episode 471 finished. Total reward: 100.0 (100 timesteps)\n",
      "Episode 472 finished. Total reward: 100.0 (100 timesteps)\n",
      "Episode 473 finished. Total reward: 100.0 (100 timesteps)\n",
      "Episode 474 finished. Total reward: 100.0 (100 timesteps)\n",
      "Episode 475 finished. Total reward: 100.0 (100 timesteps)\n",
      "Episode 476 finished. Total reward: 100.0 (100 timesteps)\n",
      "Episode 477 finished. Total reward: 100.0 (100 timesteps)\n",
      "Episode 478 finished. Total reward: 11.0 (11 timesteps)\n",
      "Episode 479 finished. Total reward: 100.0 (100 timesteps)\n",
      "Episode 480 finished. Total reward: 99.0 (99 timesteps)\n",
      "Episode 481 finished. Total reward: 100.0 (100 timesteps)\n",
      "Episode 482 finished. Total reward: 100.0 (100 timesteps)\n",
      "Episode 483 finished. Total reward: 100.0 (100 timesteps)\n",
      "Episode 484 finished. Total reward: 100.0 (100 timesteps)\n",
      "Episode 485 finished. Total reward: 100.0 (100 timesteps)\n",
      "Episode 486 finished. Total reward: 100.0 (100 timesteps)\n",
      "Episode 487 finished. Total reward: 100.0 (100 timesteps)\n",
      "Episode 488 finished. Total reward: 100.0 (100 timesteps)\n",
      "Episode 489 finished. Total reward: 100.0 (100 timesteps)\n",
      "Updating the policy...\n",
      "Updating finished!\n",
      "Episode 490 finished. Total reward: 81.0 (81 timesteps)\n",
      "Episode 491 finished. Total reward: 100.0 (100 timesteps)\n",
      "Episode 492 finished. Total reward: 78.0 (78 timesteps)\n",
      "Episode 493 finished. Total reward: 100.0 (100 timesteps)\n",
      "Episode 494 finished. Total reward: 89.0 (89 timesteps)\n",
      "Episode 495 finished. Total reward: 100.0 (100 timesteps)\n",
      "Episode 496 finished. Total reward: 100.0 (100 timesteps)\n",
      "Episode 497 finished. Total reward: 100.0 (100 timesteps)\n",
      "Episode 498 finished. Total reward: 100.0 (100 timesteps)\n",
      "Episode 499 finished. Total reward: 100.0 (100 timesteps)\n",
      "Episode 500 finished. Total reward: 100.0 (100 timesteps)\n",
      "Model saved to /notebooks/rl2023/ex1/results/model/CartPole-v1_params.pt\n",
      "------Training finished.------\n",
      "Numpy/Torch/Random Seed:  26\n",
      "Loading model from /notebooks/rl2023/ex1/results/model/CartPole-v1_params.pt ...\n",
      "Testing...\n",
      "Test ep reward: 122.0 seed: 822\n",
      "Test ep reward: 110.0 seed: 319\n",
      "Test ep reward: 110.0 seed: 775\n",
      "Test ep reward: 111.0 seed: 433\n",
      "Test ep reward: 108.0 seed: 962\n",
      "Test ep reward: 109.0 seed: 103\n",
      "Test ep reward: 115.0 seed: 724\n",
      "Test ep reward: 119.0 seed: 78\n",
      "Test ep reward: 121.0 seed: 987\n",
      "Test ep reward: 111.0 seed: 161\n",
      "Average test reward: 113.6 episode length: 113.6\n",
      "Numpy/Torch/Random Seed:  2023\n",
      "Loading model from /notebooks/rl2023/ex1/results/model/CartPole-v1_params.pt ...\n",
      "Testing...\n",
      "Test ep reward: 106.0 seed: 2023\n",
      "Average test reward: 106.0 episode length: 106.0\n"
     ]
    }
   ],
   "source": [
    "for _ in range(5):\n",
    "    t.train(cfg_path=Path().cwd()/'cfg'/'cartpole_v1.yaml', \n",
    "            cfg_args=dict(seed=None, max_episode_steps=100)) # < 5 mins\n",
    "    \n",
    "    t.test(episodes=10, \n",
    "           cfg_path=Path().cwd()/'cfg'/'cartpole_v1.yaml', \n",
    "           cfg_args=dict(testing=True, seed=None, max_episode_steps=1000, use_wandb=False))\n",
    "    \n",
    "    # investigate the performance of models trained with different seeds\n",
    "    t.test(episodes=1, \n",
    "           cfg_path=Path().cwd()/'cfg'/'cartpole_v1.yaml', \n",
    "           cfg_args=dict(testing=True, seed=2023, max_episode_steps=1000, use_wandb=False))"
   ]
  },
  {
   "cell_type": "markdown",
   "id": "95ff4274",
   "metadata": {},
   "source": [
    "<a id='Q2'></a>\n",
    "<div class=\" alert alert-warning\">\n",
    "    <h3><b>Student Question 2.1</b> Analysis of Training Performance (15 points) </h3> \n",
    "\n",
    "Are the behavior and performance of the trained models the same every time? Why/why not? Analyze the causes briefly.\n",
    "    \n",
    "🔝\t<a href='#TOC'><b>Table of Contents</b></a>\n",
    "</div>\n"
   ]
  },
  {
   "cell_type": "markdown",
   "id": "eee2bcdb",
   "metadata": {},
   "source": [
    "From the result we obtained before, it turns out that: \n",
    "1. Given a trained model, its behavior and performance varies when tested with different seeds.\n",
    "2. Given a testing seed, the behaviors and performances of models trained with different seeds also vary.\n",
    "\n",
    "This is caused by the build-in stochasticity of Reinforcement Learning algorithms: in our case, with different setup seed, we create cart pole environtments with different initial states, and agents with different initial parameters. "
   ]
  },
  {
   "cell_type": "markdown",
   "id": "8b248abf",
   "metadata": {},
   "source": [
    "<a id='Q3'></a>\n",
    "<div class=\" alert alert-warning\">\n",
    "    <h3><b>Student Question 2.2</b> Stochasticity (10 points) </h3> \n",
    "\n",
    "What are the implications of this stochasticity, when it comes to comparing reinforcement learning algorithms to each other? Please explain.\n",
    "    \n",
    "🔝\t<a href='#TOC'><b>Table of Contents</b></a>\n",
    "</div>\n"
   ]
  },
  {
   "cell_type": "markdown",
   "id": "b7b41e22",
   "metadata": {},
   "source": [
    "This stochasticity implies that even the same reinforcement learning algorithm can exhibit quite different behavior and performance if we do not control the built-in randomness. \n",
    "\n",
    "When it comes to comparing reinforcement learning algorithms to each other, it is important to control the randomness and ensure reproducibility, i.e. setting the same random number seeds for all the algorithms."
   ]
  },
  {
   "cell_type": "markdown",
   "id": "842afa68",
   "metadata": {},
   "source": [
    "# Reacher <a id='3.'></a>\n",
    "\n",
    "Now we will focus on designing a reward function for a different environment, the Reacher environment, where a two-joint manipulator needs to reach a goal (see Figure 2).\n",
    "\n",
    "<figure>\n",
    "<img src=\"imgs/reacher.png\" width=\"200px\">\n",
    "<figcaption style=\"text-align: center\"> Figure 2: The Reacher environment  </figcaption>\n",
    "</figure>\n",
    "\n",
    "The Cartesian ($x$, $y$) position of the end-effector of the manipulator can be determined following the equation:\n",
    "\n",
    "$$\n",
    " x = L_1 \\sin(\\theta_0)+L_2 \\sin(\\theta_0+\\theta_1)\\\\\n",
    " y = -L_1 \\cos(\\theta_0)-L_2 \\cos(\\theta_0+\\theta_1)\n",
    "$$\n",
    "\n",
    "where $L1 = 1$, $L2 = 1$ are the lengths, and $\\theta_0$, $\\theta_1$ the joint angles of the first and second links respectively. The state (and observation) in this environment is the two element vector:\n",
    "\n",
    "$$\n",
    "o=s=\\left(\\begin{array}{c}\n",
    "\\theta_0 \\\\\n",
    "\\theta_1 \\\\\n",
    "\\end{array}\\right) \\text {, }\n",
    "$$\n",
    "\n",
    "The action space now consists of 5 \"options\"; 4 correspond rotating the first/second joint left/right, and the final one performs no motion at all (the configuration doesn’t change). The episode terminates when the agent reaches the target position, marked in red. Now, let us design a custom reward function and use it for training the RL agent."
   ]
  },
  {
   "cell_type": "markdown",
   "id": "e138b75d",
   "metadata": {},
   "source": [
    "<a id='T3'></a>\n",
    "<div class=\" alert alert-warning\">\n",
    "    <h3><b>Student Task 3.</b> Reward Functions (20 points) </h3> \n",
    "\n",
    "Below two classes are shown that modify the reward function of the reacher function provided in ```reacher.py```. Edit the function ```get_reward``` _below_ (not in ```reacher.py```) in both classes. For each class, write a reward function to incentivise the agent to learn the following behaviors:\n",
    "\n",
    "Class 1) ```SpinningReacherEnv```: Keep the manipulator rotating clockwise continuously (w.r.t. angle θ_0). You can use a lower number of training episodes for this, e.g. train(cfg_args=dict(env_name='SpinningReacher-v0', train_episodes=200), overrides=['env=reacher_v1'])\n",
    "\n",
    "Class 2) ```TargetReacherEnv```: Reach the goal point located in x = [1.0,1.0] (marked in red). Use at least 500 training episodes.\n",
    "    \n",
    "Train one model for each behavior. \n",
    "\n",
    "**Hint:** Use the observation vector to get the quantities required to compute the new reward (such as the position of the manipulator). You can get the Cartesian position of the end-effector with ```self.get_cartesian_pos(state)```.\n",
    "            \n",
    "🔝\t<a href='#TOC'><b>Table of Contents</b></a>\n",
    "</div>\n"
   ]
  },
  {
   "cell_type": "markdown",
   "id": "4fa70b97",
   "metadata": {},
   "source": [
    "Before designing the reward function, it is important to understand the possible $5$ **discrete** actions: rotate the first joint left, rotate the first joint right, rotate the second joint left, rotate the second joint right, or do nothing. A fixed angle is applied when rotating the joints.\n",
    "\n",
    "1. `SpinningReacherEnv`:\n",
    "To incentivise the whole manipulator to spin clockwise continuously, we can give positive reward only for increasing angle $\\theta_0$: \n",
    "$$\n",
    "R_a\\left[s(\\theta_0, \\theta_1), s'(\\theta_0', \\theta_1')\\right] = \n",
    "\\begin{cases}\n",
    "1, & \\theta_0 > \\theta_0' \\\\\n",
    "-1, & \\text{else}\n",
    "\\end{cases}\n",
    "$$\n",
    "2. `TargetReacherEnv`:\n",
    "To incentivise the manipulator to reach the goal, I have tried several different reward strategies, leading to different behaviors: \n",
    "- give positive discrete reward (e.g. $1$) for smaller distance between the tip and the goal, comparing to the previous state: </br>\n",
    "The manipulator turns to rotate in a fancy way and miss the goal. \n",
    "- give positive reward for minimizing distance on $x-$ or $y-$ axis:</br>\n",
    "The manipulator is able to reach the goal, however, with redundant actions.\n",
    "- take negative square Euclidean distance between current position and the goal as reward:</br>\n",
    "This is the strategy I adopted in the end, which turn out to work properly. The reward function can be written as: \n",
    "$$\n",
    "R_a\\left[s(\\theta_0, \\theta_1), s'(\\theta_0', \\theta_1')\\right] = |\\mathbf{v}_{s'}, \\mathbf{v}_g|\n",
    "$$\n",
    "where $\\mathbf{v}_{s'}, \\mathbf{v}_g$ are the cartesian vectors of the next state and the goal. \n",
    "\n",
    "Some penalty terms were also tested, such as penalizing too large action by adding negative L2-norm of action ($-\\sum(\\text{action})^2)$, while it is generally too strong and incentivises the manipulator to vibrate in a small range. "
   ]
  },
  {
   "cell_type": "code",
   "execution_count": 7,
   "id": "32bf76fe",
   "metadata": {
    "tags": []
   },
   "outputs": [],
   "source": [
    "from reacher import ReacherEnv\n",
    "from typing import Optional\n",
    "from gymnasium.envs.registration import register\n",
    "\n",
    "class SpinningReacherEnv(ReacherEnv):\n",
    "    def __init__(self, render_mode: Optional[str] = None, max_episode_steps=200):\n",
    "        super().__init__(render_mode=render_mode, max_episode_steps=max_episode_steps)\n",
    "        \n",
    "    def get_reward(self, prev_state, action, next_state):\n",
    "        # TODO: Task 3: Implement and test the first reward function\n",
    "        ########## Your code starts here ##########\n",
    "        return 1 if next_state[0] < prev_state[0] else -1 # state decrese = spin clockwise\n",
    "        ########## Your codes end here ########## \n",
    "        \n",
    "    \n",
    "register(\"SpinningReacher-v0\",\n",
    "        entry_point=\"%s:SpinningReacherEnv\"%__name__,\n",
    "        max_episode_steps=200)\n",
    "\n",
    "class TargetReacherEnv(ReacherEnv):\n",
    "    def __init__(self, render_mode: Optional[str] = None, max_episode_steps=200):\n",
    "        super().__init__(render_mode=render_mode, max_episode_steps=max_episode_steps)\n",
    "        \n",
    "    def get_reward(self, prev_state, action, next_state):\n",
    "        # TODO: Task 3: Implement and test the second reward function\n",
    "        ########## Your code starts here ##########\n",
    "        prev_pos = self.get_cartesian_pos(prev_state)\n",
    "        next_pos = self.get_cartesian_pos(next_state)\n",
    "        reward =  - np.linalg.norm(self.goal - next_pos) # negative L2 norm\n",
    "        return reward\n",
    "       \n",
    "         ########## Your codes end here ########## \n",
    "        \n",
    "register(\"TargetReacher-v0\",\n",
    "        entry_point=\"%s:TargetReacherEnv\"%__name__,\n",
    "        max_episode_steps=200)"
   ]
  },
  {
   "cell_type": "code",
   "execution_count": 3,
   "id": "765ea45c",
   "metadata": {
    "scrolled": true,
    "tags": []
   },
   "outputs": [],
   "source": [
    "t.train(cfg_path=Path().cwd()/'cfg'/'reacher_v1.yaml', \n",
    "      cfg_args=dict(env_name='SpinningReacher-v0', train_episodes=200)) # < 5 mins"
   ]
  },
  {
   "cell_type": "code",
   "execution_count": 8,
   "id": "2d4cb332",
   "metadata": {
    "tags": []
   },
   "outputs": [
    {
     "name": "stdout",
     "output_type": "stream",
     "text": [
      "Numpy/Torch/Random Seed:  576\n",
      "Loading model from /notebooks/rl2023/ex1/results/model/SpinningReacher-v0_params.pt ...\n",
      "Testing...\n"
     ]
    },
    {
     "name": "stderr",
     "output_type": "stream",
     "text": [
      "/opt/software/lib/python3.10/site-packages/gymnasium/wrappers/record_video.py:94: UserWarning: \u001b[33mWARN: Overwriting existing videos at /notebooks/rl2023/ex1/results/video/SpinningReacher-v0/test folder (try specifying a different `video_folder` for the `RecordVideo` wrapper if this is not desired)\u001b[0m\n",
      "  logger.warn(\n"
     ]
    },
    {
     "name": "stdout",
     "output_type": "stream",
     "text": [
      "Test ep reward: 200 seed: 404\n",
      "Test ep reward: 200 seed: 279\n",
      "Test ep reward: 200 seed: 917\n",
      "Test ep reward: 200 seed: 277\n",
      "Test ep reward: 200 seed: 867\n",
      "Test ep reward: 200 seed: 646\n",
      "Test ep reward: 200 seed: 545\n",
      "Test ep reward: 200 seed: 8\n",
      "Test ep reward: 200 seed: 287\n",
      "Test ep reward: 200 seed: 965\n",
      "Average test reward: 200.0 episode length: 200.0\n"
     ]
    }
   ],
   "source": [
    "t.test(episodes=10, cfg_path=Path().cwd()/'cfg'/'reacher_v1.yaml', \n",
    "       cfg_args=dict(env_name='SpinningReacher-v0', testing=True, use_wandb=False))"
   ]
  },
  {
   "cell_type": "markdown",
   "id": "383507bc",
   "metadata": {},
   "source": [
    "The agent acting in the environment can be seen using the following command. Change the ```path``` to pick the episode you want to visualize. Bear in mind by default video saving for training is taken every 50 episodes."
   ]
  },
  {
   "cell_type": "code",
   "execution_count": 9,
   "id": "555bc002",
   "metadata": {
    "tags": []
   },
   "outputs": [
    {
     "data": {
      "text/html": [
       "<video loop autoplay  >\n",
       " <source src=\"data:video/mp4;base64,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\" type=\"video/mp4\">\n",
       " Your browser does not support the video tag.\n",
       " </video>"
      ],
      "text/plain": [
       "<IPython.core.display.Video object>"
      ]
     },
     "execution_count": 9,
     "metadata": {},
     "output_type": "execute_result"
    }
   ],
   "source": [
    "Video(work_dir/'video'/'SpinningReacher-v0'/'test'/f'ex1-episode-0.mp4',\n",
    "      embed=True, html_attributes=\"loop autoplay\") # Set html_attributes=\"controls\" for video control"
   ]
  },
  {
   "cell_type": "code",
   "execution_count": 13,
   "id": "663c258a",
   "metadata": {
    "scrolled": true,
    "tags": []
   },
   "outputs": [
    {
     "name": "stdout",
     "output_type": "stream",
     "text": [
      "Numpy/Torch/Random Seed:  436\n"
     ]
    },
    {
     "data": {
      "text/html": [
       "Changes to your `wandb` environment variables will be ignored because your `wandb` session has already started. For more information on how to modify your settings with `wandb.init()` arguments, please refer to <a href='https://wandb.me/wandb-init' target=\"_blank\">the W&B docs</a>."
      ],
      "text/plain": [
       "<IPython.core.display.HTML object>"
      ]
     },
     "metadata": {},
     "output_type": "display_data"
    },
    {
     "data": {
      "text/html": [
       "Finishing last run (ID:723wv9dz) before initializing another..."
      ],
      "text/plain": [
       "<IPython.core.display.HTML object>"
      ]
     },
     "metadata": {},
     "output_type": "display_data"
    },
    {
     "data": {
      "text/html": [
       "Waiting for W&B process to finish... <strong style=\"color:green\">(success).</strong>"
      ],
      "text/plain": [
       "<IPython.core.display.HTML object>"
      ]
     },
     "metadata": {},
     "output_type": "display_data"
    },
    {
     "data": {
      "application/vnd.jupyter.widget-view+json": {
       "model_id": "4a82c7f5f01044efaeca5ffaea91b3aa",
       "version_major": 2,
       "version_minor": 0
      },
      "text/plain": [
       "VBox(children=(Label(value='0.007 MB of 0.007 MB uploaded (0.000 MB deduped)\\r'), FloatProgress(value=1.0, max…"
      ]
     },
     "metadata": {},
     "output_type": "display_data"
    },
    {
     "data": {
      "text/html": [
       "<style>\n",
       "    table.wandb td:nth-child(1) { padding: 0 10px; text-align: left ; width: auto;} td:nth-child(2) {text-align: left ; width: 100%}\n",
       "    .wandb-row { display: flex; flex-direction: row; flex-wrap: wrap; justify-content: flex-start; width: 100% }\n",
       "    .wandb-col { display: flex; flex-direction: column; flex-basis: 100%; flex: 1; padding: 10px; }\n",
       "    </style>\n",
       "<div class=\"wandb-row\"><div class=\"wandb-col\"><h3>Run history:</h3><br/><table class=\"wandb\"><tr><td>ep_reward</td><td>▁▂▁▃▇▄▆▄▄▄▄▄█▇▅▄██▄██▅▄▄▅▇███▅██▆██▇███▄</td></tr><tr><td>episodes</td><td>▁▁▁▁▂▂▂▂▂▃▃▃▃▃▃▄▄▄▄▄▅▅▅▅▅▅▆▆▆▆▆▇▇▇▇▇▇███</td></tr><tr><td>num_updates</td><td>▁▁▁▁▁▁▁▁▁▁▁▁▁▁█▁▁▁▁▁▁▁▁▁▁▁▁▁▁▁▁▁▁▁▁▁▁▁▁▁</td></tr><tr><td>timesteps</td><td>████▃█▃█████▁▂▇█▁▁█▁▁▆██▆▂▂▁▁█▁▁▅▂▁▃▁▁▁█</td></tr></table><br/></div><div class=\"wandb-col\"><h3>Run summary:</h3><br/><table class=\"wandb\"><tr><td>ep_reward</td><td>-34.35865</td></tr><tr><td>episodes</td><td>200</td></tr><tr><td>num_updates</td><td>0</td></tr><tr><td>timesteps</td><td>21</td></tr></table><br/></div></div>"
      ],
      "text/plain": [
       "<IPython.core.display.HTML object>"
      ]
     },
     "metadata": {},
     "output_type": "display_data"
    },
    {
     "data": {
      "text/html": [
       " View run <strong style=\"color:#cdcd00\">ex1-TargetReacher-v0-None-1694968069</strong> at: <a href='https://wandb.ai/xinyu-zhang/rl_aalto/runs/723wv9dz' target=\"_blank\">https://wandb.ai/xinyu-zhang/rl_aalto/runs/723wv9dz</a><br/>Synced 6 W&B file(s), 0 media file(s), 0 artifact file(s) and 0 other file(s)"
      ],
      "text/plain": [
       "<IPython.core.display.HTML object>"
      ]
     },
     "metadata": {},
     "output_type": "display_data"
    },
    {
     "data": {
      "text/html": [
       "Find logs at: <code>./wandb/run-20230917_192749-723wv9dz/logs</code>"
      ],
      "text/plain": [
       "<IPython.core.display.HTML object>"
      ]
     },
     "metadata": {},
     "output_type": "display_data"
    },
    {
     "data": {
      "text/html": [
       "Successfully finished last run (ID:723wv9dz). Initializing new run:<br/>"
      ],
      "text/plain": [
       "<IPython.core.display.HTML object>"
      ]
     },
     "metadata": {},
     "output_type": "display_data"
    },
    {
     "data": {
      "application/vnd.jupyter.widget-view+json": {
       "model_id": "08752a6a655a47909c5e5eff348979f6",
       "version_major": 2,
       "version_minor": 0
      },
      "text/plain": [
       "VBox(children=(Label(value='Waiting for wandb.init()...\\r'), FloatProgress(value=0.016669425554573535, max=1.0…"
      ]
     },
     "metadata": {},
     "output_type": "display_data"
    },
    {
     "data": {
      "text/html": [
       "wandb version 0.15.10 is available!  To upgrade, please run:\n",
       " $ pip install wandb --upgrade"
      ],
      "text/plain": [
       "<IPython.core.display.HTML object>"
      ]
     },
     "metadata": {},
     "output_type": "display_data"
    },
    {
     "data": {
      "text/html": [
       "Tracking run with wandb version 0.15.9"
      ],
      "text/plain": [
       "<IPython.core.display.HTML object>"
      ]
     },
     "metadata": {},
     "output_type": "display_data"
    },
    {
     "data": {
      "text/html": [
       "Run data is saved locally in <code>/notebooks/rl2023/ex1/wandb/run-20230917_193107-ieh3s5p0</code>"
      ],
      "text/plain": [
       "<IPython.core.display.HTML object>"
      ]
     },
     "metadata": {},
     "output_type": "display_data"
    },
    {
     "data": {
      "text/html": [
       "Syncing run <strong><a href='https://wandb.ai/xinyu-zhang/rl_aalto/runs/ieh3s5p0' target=\"_blank\">ex1-TargetReacher-v0-None-1694968267</a></strong> to <a href='https://wandb.ai/xinyu-zhang/rl_aalto' target=\"_blank\">Weights & Biases</a> (<a href='https://wandb.me/run' target=\"_blank\">docs</a>)<br/>"
      ],
      "text/plain": [
       "<IPython.core.display.HTML object>"
      ]
     },
     "metadata": {},
     "output_type": "display_data"
    },
    {
     "data": {
      "text/html": [
       " View project at <a href='https://wandb.ai/xinyu-zhang/rl_aalto' target=\"_blank\">https://wandb.ai/xinyu-zhang/rl_aalto</a>"
      ],
      "text/plain": [
       "<IPython.core.display.HTML object>"
      ]
     },
     "metadata": {},
     "output_type": "display_data"
    },
    {
     "data": {
      "text/html": [
       " View run at <a href='https://wandb.ai/xinyu-zhang/rl_aalto/runs/ieh3s5p0' target=\"_blank\">https://wandb.ai/xinyu-zhang/rl_aalto/runs/ieh3s5p0</a>"
      ],
      "text/plain": [
       "<IPython.core.display.HTML object>"
      ]
     },
     "metadata": {},
     "output_type": "display_data"
    },
    {
     "name": "stderr",
     "output_type": "stream",
     "text": [
      "/opt/software/lib/python3.10/site-packages/gymnasium/wrappers/record_video.py:94: UserWarning: \u001b[33mWARN: Overwriting existing videos at /notebooks/rl2023/ex1/results/video/TargetReacher-v0/train folder (try specifying a different `video_folder` for the `RecordVideo` wrapper if this is not desired)\u001b[0m\n",
      "  logger.warn(\n"
     ]
    },
    {
     "name": "stdout",
     "output_type": "stream",
     "text": [
      "Configuration Settings: {'exp_name': 'ex1', 'seed': None, 'env_name': 'TargetReacher-v0', 'max_episode_steps': 200, 'train_episodes': 500, 'batch_size': 64, 'min_update_samples': 2000, 'testing': False, 'model_path': 'default', 'save_video': True, 'save_model': True, 'save_logging': True, 'silent': False, 'use_wandb': True, 'run_suffix': 0}\n",
      "Training device: cpu\n",
      "Observation space dimensions: 2\n",
      "Action space dimensions: 5\n",
      "\n",
      "Episode 0 finished. Total reward: -590.7136457988387 (200 timesteps)\n",
      "Episode 1 finished. Total reward: -547.8926711228446 (200 timesteps)\n",
      "Episode 2 finished. Total reward: -477.2912201314593 (200 timesteps)\n",
      "Episode 3 finished. Total reward: -483.1982115357629 (200 timesteps)\n",
      "Episode 4 finished. Total reward: -646.0810504710059 (200 timesteps)\n",
      "Episode 5 finished. Total reward: -451.67018077193336 (200 timesteps)\n",
      "Episode 6 finished. Total reward: -520.8467966607632 (200 timesteps)\n",
      "Episode 7 finished. Total reward: -443.34269073027383 (200 timesteps)\n",
      "Episode 8 finished. Total reward: -330.9381119957645 (200 timesteps)\n",
      "Episode 9 finished. Total reward: -563.2977481436748 (200 timesteps)\n",
      "Updating the policy...\n",
      "Updating finished!\n",
      "Episode 10 finished. Total reward: -430.47764522426 (200 timesteps)\n",
      "Episode 11 finished. Total reward: -576.3562871089455 (200 timesteps)\n",
      "Episode 12 finished. Total reward: -380.3564367298391 (200 timesteps)\n",
      "Episode 13 finished. Total reward: -566.7016615989933 (200 timesteps)\n",
      "Episode 14 finished. Total reward: -570.5543887709827 (200 timesteps)\n",
      "Episode 15 finished. Total reward: -427.6006042945403 (200 timesteps)\n",
      "Episode 16 finished. Total reward: -630.6324955403467 (200 timesteps)\n",
      "Episode 17 finished. Total reward: -480.66026899823515 (200 timesteps)\n",
      "Episode 18 finished. Total reward: -539.2130693040245 (200 timesteps)\n",
      "Episode 19 finished. Total reward: -553.7860741037606 (200 timesteps)\n",
      "Updating the policy...\n",
      "Updating finished!\n",
      "Episode 20 finished. Total reward: -504.0951927705265 (200 timesteps)\n",
      "Episode 21 finished. Total reward: -437.9744952569937 (200 timesteps)\n",
      "Episode 22 finished. Total reward: -460.90273306581514 (200 timesteps)\n",
      "Episode 23 finished. Total reward: -497.20573681012394 (200 timesteps)\n",
      "Episode 24 finished. Total reward: -415.7538504694978 (189 timesteps)\n",
      "Episode 25 finished. Total reward: -96.49746782234693 (55 timesteps)\n",
      "Episode 26 finished. Total reward: -599.4974244596885 (200 timesteps)\n",
      "Episode 27 finished. Total reward: -316.26892924151434 (144 timesteps)\n",
      "Episode 28 finished. Total reward: -640.8514134728299 (200 timesteps)\n",
      "Episode 29 finished. Total reward: -442.0724001240726 (200 timesteps)\n",
      "Episode 30 finished. Total reward: -276.21169441923456 (200 timesteps)\n",
      "Updating the policy...\n",
      "Updating finished!\n",
      "Episode 31 finished. Total reward: -380.7979085962111 (200 timesteps)\n",
      "Episode 32 finished. Total reward: -44.73469034033612 (26 timesteps)\n",
      "Episode 33 finished. Total reward: -409.0776762077487 (200 timesteps)\n",
      "Episode 34 finished. Total reward: -344.61009239809374 (200 timesteps)\n",
      "Episode 35 finished. Total reward: -184.9190292563104 (79 timesteps)\n",
      "Episode 36 finished. Total reward: -120.694161399695 (64 timesteps)\n",
      "Episode 37 finished. Total reward: -277.9534917428174 (200 timesteps)\n",
      "Episode 38 finished. Total reward: -356.7783879050684 (200 timesteps)\n",
      "Episode 39 finished. Total reward: -178.20262852818817 (85 timesteps)\n",
      "Episode 40 finished. Total reward: -67.00016488752593 (39 timesteps)\n",
      "Episode 41 finished. Total reward: -312.88575478679803 (200 timesteps)\n",
      "Episode 42 finished. Total reward: -346.3498281286422 (200 timesteps)\n",
      "Episode 43 finished. Total reward: -93.16637535591839 (53 timesteps)\n",
      "Episode 44 finished. Total reward: -429.2762649320204 (200 timesteps)\n",
      "Updating the policy...\n",
      "Updating finished!\n",
      "Episode 45 finished. Total reward: -485.635866395079 (200 timesteps)\n",
      "Episode 46 finished. Total reward: -54.31102441438805 (37 timesteps)\n",
      "Episode 47 finished. Total reward: -328.64044646481136 (200 timesteps)\n",
      "Episode 48 finished. Total reward: -91.49942436602662 (50 timesteps)\n",
      "Episode 49 finished. Total reward: -85.18235281417688 (49 timesteps)\n",
      "Episode 50 finished. Total reward: -53.97861350950123 (29 timesteps)\n",
      "Episode 51 finished. Total reward: -58.04921436330086 (35 timesteps)\n",
      "Episode 52 finished. Total reward: -52.68068374624783 (28 timesteps)\n",
      "Episode 53 finished. Total reward: -47.43691566761753 (28 timesteps)\n",
      "Episode 54 finished. Total reward: -39.053979695578946 (22 timesteps)\n",
      "Episode 55 finished. Total reward: -343.22071528706994 (200 timesteps)\n",
      "Episode 56 finished. Total reward: -339.0425234083874 (200 timesteps)\n",
      "Episode 57 finished. Total reward: -312.94634902360303 (200 timesteps)\n",
      "Episode 58 finished. Total reward: -318.1257442028976 (200 timesteps)\n",
      "Episode 59 finished. Total reward: -99.80562758020136 (54 timesteps)\n",
      "Episode 60 finished. Total reward: -36.77050956503543 (35 timesteps)\n",
      "Episode 61 finished. Total reward: -422.5949493531752 (200 timesteps)\n",
      "Episode 62 finished. Total reward: -79.09054170130989 (38 timesteps)\n",
      "Episode 63 finished. Total reward: -276.00126394913354 (200 timesteps)\n",
      "Updating the policy...\n",
      "Updating finished!\n",
      "Episode 64 finished. Total reward: -378.2456017583313 (200 timesteps)\n",
      "Episode 65 finished. Total reward: -87.49032423322721 (49 timesteps)\n",
      "Episode 66 finished. Total reward: -79.81401206186133 (41 timesteps)\n",
      "Episode 67 finished. Total reward: -32.99371765426518 (20 timesteps)\n",
      "Episode 68 finished. Total reward: -56.48292239016788 (26 timesteps)\n",
      "Episode 69 finished. Total reward: -65.46150725289297 (62 timesteps)\n",
      "Episode 70 finished. Total reward: -39.54345979587836 (28 timesteps)\n",
      "Episode 71 finished. Total reward: -46.842666391977986 (29 timesteps)\n",
      "Episode 72 finished. Total reward: -65.81742400889209 (34 timesteps)\n",
      "Episode 73 finished. Total reward: -51.943414088512405 (29 timesteps)\n",
      "Episode 74 finished. Total reward: -154.6056954516043 (114 timesteps)\n",
      "Episode 75 finished. Total reward: -33.832268589124 (23 timesteps)\n",
      "Episode 76 finished. Total reward: -25.648171169438214 (15 timesteps)\n",
      "Episode 77 finished. Total reward: -314.76484190014605 (200 timesteps)\n",
      "Episode 78 finished. Total reward: -299.3031354451888 (200 timesteps)\n",
      "Episode 79 finished. Total reward: -59.0613080251939 (31 timesteps)\n",
      "Episode 80 finished. Total reward: -316.64751113141074 (200 timesteps)\n",
      "Episode 81 finished. Total reward: -54.697638828440766 (35 timesteps)\n",
      "Episode 82 finished. Total reward: -142.9629604922789 (120 timesteps)\n",
      "Episode 83 finished. Total reward: -271.7033084494724 (188 timesteps)\n",
      "Episode 84 finished. Total reward: -48.62311486600672 (30 timesteps)\n",
      "Episode 85 finished. Total reward: -147.18780737959008 (120 timesteps)\n",
      "Episode 86 finished. Total reward: -82.2565075891772 (40 timesteps)\n",
      "Episode 87 finished. Total reward: -365.72009917059347 (200 timesteps)\n",
      "Updating the policy...\n",
      "Updating finished!\n",
      "Episode 88 finished. Total reward: -68.07824786888321 (37 timesteps)\n",
      "Episode 89 finished. Total reward: -39.71432359858028 (23 timesteps)\n",
      "Episode 90 finished. Total reward: -136.4380936071071 (118 timesteps)\n",
      "Episode 91 finished. Total reward: -37.506168174990584 (20 timesteps)\n",
      "Episode 92 finished. Total reward: -430.1759851128439 (200 timesteps)\n",
      "Episode 93 finished. Total reward: -95.65435867572388 (74 timesteps)\n",
      "Episode 94 finished. Total reward: -37.988917385050435 (20 timesteps)\n",
      "Episode 95 finished. Total reward: -51.93283527244957 (34 timesteps)\n",
      "Episode 96 finished. Total reward: -31.712407300747493 (19 timesteps)\n",
      "Episode 97 finished. Total reward: -45.9109187733146 (28 timesteps)\n",
      "Episode 98 finished. Total reward: -37.87294380956596 (23 timesteps)\n",
      "Episode 99 finished. Total reward: -76.94003873421111 (48 timesteps)\n",
      "Episode 100 finished. Total reward: -156.15386716646393 (130 timesteps)\n",
      "Episode 101 finished. Total reward: -37.70570287365986 (20 timesteps)\n",
      "Episode 102 finished. Total reward: -223.24253773208306 (200 timesteps)\n",
      "Episode 103 finished. Total reward: -360.5433299263912 (200 timesteps)\n",
      "Episode 104 finished. Total reward: -52.04311199374917 (27 timesteps)\n",
      "Episode 105 finished. Total reward: -66.57330519035477 (48 timesteps)\n",
      "Episode 106 finished. Total reward: -263.67919651160656 (200 timesteps)\n",
      "Episode 107 finished. Total reward: -43.869740569205526 (26 timesteps)\n",
      "Episode 108 finished. Total reward: -28.253691239606777 (18 timesteps)\n",
      "Episode 109 finished. Total reward: -64.63878623307698 (42 timesteps)\n",
      "Episode 110 finished. Total reward: -144.10973190981613 (100 timesteps)\n",
      "Episode 111 finished. Total reward: -297.4766885349278 (200 timesteps)\n",
      "Episode 112 finished. Total reward: -75.91509430116155 (50 timesteps)\n",
      "Episode 113 finished. Total reward: -32.85531984250863 (18 timesteps)\n",
      "Updating the policy...\n",
      "Updating finished!\n",
      "Episode 114 finished. Total reward: -164.67233301806 (130 timesteps)\n",
      "Episode 115 finished. Total reward: -35.40009896286807 (27 timesteps)\n",
      "Episode 116 finished. Total reward: -29.70435947295047 (20 timesteps)\n",
      "Episode 117 finished. Total reward: -33.89784423589617 (22 timesteps)\n",
      "Episode 118 finished. Total reward: -62.269951191474924 (48 timesteps)\n",
      "Episode 119 finished. Total reward: -39.30181392563185 (22 timesteps)\n",
      "Episode 120 finished. Total reward: -143.3821953335406 (134 timesteps)\n",
      "Episode 121 finished. Total reward: -125.00633945845647 (78 timesteps)\n",
      "Episode 122 finished. Total reward: -28.502748481704696 (19 timesteps)\n",
      "Episode 123 finished. Total reward: -38.57839859042196 (35 timesteps)\n",
      "Episode 124 finished. Total reward: -53.314250464400594 (29 timesteps)\n",
      "Episode 125 finished. Total reward: -131.80034851044246 (109 timesteps)\n",
      "Episode 126 finished. Total reward: -156.63054858364902 (121 timesteps)\n",
      "Episode 127 finished. Total reward: -162.87318300540545 (138 timesteps)\n",
      "Episode 128 finished. Total reward: -150.02691133827804 (136 timesteps)\n",
      "Episode 129 finished. Total reward: -184.4836777177457 (122 timesteps)\n",
      "Episode 130 finished. Total reward: -25.640317074339986 (16 timesteps)\n",
      "Episode 131 finished. Total reward: -55.70340146936504 (28 timesteps)\n",
      "Episode 132 finished. Total reward: -32.22034450002686 (18 timesteps)\n",
      "Episode 133 finished. Total reward: -34.63620566115124 (19 timesteps)\n",
      "Episode 134 finished. Total reward: -37.18050681219457 (21 timesteps)\n",
      "Episode 135 finished. Total reward: -53.27105454081004 (29 timesteps)\n",
      "Episode 136 finished. Total reward: -32.02932214598354 (17 timesteps)\n",
      "Episode 137 finished. Total reward: -137.96155200998885 (99 timesteps)\n",
      "Episode 138 finished. Total reward: -29.91941327821857 (22 timesteps)\n",
      "Episode 139 finished. Total reward: -224.03214981442545 (200 timesteps)\n",
      "Episode 140 finished. Total reward: -36.67415344185131 (24 timesteps)\n",
      "Episode 141 finished. Total reward: -44.143666896495155 (25 timesteps)\n",
      "Episode 142 finished. Total reward: -52.35822300592776 (30 timesteps)\n",
      "Episode 143 finished. Total reward: -44.51780169496546 (28 timesteps)\n",
      "Episode 144 finished. Total reward: -208.7565633552365 (155 timesteps)\n",
      "Episode 145 finished. Total reward: -40.353380240628944 (21 timesteps)\n",
      "Episode 146 finished. Total reward: -41.324265288179 (24 timesteps)\n",
      "Episode 147 finished. Total reward: -149.2786535110494 (109 timesteps)\n",
      "Updating the policy...\n",
      "Updating finished!\n",
      "Episode 148 finished. Total reward: -86.03479285280538 (79 timesteps)\n",
      "Episode 149 finished. Total reward: -53.904571172292364 (40 timesteps)\n",
      "Episode 150 finished. Total reward: -27.919800893115937 (17 timesteps)\n",
      "Episode 151 finished. Total reward: -109.93164894919352 (95 timesteps)\n",
      "Episode 152 finished. Total reward: -63.43609152689111 (37 timesteps)\n",
      "Episode 153 finished. Total reward: -34.06064598613682 (23 timesteps)\n",
      "Episode 154 finished. Total reward: -33.943462947601006 (27 timesteps)\n",
      "Episode 155 finished. Total reward: -46.31395993663946 (32 timesteps)\n",
      "Episode 156 finished. Total reward: -31.342937465925026 (19 timesteps)\n",
      "Episode 157 finished. Total reward: -46.41010350334336 (24 timesteps)\n",
      "Episode 158 finished. Total reward: -36.956608584683025 (19 timesteps)\n",
      "Episode 159 finished. Total reward: -27.08733343093578 (16 timesteps)\n",
      "Episode 160 finished. Total reward: -31.57105262472858 (18 timesteps)\n",
      "Episode 161 finished. Total reward: -41.769733127896835 (28 timesteps)\n",
      "Episode 162 finished. Total reward: -25.5426921502897 (17 timesteps)\n",
      "Episode 163 finished. Total reward: -163.18355913801548 (144 timesteps)\n",
      "Episode 164 finished. Total reward: -25.549609088360715 (15 timesteps)\n",
      "Episode 165 finished. Total reward: -153.0978669636668 (136 timesteps)\n",
      "Episode 166 finished. Total reward: -33.80842565204072 (29 timesteps)\n",
      "Episode 167 finished. Total reward: -30.23602755846241 (19 timesteps)\n",
      "Episode 168 finished. Total reward: -114.01016846481208 (93 timesteps)\n",
      "Episode 169 finished. Total reward: -26.042926302052333 (17 timesteps)\n",
      "Episode 170 finished. Total reward: -32.269770204481446 (20 timesteps)\n",
      "Episode 171 finished. Total reward: -24.24128137788997 (15 timesteps)\n",
      "Episode 172 finished. Total reward: -25.980885616631696 (18 timesteps)\n",
      "Episode 173 finished. Total reward: -31.51382319252926 (17 timesteps)\n",
      "Episode 174 finished. Total reward: -83.96131358778094 (67 timesteps)\n",
      "Episode 175 finished. Total reward: -27.04341652821369 (18 timesteps)\n",
      "Episode 176 finished. Total reward: -33.82579223015625 (26 timesteps)\n",
      "Episode 177 finished. Total reward: -251.4301203399202 (200 timesteps)\n",
      "Episode 178 finished. Total reward: -46.66128615959344 (25 timesteps)\n",
      "Episode 179 finished. Total reward: -26.30329318867255 (15 timesteps)\n",
      "Episode 180 finished. Total reward: -171.61568545477422 (147 timesteps)\n",
      "Episode 181 finished. Total reward: -125.43640300083288 (119 timesteps)\n",
      "Episode 182 finished. Total reward: -42.74224096131176 (26 timesteps)\n",
      "Episode 183 finished. Total reward: -40.44629017450238 (28 timesteps)\n",
      "Episode 184 finished. Total reward: -27.459616326891247 (18 timesteps)\n",
      "Episode 185 finished. Total reward: -109.86635061239173 (87 timesteps)\n",
      "Episode 186 finished. Total reward: -47.616980381460976 (34 timesteps)\n",
      "Episode 187 finished. Total reward: -30.040655267531076 (21 timesteps)\n",
      "Episode 188 finished. Total reward: -42.79209543199473 (24 timesteps)\n",
      "Episode 189 finished. Total reward: -27.338771497236575 (16 timesteps)\n",
      "Updating the policy...\n",
      "Updating finished!\n",
      "Episode 190 finished. Total reward: -272.73796771023575 (200 timesteps)\n",
      "Episode 191 finished. Total reward: -44.195856947184936 (28 timesteps)\n",
      "Episode 192 finished. Total reward: -41.124817165164885 (26 timesteps)\n",
      "Episode 193 finished. Total reward: -27.390320686709956 (15 timesteps)\n",
      "Episode 194 finished. Total reward: -36.553643981626 (25 timesteps)\n",
      "Episode 195 finished. Total reward: -41.48829911250863 (22 timesteps)\n",
      "Episode 196 finished. Total reward: -90.7268110345848 (71 timesteps)\n",
      "Episode 197 finished. Total reward: -30.977098408996042 (26 timesteps)\n",
      "Episode 198 finished. Total reward: -80.41255699510856 (60 timesteps)\n",
      "Episode 199 finished. Total reward: -34.03506983456009 (19 timesteps)\n",
      "Episode 200 finished. Total reward: -31.045842163886675 (18 timesteps)\n",
      "Episode 201 finished. Total reward: -23.409915245797436 (15 timesteps)\n",
      "Episode 202 finished. Total reward: -30.069938626838265 (19 timesteps)\n",
      "Episode 203 finished. Total reward: -26.28328768251218 (17 timesteps)\n",
      "Episode 204 finished. Total reward: -53.8066413880489 (26 timesteps)\n",
      "Episode 205 finished. Total reward: -97.18450071858962 (78 timesteps)\n",
      "Episode 206 finished. Total reward: -28.484622402589448 (20 timesteps)\n",
      "Episode 207 finished. Total reward: -52.03014291003892 (27 timesteps)\n",
      "Episode 208 finished. Total reward: -43.840765657099524 (24 timesteps)\n",
      "Episode 209 finished. Total reward: -34.87798881211656 (20 timesteps)\n",
      "Episode 210 finished. Total reward: -26.43166504428791 (16 timesteps)\n",
      "Episode 211 finished. Total reward: -33.69009132216179 (22 timesteps)\n",
      "Episode 212 finished. Total reward: -26.81903627322344 (16 timesteps)\n",
      "Episode 213 finished. Total reward: -42.17403520851659 (25 timesteps)\n",
      "Episode 214 finished. Total reward: -32.945334620263864 (19 timesteps)\n",
      "Episode 215 finished. Total reward: -40.832398994225436 (22 timesteps)\n",
      "Episode 216 finished. Total reward: -47.45585431059552 (25 timesteps)\n",
      "Episode 217 finished. Total reward: -29.677612184890062 (17 timesteps)\n",
      "Episode 218 finished. Total reward: -28.099212843202594 (17 timesteps)\n",
      "Episode 219 finished. Total reward: -48.0409144316095 (30 timesteps)\n",
      "Episode 220 finished. Total reward: -377.91184772944774 (200 timesteps)\n",
      "Episode 221 finished. Total reward: -29.942849685475515 (19 timesteps)\n",
      "Episode 222 finished. Total reward: -30.485481804789007 (20 timesteps)\n",
      "Episode 223 finished. Total reward: -44.235638294530666 (24 timesteps)\n",
      "Episode 224 finished. Total reward: -33.526394887648514 (24 timesteps)\n",
      "Episode 225 finished. Total reward: -33.33394742661348 (21 timesteps)\n",
      "Episode 226 finished. Total reward: -32.90404815216886 (20 timesteps)\n",
      "Episode 227 finished. Total reward: -47.74831408252743 (28 timesteps)\n",
      "Episode 228 finished. Total reward: -35.748892000598225 (21 timesteps)\n",
      "Episode 229 finished. Total reward: -32.339959742289196 (19 timesteps)\n",
      "Episode 230 finished. Total reward: -24.28564387326087 (15 timesteps)\n",
      "Episode 231 finished. Total reward: -34.325863213441586 (23 timesteps)\n",
      "Episode 232 finished. Total reward: -35.85702090308888 (22 timesteps)\n",
      "Episode 233 finished. Total reward: -32.67985310928234 (18 timesteps)\n",
      "Episode 234 finished. Total reward: -25.73310063648023 (15 timesteps)\n",
      "Episode 235 finished. Total reward: -38.598859438357586 (21 timesteps)\n",
      "Episode 236 finished. Total reward: -33.33161212210269 (19 timesteps)\n",
      "Episode 237 finished. Total reward: -81.88917207858422 (75 timesteps)\n",
      "Episode 238 finished. Total reward: -33.53368536132813 (21 timesteps)\n",
      "Episode 239 finished. Total reward: -31.305864812107128 (17 timesteps)\n",
      "Episode 240 finished. Total reward: -26.548318936097992 (16 timesteps)\n",
      "Episode 241 finished. Total reward: -47.97646387516089 (27 timesteps)\n",
      "Episode 242 finished. Total reward: -27.483432258271566 (17 timesteps)\n",
      "Episode 243 finished. Total reward: -80.0356033650054 (68 timesteps)\n",
      "Episode 244 finished. Total reward: -24.428726077612364 (14 timesteps)\n",
      "Episode 245 finished. Total reward: -355.9346712808648 (200 timesteps)\n",
      "Episode 246 finished. Total reward: -38.11590785667278 (22 timesteps)\n",
      "Episode 247 finished. Total reward: -44.563809652336154 (27 timesteps)\n",
      "Episode 248 finished. Total reward: -42.14515643859048 (23 timesteps)\n",
      "Episode 249 finished. Total reward: -32.41510591549871 (18 timesteps)\n",
      "Episode 250 finished. Total reward: -29.824734326369843 (18 timesteps)\n",
      "Episode 251 finished. Total reward: -36.106909642507375 (26 timesteps)\n",
      "Episode 252 finished. Total reward: -39.15320198651515 (22 timesteps)\n",
      "Episode 253 finished. Total reward: -50.86965737402916 (26 timesteps)\n",
      "Updating the policy...\n",
      "Updating finished!\n",
      "Episode 254 finished. Total reward: -156.59462255327736 (125 timesteps)\n",
      "Episode 255 finished. Total reward: -32.50990947856802 (22 timesteps)\n",
      "Episode 256 finished. Total reward: -33.40496201261684 (23 timesteps)\n",
      "Episode 257 finished. Total reward: -40.03355703643263 (22 timesteps)\n",
      "Episode 258 finished. Total reward: -29.480895107968383 (18 timesteps)\n",
      "Episode 259 finished. Total reward: -32.27704388733025 (21 timesteps)\n",
      "Episode 260 finished. Total reward: -93.71753503403889 (79 timesteps)\n",
      "Episode 261 finished. Total reward: -34.770742736196425 (20 timesteps)\n",
      "Episode 262 finished. Total reward: -32.942594270408144 (17 timesteps)\n",
      "Episode 263 finished. Total reward: -26.8957482386755 (19 timesteps)\n",
      "Episode 264 finished. Total reward: -38.22845055786169 (25 timesteps)\n",
      "Episode 265 finished. Total reward: -30.63735125843332 (20 timesteps)\n",
      "Episode 266 finished. Total reward: -38.1818211617358 (22 timesteps)\n",
      "Episode 267 finished. Total reward: -32.74522387110278 (21 timesteps)\n",
      "Episode 268 finished. Total reward: -118.98181711752514 (101 timesteps)\n",
      "Episode 269 finished. Total reward: -29.342775050952948 (19 timesteps)\n",
      "Episode 270 finished. Total reward: -29.65422958771873 (18 timesteps)\n",
      "Episode 271 finished. Total reward: -42.808415382510105 (25 timesteps)\n",
      "Episode 272 finished. Total reward: -93.33020198821032 (72 timesteps)\n",
      "Episode 273 finished. Total reward: -32.211054863409885 (18 timesteps)\n",
      "Episode 274 finished. Total reward: -52.883078545619014 (27 timesteps)\n",
      "Episode 275 finished. Total reward: -28.986330861061184 (17 timesteps)\n",
      "Episode 276 finished. Total reward: -24.07533875092385 (15 timesteps)\n",
      "Episode 277 finished. Total reward: -33.74622884216635 (19 timesteps)\n",
      "Episode 278 finished. Total reward: -31.424720289894804 (19 timesteps)\n",
      "Episode 279 finished. Total reward: -45.8017616449158 (23 timesteps)\n",
      "Episode 280 finished. Total reward: -73.53477364073868 (67 timesteps)\n",
      "Episode 281 finished. Total reward: -31.73806026845721 (20 timesteps)\n",
      "Episode 282 finished. Total reward: -346.05997980274816 (200 timesteps)\n",
      "Episode 283 finished. Total reward: -25.36736392325158 (15 timesteps)\n",
      "Episode 284 finished. Total reward: -46.126984480892695 (25 timesteps)\n",
      "Episode 285 finished. Total reward: -27.042756633886587 (18 timesteps)\n",
      "Episode 286 finished. Total reward: -33.56940662927957 (23 timesteps)\n",
      "Episode 287 finished. Total reward: -29.971067791340218 (18 timesteps)\n",
      "Episode 288 finished. Total reward: -85.7190683192403 (74 timesteps)\n",
      "Episode 289 finished. Total reward: -25.44382349665928 (15 timesteps)\n",
      "Episode 290 finished. Total reward: -32.38838149715454 (19 timesteps)\n",
      "Episode 291 finished. Total reward: -38.00490602845725 (27 timesteps)\n",
      "Episode 292 finished. Total reward: -30.937191683443043 (18 timesteps)\n",
      "Episode 293 finished. Total reward: -28.759185132043257 (19 timesteps)\n",
      "Episode 294 finished. Total reward: -63.322909676230196 (55 timesteps)\n",
      "Episode 295 finished. Total reward: -24.79639390941874 (16 timesteps)\n",
      "Episode 296 finished. Total reward: -27.627079040757298 (16 timesteps)\n",
      "Episode 297 finished. Total reward: -29.915572060886923 (18 timesteps)\n",
      "Episode 298 finished. Total reward: -33.81425431187332 (18 timesteps)\n",
      "Episode 299 finished. Total reward: -40.77926760557596 (25 timesteps)\n",
      "Episode 300 finished. Total reward: -26.850776549405712 (19 timesteps)\n",
      "Episode 301 finished. Total reward: -37.12411030026404 (21 timesteps)\n",
      "Episode 302 finished. Total reward: -24.893105452576087 (15 timesteps)\n",
      "Episode 303 finished. Total reward: -27.68145063174195 (18 timesteps)\n",
      "Episode 304 finished. Total reward: -35.90289809595024 (22 timesteps)\n",
      "Episode 305 finished. Total reward: -30.327582656315524 (17 timesteps)\n",
      "Episode 306 finished. Total reward: -29.36383744557513 (20 timesteps)\n",
      "Episode 307 finished. Total reward: -27.894714756690128 (18 timesteps)\n",
      "Episode 308 finished. Total reward: -29.310960488647776 (17 timesteps)\n",
      "Episode 309 finished. Total reward: -29.000143480825503 (19 timesteps)\n",
      "Episode 310 finished. Total reward: -35.312691092441405 (23 timesteps)\n",
      "Episode 311 finished. Total reward: -32.2490194678419 (19 timesteps)\n",
      "Episode 312 finished. Total reward: -32.82890435769647 (23 timesteps)\n",
      "Episode 313 finished. Total reward: -25.810293748158564 (15 timesteps)\n",
      "Episode 314 finished. Total reward: -32.9799237544315 (18 timesteps)\n",
      "Episode 315 finished. Total reward: -33.2540762387791 (23 timesteps)\n",
      "Episode 316 finished. Total reward: -34.831812981274496 (30 timesteps)\n",
      "Episode 317 finished. Total reward: -23.74784379103152 (16 timesteps)\n",
      "Episode 318 finished. Total reward: -41.615162584792735 (23 timesteps)\n",
      "Episode 319 finished. Total reward: -93.45975650702962 (79 timesteps)\n",
      "Episode 320 finished. Total reward: -26.115816594347976 (16 timesteps)\n",
      "Updating the policy...\n",
      "Updating finished!\n",
      "Episode 321 finished. Total reward: -33.85630739412062 (24 timesteps)\n",
      "Episode 322 finished. Total reward: -109.36592509226816 (91 timesteps)\n",
      "Episode 323 finished. Total reward: -31.270186418446375 (19 timesteps)\n",
      "Episode 324 finished. Total reward: -74.39978805449685 (60 timesteps)\n",
      "Episode 325 finished. Total reward: -31.848675725475342 (18 timesteps)\n",
      "Episode 326 finished. Total reward: -30.762897212799288 (19 timesteps)\n",
      "Episode 327 finished. Total reward: -28.444465366287048 (18 timesteps)\n",
      "Episode 328 finished. Total reward: -31.03098327479382 (19 timesteps)\n",
      "Episode 329 finished. Total reward: -29.964112546443268 (21 timesteps)\n",
      "Episode 330 finished. Total reward: -40.32195451324734 (25 timesteps)\n",
      "Episode 331 finished. Total reward: -129.1529287118858 (106 timesteps)\n",
      "Episode 332 finished. Total reward: -42.60235972876457 (22 timesteps)\n",
      "Episode 333 finished. Total reward: -27.83700537437131 (17 timesteps)\n",
      "Episode 334 finished. Total reward: -29.658043406113013 (17 timesteps)\n",
      "Episode 335 finished. Total reward: -28.650757563933546 (16 timesteps)\n",
      "Episode 336 finished. Total reward: -36.9604857491962 (20 timesteps)\n",
      "Episode 337 finished. Total reward: -32.259567769534605 (20 timesteps)\n",
      "Episode 338 finished. Total reward: -104.66300199290767 (84 timesteps)\n",
      "Episode 339 finished. Total reward: -81.8452045080552 (68 timesteps)\n",
      "Episode 340 finished. Total reward: -26.873920750185768 (17 timesteps)\n",
      "Episode 341 finished. Total reward: -32.49727175776835 (22 timesteps)\n",
      "Episode 342 finished. Total reward: -30.935745802291617 (18 timesteps)\n",
      "Episode 343 finished. Total reward: -74.74112247078644 (63 timesteps)\n",
      "Episode 344 finished. Total reward: -28.713196340000277 (17 timesteps)\n",
      "Episode 345 finished. Total reward: -22.658730815312808 (14 timesteps)\n",
      "Episode 346 finished. Total reward: -122.15365828716482 (99 timesteps)\n",
      "Episode 347 finished. Total reward: -28.001883853088287 (17 timesteps)\n",
      "Episode 348 finished. Total reward: -45.90114255481485 (24 timesteps)\n",
      "Episode 349 finished. Total reward: -24.908052117734673 (16 timesteps)\n",
      "Episode 350 finished. Total reward: -28.452144359132312 (17 timesteps)\n",
      "Episode 351 finished. Total reward: -92.26696240671109 (71 timesteps)\n",
      "Episode 352 finished. Total reward: -40.08153631684618 (25 timesteps)\n",
      "Episode 353 finished. Total reward: -36.417246004996166 (24 timesteps)\n",
      "Episode 354 finished. Total reward: -27.81276717644102 (19 timesteps)\n",
      "Episode 355 finished. Total reward: -296.7638979463814 (200 timesteps)\n",
      "Episode 356 finished. Total reward: -25.40811167177435 (15 timesteps)\n",
      "Episode 357 finished. Total reward: -75.04111597093898 (64 timesteps)\n",
      "Episode 358 finished. Total reward: -126.23316079476844 (104 timesteps)\n",
      "Episode 359 finished. Total reward: -41.104123697397306 (23 timesteps)\n",
      "Episode 360 finished. Total reward: -124.33719949323587 (111 timesteps)\n",
      "Episode 361 finished. Total reward: -25.447454010816 (17 timesteps)\n",
      "Episode 362 finished. Total reward: -29.84141270707256 (17 timesteps)\n",
      "Episode 363 finished. Total reward: -24.500512830409757 (15 timesteps)\n",
      "Episode 364 finished. Total reward: -28.01798999107313 (16 timesteps)\n",
      "Episode 365 finished. Total reward: -122.40298341789008 (111 timesteps)\n",
      "Episode 366 finished. Total reward: -32.2353471489153 (18 timesteps)\n",
      "Episode 367 finished. Total reward: -28.51924048862288 (16 timesteps)\n",
      "Episode 368 finished. Total reward: -26.777655500327747 (17 timesteps)\n",
      "Episode 369 finished. Total reward: -29.199791441571367 (17 timesteps)\n",
      "Episode 370 finished. Total reward: -31.300170045880517 (17 timesteps)\n",
      "Episode 371 finished. Total reward: -30.464275310145204 (22 timesteps)\n",
      "Episode 372 finished. Total reward: -41.400774792802814 (21 timesteps)\n",
      "Episode 373 finished. Total reward: -26.99174732569677 (18 timesteps)\n",
      "Episode 374 finished. Total reward: -33.678929607432465 (18 timesteps)\n",
      "Updating the policy...\n",
      "Updating finished!\n",
      "Episode 375 finished. Total reward: -31.937951810270373 (22 timesteps)\n",
      "Episode 376 finished. Total reward: -32.34386829519702 (20 timesteps)\n",
      "Episode 377 finished. Total reward: -38.69310376084084 (21 timesteps)\n",
      "Episode 378 finished. Total reward: -28.428313671833116 (20 timesteps)\n",
      "Episode 379 finished. Total reward: -28.868067881334664 (16 timesteps)\n",
      "Episode 380 finished. Total reward: -91.65360963087154 (84 timesteps)\n",
      "Episode 381 finished. Total reward: -28.95791180484005 (17 timesteps)\n",
      "Episode 382 finished. Total reward: -27.64701876562389 (18 timesteps)\n",
      "Episode 383 finished. Total reward: -28.618314977814194 (17 timesteps)\n",
      "Episode 384 finished. Total reward: -29.78175249177701 (20 timesteps)\n",
      "Episode 385 finished. Total reward: -25.19369524190994 (16 timesteps)\n",
      "Episode 386 finished. Total reward: -25.934657944244112 (16 timesteps)\n",
      "Episode 387 finished. Total reward: -29.788423088082006 (19 timesteps)\n",
      "Episode 388 finished. Total reward: -28.248397909878005 (17 timesteps)\n",
      "Episode 389 finished. Total reward: -27.76326128858488 (16 timesteps)\n",
      "Episode 390 finished. Total reward: -28.066124382448127 (16 timesteps)\n",
      "Episode 391 finished. Total reward: -27.919273897493063 (16 timesteps)\n",
      "Episode 392 finished. Total reward: -28.442191858953752 (17 timesteps)\n",
      "Episode 393 finished. Total reward: -29.37509462820866 (18 timesteps)\n",
      "Episode 394 finished. Total reward: -29.15257633757052 (17 timesteps)\n",
      "Episode 395 finished. Total reward: -27.294328121152933 (16 timesteps)\n",
      "Episode 396 finished. Total reward: -27.07613444290301 (16 timesteps)\n",
      "Episode 397 finished. Total reward: -26.267780172841842 (17 timesteps)\n",
      "Episode 398 finished. Total reward: -27.99313357700774 (19 timesteps)\n",
      "Episode 399 finished. Total reward: -24.608771260276725 (16 timesteps)\n",
      "Episode 400 finished. Total reward: -25.94815186599505 (17 timesteps)\n",
      "Episode 401 finished. Total reward: -30.456603830300747 (18 timesteps)\n",
      "Episode 402 finished. Total reward: -35.178649337073416 (22 timesteps)\n",
      "Episode 403 finished. Total reward: -34.856047515632845 (19 timesteps)\n",
      "Episode 404 finished. Total reward: -26.159628411072134 (15 timesteps)\n",
      "Episode 405 finished. Total reward: -28.615850603686418 (19 timesteps)\n",
      "Episode 406 finished. Total reward: -88.92571388801426 (75 timesteps)\n",
      "Episode 407 finished. Total reward: -25.684241810012225 (15 timesteps)\n",
      "Episode 408 finished. Total reward: -26.64333089245473 (16 timesteps)\n",
      "Episode 409 finished. Total reward: -25.875676264786637 (16 timesteps)\n",
      "Episode 410 finished. Total reward: -31.10401638871003 (18 timesteps)\n",
      "Episode 411 finished. Total reward: -24.97827868428273 (15 timesteps)\n",
      "Episode 412 finished. Total reward: -26.43539754132126 (16 timesteps)\n",
      "Episode 413 finished. Total reward: -27.89401398785887 (18 timesteps)\n",
      "Episode 414 finished. Total reward: -27.16915138070376 (17 timesteps)\n",
      "Episode 415 finished. Total reward: -28.260455990655128 (17 timesteps)\n",
      "Episode 416 finished. Total reward: -24.867727883633624 (17 timesteps)\n",
      "Episode 417 finished. Total reward: -34.932053565936215 (19 timesteps)\n",
      "Episode 418 finished. Total reward: -24.365458465435886 (15 timesteps)\n",
      "Episode 419 finished. Total reward: -32.280223466309636 (18 timesteps)\n",
      "Episode 420 finished. Total reward: -24.2278046057815 (15 timesteps)\n",
      "Episode 421 finished. Total reward: -28.261053330458203 (16 timesteps)\n",
      "Episode 422 finished. Total reward: -28.273743125114283 (17 timesteps)\n",
      "Episode 423 finished. Total reward: -26.48672912748214 (17 timesteps)\n",
      "Episode 424 finished. Total reward: -27.391076829171347 (16 timesteps)\n",
      "Episode 425 finished. Total reward: -28.422364571143174 (18 timesteps)\n",
      "Episode 426 finished. Total reward: -31.564407509533133 (17 timesteps)\n",
      "Episode 427 finished. Total reward: -28.259865381445756 (18 timesteps)\n",
      "Episode 428 finished. Total reward: -27.207079331960394 (17 timesteps)\n",
      "Episode 429 finished. Total reward: -26.19270363339856 (16 timesteps)\n",
      "Episode 430 finished. Total reward: -32.33719617442 (19 timesteps)\n",
      "Episode 431 finished. Total reward: -29.68529794542892 (17 timesteps)\n",
      "Episode 432 finished. Total reward: -31.891999625720054 (20 timesteps)\n",
      "Episode 433 finished. Total reward: -99.24422440685011 (86 timesteps)\n",
      "Episode 434 finished. Total reward: -29.291058098573792 (17 timesteps)\n",
      "Episode 435 finished. Total reward: -25.35892321970623 (16 timesteps)\n",
      "Episode 436 finished. Total reward: -30.14740274777552 (18 timesteps)\n",
      "Episode 437 finished. Total reward: -39.54240749301792 (28 timesteps)\n",
      "Episode 438 finished. Total reward: -25.754578259447392 (16 timesteps)\n",
      "Episode 439 finished. Total reward: -25.4060568613398 (15 timesteps)\n",
      "Episode 440 finished. Total reward: -27.517143439927047 (17 timesteps)\n",
      "Episode 441 finished. Total reward: -28.664227788100362 (16 timesteps)\n",
      "Episode 442 finished. Total reward: -28.57422690384239 (18 timesteps)\n",
      "Episode 443 finished. Total reward: -36.161697103495534 (23 timesteps)\n",
      "Episode 444 finished. Total reward: -24.498317725847173 (14 timesteps)\n",
      "Episode 445 finished. Total reward: -27.691321311309053 (16 timesteps)\n",
      "Episode 446 finished. Total reward: -25.904538828715825 (15 timesteps)\n",
      "Episode 447 finished. Total reward: -31.000610968447095 (20 timesteps)\n",
      "Episode 448 finished. Total reward: -31.28851978183342 (17 timesteps)\n",
      "Episode 449 finished. Total reward: -26.23001186411983 (16 timesteps)\n",
      "Episode 450 finished. Total reward: -50.00531885829081 (24 timesteps)\n",
      "Episode 451 finished. Total reward: -27.695028257207376 (17 timesteps)\n",
      "Episode 452 finished. Total reward: -33.76061794429732 (20 timesteps)\n",
      "Episode 453 finished. Total reward: -32.69966968350081 (21 timesteps)\n",
      "Episode 454 finished. Total reward: -31.473187200781226 (20 timesteps)\n",
      "Episode 455 finished. Total reward: -29.206676478851026 (20 timesteps)\n",
      "Episode 456 finished. Total reward: -26.41368384553487 (17 timesteps)\n",
      "Episode 457 finished. Total reward: -28.747456988247183 (16 timesteps)\n",
      "Episode 458 finished. Total reward: -38.28750438408768 (21 timesteps)\n",
      "Episode 459 finished. Total reward: -30.388192013417665 (18 timesteps)\n",
      "Episode 460 finished. Total reward: -27.951430334629574 (17 timesteps)\n",
      "Episode 461 finished. Total reward: -33.86641456266984 (24 timesteps)\n",
      "Episode 462 finished. Total reward: -25.051846519763377 (15 timesteps)\n",
      "Episode 463 finished. Total reward: -28.067569308879126 (17 timesteps)\n",
      "Episode 464 finished. Total reward: -31.53847683486818 (20 timesteps)\n",
      "Episode 465 finished. Total reward: -29.110531217779275 (16 timesteps)\n",
      "Episode 466 finished. Total reward: -28.54846974351325 (17 timesteps)\n",
      "Episode 467 finished. Total reward: -28.21001102412376 (18 timesteps)\n",
      "Episode 468 finished. Total reward: -25.11498378051635 (15 timesteps)\n",
      "Episode 469 finished. Total reward: -25.127009055628996 (16 timesteps)\n",
      "Episode 470 finished. Total reward: -26.11989595874638 (15 timesteps)\n",
      "Episode 471 finished. Total reward: -33.08357968289492 (20 timesteps)\n",
      "Episode 472 finished. Total reward: -23.018485570025046 (14 timesteps)\n",
      "Episode 473 finished. Total reward: -24.17055001939725 (16 timesteps)\n",
      "Episode 474 finished. Total reward: -25.2223236708887 (15 timesteps)\n",
      "Episode 475 finished. Total reward: -25.686802654248265 (16 timesteps)\n",
      "Episode 476 finished. Total reward: -31.8586474198177 (20 timesteps)\n",
      "Episode 477 finished. Total reward: -26.857252886108952 (16 timesteps)\n",
      "Updating the policy...\n",
      "Updating finished!\n",
      "Episode 478 finished. Total reward: -36.26172512691424 (20 timesteps)\n",
      "Episode 479 finished. Total reward: -25.585242574277856 (16 timesteps)\n",
      "Episode 480 finished. Total reward: -31.300872349658473 (21 timesteps)\n",
      "Episode 481 finished. Total reward: -31.07316758270947 (18 timesteps)\n",
      "Episode 482 finished. Total reward: -32.3699620154227 (21 timesteps)\n",
      "Episode 483 finished. Total reward: -36.360708263746936 (20 timesteps)\n",
      "Episode 484 finished. Total reward: -76.32822542862013 (63 timesteps)\n",
      "Episode 485 finished. Total reward: -29.50943992031096 (19 timesteps)\n",
      "Episode 486 finished. Total reward: -29.066655252952437 (17 timesteps)\n",
      "Episode 487 finished. Total reward: -27.237569768516813 (17 timesteps)\n",
      "Episode 488 finished. Total reward: -27.4170335179001 (16 timesteps)\n",
      "Episode 489 finished. Total reward: -30.554613015614095 (17 timesteps)\n",
      "Episode 490 finished. Total reward: -40.85014354367328 (21 timesteps)\n",
      "Episode 491 finished. Total reward: -26.24411089516462 (16 timesteps)\n",
      "Episode 492 finished. Total reward: -27.304188130556405 (16 timesteps)\n",
      "Episode 493 finished. Total reward: -26.750039611572515 (16 timesteps)\n",
      "Episode 494 finished. Total reward: -23.87497441777378 (15 timesteps)\n",
      "Episode 495 finished. Total reward: -36.59644862895341 (20 timesteps)\n",
      "Episode 496 finished. Total reward: -30.822575976295123 (18 timesteps)\n",
      "Episode 497 finished. Total reward: -30.271524914329976 (19 timesteps)\n",
      "Episode 498 finished. Total reward: -27.787721196387878 (17 timesteps)\n",
      "Episode 499 finished. Total reward: -27.286115157309332 (16 timesteps)\n",
      "Episode 500 finished. Total reward: -79.9115437087529 (75 timesteps)\n",
      "Model saved to /notebooks/rl2023/ex1/results/model/TargetReacher-v0_params.pt\n",
      "------Training finished.------\n"
     ]
    }
   ],
   "source": [
    "t.train(cfg_path=Path().cwd()/'cfg'/'reacher_v1.yaml', \n",
    "      cfg_args=dict(env_name='TargetReacher-v0', train_episodes=500)) # < 5 mins"
   ]
  },
  {
   "cell_type": "code",
   "execution_count": 10,
   "id": "4714194c",
   "metadata": {
    "tags": []
   },
   "outputs": [
    {
     "name": "stdout",
     "output_type": "stream",
     "text": [
      "Numpy/Torch/Random Seed:  886\n",
      "Loading model from /notebooks/rl2023/ex1/results/model/TargetReacher-v0_params.pt ...\n",
      "Testing...\n",
      "Test ep reward: -25.743692075389188 seed: 795\n"
     ]
    },
    {
     "name": "stderr",
     "output_type": "stream",
     "text": [
      "/opt/software/lib/python3.10/site-packages/gymnasium/wrappers/record_video.py:94: UserWarning: \u001b[33mWARN: Overwriting existing videos at /notebooks/rl2023/ex1/results/video/TargetReacher-v0/test folder (try specifying a different `video_folder` for the `RecordVideo` wrapper if this is not desired)\u001b[0m\n",
      "  logger.warn(\n"
     ]
    },
    {
     "name": "stdout",
     "output_type": "stream",
     "text": [
      "Test ep reward: -23.82681517123681 seed: 514\n",
      "Test ep reward: -25.304735020830776 seed: 414\n",
      "Test ep reward: -23.88151322481788 seed: 96\n",
      "Test ep reward: -27.12841246623121 seed: 801\n",
      "Test ep reward: -25.28711093535216 seed: 926\n",
      "Test ep reward: -24.829197389457022 seed: 402\n",
      "Test ep reward: -25.15590865895948 seed: 777\n",
      "Test ep reward: -26.42738418230753 seed: 996\n",
      "Test ep reward: -23.81097114872976 seed: 664\n",
      "Average test reward: -25.13957402733118 episode length: 15.1\n"
     ]
    }
   ],
   "source": [
    "t.test(episodes=10, cfg_path=Path().cwd()/'cfg'/'reacher_v1.yaml', \n",
    "       cfg_args=dict(env_name='TargetReacher-v0', seed=None, testing=True, use_wandb=False))"
   ]
  },
  {
   "cell_type": "code",
   "execution_count": 11,
   "id": "67152513",
   "metadata": {
    "tags": []
   },
   "outputs": [
    {
     "data": {
      "text/html": [
       "<video loop autoplay  >\n",
       " <source src=\"data:video/mp4;base64,AAAAIGZ0eXBpc29tAAACAGlzb21pc28yYXZjMW1wNDEAAAAIZnJlZQAAF2JtZGF0AAACrwYF//+r3EXpvebZSLeWLNgg2SPu73gyNjQgLSBjb3JlIDE2NCByMzA5NSBiYWVlNDAwIC0gSC4yNjQvTVBFRy00IEFWQyBjb2RlYyAtIENvcHlsZWZ0IDIwMDMtMjAyMiAtIGh0dHA6Ly93d3cudmlkZW9sYW4ub3JnL3gyNjQuaHRtbCAtIG9wdGlvbnM6IGNhYmFjPTEgcmVmPTMgZGVibG9jaz0xOjA6MCBhbmFseXNlPTB4MzoweDExMyBtZT1oZXggc3VibWU9NyBwc3k9MSBwc3lfcmQ9MS4wMDowLjAwIG1peGVkX3JlZj0xIG1lX3JhbmdlPTE2IGNocm9tYV9tZT0xIHRyZWxsaXM9MSA4eDhkY3Q9MSBjcW09MCBkZWFkem9uZT0yMSwxMSBmYXN0X3Bza2lwPTEgY2hyb21hX3FwX29mZnNldD0tMiB0aHJlYWRzPTE2IGxvb2thaGVhZF90aHJlYWRzPTIgc2xpY2VkX3RocmVhZHM9MCBucj0wIGRlY2ltYXRlPTEgaW50ZXJsYWNlZD0wIGJsdXJheV9jb21wYXQ9MCBjb25zdHJhaW5lZF9pbnRyYT0wIGJmcmFtZXM9MyBiX3B5cmFtaWQ9MiBiX2FkYXB0PTEgYl9iaWFzPTAgZGlyZWN0PTEgd2VpZ2h0Yj0xIG9wZW5fZ29wPTAgd2VpZ2h0cD0yIGtleWludD0yNTAga2V5aW50X21pbj0xNSBzY2VuZWN1dD00MCBpbnRyYV9yZWZyZXNoPTAgcmNfbG9va2FoZWFkPTQwIHJjPWNyZiBtYnRyZWU9MSBjcmY9MjMuMCBxY29tcD0wLjYwIHFwbWluPTAgcXBtYXg9NjkgcXBzdGVwPTQgaXBfcmF0aW89MS40MCBhcT0xOjEuMDAAgAAAAfJliIQAP//+92ifAptaQ3qA5JXFJdtPgf+rZ3B8j+kDAAADAAADACQC/Me/oQdDNCAAAE9ABCRIyanAXRVmGdzGO5/BYykBQW2dasFyIc2Xci9wKczRQZ4vRpNRJHiuBQISwIdbzPK3HvfXCIedBoSpISbd9oWMkFlDOTv1jqZpm6G83UjpjTRU7X8dyhPeevqT0eMll5CWhutISlzfcgj0DCRPvKTnV1U3efWFqb4wUssqGFohCmTT++2/lxABPSViRq6x8i0eCfqhqmAIKKm+EYM1/Kf9ZdcJys8A6Nsrhj8UsBdH2JdJOLI2oolhoEKGTH/SdPaQ4XrJ0/qS5fBCpQTOMlkhaHa/XSpjJht0LDQlkNNml+kyXoYt9aJUxSbpbDTs1F9QOBEW20ofz3FUOwsuzALiKxIm0QTupleJ66HgnouTYEJAAAcOWonjJyLoMIR077S6LUkwAADMWxbwEu9ASFLdcxhwuqbeE4AJaJiLQMsKdOP6YAsKfGRT9zvBrucAOMQABl5Tz4TaUXyBue1mlFoBd0QzEcODMZ5lctg0WqLu3gxM/Zw/PxLQtAZ4d0r9UPrgXb1CrHJUDKwX2F83eADDXHTdf9qLAcJ71km5v/gu/igKk5x4m6OL/wGrGAAAAwAAAwAAAwAAAwAAXMEAAAG9QZoibEP//qmWAAASBhM+AL+7th5bMk3501zW/ql00vR7p9aaedpzZGS3F4NmYDqVUtEAKptW6d/5sdPrFcw7E/N49/nid6hZqtRySOkjOfl75OnYzpOoXysFLWYxM+zc0UomC818zXzprjfce00GCLbkNDjlz4FWQcoVQYYbh32vqnPNy+W8OEp3j73K/XJHix6DGn9Rz2+kB8KeO9MtLQCRnlnRUsI9w9XZR3a8GoBXIpCDp9DHhulyYSfX2jvYuklnLS5hQIfKfvJajZWqUxmFiqxFixoNWF9QSNORYa2TVs0plx5X/Ev+lqw4dxWhM8VYuDBhdwWmLzipFognjJ5K6klrZjUMTmU8sZ7UqhWDj52108hFrRwMr/mbtWAghBBTHoMeGU5AyraZZqwgIDo0bhqW8YqPVDB/VjZ/Sn512ZWOk4SAFs6BPMg54iWQxzgsg5y/1bOs2PKLECN7O0k2bn/puK/QRAE3i7xy6MmiWzxPOEXKnr4SaDDnCOvi3py++uXfe87r33gF6TYBX23O94S96g8Shh9fazq4BP5ey7lwTeMEfxY/FAvFAr4xyNCDLZ923d85hpzUzAAAATMBnkF5C/8AABWWG8GGatyAiAEKGmk1oTZXBiqYIcwhyGOwxPpOFrW11uGQYfRATqPGdMB2jzC0tRYrdo4qePofCn10c+kwZlZzjqfyISpuNBFwN7Bq/y0eT8Ky9XOo6xlZPqGMiQ7BRUUeNP4dWjQnfAIhYLrynoC0Na348axO0RTYApnUqA/+kn2weCF//fxKipZzhU8ESnAoEP56uZbEvAp9bPGioiu3iphUc04Xx/zpXyd0dPrY4zDpAH+0OLPn0w0N8fJtXrhSNVMWiFEc+Z+WBaWKDfXeurLYweaiYvl6fk9sR+7J79LwP3qytFCgQ7G27ivHr2vvjYDnMaTAdpU3sXuAqUmEWhB5A2QR2ZwA93wnwV5cHoM88lDWrmFHKPf2pKpv+kTiqWtLfpStOMi5AAAB20GaRDwhkymEP//+qZYAAAMAwE44cAFvXZVn8bWl5Bz3KIbZ/oiSl/cEwS3S9u6bwiy/vuWSfno/UxKtfwa4ya/kAY0POAPQ8pGYzklyS4bWqB0c95/1FA9wQZgBF+TvLiDN3QPpKbm3NifNlZTKV2/HYfIEWZAZxoXBaEuYZramn+oFfHIpShe9AxmRS6XIYEaShFT9nTnIjBe5tyAjVYuc77pOl5wOtrcSnrryaBw10FyNyjmtL/5xcCBxhMPaVKVupHaYucnJduByo5scuPC56oMtoL7P1SpIXhhMVdEQEf1I88sefTn6hhekXC6r0FWBjZjrd8SAMJ9pQ6NvZsmTwnCxp09ciik7Z6CXlsJZkT3lFYfzE72G893ox/b4iGGbuT2lXkmmAV3A/4ArHEmQzObf1JbqScvFuquTa9jdlBFke5PcdQYyhBktPvs4TTbim3Okeao8xNfGYxqU7v77L5N3saBpB0BsEPNk3bA2BkKoXnVicQF6MuHNF8RWQvS9reuDrnnP+M3mko2YT4hkAEfksajZuVDmCm2qaLZfemCf/2Kg15++wvcp1KFScjZTqp8p7KRjKxBUsrtCR9gWYWKbR4I1jaA78t750j9klgqexjjbyRhFW08AAADcAZ5jakL/AAADAOJ7kHVL2vlpLDmumjSrHS9PEDLtEO83cNgAfutEeDz4whopOBWkG4IdSvUADp3Yw+KfzChsJMwYF1pxAAwtC0c/gduyXd3EpHX78/ZCeMFSTweeICLGJWkHXmxnmf2tzAo2BVUSiLU2bQS+MPV0KzXlgwNt1dVh2L4myx0+CJvFlqzQU36U4qndUIZlT3Z6TTxsaDTW5xHuIOo5raILZygjrXw+tIEtUXhfuEyBCSr9g5ep6mWhImwNgohD9mvmQtb3ZnDbv9zBsQxjh/uezWQJKwAAAa1BmmdJ4Q8mUwId//6plgAAAwDAS3WwA3ZC/hIeGl+oJD+3t1tPIjiNSjWliFYHHOi2n2L4YEaXE5yU1S2D+rjWk32vq5+A7Q/GjS3ikM1zbukmJq+bzQSxTHXG7XRS2cHBruRGq/8vbfEUddpzCj9Sjx32nYI5FM49bll6ztcRIykkkpvAWn55SPyRw4tCQcjyM1raOo6sEG8b9jSjwIkrRLezGTIK4Zc3+H7ARU38wV8vUypT8i+k5KJnBiicS9bIuTKlJ5+XU6gKloXLP1KyONfcFWh8vv+ejnyER9kcAjADH9d661j7K7VpND2dhwNyCquW1gqdVRFYSICy2ooQaI7VgIsMhdAQVIOwSETgB+mETchqIB9kz2lBWFLh81q+mOlibULsRL9gxm45SOtBp5vG+iMrYNmj4KPlsGvFwYgz0M47nlSyGfcxfw7R02dl3BZeXcEvuwz2e8zXkbu8d++Z4p/Zo6GN3Uq7QrKRg97GhnSjOtRVBZSZB4sUDX9csWn3nsuSgamo3GDhAhNf1la0HmTIR1YwYOPLMInJ+K88nF5srIn7qC+6H+EAAADrQZ6FRRE8M/8AAAMAqEBPKLOfsJY21gIxglCgXEkx/B5I7+AtJQuMNb/+0AAh4f4eoEHaF5nmvtKJ9kpOlDrR5b+kIPyVOcU3dEQwpSq6aQ4Vz4V54egc6gyj/VqLWHoE+dpaA1DqZgiWYiIL4DiR8KcqxOmfsu8pSaSSWn1LFdOm1c1ueJf2jR3DQ1RBbezM7UsHoW+QdTeaMmC0xZPYlDzFI8J+uvJZBzTQY01YrKxbe6yrsZ011dK3VtEACnyqlj/6VCnRuqHrhapL4xqKapKvcKyN6kwDRIGVT9qXsyPe0TTY4nqRuTdhjwAAAMoBnqZqQv8AAAMA4nvXe8XOFObB4lVll71Wl+gAhyXOelEbYIkdNWxZVF/nKC8xu+nJnki37cdpBeoUyhAEIF9aTfCpJRotovf46aEKYZZzBofnts/JRDv7YrSOE8r2EpfEBpMDD7dLFgc6Pp2qqxdey6hl+Tq0AZDg3UO6JxjUTptZt93TyYguSPodBKi4AqnHLEuKWW6gMoo90WUU8YlkffM5npRr0TYUMyxKnSjaWv3gV1/pPAWiMD6/3X7Pudb1VgdwX/75XaEfAAABaUGaqEmoQWiZTAh///6plgAAAwDAT5LgBLU6/CHWsu4+Uq/+D4gq/hFISD88v1v+xpXGsOEGbDca6seE+hPjNXJhAEuH7+la3fe5j6BwUhSot/dtfrkT6h2HLInfe6R8AfL7fkEKNyjgK0HbPFgYMkV0IPwRerRFBchc6ASLFnqpD4XxwVZ7Kn4UEddyzfSSE8YGzFyY4FfbDRqATDvbBZ3wMwPYA1yILPBM/URya83H6uqsDI9zk/p3CcljGx+UCiGMYAhLFY5iLwq/k+rOtjltITeOv1U/wNdsIbb8JKOT4Lpix6HSDmygy6oZlZqcCWzQYBqo71R823WQRLhSCSfWWnDD1mH7iis3nQ6CWcXRHhVtBJBTC6Z3t/eWLTucmwz4X8BHechZOG76u83sww6DOzoE8V21M2/ut9qppxD0KfuVBoPoX3vfwRy13QZjjluei/Sz27/0AK/T1ncEAHiogabrnZ/OBOwAAAH6QZrMSeEKUmUwId/+qZYAAAMDVbP+Eli7AETXOyD9JGVJBt5i/DlgK7ubC4n5XHPxhXk+CSth7SNto+R6U2t+ucuBKqbaDspAdg2MDA+x/9+nE3dcpyxSvvnY/lwtEHzOh7JQNUrbGhT/cBiWfsKjeT5kf/DRPAr8DwLY/D4cIlHxp9k79mAT62/fjInSLeuU8+ybZEpfHW4/xRwyD8zr5EHY4yWYpJ5HlG5slWeXE8Zngp8RrbywISiW7ROINADk6d7EJvjFovr7aobyzFcfggvsmiui2lvNCtoJZ+WpgrbNgI5M6RdjqlbimRnVO/VNZQQfKscR2m2afrn1PqlrX13PCdlZrn0OK7mTq4WKtsLR7YHB+4myYY7xGotFx58w3+RKqMX2QS3es6AgjCwm1mqY5pRnyVUUJqg7CyPAN8ulalU/lah9UB36djVGfdS2IgfbfF+PHZgrdlFftn8T6QRrqaowy2zTfJgtysmPpy6o+N/DjQvs3Vj1BSroz0tEr33Hykm4aQAaUaZkvW0IitIgVF6wT/cYNn89lL9itbv2VRfwabJaq0hUCVDVY9CO+yQtze64XuyOMoNbmBWh1Z/lh9zH85o3XjXqcSitGO2hV3cxr8G7aGfAaEDlrNfVYpXOhAL0qN9xES39YbbzV/Bh8HNq0LoCAz4AAAE3QZ7qRTRMN/8AAAMCW17KdblUAkxf3MqhQa9JPwgK8z4AQp7aXozctf6WkPm6kzCjGISItYj/+PTP+lhtG4+W/jF3xZru9J3Ls26+K6lYhHDHHY16g5O6g85gHQKJW/3tkJn6tLzfD31XugGvpE9G2Q1U1dkxCp8L8qyJRCvHCz5nDeVhQqxIw9ushfs7pCmGkqNprqzkgnvwrunmBqEVTDwuEw2uUWBw/ikBgmwen2wP39HFl18TXxFdLq2tIvNxASExr3ECydctXUDBYbwEJ1eY9EqX+mwXTchsxi+01WxunRMjqqfCrxECgRDHuHcg+XEXC2Zi0036hC1nwDy9+6QFUOyrkOVyyKS7py57uRcJAhAF/KiiEQ/JIdbTH+YnoUM0+InNPAZdV1AjlMGKMyan4oKAghcAAACRAZ8JdEL/AAADAMk2CpZ+X/3eG3RR3bGF6sALctS8SM94QCUR2tgxDazfTBzw7zR69w3Mukt1gDdmn59B9AxKqST7G6sHT3iuCKR0u5zaqPNhcQ3yrlJ8tiMlGRyvFCEnctcIWiu8jKB2wH90BAwKzQzEf9oF31z7Xvf8A6ly6vakKDf7KjPcZLljfAntUlAKmAAAAOsBnwtqQv8AAAMD4pjEU7je1JCXuGC0WE7ABOOtBD7P9n632Klc/xTiZRHEieb8e2NczCHmtCDGMbhe40xh3eiQt3vvUBQJCsMwicRjkJ/8dkcKWdvwY8bMLqQLmDgZsWYeVHr092ERppaT6X+gp7miWUKmKyrp+rgqh2sP5syYnLBn9vlG5qM+Co4HlqtLj+xtm8pbVj4S9GOX4u1PjmoNX4ZZoGq6QdO7oVoedzObHEo8ZSAC07rDnuIqfc+syn3Sp1+TwdUx8h41dW+Xd6V+fYYfy3WiwphACkiQLWbyWf4+Ige99xaM7oIWAAABjEGbD0moQWiZTAhf//6MsAAAPVqdfSuuZVD+gAnWf9bhD5Q/srBTALfj4nGpnxIE1KZHEWlADoa/wglHltJ/zu7HUV6nZDABGxsqJ8npi/NF4NF/4+uMp53Rbhi1e9FOBUUcVgHI5nWaY9qWs/eLK0LoeF3WefQ628awPZE7Ssnb5NIjX3lguQwvP4DAQvzCZ3bkyXZ14pOIDL51Tlt7EqcXye8kBfpEUI0gRbZbDpxKkKlUA3y0hJ9S3N64u9w6wiYkAP+ukOmeJMIHxsg6mTsTO/npLQlCl36rNnYTHTNmwI9NK4nOzDFiAYV5VS9d3RRRmv/dgYaTxSOEjTVwKVQu25v/xsSmaiPR6/zgi776Z5I7pjBeKepqth+EvmL6YrJb6UBB+kHjskOQwg/OjeMLRnZUetRnJiZGXuWL7fSlKA9WbGC0Fwjg3m+DqvIDyI6MN2VmRgzAtwEwKtz1CGe/V0n9ZcasUglMVp298bp1EYSAxdF94hzoiQlON9N0OzL0uXcy3D5QjgKK9QAAAPpBny1FESwz/wAABujWas9CDJXt+N6nwAugvkAEQeslEtVwnEOm4Laa0soS0ZiF/OfDmiFkyisdmOODsZk8BS7EEAJ/iGigBxry9+ASyOarViQtjYr1RqhMVH1ry6pDEUPdS/eBj1PimwNWzsyFw/e07PLn3CDZDv4JtXUrhIhNT6/8ja2dt6oybbLGPNdY02Bfx6vaYe2k9hOBL1U9vExIYASH9E27oGuA4AvzOIgQTxBaCyJQZT4hAFfcpsE566IZU0TV686tXYY027k7UUnnU0eNfj1SgMARcotVJ0b01tQqlsZSN2lqHSPyvG6yHJL//0uwk3g4gF3BAAAA0AGfTmpC/wAACW5v44/QlVnACVS8CAgWC+rOEPdu75kKzHvVQKuct7vNSlo1wf31oJWZFc0HTgePQDW9avKjnUfYwUKKhWlmp8OU1vj/UlegmZfYOBKd2UOUkNPelXxoWRJ5628DOSeYH469qzm+Hu9N0MG/V7hlzlDEi7AaDtBgEZoHlT77+vr0I4wRS4+5ZCkaTWFJD5M4MTVWgU71u8zMRcpalqIsSFIzmpc8PF5PAbdmx8EbTMfKSDzrqj+Kek2l6qM9i/wAd8yKZsz4BbUAAAPcbW9vdgAAAGxtdmhkAAAAAAAAAAAAAAAAAAAD6AAABCsAAQAAAQAAAAAAAAAAAAAAAAEAAAAAAAAAAAAAAAAAAAABAAAAAAAAAAAAAAAAAABAAAAAAAAAAAAAAAAAAAAAAAAAAAAAAAAAAAAAAAAAAgAAAwZ0cmFrAAAAXHRraGQAAAADAAAAAAAAAAAAAAABAAAAAAAABCsAAAAAAAAAAAAAAAAAAAAAAAEAAAAAAAAAAAAAAAAAAAABAAAAAAAAAAAAAAAAAABAAAAAAfQAAAH0AAAAAAAkZWR0cwAAABxlbHN0AAAAAAAAAAEAAAQrAAAIAAABAAAAAAJ+bWRpYQAAACBtZGhkAAAAAAAAAAAAAAAAAAA8AAAAQABVxAAAAAAALWhkbHIAAAAAAAAAAHZpZGUAAAAAAAAAAAAAAABWaWRlb0hhbmRsZXIAAAACKW1pbmYAAAAUdm1oZAAAAAEAAAAAAAAAAAAAACRkaW5mAAAAHGRyZWYAAAAAAAAAAQAAAAx1cmwgAAAAAQAAAelzdGJsAAAAsXN0c2QAAAAAAAAAAQAAAKFhdmMxAAAAAAAAAAEAAAAAAAAAAAAAAAAAAAAAAfQB9ABIAAAASAAAAAAAAAABAAAAAAAAAAAAAAAAAAAAAAAAAAAAAAAAAAAAAAAAAAAAGP//AAAAN2F2Y0MBZAAW/+EAGmdkABas2UCAEHnnhAAAAwAEAAADAHg8WLZYAQAGaOvjyyLA/fj4AAAAABRidHJ0AAAAAAAAryMAAK8jAAAAGHN0dHMAAAAAAAAAAQAAABAAAAQAAAAAFHN0c3MAAAAAAAAAAQAAAAEAAACAY3R0cwAAAAAAAAAOAAAAAQAACAAAAAABAAAMAAAAAAEAAAQAAAAAAQAADAAAAAABAAAEAAAAAAEAABAAAAAAAgAABAAAAAABAAAIAAAAAAEAABQAAAAAAQAACAAAAAABAAAAAAAAAAEAAAQAAAAAAQAAEAAAAAACAAAEAAAAABxzdHNjAAAAAAAAAAEAAAABAAAAEAAAAAEAAABUc3RzegAAAAAAAAAAAAAAEAAABKkAAAHBAAABNwAAAd8AAADgAAABsQAAAO8AAADOAAABbQAAAf4AAAE7AAAAlQAAAO8AAAGQAAAA/gAAANQAAAAUc3RjbwAAAAAAAAABAAAAMAAAAGJ1ZHRhAAAAWm1ldGEAAAAAAAAAIWhkbHIAAAAAAAAAAG1kaXJhcHBsAAAAAAAAAAAAAAAALWlsc3QAAAAlqXRvbwAAAB1kYXRhAAAAAQAAAABMYXZmNTguNzYuMTAw\" type=\"video/mp4\">\n",
       " Your browser does not support the video tag.\n",
       " </video>"
      ],
      "text/plain": [
       "<IPython.core.display.Video object>"
      ]
     },
     "execution_count": 11,
     "metadata": {},
     "output_type": "execute_result"
    }
   ],
   "source": [
    "Video(work_dir/'video'/'TargetReacher-v0'/'test'/f'ex1-episode-0.mp4',\n",
    "      embed=True, html_attributes=\"loop autoplay\") # Set html_attributes=\"controls\" for video control"
   ]
  },
  {
   "cell_type": "markdown",
   "id": "c384e863",
   "metadata": {},
   "source": [
    "<a id='T4'></a>\n",
    "<div class=\" alert alert-warning\">\n",
    "    <h3><b>Student Task 4.</b> Visualizing Behavior (10 points) </h3> \n",
    "\n",
    "Now, let us visualize the reward function for the second behavior (reaching the goal [1,1]). Plot the values of the second reward function from Task 3 and the learned best action as a function of the state (the joint positions). Use the code below as a starting point. After plotting, answer the questions below.\n",
    "            \n",
    "🔝\t<a href='#TOC'><b>Table of Contents</b></a>\n",
    "</div>\n"
   ]
  },
  {
   "cell_type": "markdown",
   "id": "f6144d2d-7b31-4170-89d6-d4aab4dffacc",
   "metadata": {},
   "source": [
    "The reward and action plots are shown below: \n",
    "\n",
    "<figure>\n",
    "<img src=\"imgs/answers/exercise_1_task_4_reward_heatmap.PNG\" width=\"500px\">\n",
    "<figcaption style=\"text-align: center\"> Figure 4.1: Rewards in TargetReacher-v0  </figcaption>\n",
    "</figure>\n",
    "<figure>\n",
    "<img src=\"imgs/answers/exercise_1_task_4_best_action_heatmap.PNG\" width=\"500px\">\n",
    "<figcaption style=\"text-align: center\"> Figure 4.2: Best action in TargetReacher-v0  </figcaption>\n",
    "</figure>"
   ]
  },
  {
   "cell_type": "code",
   "execution_count": 18,
   "id": "139b3387",
   "metadata": {
    "tags": []
   },
   "outputs": [],
   "source": [
    "import matplotlib.pyplot as plt\n",
    "import seaborn as sns\n",
    "import gymnasium as gym\n",
    "from agent import Agent, Policy"
   ]
  },
  {
   "cell_type": "code",
   "execution_count": 19,
   "id": "0035a7f8",
   "metadata": {
    "tags": []
   },
   "outputs": [
    {
     "name": "stdout",
     "output_type": "stream",
     "text": [
      "Loading policy from /notebooks/rl2023/ex1/results/model/TargetReacher-v0_params.pt\n"
     ]
    }
   ],
   "source": [
    "env_name = \"TargetReacher-v0\" \n",
    "resolution = 101  # Resolution of the policy/reward image\n",
    "\n",
    "# Load policy from default path to plot\n",
    "policy_dir = Path().cwd()/'results'/'model'/f'{env_name}_params.pt'\n",
    "\n",
    "sns.set()\n",
    "\n",
    "# Create a gym environment\n",
    "env = gym.make(env_name)\n",
    "\n",
    "action_space_dim = u.get_space_dim(env.action_space)\n",
    "observation_space_dim = u.get_space_dim(env.observation_space)\n",
    "policy = Policy(observation_space_dim, action_space_dim)\n",
    "\n",
    "if policy_dir:\n",
    "    policy.load_state_dict(torch.load(policy_dir))\n",
    "    print(\"Loading policy from\", policy_dir)\n",
    "else:\n",
    "    print(\"Plotting a random policy\")"
   ]
  },
  {
   "cell_type": "code",
   "execution_count": 23,
   "id": "170a06be",
   "metadata": {
    "tags": []
   },
   "outputs": [],
   "source": [
    "# Create a grid and initialize arrays to store rewards and actions\n",
    "npoints = resolution\n",
    "state_range = np.linspace(-np.pi, np.pi, npoints)\n",
    "rewards = np.zeros((npoints, npoints))\n",
    "actions = np.zeros((npoints, npoints), dtype=np.int32)\n",
    "\n",
    "# Loop through state[0] and state[1]\n",
    "for i,th1 in enumerate(state_range):\n",
    "    for j,th2 in enumerate(state_range):\n",
    "        # Create the state vector from th1, th2\n",
    "        state = np.array([th1, th2])\n",
    "\n",
    "        # Query the policy and find the most probable action\n",
    "        with torch.no_grad():\n",
    "            action_dist, _ = policy(torch.from_numpy(state).float().unsqueeze(0))\n",
    "        action_probs = action_dist.probs.numpy()\n",
    "\n",
    "        # TODO: Task 4: 1. What's the best action, according to the policy?\n",
    "        # .             2. Compute the reward given state\n",
    "        ########## Your code starts here ##########\n",
    "        # Use the action probabilities in the action_probs vector\n",
    "        # (it's a numpy array)\n",
    "        best_action = np.argmax(action_probs)\n",
    "        actions[i, j] = action_probs.argmax()\n",
    "        rewards[i,j] = env.get_reward(state, best_action, state) \n",
    "        ########## Your code ends here ##########"
   ]
  },
  {
   "cell_type": "code",
   "execution_count": 24,
   "id": "ea36aa9a",
   "metadata": {
    "tags": []
   },
   "outputs": [
    {
     "data": {
      "image/png": "[encoded data removed]",
      "text/plain": [
       "<Figure size 640x480 with 2 Axes>"
      ]
     },
     "metadata": {},
     "output_type": "display_data"
    }
   ],
   "source": [
    "# Create the reward plot\n",
    "num_ticks = 10\n",
    "tick_skip = max(1, npoints // num_ticks)\n",
    "tick_shift = 2*np.pi/npoints/2\n",
    "tick_points = np.arange(npoints)[::tick_skip] + tick_shift\n",
    "tick_labels = state_range.round(2)[::tick_skip]\n",
    "\n",
    "sns.heatmap(rewards)\n",
    "plt.xticks(tick_points, tick_labels, rotation=45)\n",
    "plt.yticks(tick_points, tick_labels, rotation=45)\n",
    "plt.xlabel(\"J2\")\n",
    "plt.ylabel(\"J1\")\n",
    "plt.title(\"Reward\")\n",
    "plt.suptitle(\"Rewards in %s\" % env_name)\n",
    "plt.show()\n"
   ]
  },
  {
   "cell_type": "code",
   "execution_count": 30,
   "id": "99f6c89a",
   "metadata": {
    "tags": []
   },
   "outputs": [
    {
     "data": {
      "image/png": "[encoded data removed]",
      "text/plain": [
       "<Figure size 640x480 with 2 Axes>"
      ]
     },
     "metadata": {},
     "output_type": "display_data"
    }
   ],
   "source": [
    "# # Create the policy plot\n",
    "cmap = sns.color_palette(\"deep\", action_space_dim)\n",
    "sns.heatmap(actions, cmap=cmap, vmin=0, vmax=action_space_dim-1)\n",
    "plt.xticks(tick_points, tick_labels, rotation=45)\n",
    "plt.yticks(tick_points, tick_labels, rotation=45)\n",
    "colorbar = plt.gca().collections[0].colorbar\n",
    "ticks = np.array(range(action_space_dim))*((action_space_dim-1)/action_space_dim)+0.5\n",
    "colorbar.set_ticks(ticks)\n",
    "if env.spec.id == \"TargetReacher-v0\": # fix the id.\n",
    "    # In Reacher, we can replace 0..4 with more readable labels\n",
    "    labels = [\"J1+\", \"J1-\", \"J2+\", \"J2-\", \"Stop\"]\n",
    "else:\n",
    "    labels = list(map(str, range(action_space_dim)))\n",
    "colorbar.set_ticklabels(labels)\n",
    "plt.xlabel(\"J2\")\n",
    "plt.ylabel(\"J1\")\n",
    "plt.title(\"Best action\")\n",
    "plt.suptitle(\"Best action in %s\" % env_name)\n",
    "plt.show()"
   ]
  },
  {
   "cell_type": "markdown",
   "id": "c45dc911",
   "metadata": {},
   "source": [
    "<a id='3.2.1'></a>\n",
    "<div class=\" alert alert-warning\">\n",
    "    <h3><b>Student Question 4.1</b> Achieved Performance (5 points) </h3> \n",
    "\n",
    "Where are the highest and lowest reward achieved?\n",
    "            \n",
    "🔝\t<a href='#TOC'><b>Table of Contents</b></a>\n",
    "</div>\n"
   ]
  },
  {
   "cell_type": "markdown",
   "id": "7011e57b",
   "metadata": {},
   "source": [
    "Highest reward is achieved at the goal at $(1, 1)$; lowest reward is achieved at the point whose position is most distanced from the goal."
   ]
  },
  {
   "cell_type": "markdown",
   "id": "f77cbd95",
   "metadata": {},
   "source": [
    "<a id='Q5'></a>\n",
    "<div class=\" alert alert-warning\">\n",
    "    <h3><b>Student Question 4.2</b> Analysis of Behaviour (10 points) </h3> \n",
    "\n",
    "Did the policy learn to reach the goal from every possible state (manipulator configuration) in an optimal way (i.e. with lowest possible number of steps)? Why/why not?\n",
    "            \n",
    "🔝\t<a href='#TOC'><b>Table of Contents</b></a>\n",
    "</div>"
   ]
  },
  {
   "cell_type": "markdown",
   "id": "f5b2b7fd",
   "metadata": {},
   "source": [
    "Inspecting the reward and best action heatmap we obtained in task 4 section, it can be observed that the policy does not always reach the goal in an optimal way. For example, when the current tip locates at $(\\text{J_1, J_2}) = (2.51, 1.88)$, we can learn from the policy heatmap that the optimal action will be moving toward $J_1$ direction, however the policy will apply $J_2$ then $J_1$ actions according to the best action heatmap."
   ]
  },
  {
   "cell_type": "markdown",
   "id": "4c50da4d",
   "metadata": {},
   "source": [
    "# 4. Submitting <a id='4.'></a>\n",
    "Ensure all tasks and questions (in ```ex1.ipynb```) are answered and the relevant plots are recorded in the relevant places. Details about attaching images and figures can be found below. The relevant graphs to be included for this assignment are:\n",
    "- Task 1, WandB CartPole ```episodesep_reward``` plot\n",
    "- x2 Task 4 reward plots\n",
    "\n",
    "Ensure the correct model files are saved:\n",
    "- results/model/CartPole-v1_params.pt\n",
    "- results/model/SpinningReacher-v0_params.pt\n",
    "- results/model/TargetReacher-v0_params.pt"
   ]
  },
  {
   "cell_type": "markdown",
   "id": "ad098b5f",
   "metadata": {},
   "source": [
    "## 4.1 Feedback <a id='4.1'></a>\n",
    "1. Interesting exercise!\n",
    "2. In the code block for ploting best action heatmap, `env.spec.id` should be `TargetReacher-v0`.\n",
    "3. Training takes lots of time."
   ]
  },
  {
   "cell_type": "markdown",
   "id": "e3f5f8d4",
   "metadata": {},
   "source": [
    "Please use the following section to record references.\n",
    "# References <a id='5.'></a>"
   ]
  },
  {
   "cell_type": "markdown",
   "id": "993cb11f-492c-4ef8-b36a-999280b99b3a",
   "metadata": {},
   "source": [
    "<a link=https://www.gymlibrary.dev/environments/mujoco/reacher/>Reacher - Gym Documentation</a>"
   ]
  }
 ],
 "metadata": {
  "kernelspec": {
   "display_name": "Python 3",
   "language": "python",
   "name": "python3"
  },
  "language_info": {
   "codemirror_mode": {
    "name": "ipython",
    "version": 3
   },
   "file_extension": ".py",
   "mimetype": "text/x-python",
   "name": "python",
   "nbconvert_exporter": "python",
   "pygments_lexer": "ipython3",
   "version": "3.10.8"
  }
 },
 "nbformat": 4,
 "nbformat_minor": 5
}
