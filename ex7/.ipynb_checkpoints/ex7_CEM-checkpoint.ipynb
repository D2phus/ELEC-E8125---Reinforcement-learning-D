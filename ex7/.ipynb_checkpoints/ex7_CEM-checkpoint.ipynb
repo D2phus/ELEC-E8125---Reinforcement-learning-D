{
 "cells": [
  {
   "cell_type": "markdown",
   "id": "332ba632",
   "metadata": {},
   "source": [
    "\n",
    "<div class=\"alert alert-block alert-info\">\n",
    "   <h2 align=\"center\"> <center><b> Reinforcement Learning Assignment 7 - Model Based Reinforcement Learning </b></center></h2>\n",
    "\n",
    "<br>\n",
    "<center><font size=\"3\">This notebook is a part of teaching material for ELEC-E8125</font></center>\n",
    "<center><font size=\"3\">Sep 4, 2023 - Nov 30, 2023</font></center>\n",
    "<center><font size=\"3\">Aalto University</font></center>\n",
    "</div>\n",
    "\n",
    "\n",
    "<a id='TOC'></a>\n",
    "\n",
    "<div class=\"alert alert-block alert-success\">\n",
    "    \n",
    "# Table of contents\n",
    "* <a href='#1.'> 1. Introduction </a>\n",
    "* <a href='#1.1'> 1.1 Learning Objectives </a>\n",
    "* <a href='#1.2'> 1.2 Code Structure & Files </a>\n",
    "* <a href='#2.'> 2. Cross Entropy Method (CEM) </a>\n",
    "* <a href='#3.'> 3. Submitting </a>\n",
    "* <a href='#3.1'> 3.1 Feedback </a>\n",
    "* <a href='#4.'> References</a>\n",
    "\n",
    "<a href='#T1'><b>Student Task 1.</b> Implementing CEM (30 points)</a>\\\n",
    "<a href='#Q1'><b>Student Question 1.1</b> Changing Number of Samples (10 points)</a>\\\n",
    "<a href='#Q2'><b>Student Question 1.2</b> Model-free vs Mode-based RL (20 points)</a>\n",
    "    \n",
    "**Total Points:** 60"
   ]
  },
  {
   "cell_type": "markdown",
   "id": "013318a6",
   "metadata": {},
   "source": [
    "# 1. Introduction <a id='1.'></a>\n",
    "In this exercise we will dive into model-based reinforcement learning. We will implement planning over several time steps. We will use the cross entropy method (CEM) to choose actions at each time step. CEM is often used in model-based reinforcement learning for choosing actions. The main working principles of CEM were explained during the lecture \"Model-based RL\". We use the simulator to simulate state transitions (another possibility would be to learn a dynamics model $s_{t+1} = f(s_t, a_t)$ to simulate state transitions if access to the system dynamics is not available).\n",
    "\n",
    "## 1.1 Learning Objectives: <a id='1.1'></a>\n",
    "- Understand how to get CEM planning working in practice\n",
    "- Understand limitations and advantages of model-based RL using CEM\n",
    "\n",
    "## 1.2 Code Structure & Files <a id='1.2'></a>\n",
    "\n",
    "You don’t have to edit any other file other than ```ex7.ipynb``` to complete this exercise.\n",
    "\n",
    "```\n",
    "├───imgs                 # Images used in notebook\n",
    "│   ex7_CEM.ipynb        # Main assignment file containing tasks <---------\n",
    "│   env.py               # Wrappers for the environment\n",
    "|   simulator.py         # Using the exact environment as the model (simulator)\n",
    "```"
   ]
  },
  {
   "cell_type": "markdown",
   "id": "5197a537",
   "metadata": {},
   "source": [
    "# 2. Cross Entropy Method (CEM) <a id='2.'></a>\n",
    "\n",
    "In this section, we will try to solve the **Cup-Catch** environment from the [DeepMind Control Suite](https://github.com/deepmind/dm_control/tree/main/dm_control/suite) by planning using CEM. \n",
    "\n",
    "In **Cup-Catch**, a ball is attached to a string which hangs from a cup. The goal is to swing the ball into the cup by moving the cup vertically up and down. The task has a sparse reward: 1 when the ball is in the cup, 0 otherwise. In order to save computation time we select an action every six time steps and use a wrapper to repeat the same action 6 times. Therefore, the maximum reward for each actual time step is 6.\n",
    "\n",
    "<br>\n",
    "\n",
    "<div style=\"text-align: center;\">\n",
    "    <img src=\"imgs/cup_catcher.png\" width=\"400px\">\n",
    "    <figcaption> Figure 1: Cup-Catch environment </figcaption>\n",
    "</div>"
   ]
  },
  {
   "cell_type": "markdown",
   "id": "3e72ec92",
   "metadata": {},
   "source": [
    "<a id='T1'></a>\n",
    "<div class=\" alert alert-warning\">\n",
    "    <h3><b>Student Task 1.</b> Implementing CEM (30 points) </h3> \n",
    "\n",
    "You need to complete the planning part in the code marked as ```TODO```. The code takes advantage of multiple processor cores by parallelizing the code. For more information about parallelizing, please check [Joblib](https://joblib.readthedocs.io/en/latest/generated/joblib.Parallel.html). <br>\n",
    "    \n",
    "**Ensure that the notebook contains the reward plot.** \n",
    "\n",
    "The reference training plot is as Figure 2:\n",
    "\n",
    "<div style=\"text-align: center;\">\n",
    "    <img src=\"imgs/cem_reward.png\">\n",
    "    <figcaption> Figure 2: Reward function at each time step in CEM </figcaption>\n",
    "</div>\n",
    "            \n",
    "🔝\t<a href='#TOC'><b>Table of Contents</b></a>\n",
    "</div>\n"
   ]
  },
  {
   "cell_type": "code",
   "execution_count": 2,
   "id": "eb546a87",
   "metadata": {
    "tags": []
   },
   "outputs": [],
   "source": [
    "from pathlib import Path # to find directory\n",
    "import sys, os\n",
    "sys.path.append(\"..\")\n",
    "\n",
    "from typing import Sequence, Tuple, Dict, Callable, List\n",
    "from functools import partial\n",
    "import copy, torch, time\n",
    "from joblib import Parallel, delayed\n",
    "import numpy as np\n",
    "\n",
    "from env import make_env\n",
    "from simulator import SimulatorWrapper\n",
    "import matplotlib.pyplot as plt"
   ]
  },
  {
   "cell_type": "code",
   "execution_count": 3,
   "id": "60671443-30df-4a7c-bffc-2e88a1fb70c7",
   "metadata": {
    "tags": []
   },
   "outputs": [],
   "source": [
    "%%capture\n",
    "!pip install mediapy # install a package required for video visualization"
   ]
  },
  {
   "cell_type": "code",
   "execution_count": 41,
   "id": "47668253",
   "metadata": {
    "tags": []
   },
   "outputs": [],
   "source": [
    "class CEM(object):\n",
    "    def __init__(\n",
    "        self, \n",
    "        model,\n",
    "        action_shape,\n",
    "        num_samples,\n",
    "        num_topk,\n",
    "        plan_horizon,\n",
    "        iteration,\n",
    "        keep_last_solution,\n",
    "        expl_noise\n",
    "    ):\n",
    "\n",
    "        self.model = model # the dynamics model\n",
    "\n",
    "        self.action_dim = action_shape[0]\n",
    "        self.num_samples = num_samples\n",
    "        self.num_topk = num_topk\n",
    "        self.plan_horizon = plan_horizon # trajectory \n",
    "        self.iteration = iteration\n",
    "        self.keep_last_solution = keep_last_solution\n",
    "        self.expl_noise = expl_noise\n",
    "\n",
    "        # init simulator\n",
    "        o = self.model.reset()\n",
    "        self.model.save_checkpoint()\n",
    "        \n",
    "    def plan(self, obs, t0, eval_mode=False):\n",
    "        if obs.ndim == 1: obs = obs[None] # add batch dim\n",
    "        # initialize paramters\n",
    "        mean = np.zeros((self.plan_horizon, self.action_dim))\n",
    "        std = np.ones_like(mean)\n",
    "        # use previous plan as start point if not at the first step\n",
    "        if not t0 and hasattr(self, \"_prev_mean\"):\n",
    "            mean[:-1] = copy.copy(self._prev_mean[1:])\n",
    "\n",
    "        with Parallel(n_jobs=-1,) as parallel:  # we use joblib.Parallel to parallel the evaluation.\n",
    "            # Iterate CEM\n",
    "            for _ in range(self.iteration):\n",
    "                # TODO: Implement Cross-Entropy Method\n",
    "                \n",
    "                # Hints: \n",
    "                # 1. Generate random actions using Gaussian distribution with mean and std as parameters. \n",
    "                #    Use self.num_samples as the number of samples. Clip the samples to (-1, 1).\n",
    "                # 2. Perform Monte Carlo evaluation by computing the episode return for each sample using self.model as follows:\n",
    "                #    2.1. Use parallel(delayed(rollout_simulator)(self.model, action_sample) for each sample from 1.\n",
    "                # 3. Select top self.num_topk actions (elite actions) using episode returns from 2.1. Use numpy.argpartition.\n",
    "                # 4. Compute mean and std of elite actions and assign it to mean and std used in 1.\n",
    "                \n",
    "                ########## Your code starts here. ##########\n",
    "                # generate random actions from Gaussian distribution \n",
    "                action_samples =  np.random.randn(self.num_samples, self.plan_horizon, self.action_dim) * std + mean\n",
    "                action_samples = np.clip(action_samples, a_min=-1, a_max=1) # NOTE: clip to (-1, 1)\n",
    "                \n",
    "                # perform MC evaluation\n",
    "                episode_returns = parallel(delayed(rollout_simulator)(self.model, sample) for sample in action_samples) # NOTE: for each sample \n",
    "                # select action samples with top k episode returns\n",
    "                topk_action_samples = action_samples[np.argpartition(episode_returns, kth=-self.num_topk)[-self.num_topk:]] # NOTE: -topk\n",
    "                # update with mean and std of elite actions \n",
    "                mean = np.mean(topk_action_samples, axis=0) # NOTE: axis\n",
    "                std = np.std(topk_action_samples, axis=0)\n",
    "                ########## Your code ends here. ##########\n",
    "\n",
    "        if self.keep_last_solution:\n",
    "            self._prev_mean = mean\n",
    "\n",
    "        # select the first action in the planed horizon\n",
    "        action, std = mean[0], std[0]\n",
    "\n",
    "        if not eval_mode:\n",
    "            action += self.expl_noise * np.random.randn(action.shape)\n",
    "\n",
    "        # update the simulator state since simulator is used to do planning\n",
    "        next_obs, reward, done, info = self.model.step(action)\n",
    "        self.model.save_checkpoint()\n",
    "        \n",
    "        return action, info  \n",
    "        \n",
    "\n",
    "def rollout_simulator(model, traj):\n",
    "    model.load_checkpoint()\n",
    "\n",
    "    terminated, episode_return = False, 0\n",
    "    for act in traj:\n",
    "        obs, reward, done, _ = model.step(act)\n",
    "        reward = 0 if terminated else reward\n",
    "\n",
    "        terminated |= bool(done)\n",
    "        episode_return += reward\n",
    "        \n",
    "        if done: \n",
    "            break\n",
    "        \n",
    "    return episode_return"
   ]
  },
  {
   "cell_type": "code",
   "execution_count": 42,
   "id": "ee0dfc4a",
   "metadata": {
    "scrolled": true,
    "tags": []
   },
   "outputs": [],
   "source": [
    "# Note because of the action repeat a reward of 6 can be achieved from multiple steps being taken where the ball in the cup\n",
    "eval_env = make_env(\n",
    "    env_name='cup-catch',\n",
    "    seed=1,\n",
    "    action_repeat=6,\n",
    "    modality='pixels', \n",
    "    frame_stack=1,\n",
    "    img_size=(240, 320)\n",
    ")\n",
    "\n",
    "model_env = make_env(\n",
    "    env_name='cup-catch',\n",
    "    seed=1,\n",
    "    action_repeat=6\n",
    ")\n",
    "\n",
    "obs_shape = tuple(int(x) for x in eval_env.observation_space.shape)\n",
    "action_shape = tuple(int(x)  for x in eval_env.action_space.shape)\n",
    "\n",
    "model = SimulatorWrapper(model_env)\n",
    "\n",
    "agent = CEM(\n",
    "    model=model,\n",
    "    action_shape = action_shape,\n",
    "    num_samples=50,\n",
    "    num_topk=5,\n",
    "    plan_horizon=12,\n",
    "    iteration=5,\n",
    "    keep_last_solution=True,\n",
    "    expl_noise=0.3\n",
    ")"
   ]
  },
  {
   "cell_type": "code",
   "execution_count": 43,
   "id": "d2c5bdc7-3a44-4c6e-9f27-d9550b9cc0a8",
   "metadata": {
    "scrolled": true,
    "tags": []
   },
   "outputs": [
    {
     "name": "stdout",
     "output_type": "stream",
     "text": [
      "Timestep: 0 Reward: 0.0\n",
      "Timestep: 1 Reward: 0.0\n",
      "Timestep: 2 Reward: 0.0\n",
      "Timestep: 3 Reward: 0.0\n",
      "Timestep: 4 Reward: 0.0\n",
      "Timestep: 5 Reward: 0.0\n",
      "Timestep: 6 Reward: 3.0\n",
      "Timestep: 7 Reward: 6.0\n",
      "Timestep: 8 Reward: 6.0\n",
      "Timestep: 9 Reward: 6.0\n",
      "Timestep: 10 Reward: 6.0\n",
      "Timestep: 11 Reward: 6.0\n",
      "Timestep: 12 Reward: 6.0\n",
      "Timestep: 13 Reward: 6.0\n",
      "Timestep: 14 Reward: 6.0\n",
      "Timestep: 15 Reward: 6.0\n",
      "Timestep: 16 Reward: 6.0\n",
      "Timestep: 17 Reward: 6.0\n",
      "Timestep: 18 Reward: 6.0\n",
      "Timestep: 19 Reward: 6.0\n"
     ]
    }
   ],
   "source": [
    "obs, done, ep_reward, t = eval_env.reset(), False, 0, 0\n",
    "rewards, observations = [], []\n",
    "while not done and t < 20:\n",
    "    action, info = agent.plan(obs, eval_mode=True, t0=(t==0))\n",
    "    obs, reward, done, _ = eval_env.step(action)\n",
    "    rewards.append(reward)\n",
    "    observations.append(obs)\n",
    "    \n",
    "    print(f'Timestep: {t} Reward: {reward}')\n",
    "    ep_reward += reward\n",
    "\n",
    "    t += 1"
   ]
  },
  {
   "cell_type": "code",
   "execution_count": 44,
   "id": "b4399036-8ac8-450e-8abc-924b7cdb0d04",
   "metadata": {
    "tags": []
   },
   "outputs": [],
   "source": [
    "import mediapy \n",
    "mediapy.write_video('video.mp4', [observations[i].transpose(1, 2, 0) for i in range(len(observations))], fps=10)"
   ]
  },
  {
   "cell_type": "code",
   "execution_count": 45,
   "id": "04b4f167-2f92-4239-aca4-da38c0923882",
   "metadata": {
    "tags": []
   },
   "outputs": [
    {
     "data": {
      "text/html": [
       "<video controls  >\n",
       " <source src=\"data:video/mp4;base64,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\" type=\"video/mp4\">\n",
       " Your browser does not support the video tag.\n",
       " </video>"
      ],
      "text/plain": [
       "<IPython.core.display.Video object>"
      ]
     },
     "execution_count": 45,
     "metadata": {},
     "output_type": "execute_result"
    }
   ],
   "source": [
    "from IPython.display import Video # to display videos\n",
    "Video(Path().cwd()/'video.mp4', embed=True)"
   ]
  },
  {
   "cell_type": "code",
   "execution_count": 46,
   "id": "1aabdf29-028e-41af-b8fc-57e5eee59c08",
   "metadata": {
    "tags": []
   },
   "outputs": [
    {
     "data": {
      "image/png": "[encoded data removed]",
      "text/plain": [
       "<Figure size 600x400 with 1 Axes>"
      ]
     },
     "metadata": {},
     "output_type": "display_data"
    }
   ],
   "source": [
    "plt.figure(figsize=(6, 4))\n",
    "plt.plot(rewards, linewidth=1.2, color='b')\n",
    "plt.xticks(list(range(0, len(rewards), 2)))\n",
    "plt.xlabel('Time step', fontsize=10)\n",
    "plt.ylabel('Reward', fontsize=10)\n",
    "plt.show()"
   ]
  },
  {
   "cell_type": "markdown",
   "id": "5f76b6fa",
   "metadata": {},
   "source": [
    "<a id='Q1'></a>\n",
    "<div class=\" alert alert-warning\">\n",
    "    <h3><b>Student Question 1</b> Changing Number of Samples (5 points)</h3> \n",
    "\n",
    "Discuss the effect of changing the __number of samples__. How can this affect the performance and running time?            \n",
    "🔝\t<a href='#TOC'><b>Table of Contents</b></a>\n",
    "</div>"
   ]
  },
  {
   "cell_type": "markdown",
   "id": "9496c2df",
   "metadata": {},
   "source": [
    "The number of (action trajectory) samples refer to the number of action trajectories generated and evaluated for each iterate (set of policy parameters). By *increasing* the number of samples, \n",
    "1. performance is improved as increased number of samples enables broader exploration, leading to a larger possibility of finding out a better policy. Besides, more samples aka training data lead to a faster convergence. \n",
    "2. the running time is increased since each trajectory requires evaluation, which is one of the most computationally costly step in the algorithm. \n",
    "\n",
    "To validate, reward curves and running time when training on different number of samples(`[5, 10, 25, 50]`) with a fixed number of steps($20$) are shown below. "
   ]
  },
  {
   "cell_type": "code",
   "execution_count": 60,
   "id": "2daec2bb",
   "metadata": {
    "scrolled": true
   },
   "outputs": [
    {
     "name": "stdout",
     "output_type": "stream",
     "text": [
      "Timestep: 0 Reward: 0.0\n",
      "Timestep: 1 Reward: 0.0\n",
      "Timestep: 2 Reward: 0.0\n",
      "Timestep: 3 Reward: 0.0\n",
      "Timestep: 4 Reward: 0.0\n",
      "Timestep: 5 Reward: 0.0\n",
      "Timestep: 6 Reward: 0.0\n",
      "Timestep: 7 Reward: 0.0\n",
      "Timestep: 8 Reward: 0.0\n",
      "Timestep: 9 Reward: 0.0\n",
      "Timestep: 10 Reward: 0.0\n",
      "Timestep: 11 Reward: 0.0\n",
      "Timestep: 12 Reward: 0.0\n",
      "Timestep: 13 Reward: 0.0\n",
      "Timestep: 14 Reward: 0.0\n",
      "Timestep: 15 Reward: 0.0\n",
      "Timestep: 16 Reward: 0.0\n",
      "Timestep: 17 Reward: 0.0\n",
      "Timestep: 18 Reward: 0.0\n",
      "Timestep: 19 Reward: 0.0\n",
      "Timestep: 0 Reward: 0.0\n",
      "Timestep: 1 Reward: 0.0\n",
      "Timestep: 2 Reward: 0.0\n",
      "Timestep: 3 Reward: 0.0\n",
      "Timestep: 4 Reward: 0.0\n",
      "Timestep: 5 Reward: 0.0\n",
      "Timestep: 6 Reward: 0.0\n",
      "Timestep: 7 Reward: 0.0\n",
      "Timestep: 8 Reward: 0.0\n",
      "Timestep: 9 Reward: 0.0\n",
      "Timestep: 10 Reward: 2.0\n",
      "Timestep: 11 Reward: 6.0\n",
      "Timestep: 12 Reward: 6.0\n",
      "Timestep: 13 Reward: 6.0\n",
      "Timestep: 14 Reward: 6.0\n",
      "Timestep: 15 Reward: 6.0\n",
      "Timestep: 16 Reward: 6.0\n",
      "Timestep: 17 Reward: 6.0\n",
      "Timestep: 18 Reward: 6.0\n",
      "Timestep: 19 Reward: 6.0\n",
      "Timestep: 0 Reward: 0.0\n",
      "Timestep: 1 Reward: 0.0\n",
      "Timestep: 2 Reward: 0.0\n",
      "Timestep: 3 Reward: 0.0\n",
      "Timestep: 4 Reward: 0.0\n",
      "Timestep: 5 Reward: 0.0\n",
      "Timestep: 6 Reward: 0.0\n",
      "Timestep: 7 Reward: 1.0\n",
      "Timestep: 8 Reward: 4.0\n",
      "Timestep: 9 Reward: 6.0\n",
      "Timestep: 10 Reward: 6.0\n",
      "Timestep: 11 Reward: 6.0\n",
      "Timestep: 12 Reward: 6.0\n",
      "Timestep: 13 Reward: 6.0\n",
      "Timestep: 14 Reward: 6.0\n",
      "Timestep: 15 Reward: 6.0\n",
      "Timestep: 16 Reward: 6.0\n",
      "Timestep: 17 Reward: 6.0\n",
      "Timestep: 18 Reward: 6.0\n",
      "Timestep: 19 Reward: 6.0\n"
     ]
    }
   ],
   "source": [
    "import time \n",
    "\n",
    "num_sample_list = [5, 35, 50]\n",
    "reward_list, training_time_list = list(), list()\n",
    "\n",
    "for num_samples in num_sample_list:\n",
    "    st = time.time()\n",
    "    eval_env = make_env(\n",
    "        env_name='cup-catch',\n",
    "        seed=1,\n",
    "        action_repeat=6,\n",
    "        modality='pixels', \n",
    "        frame_stack=1,\n",
    "        img_size=(240, 320)\n",
    "    )\n",
    "\n",
    "    model_env = make_env(\n",
    "        env_name='cup-catch',\n",
    "        seed=1,\n",
    "        action_repeat=6\n",
    "    )\n",
    "\n",
    "    obs_shape = tuple(int(x) for x in eval_env.observation_space.shape)\n",
    "    action_shape = tuple(int(x)  for x in eval_env.action_space.shape)\n",
    "\n",
    "    model = SimulatorWrapper(model_env)\n",
    "    agent = CEM(\n",
    "        model=model,\n",
    "        action_shape = action_shape,\n",
    "        num_samples=num_samples,\n",
    "        num_topk=5,\n",
    "        plan_horizon=12,\n",
    "        iteration=5,\n",
    "        keep_last_solution=True,\n",
    "        expl_noise=0.3\n",
    "    )\n",
    "    obs, done, ep_reward, t = eval_env.reset(), False, 0, 0\n",
    "    rewards, observations = [], []\n",
    "    while not done and t < 20:\n",
    "        action, info = agent.plan(obs, eval_mode=True, t0=(t==0))\n",
    "        obs, reward, done, _ = eval_env.step(action)\n",
    "        rewards.append(reward)\n",
    "        observations.append(obs)\n",
    "\n",
    "        print(f'Timestep: {t} Reward: {reward}')\n",
    "        ep_reward += reward\n",
    "\n",
    "        t += 1\n",
    "\n",
    "    et = time.time()\n",
    "    \n",
    "    reward_list.append(rewards)\n",
    "    training_time_list.append(et-st)"
   ]
  },
  {
   "cell_type": "code",
   "execution_count": 61,
   "id": "9ea8a624",
   "metadata": {},
   "outputs": [
    {
     "name": "stdout",
     "output_type": "stream",
     "text": [
      "num_samples=5\n",
      "Training time:  60.1979s\n",
      "num_samples=35\n",
      "Training time:  224.1217s\n",
      "num_samples=50\n",
      "Training time:  364.4918s\n"
     ]
    },
    {
     "data": {
      "image/png": "[encoded data removed]",
      "text/plain": [
       "<Figure size 900x200 with 3 Axes>"
      ]
     },
     "metadata": {},
     "output_type": "display_data"
    }
   ],
   "source": [
    "fig, axs = plt.subplots(1, len(num_sample_list), figsize=(3*len(num_sample_list), 2))\n",
    "for idx, a in enumerate(axs): \n",
    "    print(f'num_samples={num_sample_list[idx]}')\n",
    "    print(f'Training time: {training_time_list[idx]: .4f}s')\n",
    "    a.plot(reward_list[idx], linewidth=1.2, color='b')\n",
    "    a.set_xticks(list(range(0, len(reward_list[idx]), 2)))\n",
    "    a.set_xlabel('Time step', fontsize=10)\n",
    "    a.set_ylabel('Reward', fontsize=10)\n",
    "plt.tight_layout()\n",
    "plt.show()"
   ]
  },
  {
   "cell_type": "markdown",
   "id": "0611beaf",
   "metadata": {},
   "source": [
    "<a id='Q2'></a>\n",
    "<div class=\" alert alert-warning\">\n",
    "    <h3><b>Student Question 1.2</b> Model-free vs Mode-based RL (20 points)</h3> \n",
    "\n",
    "Assume that the dynamics model $s_{t+1} = f(s_t, a_t)$ (when using a probabilistic dynamics model $P(s_{t+1}| s_t, a_t)$) and reward model $R(s_t, a_t)$ are learned from data during training. CEM with learned models can be used to solve similar tasks as model-free reinforcement learning methods such as DDPG.\n",
    "<br>\n",
    "In what kind of tasks do you expect CEM with learned models to work better than DDPG? In which kind of tasks do you expect DDPG to work better than CEM with learned models in terms of performance and training time? Why?\n",
    "<br>\n",
    "Which parts of CEM with a learned dynamics model need to be taken into account when considering computation time and why?\n",
    "    \n",
    "🔝\t<a href='#TOC'><b>Table of Contents</b></a>\n",
    "</div>"
   ]
  },
  {
   "cell_type": "markdown",
   "id": "6a3d8a7e-4bb1-463e-88ab-62270e20d05e",
   "metadata": {},
   "source": [
    "1. As we know that ECM improves sampling efficiency by introducing the dynamic model. On relatively simple tasks with low sample efficiency,  ECM can perform better than DDPG by exactly simulating the environment and optimize the policy, insteading of using stochastic update. \n",
    "2. When the environment is very complicated, it becomes challenging for the dynamic model to capture. Therefore, DDPG might be more flexible and outperforms ECM when the task environment is very complex. \n",
    "3. In terms of training time. When the task is relatively simple and can be learned with limited planning horizons, ECM is likely to take less training time than DDPG.\n",
    "4. Which part of CEM to take into account: action dimensions and planning horizons, since evaluation on samples will take up most of the computational cost as we have seen in the question 1.1. "
   ]
  },
  {
   "cell_type": "markdown",
   "id": "7e950c66-7183-4d2e-afad-76d44e87ea7e",
   "metadata": {
    "tags": []
   },
   "source": [
    "# 3. Submitting <a id='3.'></a>\n",
    "Ensure all tasks and questions (in ```ex7_MCTS.ipynb```) are answered and the relevant plots are recorded in the relevant places. "
   ]
  },
  {
   "cell_type": "markdown",
   "id": "b3e25649-58a0-448c-9fbc-7e055b20bc84",
   "metadata": {},
   "source": [
    "## 3.1 Feedback <a id='3.1'></a>\n",
    "\n",
    "In order to help the staff of the course as well as the forthcoming students, it would be great if you could answer to the following questions in your submission:"
   ]
  },
  {
   "cell_type": "markdown",
   "id": "d7eb0232-db2a-4e14-b075-9ef187b43b4b",
   "metadata": {},
   "source": [
    "1) How much time did you spend solving this exercise? (change the ```hrs``` variable below to a floating point number representing the number of hours taken e.g. 5.43)\n"
   ]
  },
  {
   "cell_type": "code",
   "execution_count": null,
   "id": "eac81f90-8902-4ed9-922b-b8ded5327c8f",
   "metadata": {},
   "outputs": [],
   "source": [
    "hrs = 2.5"
   ]
  },
  {
   "cell_type": "markdown",
   "id": "52473cec-5ab3-439f-97ee-85c8796ec469",
   "metadata": {},
   "source": [
    "2) Difficulty of each task/question from 1-5 (int or float)"
   ]
  },
  {
   "cell_type": "code",
   "execution_count": null,
   "id": "d71b2268-cbe3-4df8-a6d0-665aa425f738",
   "metadata": {},
   "outputs": [],
   "source": [
    "T1 = 3 # Student Task 1. Implementing CEM\n",
    "Q1 = 2 # Question 1.1: Number of samples\n",
    "Q2 = 3 # Question 2.1: Model-free vs Model-based"
   ]
  },
  {
   "cell_type": "markdown",
   "id": "52f3e791-b9fc-479c-871d-df4c85ab7dce",
   "metadata": {},
   "source": [
    "3) How well did you understand the content of the task/question from 1-5? (int or float)\n"
   ]
  },
  {
   "cell_type": "code",
   "execution_count": null,
   "id": "62c8c9dd-26cb-4188-90e1-b7fad675da51",
   "metadata": {},
   "outputs": [],
   "source": [
    "T1 = 5 # Student Task 1. Implementing CEM\n",
    "Q1 = 4 # Question 1.1: Number of samples\n",
    "Q2 = 4 # Question 2.1: Model-free vs Model-based"
   ]
  },
  {
   "cell_type": "markdown",
   "id": "3f11c47c-3716-4642-adc5-c4569ac5fd8f",
   "metadata": {},
   "source": [
    "4) General feedback. Consider questions like:\n",
    "\n",
    "    - Did the content of the lecture relate well with the assignment?\n",
    "    - To what extent did you find the material to be potentially useful for your research and studies?\n",
    "    \n",
    "And other feedback you think is worth including. Type in the box below\n",
    "\n",
    "1. Yes.\n",
    "2. Quite useful. "
   ]
  },
  {
   "cell_type": "markdown",
   "id": "8f9fd0e4-b0fe-4b59-8c8a-c0a51c24d5fe",
   "metadata": {
    "tags": []
   },
   "source": [
    "# References <a id='4.'></a>\n",
    "\n",
    "# Notes for myself"
   ]
  },
  {
   "cell_type": "markdown",
   "id": "2552605a-ecef-401e-ae00-7a7009725bd4",
   "metadata": {},
   "source": [
    "## Crossed Entropy Method\n",
    "1. Generate random samples (trajectories, vectors, etc) from a certain distribution (policy). \n",
    "2. Find out top-$k$ samples with largest regrets produced by the model. \n",
    "3. Update the distribution (policy) with good samples, thus that the policy can generate better samples in the next iterate. \n",
    "\n",
    "[Crossed Entropy Method](https://zhuanlan.zhihu.com/p/188252023)\n",
    "## Implementation \n",
    "1. ` parallel(delayed(rollout_simulator)(self.model, sample) for sample in action_samples)`: \n",
    "    - embarrasingly **parallel for loop**: apply on *each* sample. \n",
    "    - arguments and returns type: `NumPy`. \n",
    "2. `np.partition` and `np.argpartition`:\n",
    "    [partition and argpartition](https://www.zhihu.com/question/304282758). \n",
    "    \n",
    "    Perform a partition along given axis by given index. Return a vector of the same shape, where `[0...k-1]` are the smaller elements, `[k...n]` are the larger elements.\n",
    "    - `np.partition`: return values, `np.argpartition`: return index.\n",
    "    - Find top k: pass `kth=-topk` to the function; then index by `[-topk:]`"
   ]
  },
  {
   "cell_type": "markdown",
   "id": "8cb61e66",
   "metadata": {},
   "source": [
    "## 3.1 Feedback <a id='3.1'></a>\n",
    "Good exercise."
   ]
  }
 ],
 "metadata": {
  "kernelspec": {
   "display_name": "Python 3",
   "language": "python",
   "name": "python3"
  },
  "language_info": {
   "codemirror_mode": {
    "name": "ipython",
    "version": 3
   },
   "file_extension": ".py",
   "mimetype": "text/x-python",
   "name": "python",
   "nbconvert_exporter": "python",
   "pygments_lexer": "ipython3",
   "version": "3.10.8"
  }
 },
 "nbformat": 4,
 "nbformat_minor": 5
}
